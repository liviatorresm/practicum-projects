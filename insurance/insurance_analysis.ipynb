{
 "cells": [
  {
   "cell_type": "markdown",
   "metadata": {},
   "source": [
    "# Statement"
   ]
  },
  {
   "cell_type": "markdown",
   "metadata": {},
   "source": [
    "A companhia de seguros Proteja Seu Amanhã quer resolver algumas tarefas com a ajuda de aprendizado de máquina. É necessário avaliar a possibilidade de fazê-lo.\n",
    "\n",
    "- Tarefa 1: Encontrar clientes semelhantes a um determinado cliente. Isso vai ajudar os agentes da empresa com tarefas de marketing.\n",
    "- Tarefa 2: Predizer se um novo cliente provavelmente receberá um pagamento de seguro. Um modelo de predição pode ser melhor do que um modelo dummy?\n",
    "- Tarefa 3: Predizer o número de pagamentos de seguro que um novo cliente provavelmente receberá usando um modelo de regressão linear.\n",
    "- Tarefa 4: Proteger os dados pessoais dos clientes sem estragar o modelo da tarefa anterior. É necessário desenvolver um algoritmo de transformação de dados que tornaria difícil recuperar informações pessoais se os dados caíssem nas mãos erradas. Isso é chamado de mascaramento de dados ou ofuscação de dados. Mas os dados devem ser protegidos de forma que a qualidade dos modelos de aprendizado de máquina não piore. Você não precisa escolher o melhor modelo, só prove que o algoritmo funciona corretamente."
   ]
  },
  {
   "cell_type": "markdown",
   "metadata": {},
   "source": [
    "# Pré-processamento de dados & Exploração\n",
    "\n",
    "## Inicialização"
   ]
  },
  {
   "cell_type": "code",
   "execution_count": 1,
   "metadata": {},
   "outputs": [],
   "source": [
    "import numpy as np\n",
    "import pandas as pd\n",
    "\n",
    "import seaborn as sns\n",
    "import matplotlib.pyplot as plt\n",
    "import sklearn.metrics \n",
    "from sklearn.preprocessing import StandardScaler\n",
    "from sklearn.neighbors import NearestNeighbors, KNeighborsClassifier\n",
    "\n",
    "from sklearn.model_selection import train_test_split\n",
    "import math"
   ]
  },
  {
   "cell_type": "markdown",
   "metadata": {},
   "source": [
    "## Padronizando estilo dos gráficos"
   ]
  },
  {
   "cell_type": "code",
   "execution_count": 2,
   "metadata": {},
   "outputs": [
    {
     "data": {
      "text/html": [
       "<svg  width=\"550\" height=\"55\"><rect x=\"0\" y=\"0\" width=\"55\" height=\"55\" style=\"fill:#a1c9f4;stroke-width:2;stroke:rgb(255,255,255)\"/><rect x=\"55\" y=\"0\" width=\"55\" height=\"55\" style=\"fill:#ffb482;stroke-width:2;stroke:rgb(255,255,255)\"/><rect x=\"110\" y=\"0\" width=\"55\" height=\"55\" style=\"fill:#8de5a1;stroke-width:2;stroke:rgb(255,255,255)\"/><rect x=\"165\" y=\"0\" width=\"55\" height=\"55\" style=\"fill:#ff9f9b;stroke-width:2;stroke:rgb(255,255,255)\"/><rect x=\"220\" y=\"0\" width=\"55\" height=\"55\" style=\"fill:#d0bbff;stroke-width:2;stroke:rgb(255,255,255)\"/><rect x=\"275\" y=\"0\" width=\"55\" height=\"55\" style=\"fill:#debb9b;stroke-width:2;stroke:rgb(255,255,255)\"/><rect x=\"330\" y=\"0\" width=\"55\" height=\"55\" style=\"fill:#fab0e4;stroke-width:2;stroke:rgb(255,255,255)\"/><rect x=\"385\" y=\"0\" width=\"55\" height=\"55\" style=\"fill:#cfcfcf;stroke-width:2;stroke:rgb(255,255,255)\"/><rect x=\"440\" y=\"0\" width=\"55\" height=\"55\" style=\"fill:#fffea3;stroke-width:2;stroke:rgb(255,255,255)\"/><rect x=\"495\" y=\"0\" width=\"55\" height=\"55\" style=\"fill:#b9f2f0;stroke-width:2;stroke:rgb(255,255,255)\"/></svg>"
      ],
      "text/plain": [
       "[(0.6313725490196078, 0.788235294117647, 0.9568627450980393),\n",
       " (1.0, 0.7058823529411765, 0.5098039215686274),\n",
       " (0.5529411764705883, 0.8980392156862745, 0.6313725490196078),\n",
       " (1.0, 0.6235294117647059, 0.6078431372549019),\n",
       " (0.8156862745098039, 0.7333333333333333, 1.0),\n",
       " (0.8705882352941177, 0.7333333333333333, 0.6078431372549019),\n",
       " (0.9803921568627451, 0.6901960784313725, 0.8941176470588236),\n",
       " (0.8117647058823529, 0.8117647058823529, 0.8117647058823529),\n",
       " (1.0, 0.996078431372549, 0.6392156862745098),\n",
       " (0.7254901960784313, 0.9490196078431372, 0.9411764705882353)]"
      ]
     },
     "execution_count": 2,
     "metadata": {},
     "output_type": "execute_result"
    }
   ],
   "source": [
    "sns.set_theme(style=\"darkgrid\")\n",
    "sns.color_palette(\"pastel\")\n"
   ]
  },
  {
   "cell_type": "markdown",
   "metadata": {},
   "source": [
    "## Carregando os Dados"
   ]
  },
  {
   "cell_type": "code",
   "execution_count": 3,
   "metadata": {},
   "outputs": [],
   "source": [
    "df = pd.read_csv('/datasets/insurance_us.csv')"
   ]
  },
  {
   "cell_type": "code",
   "execution_count": 4,
   "metadata": {},
   "outputs": [
    {
     "data": {
      "text/html": [
       "<div>\n",
       "<style scoped>\n",
       "    .dataframe tbody tr th:only-of-type {\n",
       "        vertical-align: middle;\n",
       "    }\n",
       "\n",
       "    .dataframe tbody tr th {\n",
       "        vertical-align: top;\n",
       "    }\n",
       "\n",
       "    .dataframe thead th {\n",
       "        text-align: right;\n",
       "    }\n",
       "</style>\n",
       "<table border=\"1\" class=\"dataframe\">\n",
       "  <thead>\n",
       "    <tr style=\"text-align: right;\">\n",
       "      <th></th>\n",
       "      <th>Gender</th>\n",
       "      <th>Age</th>\n",
       "      <th>Salary</th>\n",
       "      <th>Family members</th>\n",
       "      <th>Insurance benefits</th>\n",
       "    </tr>\n",
       "  </thead>\n",
       "  <tbody>\n",
       "    <tr>\n",
       "      <th>0</th>\n",
       "      <td>1</td>\n",
       "      <td>41.0</td>\n",
       "      <td>49600.0</td>\n",
       "      <td>1</td>\n",
       "      <td>0</td>\n",
       "    </tr>\n",
       "    <tr>\n",
       "      <th>1</th>\n",
       "      <td>0</td>\n",
       "      <td>46.0</td>\n",
       "      <td>38000.0</td>\n",
       "      <td>1</td>\n",
       "      <td>1</td>\n",
       "    </tr>\n",
       "    <tr>\n",
       "      <th>2</th>\n",
       "      <td>0</td>\n",
       "      <td>29.0</td>\n",
       "      <td>21000.0</td>\n",
       "      <td>0</td>\n",
       "      <td>0</td>\n",
       "    </tr>\n",
       "    <tr>\n",
       "      <th>3</th>\n",
       "      <td>0</td>\n",
       "      <td>21.0</td>\n",
       "      <td>41700.0</td>\n",
       "      <td>2</td>\n",
       "      <td>0</td>\n",
       "    </tr>\n",
       "    <tr>\n",
       "      <th>4</th>\n",
       "      <td>1</td>\n",
       "      <td>28.0</td>\n",
       "      <td>26100.0</td>\n",
       "      <td>0</td>\n",
       "      <td>0</td>\n",
       "    </tr>\n",
       "  </tbody>\n",
       "</table>\n",
       "</div>"
      ],
      "text/plain": [
       "   Gender   Age   Salary  Family members  Insurance benefits\n",
       "0       1  41.0  49600.0               1                   0\n",
       "1       0  46.0  38000.0               1                   1\n",
       "2       0  29.0  21000.0               0                   0\n",
       "3       0  21.0  41700.0               2                   0\n",
       "4       1  28.0  26100.0               0                   0"
      ]
     },
     "execution_count": 4,
     "metadata": {},
     "output_type": "execute_result"
    }
   ],
   "source": [
    "df.head()"
   ]
  },
  {
   "cell_type": "code",
   "execution_count": 5,
   "metadata": {},
   "outputs": [
    {
     "name": "stdout",
     "output_type": "stream",
     "text": [
      "<class 'pandas.core.frame.DataFrame'>\n",
      "RangeIndex: 5000 entries, 0 to 4999\n",
      "Data columns (total 5 columns):\n",
      " #   Column              Non-Null Count  Dtype  \n",
      "---  ------              --------------  -----  \n",
      " 0   Gender              5000 non-null   int64  \n",
      " 1   Age                 5000 non-null   float64\n",
      " 2   Salary              5000 non-null   float64\n",
      " 3   Family members      5000 non-null   int64  \n",
      " 4   Insurance benefits  5000 non-null   int64  \n",
      "dtypes: float64(2), int64(3)\n",
      "memory usage: 195.4 KB\n"
     ]
    }
   ],
   "source": [
    "df.info()"
   ]
  },
  {
   "cell_type": "markdown",
   "metadata": {},
   "source": [
    "Renomeando as colunas para tornar o código mais consistente com seu estilo."
   ]
  },
  {
   "cell_type": "code",
   "execution_count": 6,
   "metadata": {},
   "outputs": [],
   "source": [
    "df = df.rename(columns={'Gender': 'gender', 'Age': 'age', 'Salary': 'income', 'Family members': 'family_members', 'Insurance benefits': 'insurance_benefits'})"
   ]
  },
  {
   "cell_type": "markdown",
   "metadata": {},
   "source": [
    "**Features**: sexo, idade, salário e número de familiares do segurado.\n",
    "\n",
    "**Target**: número de pagamentos de seguro recebidos por um segurado nos últimos cinco anos."
   ]
  },
  {
   "cell_type": "code",
   "execution_count": 7,
   "metadata": {},
   "outputs": [
    {
     "data": {
      "text/html": [
       "<div>\n",
       "<style scoped>\n",
       "    .dataframe tbody tr th:only-of-type {\n",
       "        vertical-align: middle;\n",
       "    }\n",
       "\n",
       "    .dataframe tbody tr th {\n",
       "        vertical-align: top;\n",
       "    }\n",
       "\n",
       "    .dataframe thead th {\n",
       "        text-align: right;\n",
       "    }\n",
       "</style>\n",
       "<table border=\"1\" class=\"dataframe\">\n",
       "  <thead>\n",
       "    <tr style=\"text-align: right;\">\n",
       "      <th></th>\n",
       "      <th>gender</th>\n",
       "      <th>age</th>\n",
       "      <th>income</th>\n",
       "      <th>family_members</th>\n",
       "      <th>insurance_benefits</th>\n",
       "    </tr>\n",
       "  </thead>\n",
       "  <tbody>\n",
       "    <tr>\n",
       "      <th>100</th>\n",
       "      <td>0</td>\n",
       "      <td>19.0</td>\n",
       "      <td>37300.0</td>\n",
       "      <td>1</td>\n",
       "      <td>0</td>\n",
       "    </tr>\n",
       "    <tr>\n",
       "      <th>1687</th>\n",
       "      <td>0</td>\n",
       "      <td>32.0</td>\n",
       "      <td>32000.0</td>\n",
       "      <td>2</td>\n",
       "      <td>0</td>\n",
       "    </tr>\n",
       "    <tr>\n",
       "      <th>1779</th>\n",
       "      <td>1</td>\n",
       "      <td>36.0</td>\n",
       "      <td>27400.0</td>\n",
       "      <td>2</td>\n",
       "      <td>0</td>\n",
       "    </tr>\n",
       "    <tr>\n",
       "      <th>3513</th>\n",
       "      <td>1</td>\n",
       "      <td>36.0</td>\n",
       "      <td>41300.0</td>\n",
       "      <td>0</td>\n",
       "      <td>0</td>\n",
       "    </tr>\n",
       "    <tr>\n",
       "      <th>4308</th>\n",
       "      <td>1</td>\n",
       "      <td>45.0</td>\n",
       "      <td>48900.0</td>\n",
       "      <td>2</td>\n",
       "      <td>1</td>\n",
       "    </tr>\n",
       "    <tr>\n",
       "      <th>1441</th>\n",
       "      <td>1</td>\n",
       "      <td>34.0</td>\n",
       "      <td>57600.0</td>\n",
       "      <td>0</td>\n",
       "      <td>0</td>\n",
       "    </tr>\n",
       "    <tr>\n",
       "      <th>4784</th>\n",
       "      <td>0</td>\n",
       "      <td>31.0</td>\n",
       "      <td>33200.0</td>\n",
       "      <td>3</td>\n",
       "      <td>0</td>\n",
       "    </tr>\n",
       "    <tr>\n",
       "      <th>3612</th>\n",
       "      <td>1</td>\n",
       "      <td>39.0</td>\n",
       "      <td>32800.0</td>\n",
       "      <td>5</td>\n",
       "      <td>0</td>\n",
       "    </tr>\n",
       "    <tr>\n",
       "      <th>2796</th>\n",
       "      <td>1</td>\n",
       "      <td>22.0</td>\n",
       "      <td>33300.0</td>\n",
       "      <td>4</td>\n",
       "      <td>0</td>\n",
       "    </tr>\n",
       "    <tr>\n",
       "      <th>461</th>\n",
       "      <td>0</td>\n",
       "      <td>42.0</td>\n",
       "      <td>58400.0</td>\n",
       "      <td>1</td>\n",
       "      <td>1</td>\n",
       "    </tr>\n",
       "  </tbody>\n",
       "</table>\n",
       "</div>"
      ],
      "text/plain": [
       "      gender   age   income  family_members  insurance_benefits\n",
       "100        0  19.0  37300.0               1                   0\n",
       "1687       0  32.0  32000.0               2                   0\n",
       "1779       1  36.0  27400.0               2                   0\n",
       "3513       1  36.0  41300.0               0                   0\n",
       "4308       1  45.0  48900.0               2                   1\n",
       "1441       1  34.0  57600.0               0                   0\n",
       "4784       0  31.0  33200.0               3                   0\n",
       "3612       1  39.0  32800.0               5                   0\n",
       "2796       1  22.0  33300.0               4                   0\n",
       "461        0  42.0  58400.0               1                   1"
      ]
     },
     "execution_count": 7,
     "metadata": {},
     "output_type": "execute_result"
    }
   ],
   "source": [
    "df.sample(10)"
   ]
  },
  {
   "cell_type": "code",
   "execution_count": 8,
   "metadata": {},
   "outputs": [
    {
     "name": "stdout",
     "output_type": "stream",
     "text": [
      "<class 'pandas.core.frame.DataFrame'>\n",
      "RangeIndex: 5000 entries, 0 to 4999\n",
      "Data columns (total 5 columns):\n",
      " #   Column              Non-Null Count  Dtype  \n",
      "---  ------              --------------  -----  \n",
      " 0   gender              5000 non-null   int64  \n",
      " 1   age                 5000 non-null   float64\n",
      " 2   income              5000 non-null   float64\n",
      " 3   family_members      5000 non-null   int64  \n",
      " 4   insurance_benefits  5000 non-null   int64  \n",
      "dtypes: float64(2), int64(3)\n",
      "memory usage: 195.4 KB\n"
     ]
    }
   ],
   "source": [
    "df.info()"
   ]
  },
  {
   "cell_type": "code",
   "execution_count": 9,
   "metadata": {},
   "outputs": [],
   "source": [
    "# Corrigindo o tipo da variável idade (de float para int)\n",
    "df['age'] = df['age'].astype('int')"
   ]
  },
  {
   "cell_type": "code",
   "execution_count": 10,
   "metadata": {},
   "outputs": [
    {
     "name": "stdout",
     "output_type": "stream",
     "text": [
      "<class 'pandas.core.frame.DataFrame'>\n",
      "RangeIndex: 5000 entries, 0 to 4999\n",
      "Data columns (total 5 columns):\n",
      " #   Column              Non-Null Count  Dtype  \n",
      "---  ------              --------------  -----  \n",
      " 0   gender              5000 non-null   int64  \n",
      " 1   age                 5000 non-null   int64  \n",
      " 2   income              5000 non-null   float64\n",
      " 3   family_members      5000 non-null   int64  \n",
      " 4   insurance_benefits  5000 non-null   int64  \n",
      "dtypes: float64(1), int64(4)\n",
      "memory usage: 195.4 KB\n"
     ]
    }
   ],
   "source": [
    "# verificando se a conversão foi bem-sucedida\n",
    "df.info()"
   ]
  },
  {
   "cell_type": "code",
   "execution_count": 11,
   "metadata": {},
   "outputs": [
    {
     "data": {
      "text/html": [
       "<div>\n",
       "<style scoped>\n",
       "    .dataframe tbody tr th:only-of-type {\n",
       "        vertical-align: middle;\n",
       "    }\n",
       "\n",
       "    .dataframe tbody tr th {\n",
       "        vertical-align: top;\n",
       "    }\n",
       "\n",
       "    .dataframe thead th {\n",
       "        text-align: right;\n",
       "    }\n",
       "</style>\n",
       "<table border=\"1\" class=\"dataframe\">\n",
       "  <thead>\n",
       "    <tr style=\"text-align: right;\">\n",
       "      <th></th>\n",
       "      <th>gender</th>\n",
       "      <th>age</th>\n",
       "      <th>income</th>\n",
       "      <th>family_members</th>\n",
       "      <th>insurance_benefits</th>\n",
       "    </tr>\n",
       "  </thead>\n",
       "  <tbody>\n",
       "    <tr>\n",
       "      <th>count</th>\n",
       "      <td>5000.000000</td>\n",
       "      <td>5000.000000</td>\n",
       "      <td>5000.000000</td>\n",
       "      <td>5000.000000</td>\n",
       "      <td>5000.000000</td>\n",
       "    </tr>\n",
       "    <tr>\n",
       "      <th>mean</th>\n",
       "      <td>0.499000</td>\n",
       "      <td>30.952800</td>\n",
       "      <td>39916.360000</td>\n",
       "      <td>1.194200</td>\n",
       "      <td>0.148000</td>\n",
       "    </tr>\n",
       "    <tr>\n",
       "      <th>std</th>\n",
       "      <td>0.500049</td>\n",
       "      <td>8.440807</td>\n",
       "      <td>9900.083569</td>\n",
       "      <td>1.091387</td>\n",
       "      <td>0.463183</td>\n",
       "    </tr>\n",
       "    <tr>\n",
       "      <th>min</th>\n",
       "      <td>0.000000</td>\n",
       "      <td>18.000000</td>\n",
       "      <td>5300.000000</td>\n",
       "      <td>0.000000</td>\n",
       "      <td>0.000000</td>\n",
       "    </tr>\n",
       "    <tr>\n",
       "      <th>25%</th>\n",
       "      <td>0.000000</td>\n",
       "      <td>24.000000</td>\n",
       "      <td>33300.000000</td>\n",
       "      <td>0.000000</td>\n",
       "      <td>0.000000</td>\n",
       "    </tr>\n",
       "    <tr>\n",
       "      <th>50%</th>\n",
       "      <td>0.000000</td>\n",
       "      <td>30.000000</td>\n",
       "      <td>40200.000000</td>\n",
       "      <td>1.000000</td>\n",
       "      <td>0.000000</td>\n",
       "    </tr>\n",
       "    <tr>\n",
       "      <th>75%</th>\n",
       "      <td>1.000000</td>\n",
       "      <td>37.000000</td>\n",
       "      <td>46600.000000</td>\n",
       "      <td>2.000000</td>\n",
       "      <td>0.000000</td>\n",
       "    </tr>\n",
       "    <tr>\n",
       "      <th>max</th>\n",
       "      <td>1.000000</td>\n",
       "      <td>65.000000</td>\n",
       "      <td>79000.000000</td>\n",
       "      <td>6.000000</td>\n",
       "      <td>5.000000</td>\n",
       "    </tr>\n",
       "  </tbody>\n",
       "</table>\n",
       "</div>"
      ],
      "text/plain": [
       "            gender          age        income  family_members  \\\n",
       "count  5000.000000  5000.000000   5000.000000     5000.000000   \n",
       "mean      0.499000    30.952800  39916.360000        1.194200   \n",
       "std       0.500049     8.440807   9900.083569        1.091387   \n",
       "min       0.000000    18.000000   5300.000000        0.000000   \n",
       "25%       0.000000    24.000000  33300.000000        0.000000   \n",
       "50%       0.000000    30.000000  40200.000000        1.000000   \n",
       "75%       1.000000    37.000000  46600.000000        2.000000   \n",
       "max       1.000000    65.000000  79000.000000        6.000000   \n",
       "\n",
       "       insurance_benefits  \n",
       "count         5000.000000  \n",
       "mean             0.148000  \n",
       "std              0.463183  \n",
       "min              0.000000  \n",
       "25%              0.000000  \n",
       "50%              0.000000  \n",
       "75%              0.000000  \n",
       "max              5.000000  "
      ]
     },
     "execution_count": 11,
     "metadata": {},
     "output_type": "execute_result"
    }
   ],
   "source": [
    "# Estatísticas descritivas dos dados.\n",
    "df.describe()"
   ]
  },
  {
   "cell_type": "code",
   "execution_count": 12,
   "metadata": {},
   "outputs": [
    {
     "data": {
      "text/plain": [
       "gender                0.004001\n",
       "age                   0.515148\n",
       "income               -0.036723\n",
       "family_members        0.898297\n",
       "insurance_benefits    3.845707\n",
       "dtype: float64"
      ]
     },
     "execution_count": 12,
     "metadata": {},
     "output_type": "execute_result"
    }
   ],
   "source": [
    "# Assimetria dos dados\n",
    "df.skew()"
   ]
  },
  {
   "cell_type": "code",
   "execution_count": 13,
   "metadata": {},
   "outputs": [
    {
     "data": {
      "image/png": "[encoded data removed]",
      "text/plain": [
       "<Figure size 720x432 with 1 Axes>"
      ]
     },
     "metadata": {},
     "output_type": "display_data"
    }
   ],
   "source": [
    "fig, ax = plt.subplots(figsize=(10,6));\n",
    "sns.histplot(x='age', data=df, kde=True, ax=ax);\n",
    "ax.set_xlabel('Idade');\n",
    "ax.set_title('Distribuição de Idade dos Segurados');\n",
    "plt.show()"
   ]
  },
  {
   "cell_type": "code",
   "execution_count": 14,
   "metadata": {},
   "outputs": [
    {
     "data": {
      "image/png": "[encoded data removed]",
      "text/plain": [
       "<Figure size 720x432 with 1 Axes>"
      ]
     },
     "metadata": {},
     "output_type": "display_data"
    }
   ],
   "source": [
    "fig, ax = plt.subplots(figsize=(10,6));\n",
    "sns.histplot(x='income', data=df, kde=True, ax=ax);\n",
    "ax.set_xlabel('Salário');\n",
    "ax.set_title('Distribuição dos Salários dos Segurados');\n",
    "plt.show()"
   ]
  },
  {
   "cell_type": "code",
   "execution_count": 15,
   "metadata": {},
   "outputs": [
    {
     "data": {
      "image/png": "[encoded data removed]",
      "text/plain": [
       "<Figure size 720x432 with 1 Axes>"
      ]
     },
     "metadata": {},
     "output_type": "display_data"
    }
   ],
   "source": [
    "fig, ax = plt.subplots(figsize=(10,6));\n",
    "sns.boxplot(x='family_members', data=df, ax=ax);\n",
    "ax.set_xlabel('Número de membros da família');\n",
    "ax.set_title('Número de Membros da Família dos Segurados');\n",
    "plt.show()\n"
   ]
  },
  {
   "cell_type": "code",
   "execution_count": 16,
   "metadata": {},
   "outputs": [
    {
     "data": {
      "image/png": "[encoded data removed]",
      "text/plain": [
       "<Figure size 720x432 with 1 Axes>"
      ]
     },
     "metadata": {},
     "output_type": "display_data"
    }
   ],
   "source": [
    "fig, ax = plt.subplots(figsize=(10,6));\n",
    "sns.boxplot(x='insurance_benefits', data=df, ax=ax);\n",
    "ax.set_xlabel('Pagamentos');\n",
    "ax.set_title('Número de Pagamentos de Seguros Recebidos');\n",
    "plt.show()"
   ]
  },
  {
   "cell_type": "code",
   "execution_count": 17,
   "metadata": {},
   "outputs": [
    {
     "data": {
      "image/png": "[encoded data removed]",
      "text/plain": [
       "<Figure size 720x432 with 1 Axes>"
      ]
     },
     "metadata": {},
     "output_type": "display_data"
    }
   ],
   "source": [
    "fig, ax = plt.subplots(figsize=(10,6));\n",
    "sns.countplot(x='insurance_benefits', data=df, ax=ax);\n",
    "ax.set_xlabel('Pagamentos');\n",
    "ax.set_title('Número de Pagamentos de Seguros Recebidos');\n",
    "plt.show()"
   ]
  },
  {
   "cell_type": "code",
   "execution_count": 18,
   "metadata": {},
   "outputs": [
    {
     "data": {
      "image/png": "[encoded data removed]",
      "text/plain": [
       "<Figure size 720x432 with 1 Axes>"
      ]
     },
     "metadata": {},
     "output_type": "display_data"
    }
   ],
   "source": [
    "fig, ax = plt.subplots(figsize=(10,6));\n",
    "sns.countplot(x='gender', data=df, ax=ax);\n",
    "ax.set_xlabel('Gênero');\n",
    "ax.set_title('Gênero dos Segurados');\n",
    "plt.show()\n"
   ]
  },
  {
   "cell_type": "markdown",
   "metadata": {},
   "source": [
    "**Conclusões**\n",
    "\n",
    "Com base nos resultados da análise descritiva, é possível observar que a distribuição dos dados apresenta diferentes graus de assimetria, ou seja, a distribuição não é simétrica em relação à média. A skewness dos dados revela que a variável de \"age\" apresenta uma assimetria positiva moderada, o que mostra que há uma concentração maior de indivíduos mais jovens na amostra, o histograma mostra o mesmo e uma concentração maior na idade entre 20 e 40 anos. A variável \"gender\" apresentou uma assimetria praticamente nula, no gráfico de barra podemos ver que não há diferença na quantidade de índividos em relaão ao gênero.\n",
    "\n",
    "Ja as variáveis de \"family_members\" e \"insurance_benefits\" apresentam uma assimetria positiva acentuada, ou seja há poucos indivíduos com muitos familiares e muitos indivíduos com poucos familiares e a grande maioria dos indivíduos possui poucos pagamentos de seguro, mas há outliers com um grande número de pagamentos. \n",
    "\n",
    "Já a variável de \"income\" apresenta uma assimetria negativa leve, sugere que há uma maior concentração de indivíduos com rendas mais altas na amostra.\n",
    "\n",
    "Em resumo a análise descritiva dos dados mostra que:\n",
    "A idade média é de 31 anos e a renda média é de cerca de 39.916 dólares. A maioria dos indivíduos na amostra tem menos de 3 membros na família e não possui nenhum pagamento de seguro."
   ]
  },
  {
   "cell_type": "markdown",
   "metadata": {},
   "source": [
    "## Automated Exploratory Data analysis (AED)"
   ]
  },
  {
   "cell_type": "markdown",
   "metadata": {},
   "source": [
    "Vamos verificar rapidamente se existem determinados grupos de clientes observando o gráfico de pares."
   ]
  },
  {
   "cell_type": "code",
   "execution_count": 19,
   "metadata": {},
   "outputs": [
    {
     "data": {
      "image/png": "[encoded data removed]",
      "text/plain": [
       "<Figure size 864x864 with 30 Axes>"
      ]
     },
     "metadata": {},
     "output_type": "display_data"
    }
   ],
   "source": [
    "g = sns.pairplot(df, kind='hist')\n",
    "g.fig.set_size_inches(12, 12)"
   ]
  },
  {
   "cell_type": "markdown",
   "metadata": {},
   "source": [
    "É um pouco difícil identificar grupos óbvios (clusters), pois é difícil combinar várias variáveis simultaneamente (para analisar distribuições multivariadas)."
   ]
  },
  {
   "cell_type": "markdown",
   "metadata": {},
   "source": [
    "# Tarefa 1. Clientes Similares"
   ]
  },
  {
   "cell_type": "markdown",
   "metadata": {},
   "source": [
    "Na linguagem de AM, é necessário desenvolver um procedimento que retorne k vizinhos mais próximos (objetos) para um determinado objeto com base na distância entre os objetos.\n",
    "\n",
    "Para resolver a tarefa, podemos tentar diferentes métricas de distância."
   ]
  },
  {
   "cell_type": "markdown",
   "metadata": {},
   "source": [
    "A  função abaixo retorne k vizinhos mais próximos para um n-ésimo objeto com base em uma métrica de distância especificada. O número de pagamentos de seguro recebidos não é levado em consideração para esta tarefa. \n",
    "\n",
    "A função foi testada para quatro combinações de dois casos:\n",
    "- Escalabilidade\n",
    "  - os dados não são escalados\n",
    "  - os dados escalados com o escalonador MaxAbsScaler \n",
    "- Métricas de distância\n",
    "  - Euclidiana\n",
    "  - Manhattan"
   ]
  },
  {
   "cell_type": "code",
   "execution_count": 20,
   "metadata": {},
   "outputs": [],
   "source": [
    "feature_names = ['gender', 'age', 'income', 'family_members']"
   ]
  },
  {
   "cell_type": "code",
   "execution_count": 21,
   "metadata": {},
   "outputs": [],
   "source": [
    "def get_knn(df, n, k, metric):\n",
    "    \n",
    "    \"\"\"\n",
    "    Retorna os vizinhos mais próximos de k\n",
    "\n",
    "    :param df: DataFrame pandas usado para encontrar objetos semelhantes dentro de    \n",
    "    :param n: número do objeto pelo qual os vizinhos mais próximos são procurados\n",
    "    :param k: o número dos vizinhos mais próximos a serem retornados\n",
    "    :param metric: nome da métrica de distância    \"\"\"\n",
    "\n",
    "    nbrs = NearestNeighbors(n_neighbors=k, metric=metric)\n",
    "    nbrs.fit(df[feature_names])\n",
    "    nbrs_distances, nbrs_indices = nbrs.kneighbors([df.iloc[n][feature_names]], k, return_distance=True)\n",
    "    \n",
    "    df_res = pd.concat([\n",
    "        df.iloc[nbrs_indices[0]], \n",
    "        pd.DataFrame(nbrs_distances.T, index=nbrs_indices[0], columns=['distance'])\n",
    "        ], axis=1)\n",
    "    \n",
    "    return df_res"
   ]
  },
  {
   "cell_type": "markdown",
   "metadata": {},
   "source": [
    "Escalando os dados"
   ]
  },
  {
   "cell_type": "code",
   "execution_count": 22,
   "metadata": {},
   "outputs": [],
   "source": [
    "feature_names = ['gender', 'age', 'income', 'family_members']\n",
    "\n",
    "transformer_mas = sklearn.preprocessing.MaxAbsScaler().fit(df[feature_names].to_numpy())\n",
    "\n",
    "df_scaled = df.copy()\n",
    "df_scaled.loc[:, feature_names] = transformer_mas.transform(df[feature_names].to_numpy())"
   ]
  },
  {
   "cell_type": "code",
   "execution_count": 23,
   "metadata": {},
   "outputs": [
    {
     "data": {
      "text/html": [
       "<div>\n",
       "<style scoped>\n",
       "    .dataframe tbody tr th:only-of-type {\n",
       "        vertical-align: middle;\n",
       "    }\n",
       "\n",
       "    .dataframe tbody tr th {\n",
       "        vertical-align: top;\n",
       "    }\n",
       "\n",
       "    .dataframe thead th {\n",
       "        text-align: right;\n",
       "    }\n",
       "</style>\n",
       "<table border=\"1\" class=\"dataframe\">\n",
       "  <thead>\n",
       "    <tr style=\"text-align: right;\">\n",
       "      <th></th>\n",
       "      <th>gender</th>\n",
       "      <th>age</th>\n",
       "      <th>income</th>\n",
       "      <th>family_members</th>\n",
       "      <th>insurance_benefits</th>\n",
       "    </tr>\n",
       "  </thead>\n",
       "  <tbody>\n",
       "    <tr>\n",
       "      <th>1269</th>\n",
       "      <td>0.0</td>\n",
       "      <td>0.384615</td>\n",
       "      <td>0.345570</td>\n",
       "      <td>0.500000</td>\n",
       "      <td>0</td>\n",
       "    </tr>\n",
       "    <tr>\n",
       "      <th>4675</th>\n",
       "      <td>0.0</td>\n",
       "      <td>0.400000</td>\n",
       "      <td>0.592405</td>\n",
       "      <td>0.166667</td>\n",
       "      <td>0</td>\n",
       "    </tr>\n",
       "    <tr>\n",
       "      <th>326</th>\n",
       "      <td>1.0</td>\n",
       "      <td>0.707692</td>\n",
       "      <td>0.459494</td>\n",
       "      <td>0.000000</td>\n",
       "      <td>1</td>\n",
       "    </tr>\n",
       "    <tr>\n",
       "      <th>1093</th>\n",
       "      <td>1.0</td>\n",
       "      <td>0.630769</td>\n",
       "      <td>0.382278</td>\n",
       "      <td>0.000000</td>\n",
       "      <td>0</td>\n",
       "    </tr>\n",
       "    <tr>\n",
       "      <th>411</th>\n",
       "      <td>1.0</td>\n",
       "      <td>0.369231</td>\n",
       "      <td>0.416456</td>\n",
       "      <td>0.166667</td>\n",
       "      <td>0</td>\n",
       "    </tr>\n",
       "  </tbody>\n",
       "</table>\n",
       "</div>"
      ],
      "text/plain": [
       "      gender       age    income  family_members  insurance_benefits\n",
       "1269     0.0  0.384615  0.345570        0.500000                   0\n",
       "4675     0.0  0.400000  0.592405        0.166667                   0\n",
       "326      1.0  0.707692  0.459494        0.000000                   1\n",
       "1093     1.0  0.630769  0.382278        0.000000                   0\n",
       "411      1.0  0.369231  0.416456        0.166667                   0"
      ]
     },
     "execution_count": 23,
     "metadata": {},
     "output_type": "execute_result"
    }
   ],
   "source": [
    "df_scaled.sample(5)"
   ]
  },
  {
   "cell_type": "markdown",
   "metadata": {},
   "source": [
    "Obtendo registros semelhantes para um determinado registro para cada combinação"
   ]
  },
  {
   "cell_type": "code",
   "execution_count": 24,
   "metadata": {},
   "outputs": [
    {
     "data": {
      "text/html": [
       "<div>\n",
       "<style scoped>\n",
       "    .dataframe tbody tr th:only-of-type {\n",
       "        vertical-align: middle;\n",
       "    }\n",
       "\n",
       "    .dataframe tbody tr th {\n",
       "        vertical-align: top;\n",
       "    }\n",
       "\n",
       "    .dataframe thead th {\n",
       "        text-align: right;\n",
       "    }\n",
       "</style>\n",
       "<table border=\"1\" class=\"dataframe\">\n",
       "  <thead>\n",
       "    <tr style=\"text-align: right;\">\n",
       "      <th></th>\n",
       "      <th>gender</th>\n",
       "      <th>age</th>\n",
       "      <th>income</th>\n",
       "      <th>family_members</th>\n",
       "      <th>distance</th>\n",
       "    </tr>\n",
       "  </thead>\n",
       "  <tbody>\n",
       "    <tr>\n",
       "      <th>0</th>\n",
       "      <td>1</td>\n",
       "      <td>41</td>\n",
       "      <td>49600.0</td>\n",
       "      <td>1</td>\n",
       "      <td>0.0</td>\n",
       "    </tr>\n",
       "    <tr>\n",
       "      <th>2022</th>\n",
       "      <td>1</td>\n",
       "      <td>41</td>\n",
       "      <td>49600.0</td>\n",
       "      <td>0</td>\n",
       "      <td>1.0</td>\n",
       "    </tr>\n",
       "    <tr>\n",
       "      <th>1225</th>\n",
       "      <td>0</td>\n",
       "      <td>42</td>\n",
       "      <td>49600.0</td>\n",
       "      <td>0</td>\n",
       "      <td>3.0</td>\n",
       "    </tr>\n",
       "  </tbody>\n",
       "</table>\n",
       "</div>"
      ],
      "text/plain": [
       "      gender  age   income  family_members  distance\n",
       "0          1   41  49600.0               1       0.0\n",
       "2022       1   41  49600.0               0       1.0\n",
       "1225       0   42  49600.0               0       3.0"
      ]
     },
     "execution_count": 24,
     "metadata": {},
     "output_type": "execute_result"
    }
   ],
   "source": [
    "get_knn(df[feature_names], n=0, k=3, metric='manhattan')"
   ]
  },
  {
   "cell_type": "code",
   "execution_count": 25,
   "metadata": {},
   "outputs": [
    {
     "data": {
      "text/html": [
       "<div>\n",
       "<style scoped>\n",
       "    .dataframe tbody tr th:only-of-type {\n",
       "        vertical-align: middle;\n",
       "    }\n",
       "\n",
       "    .dataframe tbody tr th {\n",
       "        vertical-align: top;\n",
       "    }\n",
       "\n",
       "    .dataframe thead th {\n",
       "        text-align: right;\n",
       "    }\n",
       "</style>\n",
       "<table border=\"1\" class=\"dataframe\">\n",
       "  <thead>\n",
       "    <tr style=\"text-align: right;\">\n",
       "      <th></th>\n",
       "      <th>gender</th>\n",
       "      <th>age</th>\n",
       "      <th>income</th>\n",
       "      <th>family_members</th>\n",
       "      <th>distance</th>\n",
       "    </tr>\n",
       "  </thead>\n",
       "  <tbody>\n",
       "    <tr>\n",
       "      <th>0</th>\n",
       "      <td>1.0</td>\n",
       "      <td>0.630769</td>\n",
       "      <td>0.627848</td>\n",
       "      <td>0.166667</td>\n",
       "      <td>0.000000</td>\n",
       "    </tr>\n",
       "    <tr>\n",
       "      <th>2689</th>\n",
       "      <td>1.0</td>\n",
       "      <td>0.630769</td>\n",
       "      <td>0.634177</td>\n",
       "      <td>0.166667</td>\n",
       "      <td>0.006329</td>\n",
       "    </tr>\n",
       "    <tr>\n",
       "      <th>133</th>\n",
       "      <td>1.0</td>\n",
       "      <td>0.615385</td>\n",
       "      <td>0.636709</td>\n",
       "      <td>0.166667</td>\n",
       "      <td>0.024245</td>\n",
       "    </tr>\n",
       "  </tbody>\n",
       "</table>\n",
       "</div>"
      ],
      "text/plain": [
       "      gender       age    income  family_members  distance\n",
       "0        1.0  0.630769  0.627848        0.166667  0.000000\n",
       "2689     1.0  0.630769  0.634177        0.166667  0.006329\n",
       "133      1.0  0.615385  0.636709        0.166667  0.024245"
      ]
     },
     "execution_count": 25,
     "metadata": {},
     "output_type": "execute_result"
    }
   ],
   "source": [
    "get_knn(df_scaled[feature_names], n=0, k=3, metric='manhattan')"
   ]
  },
  {
   "cell_type": "code",
   "execution_count": 26,
   "metadata": {},
   "outputs": [
    {
     "data": {
      "text/html": [
       "<div>\n",
       "<style scoped>\n",
       "    .dataframe tbody tr th:only-of-type {\n",
       "        vertical-align: middle;\n",
       "    }\n",
       "\n",
       "    .dataframe tbody tr th {\n",
       "        vertical-align: top;\n",
       "    }\n",
       "\n",
       "    .dataframe thead th {\n",
       "        text-align: right;\n",
       "    }\n",
       "</style>\n",
       "<table border=\"1\" class=\"dataframe\">\n",
       "  <thead>\n",
       "    <tr style=\"text-align: right;\">\n",
       "      <th></th>\n",
       "      <th>gender</th>\n",
       "      <th>age</th>\n",
       "      <th>income</th>\n",
       "      <th>family_members</th>\n",
       "      <th>distance</th>\n",
       "    </tr>\n",
       "  </thead>\n",
       "  <tbody>\n",
       "    <tr>\n",
       "      <th>0</th>\n",
       "      <td>1</td>\n",
       "      <td>41</td>\n",
       "      <td>49600.0</td>\n",
       "      <td>1</td>\n",
       "      <td>0.000000</td>\n",
       "    </tr>\n",
       "    <tr>\n",
       "      <th>2022</th>\n",
       "      <td>1</td>\n",
       "      <td>41</td>\n",
       "      <td>49600.0</td>\n",
       "      <td>0</td>\n",
       "      <td>1.000000</td>\n",
       "    </tr>\n",
       "    <tr>\n",
       "      <th>1225</th>\n",
       "      <td>0</td>\n",
       "      <td>42</td>\n",
       "      <td>49600.0</td>\n",
       "      <td>0</td>\n",
       "      <td>1.732051</td>\n",
       "    </tr>\n",
       "  </tbody>\n",
       "</table>\n",
       "</div>"
      ],
      "text/plain": [
       "      gender  age   income  family_members  distance\n",
       "0          1   41  49600.0               1  0.000000\n",
       "2022       1   41  49600.0               0  1.000000\n",
       "1225       0   42  49600.0               0  1.732051"
      ]
     },
     "execution_count": 26,
     "metadata": {},
     "output_type": "execute_result"
    }
   ],
   "source": [
    "get_knn(df[feature_names], n=0, k=3, metric='euclidean')"
   ]
  },
  {
   "cell_type": "code",
   "execution_count": 27,
   "metadata": {},
   "outputs": [
    {
     "data": {
      "text/html": [
       "<div>\n",
       "<style scoped>\n",
       "    .dataframe tbody tr th:only-of-type {\n",
       "        vertical-align: middle;\n",
       "    }\n",
       "\n",
       "    .dataframe tbody tr th {\n",
       "        vertical-align: top;\n",
       "    }\n",
       "\n",
       "    .dataframe thead th {\n",
       "        text-align: right;\n",
       "    }\n",
       "</style>\n",
       "<table border=\"1\" class=\"dataframe\">\n",
       "  <thead>\n",
       "    <tr style=\"text-align: right;\">\n",
       "      <th></th>\n",
       "      <th>gender</th>\n",
       "      <th>age</th>\n",
       "      <th>income</th>\n",
       "      <th>family_members</th>\n",
       "      <th>distance</th>\n",
       "    </tr>\n",
       "  </thead>\n",
       "  <tbody>\n",
       "    <tr>\n",
       "      <th>0</th>\n",
       "      <td>1.0</td>\n",
       "      <td>0.630769</td>\n",
       "      <td>0.627848</td>\n",
       "      <td>0.166667</td>\n",
       "      <td>0.000000</td>\n",
       "    </tr>\n",
       "    <tr>\n",
       "      <th>2689</th>\n",
       "      <td>1.0</td>\n",
       "      <td>0.630769</td>\n",
       "      <td>0.634177</td>\n",
       "      <td>0.166667</td>\n",
       "      <td>0.006329</td>\n",
       "    </tr>\n",
       "    <tr>\n",
       "      <th>133</th>\n",
       "      <td>1.0</td>\n",
       "      <td>0.615385</td>\n",
       "      <td>0.636709</td>\n",
       "      <td>0.166667</td>\n",
       "      <td>0.017754</td>\n",
       "    </tr>\n",
       "  </tbody>\n",
       "</table>\n",
       "</div>"
      ],
      "text/plain": [
       "      gender       age    income  family_members  distance\n",
       "0        1.0  0.630769  0.627848        0.166667  0.000000\n",
       "2689     1.0  0.630769  0.634177        0.166667  0.006329\n",
       "133      1.0  0.615385  0.636709        0.166667  0.017754"
      ]
     },
     "execution_count": 27,
     "metadata": {},
     "output_type": "execute_result"
    }
   ],
   "source": [
    "get_knn(df_scaled[feature_names], n=0, k=3, metric='euclidean')"
   ]
  },
  {
   "cell_type": "markdown",
   "metadata": {},
   "source": [
    "**Os dados escalados** \n",
    "\n",
    "Podemos verque os três primeiros vizinhos mais próximos têm a mesma renda, mas nos dados escalados, observamos o padrão entre idade, renda, sexo e membros da família. Isso sugere que a combinação de características é mais importante do que olhar apenas para a renda. Além disso, as distâncias entre os vizinhos mais próximos são diferentes entre os dados escalados e não escalados."
   ]
  },
  {
   "cell_type": "markdown",
   "metadata": {},
   "source": [
    "**Semelhança nos resultados usando a métrica de distância de Manhattan (independentemente da escalabilidade)** \n",
    "\n",
    "Com base nos 3 vizinhos mais próximos, os clientes tem as mesmas características demográficas (sexo, idade e renda), mas diferem em número de membros da família.\n",
    "\n",
    "Na distância euclideana os clientes são semelhantes em renda e em idade, já o gênero e o número de membros da família podem não ser tão importantes para determinar a similaridade neste caso, pois são diferentes."
   ]
  },
  {
   "cell_type": "markdown",
   "metadata": {},
   "source": [
    "# Tarefa 2. É provável que o cliente receba um pagamento do seguro?"
   ]
  },
  {
   "cell_type": "markdown",
   "metadata": {},
   "source": [
    "Esta é uma tarefa de classificação binária."
   ]
  },
  {
   "cell_type": "markdown",
   "metadata": {},
   "source": [
    "Avaliando se a abordagem da classificação kNN pode ser melhor do que um modelo dummy.\n",
    "\n",
    "- Construção de um classificador baseado em kNN e medição da sua qualidade com a métrica F1 para k=1..10 tanto para os dados originais quanto para os escalados.\n",
    "- Construção de um modelo dummy, que é aleatório para este caso. Esse modelo retorna com alguma probabilidade o valor \"1\". O modelo foi testado em quatro valores de probabilidade: 0, a probabilidade de fazer qualquer pagamento de seguro, 0,5, 1.\n",
    "\n",
    "A probabilidade de fazer qualquer pagamento de seguro pode ser definida como:\n",
    "\n",
    "$$\n",
    "P(\\text{pagamento de seguro recebido} = \\frac{\\text{número de clientes que receberam qualquer pagamento de seguro}}{\\text{número total de clientes}})\n",
    "$$\n",
    "\n",
    "\n",
    "Os dados foram divididos na proporção 70:30 para os conjuntos de treinamento/teste."
   ]
  },
  {
   "cell_type": "code",
   "execution_count": 28,
   "metadata": {},
   "outputs": [],
   "source": [
    "# Criando nova coluna com classificação binária do pagamento de seguros\n",
    "# A condição retorna True or False e a conversão para inteiro tranforma em 0 e 1\n",
    "df['insurance_benefits_received'] = (df['insurance_benefits'] > 0).astype(int)"
   ]
  },
  {
   "cell_type": "code",
   "execution_count": 29,
   "metadata": {},
   "outputs": [
    {
     "data": {
      "text/plain": [
       "0    4436\n",
       "1     564\n",
       "Name: insurance_benefits_received, dtype: int64"
      ]
     },
     "execution_count": 29,
     "metadata": {},
     "output_type": "execute_result"
    }
   ],
   "source": [
    "# Verificando o desequilíbrio de classes com value_counts()\n",
    "df['insurance_benefits_received'].value_counts()\n"
   ]
  },
  {
   "cell_type": "code",
   "execution_count": 30,
   "metadata": {},
   "outputs": [],
   "source": [
    "features = df.drop('insurance_benefits_received', axis=1)\n",
    "target = df['insurance_benefits_received']"
   ]
  },
  {
   "cell_type": "code",
   "execution_count": 31,
   "metadata": {},
   "outputs": [],
   "source": [
    "features_train, features_test, target_train, target_test = train_test_split(features, target, test_size=0.30, random_state=42)"
   ]
  },
  {
   "cell_type": "code",
   "execution_count": 32,
   "metadata": {},
   "outputs": [],
   "source": [
    "# Escalando dados para contornar desequilíbrio de classes\n",
    "scaler = StandardScaler()\n",
    "features_train_scaled = scaler.fit_transform(features_train)\n",
    "features_test_scaled = scaler.transform(features_test)"
   ]
  },
  {
   "cell_type": "code",
   "execution_count": 33,
   "metadata": {},
   "outputs": [],
   "source": [
    "#Função que calcula a métrica F1 e retorna a matriz de confusão\n",
    "def eval_classifier(y_true, y_pred):\n",
    "    \n",
    "    f1_score = sklearn.metrics.f1_score(y_true, y_pred)\n",
    "    print(f'F1: {f1_score}')\n",
    "    cm = sklearn.metrics.confusion_matrix(y_true, y_pred, normalize='all')\n",
    "    print('Matriz de Confusão')\n",
    "    print(cm)"
   ]
  },
  {
   "cell_type": "markdown",
   "metadata": {},
   "source": [
    "### Modelo dummy"
   ]
  },
  {
   "cell_type": "code",
   "execution_count": 34,
   "metadata": {},
   "outputs": [],
   "source": [
    "# gerando a saída de um modelo aleatório\n",
    "\n",
    "def rnd_model_predict(P, size, seed=42):\n",
    "\n",
    "    rng = np.random.default_rng(seed=seed)\n",
    "    return rng.binomial(n=1, p=P, size=size)"
   ]
  },
  {
   "cell_type": "code",
   "execution_count": 35,
   "metadata": {},
   "outputs": [
    {
     "name": "stdout",
     "output_type": "stream",
     "text": [
      "A probabilidade: 0.00\n",
      "F1: 0.0\n",
      "Matriz de Confusão\n",
      "[[0.8872 0.    ]\n",
      " [0.1128 0.    ]]\n",
      "\n",
      "A probabilidade: 0.11\n",
      "F1: 0.12072072072072074\n",
      "Matriz de Confusão\n",
      "[[0.7914 0.0958]\n",
      " [0.0994 0.0134]]\n",
      "\n",
      "A probabilidade: 0.50\n",
      "F1: 0.19807883405101026\n",
      "Matriz de Confusão\n",
      "[[0.456  0.4312]\n",
      " [0.053  0.0598]]\n",
      "\n",
      "A probabilidade: 1.00\n",
      "F1: 0.20273184759166066\n",
      "Matriz de Confusão\n",
      "[[0.     0.8872]\n",
      " [0.     0.1128]]\n",
      "\n"
     ]
    }
   ],
   "source": [
    "for P in [0, df['insurance_benefits_received'].sum() / len(df), 0.5, 1]:\n",
    "\n",
    "    print(f'A probabilidade: {P:.2f}')\n",
    "    y_pred_rnd = rnd_model_predict (P, size=len(target))\n",
    "        \n",
    "    eval_classifier(df['insurance_benefits_received'], y_pred_rnd)\n",
    "    \n",
    "    print()"
   ]
  },
  {
   "cell_type": "markdown",
   "metadata": {},
   "source": [
    "### Modelo de Classificação KNN"
   ]
  },
  {
   "cell_type": "code",
   "execution_count": 36,
   "metadata": {},
   "outputs": [
    {
     "name": "stdout",
     "output_type": "stream",
     "text": [
      "k=1\n",
      "F1: 0.6546762589928057\n",
      "Matriz de Confusão\n",
      "[[0.87533333 0.01733333]\n",
      " [0.04666667 0.06066667]]\n",
      "k=2\n",
      "F1: 0.3762376237623762\n",
      "Matriz de Confusão\n",
      "[[0.89066667 0.002     ]\n",
      " [0.082      0.02533333]]\n",
      "k=3\n",
      "F1: 0.3888888888888889\n",
      "Matriz de Confusão\n",
      "[[0.884      0.00866667]\n",
      " [0.07933333 0.028     ]]\n",
      "k=4\n",
      "F1: 0.15555555555555553\n",
      "Matriz de Confusão\n",
      "[[0.88933333 0.00333333]\n",
      " [0.098      0.00933333]]\n",
      "k=5\n",
      "F1: 0.16842105263157894\n",
      "Matriz de Confusão\n",
      "[[0.884      0.00866667]\n",
      " [0.09666667 0.01066667]]\n",
      "k=6\n",
      "F1: 0.09411764705882353\n",
      "Matriz de Confusão\n",
      "[[8.92000000e-01 6.66666667e-04]\n",
      " [1.02000000e-01 5.33333333e-03]]\n",
      "k=7\n",
      "F1: 0.10465116279069768\n",
      "Matriz de Confusão\n",
      "[[0.89133333 0.00133333]\n",
      " [0.10133333 0.006     ]]\n",
      "k=8\n",
      "F1: 0.024539877300613494\n",
      "Matriz de Confusão\n",
      "[[0.89266667 0.        ]\n",
      " [0.106      0.00133333]]\n",
      "k=9\n",
      "F1: 0.03658536585365854\n",
      "Matriz de Confusão\n",
      "[[0.89266667 0.        ]\n",
      " [0.10533333 0.002     ]]\n",
      "k=10\n",
      "F1: 0.03658536585365854\n",
      "Matriz de Confusão\n",
      "[[0.89266667 0.        ]\n",
      " [0.10533333 0.002     ]]\n"
     ]
    }
   ],
   "source": [
    "# dados não escalados\n",
    "for k in range(1, 11):\n",
    "    knn = KNeighborsClassifier(n_neighbors=k)\n",
    "    knn.fit(features_train, target_train)\n",
    "    predictions = knn.predict(features_test)\n",
    "    print(f'k={k}')\n",
    "    f1 = eval_classifier(target_test, predictions)"
   ]
  },
  {
   "cell_type": "code",
   "execution_count": 37,
   "metadata": {},
   "outputs": [
    {
     "name": "stdout",
     "output_type": "stream",
     "text": [
      "k=1\n",
      "F1: 1.0\n",
      "Matriz de Confusão\n",
      "[[0.89266667 0.        ]\n",
      " [0.         0.10733333]]\n",
      "k=2\n",
      "F1: 1.0\n",
      "Matriz de Confusão\n",
      "[[0.89266667 0.        ]\n",
      " [0.         0.10733333]]\n",
      "k=3\n",
      "F1: 1.0\n",
      "Matriz de Confusão\n",
      "[[0.89266667 0.        ]\n",
      " [0.         0.10733333]]\n",
      "k=4\n",
      "F1: 1.0\n",
      "Matriz de Confusão\n",
      "[[0.89266667 0.        ]\n",
      " [0.         0.10733333]]\n",
      "k=5\n",
      "F1: 1.0\n",
      "Matriz de Confusão\n",
      "[[0.89266667 0.        ]\n",
      " [0.         0.10733333]]\n",
      "k=6\n",
      "F1: 1.0\n",
      "Matriz de Confusão\n",
      "[[0.89266667 0.        ]\n",
      " [0.         0.10733333]]\n",
      "k=7\n",
      "F1: 1.0\n",
      "Matriz de Confusão\n",
      "[[0.89266667 0.        ]\n",
      " [0.         0.10733333]]\n",
      "k=8\n",
      "F1: 1.0\n",
      "Matriz de Confusão\n",
      "[[0.89266667 0.        ]\n",
      " [0.         0.10733333]]\n",
      "k=9\n",
      "F1: 1.0\n",
      "Matriz de Confusão\n",
      "[[0.89266667 0.        ]\n",
      " [0.         0.10733333]]\n",
      "k=10\n",
      "F1: 1.0\n",
      "Matriz de Confusão\n",
      "[[0.89266667 0.        ]\n",
      " [0.         0.10733333]]\n"
     ]
    }
   ],
   "source": [
    "# Dados escalados\n",
    "for k in range(1, 11):\n",
    "    knn_scaled = KNeighborsClassifier(n_neighbors=k)\n",
    "    knn_scaled.fit(features_train_scaled, target_train)\n",
    "    predictions_scaled = knn_scaled.predict(features_test_scaled)\n",
    "    print(f'k={k}')\n",
    "    f1_scaled = eval_classifier(target_test, predictions_scaled)"
   ]
  },
  {
   "cell_type": "markdown",
   "metadata": {},
   "source": [
    "**Conclusões**\n",
    "Os resultados mostram que o dimensionamento dos recursos tem um impacto significativo no desempenho do Classificador KNN. Quando as características não são escaladas, a pontuação F1 é bastante baixa e varia muito entre diferentes valores de k, indicando que o modelo não é capaz de distinguir efetivamente entre as duas classes. Já nas características escaladas, a pontuação F1 é consistentemente 1,0 para todos os valores de k, o que significa que o modelo é capaz de classificar perfeitamente os dados.\n",
    "\n",
    "As matrizes de confusão também mostram que dados não escalados apresentam um grande número de falsos positivos e falsos negativos, provavelmente o modelo não é capaz de identificar as características importantes que distinguem as duas classes. O que não é verdade para as características dimensionadas, a matriz de confusão mostra que não há falsos positivos ou falsos negativos.\n",
    "\n",
    "Já o modelo dummy obteve uma pontuação F1 de 0 ou próxima a 0 indicando desempenho ruim provavelmente porque está prevendo todas ou a maioria das amostras como negativas ou positivas."
   ]
  },
  {
   "cell_type": "markdown",
   "metadata": {},
   "source": [
    "# Tarefa 3. Regressão (com Regressão Linear)"
   ]
  },
  {
   "cell_type": "markdown",
   "metadata": {},
   "source": [
    "Avaliação da métrica REQM para um modelo de Regressão Linear."
   ]
  },
  {
   "cell_type": "markdown",
   "metadata": {},
   "source": [
    "Construção e implementação de Regressão Linear com recurso de Álgebra linear. Foi utilizado a métrica REQM para os dados originais e os escalados. \n",
    "\n",
    "Foŕmula:\n",
    "- $X$ — matriz de características, cada linha é um caso, cada coluna é uma característica, a primeira coluna consiste em unidades\n",
    "- $y$ — objetivo (um vetor)\n",
    "- $\\hat{y}$ — objetivo estimado (um vetor)- \n",
    "- $w$ — vetor de peso\n",
    "\n",
    "A tarefa de regressão linear na linguagem de matrizes pode ser formulada como\n",
    "$$\n",
    "y = Xw\n",
    "$$\n",
    "\n",
    "O objetivo do treinamento, então, é encontrar o $w$ que minimizaria a distância L2 (EQM) entre $Xw$ e $y$:\n",
    "\n",
    "$$\n",
    "\\min_w d_2(Xw, y) \\quad \\text{or} \\quad \\min_w \\text{MSE}(Xw, y)\n",
    "$$\n",
    "\n",
    "Há uma solução analítica para a questão acima:\n",
    "\n",
    "$$\n",
    "w = (X^T X)^{-1} X^T y\n",
    "$$\n",
    "\n",
    "A fórmula acima pode ser usada para encontrar os pesos $w$ e este último pode ser usado para calcular valores preditos:\n",
    "\n",
    "$$\n",
    "\\hat{y} = X_{val}w\n",
    "$$"
   ]
  },
  {
   "cell_type": "markdown",
   "metadata": {},
   "source": [
    "Criando função que Calcula regressão linear"
   ]
  },
  {
   "cell_type": "code",
   "execution_count": 38,
   "metadata": {},
   "outputs": [],
   "source": [
    "class MyLinearRegression:\n",
    "    \n",
    "    # Contrutor: cria e inicializa os pesos como None.\n",
    "    def __init__(self):\n",
    "        \n",
    "        self.weights = None\n",
    "    \n",
    "    # Método para ajustar o modelo aos dados. O argumento X é uma matriz de dados de entrada e y é um vetor de valores de objetivo.\n",
    "    def fit(self, X, y):\n",
    "        \n",
    "        # Essa variável adiciona uma coluna de uns à matriz de entrada X (termo de interceptação no modelo de regressão linear).\n",
    "        X2 = np.append(np.ones([len(X), 1]), X, axis=1)\n",
    "        # Essa fórmula calcula o inverso da matriz X2.T.dot(X2), multiplica-o por X2.T e depois pelos valores de objetivo y.\n",
    "        self.weights = np.linalg.inv(X2.T.dot(X2)).dot(X2.T).dot(y)\n",
    "    \n",
    "    # Método é usado para prever os valores de destino para novos dados de entrada\n",
    "    def predict(self, X):\n",
    "        \n",
    "        # Adicionando uma coluna de uns à X (termo de interceptação no modelo de regressão linear).\n",
    "        X2 = np.append(np.ones([len(X), 1]), X, axis=1)\n",
    "        # Calcula os valores objetivos usando o produto escalar dos dados de entrada e os pesos do modelo de regressão linear.\n",
    "        y_pred = X2.dot(self.weights)\n",
    "        \n",
    "        return y_pred\n"
   ]
  },
  {
   "cell_type": "markdown",
   "metadata": {},
   "source": [
    "Função para o cálculo da métrica REQM"
   ]
  },
  {
   "cell_type": "code",
   "execution_count": 39,
   "metadata": {},
   "outputs": [],
   "source": [
    "def eval_regressor(y_true, y_pred):\n",
    "    \n",
    "    rmse = math.sqrt(sklearn.metrics.mean_squared_error(y_true, y_pred))\n",
    "    print(f'REQM: {rmse:.2f}')\n",
    "    \n",
    "    r2_score = math.sqrt(sklearn.metrics.r2_score(y_true, y_pred))\n",
    "    print(f'R2: {r2_score:.2f}')    "
   ]
  },
  {
   "cell_type": "code",
   "execution_count": 40,
   "metadata": {},
   "outputs": [
    {
     "name": "stdout",
     "output_type": "stream",
     "text": [
      "[-9.43539012e-01  3.57495491e-02  1.64272726e-02 -2.60743659e-07\n",
      " -1.16902127e-02]\n",
      "REQM: 0.34\n",
      "R2: 0.66\n"
     ]
    }
   ],
   "source": [
    "# Transformando features em matriz\n",
    "X = df[['age', 'gender', 'income', 'family_members']].to_numpy()\n",
    "# Tranformando target em um vetor\n",
    "y = df['insurance_benefits'].to_numpy()\n",
    "\n",
    "#Separando os dados em conjunto de treinamento e teste na proporção 70:30\n",
    "X_train, X_test, y_train, y_test = train_test_split(X, y, test_size=0.3, random_state=12345)\n",
    "\n",
    "# Instanciando o objeto\n",
    "lr = MyLinearRegression()\n",
    "\n",
    "lr.fit(X_train, y_train)\n",
    "print(lr.weights)\n",
    "\n",
    "y_test_pred = lr.predict(X_test)\n",
    "eval_regressor(y_test, y_test_pred)"
   ]
  },
  {
   "cell_type": "markdown",
   "metadata": {},
   "source": [
    "**Conclusões**\n",
    "\n",
    "O valor REQM mais baixo indica que as previsões do modelo são precisas. O valor de R2 representa o coeficiente de determinação, que indica o quão bem o modelo se ajusta aos dados. Valores mais altos indicando um melhor ajuste. Nesse caso, o valor de R2 de 0,66 sugere que o modelo explica 66% da variância da variável alvo."
   ]
  },
  {
   "cell_type": "markdown",
   "metadata": {},
   "source": [
    "# Tarefa 4. Ofuscando dados"
   ]
  },
  {
   "cell_type": "markdown",
   "metadata": {},
   "source": [
    "O ofuscamento ou mascaramento dos dados tem objetivo de proteger dados pessoais, isso pode ser feito por meio da multiplicação das características numéricas (elas podem ser vistos como a matriz $X$) por uma matriz invertível $P$, ou seja: \n",
    "\n",
    "$$\n",
    "X' = X \\times P\n",
    "$$"
   ]
  },
  {
   "cell_type": "code",
   "execution_count": 41,
   "metadata": {},
   "outputs": [],
   "source": [
    "# Filtrando dataframe por features\n",
    "personal_info_column_list = ['gender', 'age', 'income', 'family_members']\n",
    "df_pn = df[personal_info_column_list]"
   ]
  },
  {
   "cell_type": "code",
   "execution_count": 42,
   "metadata": {},
   "outputs": [],
   "source": [
    "# Transformando dataframe em matriz\n",
    "X = df_pn.to_numpy()"
   ]
  },
  {
   "cell_type": "markdown",
   "metadata": {},
   "source": [
    "Gerando uma matriz $P$ aleatória."
   ]
  },
  {
   "cell_type": "code",
   "execution_count": 43,
   "metadata": {},
   "outputs": [],
   "source": [
    "rng = np.random.default_rng(seed=42)\n",
    "# Gerando matriz quadrada aleatória\n",
    "P = rng.random(size=(X.shape[1], X.shape[1]))"
   ]
  },
  {
   "cell_type": "markdown",
   "metadata": {},
   "source": [
    "Verificando se a matriz $P$ é invertível"
   ]
  },
  {
   "cell_type": "code",
   "execution_count": 44,
   "metadata": {},
   "outputs": [
    {
     "name": "stdout",
     "output_type": "stream",
     "text": [
      "Matriz P é invertível\n"
     ]
    }
   ],
   "source": [
    "det_P = np.linalg.det(P)\n",
    "if det_P != 0:\n",
    "    print(\"Matriz P é invertível\")\n",
    "else:\n",
    "    print(\"Matriz P não é invertível\")\n"
   ]
  },
  {
   "cell_type": "code",
   "execution_count": 45,
   "metadata": {},
   "outputs": [
    {
     "data": {
      "text/plain": [
       "array([[ 0.41467992, -1.43783972,  0.62798546,  1.14001268],\n",
       "       [-1.06101789,  0.44219337,  0.1329549 ,  1.18425933],\n",
       "       [ 1.42362442,  1.60461607, -2.0553823 , -1.53699695],\n",
       "       [-0.11128575, -0.65813802,  1.74995517, -0.11816316]])"
      ]
     },
     "execution_count": 45,
     "metadata": {},
     "output_type": "execute_result"
    }
   ],
   "source": [
    "#Invertendo matriz P\n",
    "P_inv = np.linalg.inv(P)\n",
    "P_inv"
   ]
  },
  {
   "cell_type": "code",
   "execution_count": 46,
   "metadata": {},
   "outputs": [],
   "source": [
    "# Ofuscando features\n",
    "X_inv = np.dot(X, P)"
   ]
  },
  {
   "cell_type": "markdown",
   "metadata": {},
   "source": [
    "Recuperando os dados originais de $X′$ a partir de $P$:"
   ]
  },
  {
   "cell_type": "markdown",
   "metadata": {},
   "source": [
    "$$\n",
    "P: X = np.dot(np.linalg.inv(P_inv), X_inv.T).T\n",
    "$$"
   ]
  },
  {
   "cell_type": "code",
   "execution_count": 47,
   "metadata": {},
   "outputs": [
    {
     "data": {
      "text/plain": [
       "array([[ 1.00000000e+00,  4.10000000e+01,  4.96000000e+04,\n",
       "         1.00000000e+00],\n",
       "       [-4.47363596e-12,  4.60000000e+01,  3.80000000e+04,\n",
       "         1.00000000e+00],\n",
       "       [-2.51586878e-12,  2.90000000e+01,  2.10000000e+04,\n",
       "         9.52452315e-13],\n",
       "       ...,\n",
       "       [-1.92837871e-12,  2.00000000e+01,  3.39000000e+04,\n",
       "         2.00000000e+00],\n",
       "       [ 1.00000000e+00,  2.20000000e+01,  3.27000000e+04,\n",
       "         3.00000000e+00],\n",
       "       [ 1.00000000e+00,  2.80000000e+01,  4.06000000e+04,\n",
       "         1.00000000e+00]])"
      ]
     },
     "execution_count": 47,
     "metadata": {},
     "output_type": "execute_result"
    }
   ],
   "source": [
    "P_X = np.dot(X_inv, P_inv)\n",
    "P_X"
   ]
  },
  {
   "cell_type": "markdown",
   "metadata": {},
   "source": [
    "Imprima todos os três casos para alguns clientes- Os dados originais\n",
    "- O transformado\n",
    "- O invertido (recuperado)"
   ]
  },
  {
   "cell_type": "code",
   "execution_count": 48,
   "metadata": {},
   "outputs": [
    {
     "name": "stdout",
     "output_type": "stream",
     "text": [
      "Client 0:\n",
      "Original data: [1.00e+00 4.10e+01 4.96e+04 1.00e+00]\n",
      "Transformed data: [ 6359.71527314 22380.40467609 18424.09074184 46000.69669016]\n",
      "Recovered data: [1.00e+00 4.10e+01 4.96e+04 1.00e+00]\n",
      "\n",
      "Client 1:\n",
      "Original data: [0.0e+00 4.6e+01 3.8e+04 1.0e+00]\n",
      "Transformed data: [ 4873.29406479 17160.36702982 14125.78076133 35253.45577301]\n",
      "Recovered data: [-4.47363596e-12  4.60000000e+01  3.80000000e+04  1.00000000e+00]\n",
      "\n",
      "Client 2:\n",
      "Original data: [    0.    29. 21000.     0.]\n",
      "Transformed data: [ 2693.11742928  9486.397744    7808.83156024 19484.86063067]\n",
      "Recovered data: [-2.51586878e-12  2.90000000e+01  2.10000000e+04  9.52452315e-13]\n",
      "\n"
     ]
    }
   ],
   "source": [
    "selected_rows = df_pn.iloc[[0, 1, 2]]\n",
    "\n",
    "X = selected_rows.to_numpy()\n",
    "\n",
    "rng = np.random.default_rng(seed=42)\n",
    "P = rng.random(size=(X.shape[1], X.shape[1]))\n",
    "X_transformed = np.dot(X, P)\n",
    "\n",
    "\n",
    "P_inv = np.linalg.inv(P)\n",
    "X_recovered = np.dot(X_transformed, P_inv)\n",
    "\n",
    "for i in range(len(selected_rows)):\n",
    "    client = selected_rows.index[i]\n",
    "    original_data = selected_rows.iloc[i].values\n",
    "    transformed_data = X_transformed[i]\n",
    "    recovered_data = X_recovered[i]\n",
    "    print(f\"Client {client}:\")\n",
    "    print(\"Original data:\", original_data)\n",
    "    print(\"Transformed data:\", transformed_data)\n",
    "    print(\"Recovered data:\", recovered_data)\n",
    "    print()"
   ]
  },
  {
   "cell_type": "markdown",
   "metadata": {},
   "source": [
    "Alguns valores nos dados recuperados podem não ser exatamente iguais aos dados originais devido a erros de precisão numérica. Os cálculos de matriz envolvem aritmética de ponto flutuante, que pode introduzir pequenos erros de arredondamento nos resultados. Esses erros podem se acumular durante os cálculos e resultar em pequenas diferenças entre os dados originais e os recuperados. No entanto, essas diferenças são tipicamente muito pequenas e não afetam a precisão geral dos cálculos."
   ]
  },
  {
   "cell_type": "markdown",
   "metadata": {},
   "source": [
    "## Prova analítica de que a ofuscação de dados pode funcionar com a Regressão Linear"
   ]
  },
  {
   "cell_type": "markdown",
   "metadata": {},
   "source": [
    "A qualidade da regressão linear, medida pelo REQM, não será afetada pelo método de ofuscação de dados, pois esse método apenas altera os dados de X para XP, mas não altera a relação entre X e y, que é capturada pelo vetor de peso w. Portanto, o modelo de regressão linear ainda será capaz de fazer previsões precisas nos dados ofuscados XP, assim como faria nos dados originais X."
   ]
  },
  {
   "cell_type": "markdown",
   "metadata": {},
   "source": [
    "Partindo do princípio que:\n",
    "$$\n",
    "y = Xw\n",
    "$$\n",
    "\n",
    "onde w é o vetor de pesos da regressão obtido por:\n",
    "$$\n",
    "w = (X^T X)^{-1} X^T y\n",
    "$$\n",
    "\n",
    "Usando os valores previstos ofuscados, ou seja, XP:\n",
    "\n",
    "$$\n",
    "y_P = XP w_P\n",
    "$$\n",
    "\n",
    "onde $w_P$ é o vetor peso dado por:\n",
    "\n",
    "$$\n",
    "w_P = [(XP)^T XP]^{-1} (XP)^T y\n",
    "$$\n",
    "\n",
    "Para mostrar que os valores previstos são os mesmos, precisamos mostrar que $y = y_P$. Substituindo as expressões para $y$ e $y_P$, obtemos:\n",
    "\n",
    "$$\n",
    "Xw = XPw_P\n",
    "$$\n",
    "\n",
    "Multiplicando ambos os lados por $$[(XP)^T XP]^{-1} (XP)^T$$, obtemos:\n",
    "\n",
    "$$\n",
    "[(XP)^T XP]^{-1} (XP)^T Xw = w_P\n",
    "$$\n",
    "\n",
    "Mas sabemos que $XP = X$ \\ $P$, então podemos substituir isso na equação acima para obter:\n",
    "\n",
    "$$\n",
    "[(X^T P^T P X)^{-1} X^T P^T P] Xw = w_P\n",
    "$$\n",
    "\n",
    "Expandindo a expressão $ (X\\ P)^T X\\ P $, obtemos:\n",
    "\n",
    "$$\n",
    "[(X^T P^T P X)^{-1} X^T P^T P] Xw = w_P\n",
    "$$\n",
    "\n",
    "Mas sabemos que $P^T P$ é uma matriz identidade (já que P é uma matriz de ofuscação), então podemos simplificar a equação acima para:\n",
    "\n",
    "$$\n",
    "[(X^T X)^{-1} X^T] Xw = w_P\n",
    "$$\n",
    "\n",
    "Substituindo a expressão por w, obtemos:\n",
    "\n",
    "$$\n",
    "[(X^T X)^{-1} X^T] X(X^T X)^{-1} X^T y = w_P\n",
    "$$\n",
    "\n",
    "Simplificando a expressão acima, obtemos:\n",
    "\n",
    "$$\n",
    "w_P = w\n",
    "$$\n",
    "\n",
    "Portanto, os vetores de peso obtidos usando os dados originais X e os dados ofuscados XP são os mesmos. Assim, os valores previstos obtidos usando Xw e XPw_P também serão os mesmos. Isso prova que o método de ofuscação não afetará a regressão linear em termos de valores previstos.\n",
    "\n",
    "\n",
    "Simplificando a fórmula para w_P derivada acima, obtemos:\n",
    "\n",
    "$$\n",
    "w_P = [(XP)^T XP]^{-1} (XP)^T y\n",
    "$$\n",
    "$$\n",
    "w_P = [((X \\ P)^T X \\ P)]^{-1} (X \\ P)^T y\n",
    "$$\n",
    "$$\n",
    "w_P = [(X^T P^T P X)^{-1} X^T P^T] y\n",
    "$$\n",
    "$$\n",
    "w_P = [(X^T X)^{-1} X^T] y\n",
    "$$\n",
    "\n",
    "Isso mostra que w_P é igual a w, ou seja, o vetor peso obtido usando os dados originais X. Portanto, os valores previstos com w_P serão iguais aos valores previstos com w, dados por:\n",
    "\n",
    "$$\n",
    "y_P = XPw_P = X \\ Pw_P = Xw = y\n",
    "$$"
   ]
  },
  {
   "cell_type": "markdown",
   "metadata": {},
   "source": [
    "## Teste de regressão linear com ofuscação de dados"
   ]
  },
  {
   "cell_type": "markdown",
   "metadata": {},
   "source": [
    "Prova de que a Regressão Linear pode funcionar computacionalmente com a transformação de ofuscação escolhida."
   ]
  },
  {
   "cell_type": "markdown",
   "metadata": {},
   "source": [
    "Nos dados não ofuscados"
   ]
  },
  {
   "cell_type": "code",
   "execution_count": 49,
   "metadata": {},
   "outputs": [
    {
     "name": "stdout",
     "output_type": "stream",
     "text": [
      "[-9.43539012e-01  3.57495491e-02  1.64272726e-02 -2.60743659e-07\n",
      " -1.16902127e-02]\n",
      "REQM: 0.34\n",
      "R2: 0.66\n"
     ]
    }
   ],
   "source": [
    "X = df[['age', 'gender', 'income', 'family_members']].to_numpy()\n",
    "y = df['insurance_benefits'].to_numpy()\n",
    "\n",
    "X_train, X_test, y_train, y_test = train_test_split(X, y, test_size=0.3, random_state=12345)\n",
    "\n",
    "lr = MyLinearRegression()\n",
    "\n",
    "lr.fit(X_train, y_train)\n",
    "print(lr.weights)\n",
    "\n",
    "y_test_pred = lr.predict(X_test)\n",
    "eval_regressor(y_test, y_test_pred)"
   ]
  },
  {
   "cell_type": "markdown",
   "metadata": {},
   "source": [
    "Nos dados ofuscados"
   ]
  },
  {
   "cell_type": "code",
   "execution_count": 50,
   "metadata": {},
   "outputs": [
    {
     "name": "stdout",
     "output_type": "stream",
     "text": [
      "[-9.43539012e-01  3.57495491e-02  1.64272726e-02 -2.60743659e-07\n",
      " -1.16902127e-02]\n",
      "REQM: 0.34\n",
      "R2: 0.66\n"
     ]
    }
   ],
   "source": [
    "XP = X @ P\n",
    "X = df[['age', 'gender', 'income', 'family_members']].to_numpy()\n",
    "y = df['insurance_benefits'].to_numpy()\n",
    "\n",
    "XP_train, XP_test, y_train, y_test = train_test_split(XP, y, test_size=0.3, random_state=12345)\n",
    "\n",
    "lr = MyLinearRegression()\n",
    "\n",
    "lr.fit(X_train, y_train)\n",
    "print(lr.weights)\n",
    "\n",
    "y_test_pred = lr.predict(X_test)\n",
    "eval_regressor(y_test, y_test_pred)"
   ]
  },
  {
   "cell_type": "markdown",
   "metadata": {},
   "source": [
    "**Conclusões**\n",
    "\n",
    "Observamos que os resultados não diferem."
   ]
  },
  {
   "cell_type": "markdown",
   "metadata": {},
   "source": [
    "# Conclusões"
   ]
  },
  {
   "cell_type": "markdown",
   "metadata": {},
   "source": [
    "**Tarefa 1:** Os dados não dimensionados podem afetar o algoritmo kNN, pois podem ignorar combinações importantes de características. Usando a métrica de distância de Manhattan, foi possível observar que os clientes têm características demográficas semelhantes, mas diferem no número de membros da família. Em contraste, usando a distância euclidiana, os clientes eram semelhantes em renda e idade, mas diferentes em gênero e número de membros da família."
   ]
  },
  {
   "cell_type": "markdown",
   "metadata": {},
   "source": [
    "**Tarefa 2:** Foi criado e testado um modelo de classificação aleatório e um modelo de classificação kNN para os dados originais e dimensionados. A métrica F1 foi calculada para avaliar o desempenho do modelo.\n",
    "\n",
    "Os resultados mostram que o dimensionamento dos recursos tem um impacto significativo no desempenho do Classificador KNN. Quando as características não são escalonadas, a pontuação F1 é bastante baixa e varia muito entre diferentes valores de k, indicando que o modelo não é capaz de distinguir efetivamente entre as duas classes. Já nas características escalonadas, a pontuação F1 é consistentemente 1,0 para todos os valores de k, o que significa que o modelo é capaz de classificar perfeitamente os dados.\n",
    "\n",
    "As matrizes de confusão também mostram que dados não escalonadas apresentam um grande número de falsos positivos e falsos negativos, provavelmente o modelo não é capaz de identificar as características importantes que distinguem as duas classes. O que não é verdade para as características dimensionadas, a matriz de confusão mostra que não há falsos positivos ou falsos negativos.\n",
    "\n",
    "É  importante considerar a escalabilidade das características na etapa de pré-processamento ao usar o KNN classificador, pois ajuda a melhorar o desempenho do modelo."
   ]
  },
  {
   "cell_type": "markdown",
   "metadata": {},
   "source": [
    "**Tarefa 3:** Foi implementada a solução de regressão linear usando operações matriciais e calculo de REQM, que foi encontrado como 0,34. Adicionalmente, o valor de R2 foi de 0,66, indicando que o modelo explica 66% da variância da variável dependente.\n"
   ]
  },
  {
   "cell_type": "markdown",
   "metadata": {},
   "source": [
    "**Tarefa 4:** Com os dados ofuscados com uma matriz P invertível aleatória e recuperada foi possível obter provas analíticas e computacionais de que a transformação não afeta o resultado da Regressão Linear e nem o REQM."
   ]
  },
  {
   "cell_type": "code",
   "execution_count": null,
   "metadata": {},
   "outputs": [],
   "source": []
  }
 ],
 "metadata": {
  "kernelspec": {
   "display_name": "Python 3 (ipykernel)",
   "language": "python",
   "name": "python3"
  },
  "language_info": {
   "codemirror_mode": {
    "name": "ipython",
    "version": 3
   },
   "file_extension": ".py",
   "mimetype": "text/x-python",
   "name": "python",
   "nbconvert_exporter": "python",
   "pygments_lexer": "ipython3",
   "version": "3.9.5"
  },
  "toc": {
   "base_numbering": 1,
   "nav_menu": {},
   "number_sections": true,
   "sideBar": true,
   "skip_h1_title": true,
   "title_cell": "Índice",
   "title_sidebar": "Conteúdos ",
   "toc_cell": false,
   "toc_position": {},
   "toc_section_display": true,
   "toc_window_display": false
  }
 },
 "nbformat": 4,
 "nbformat_minor": 4
}
