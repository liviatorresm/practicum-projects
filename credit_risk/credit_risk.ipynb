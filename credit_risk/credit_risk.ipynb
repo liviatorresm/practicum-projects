{
 "cells": [
  {
   "cell_type": "markdown",
   "metadata": {},
   "source": [
    "# Análise do risco de inadimplência dos mutuários\n",
    "\n",
    "Esta tarefa visa realizar um relatório para a divisão de empréstimos de um banco.\n",
    "No relatório consta em criar uma **pontuação de crédito** de um cliente em potencial. A **contagem de crédito** é usada para avaliar a capacidade de um devedor em potencial de pagar seu empréstimo."
   ]
  },
  {
   "cell_type": "markdown",
   "metadata": {},
   "source": [
    "## Importando bibliotecas e lendo arquivo  <a class=\"anchor\" id=\"importlibrary\"></a>"
   ]
  },
  {
   "cell_type": "code",
   "execution_count": 1,
   "metadata": {},
   "outputs": [],
   "source": [
    "# Importando todas as bibliotecas\n",
    "import pandas as pd\n",
    "import numpy as np\n",
    "\n",
    "# Lendo arquivo com os dados\n",
    "df_emprestimos = pd.read_csv('credit_scoring_eng.csv')"
   ]
  },
  {
   "cell_type": "markdown",
   "metadata": {},
   "source": [
    "## Explorando dos dados <a class=\"anchor\" id=\"explorationdata\"></a>\n",
    "\n",
    "**Descrição dos dados**\n",
    "- `children` - o número de crianças na família\n",
    "- `days_employed` - experiência de trabalho em dias\n",
    "- `dob_years` - idade do cliente em anos\n",
    "- `education` - educação do cliente\n",
    "- `education_id` - identificador de educação\n",
    "- `family_status` - estado civil do cliente\n",
    "- `family_status_id` - identificador de estado civil\n",
    "- `gender` - gênero do cliente\n",
    "- `income_type` - tipo de emprego\n",
    "- `debt` - havia alguma dívida no pagamento do empréstimo\n",
    "- `total_income` - renda mensal\n",
    "- `purpose` - o objetivo de obter um empréstimo"
   ]
  },
  {
   "cell_type": "code",
   "execution_count": 2,
   "metadata": {},
   "outputs": [
    {
     "data": {
      "text/plain": [
       "(21525, 12)"
      ]
     },
     "execution_count": 2,
     "metadata": {},
     "output_type": "execute_result"
    }
   ],
   "source": [
    "# Imprimindo linhas e colunas do conjunto de dados\n",
    "df_emprestimos.shape"
   ]
  },
  {
   "cell_type": "code",
   "execution_count": 3,
   "metadata": {
    "scrolled": true
   },
   "outputs": [
    {
     "data": {
      "text/html": [
       "<div>\n",
       "<style scoped>\n",
       "    .dataframe tbody tr th:only-of-type {\n",
       "        vertical-align: middle;\n",
       "    }\n",
       "\n",
       "    .dataframe tbody tr th {\n",
       "        vertical-align: top;\n",
       "    }\n",
       "\n",
       "    .dataframe thead th {\n",
       "        text-align: right;\n",
       "    }\n",
       "</style>\n",
       "<table border=\"1\" class=\"dataframe\">\n",
       "  <thead>\n",
       "    <tr style=\"text-align: right;\">\n",
       "      <th></th>\n",
       "      <th>children</th>\n",
       "      <th>days_employed</th>\n",
       "      <th>dob_years</th>\n",
       "      <th>education</th>\n",
       "      <th>education_id</th>\n",
       "      <th>family_status</th>\n",
       "      <th>family_status_id</th>\n",
       "      <th>gender</th>\n",
       "      <th>income_type</th>\n",
       "      <th>debt</th>\n",
       "      <th>total_income</th>\n",
       "      <th>purpose</th>\n",
       "    </tr>\n",
       "  </thead>\n",
       "  <tbody>\n",
       "    <tr>\n",
       "      <th>0</th>\n",
       "      <td>1</td>\n",
       "      <td>-8437.673028</td>\n",
       "      <td>42</td>\n",
       "      <td>bachelor's degree</td>\n",
       "      <td>0</td>\n",
       "      <td>married</td>\n",
       "      <td>0</td>\n",
       "      <td>F</td>\n",
       "      <td>employee</td>\n",
       "      <td>0</td>\n",
       "      <td>40620.102</td>\n",
       "      <td>purchase of the house</td>\n",
       "    </tr>\n",
       "    <tr>\n",
       "      <th>1</th>\n",
       "      <td>1</td>\n",
       "      <td>-4024.803754</td>\n",
       "      <td>36</td>\n",
       "      <td>secondary education</td>\n",
       "      <td>1</td>\n",
       "      <td>married</td>\n",
       "      <td>0</td>\n",
       "      <td>F</td>\n",
       "      <td>employee</td>\n",
       "      <td>0</td>\n",
       "      <td>17932.802</td>\n",
       "      <td>car purchase</td>\n",
       "    </tr>\n",
       "    <tr>\n",
       "      <th>2</th>\n",
       "      <td>0</td>\n",
       "      <td>-5623.422610</td>\n",
       "      <td>33</td>\n",
       "      <td>Secondary Education</td>\n",
       "      <td>1</td>\n",
       "      <td>married</td>\n",
       "      <td>0</td>\n",
       "      <td>M</td>\n",
       "      <td>employee</td>\n",
       "      <td>0</td>\n",
       "      <td>23341.752</td>\n",
       "      <td>purchase of the house</td>\n",
       "    </tr>\n",
       "    <tr>\n",
       "      <th>3</th>\n",
       "      <td>3</td>\n",
       "      <td>-4124.747207</td>\n",
       "      <td>32</td>\n",
       "      <td>secondary education</td>\n",
       "      <td>1</td>\n",
       "      <td>married</td>\n",
       "      <td>0</td>\n",
       "      <td>M</td>\n",
       "      <td>employee</td>\n",
       "      <td>0</td>\n",
       "      <td>42820.568</td>\n",
       "      <td>supplementary education</td>\n",
       "    </tr>\n",
       "    <tr>\n",
       "      <th>4</th>\n",
       "      <td>0</td>\n",
       "      <td>340266.072047</td>\n",
       "      <td>53</td>\n",
       "      <td>secondary education</td>\n",
       "      <td>1</td>\n",
       "      <td>civil partnership</td>\n",
       "      <td>1</td>\n",
       "      <td>F</td>\n",
       "      <td>retiree</td>\n",
       "      <td>0</td>\n",
       "      <td>25378.572</td>\n",
       "      <td>to have a wedding</td>\n",
       "    </tr>\n",
       "    <tr>\n",
       "      <th>5</th>\n",
       "      <td>0</td>\n",
       "      <td>-926.185831</td>\n",
       "      <td>27</td>\n",
       "      <td>bachelor's degree</td>\n",
       "      <td>0</td>\n",
       "      <td>civil partnership</td>\n",
       "      <td>1</td>\n",
       "      <td>M</td>\n",
       "      <td>business</td>\n",
       "      <td>0</td>\n",
       "      <td>40922.170</td>\n",
       "      <td>purchase of the house</td>\n",
       "    </tr>\n",
       "    <tr>\n",
       "      <th>6</th>\n",
       "      <td>0</td>\n",
       "      <td>-2879.202052</td>\n",
       "      <td>43</td>\n",
       "      <td>bachelor's degree</td>\n",
       "      <td>0</td>\n",
       "      <td>married</td>\n",
       "      <td>0</td>\n",
       "      <td>F</td>\n",
       "      <td>business</td>\n",
       "      <td>0</td>\n",
       "      <td>38484.156</td>\n",
       "      <td>housing transactions</td>\n",
       "    </tr>\n",
       "    <tr>\n",
       "      <th>7</th>\n",
       "      <td>0</td>\n",
       "      <td>-152.779569</td>\n",
       "      <td>50</td>\n",
       "      <td>SECONDARY EDUCATION</td>\n",
       "      <td>1</td>\n",
       "      <td>married</td>\n",
       "      <td>0</td>\n",
       "      <td>M</td>\n",
       "      <td>employee</td>\n",
       "      <td>0</td>\n",
       "      <td>21731.829</td>\n",
       "      <td>education</td>\n",
       "    </tr>\n",
       "    <tr>\n",
       "      <th>8</th>\n",
       "      <td>2</td>\n",
       "      <td>-6929.865299</td>\n",
       "      <td>35</td>\n",
       "      <td>BACHELOR'S DEGREE</td>\n",
       "      <td>0</td>\n",
       "      <td>civil partnership</td>\n",
       "      <td>1</td>\n",
       "      <td>F</td>\n",
       "      <td>employee</td>\n",
       "      <td>0</td>\n",
       "      <td>15337.093</td>\n",
       "      <td>having a wedding</td>\n",
       "    </tr>\n",
       "    <tr>\n",
       "      <th>9</th>\n",
       "      <td>0</td>\n",
       "      <td>-2188.756445</td>\n",
       "      <td>41</td>\n",
       "      <td>secondary education</td>\n",
       "      <td>1</td>\n",
       "      <td>married</td>\n",
       "      <td>0</td>\n",
       "      <td>M</td>\n",
       "      <td>employee</td>\n",
       "      <td>0</td>\n",
       "      <td>23108.150</td>\n",
       "      <td>purchase of the house for my family</td>\n",
       "    </tr>\n",
       "  </tbody>\n",
       "</table>\n",
       "</div>"
      ],
      "text/plain": [
       "   children  days_employed  dob_years            education  education_id  \\\n",
       "0         1   -8437.673028         42    bachelor's degree             0   \n",
       "1         1   -4024.803754         36  secondary education             1   \n",
       "2         0   -5623.422610         33  Secondary Education             1   \n",
       "3         3   -4124.747207         32  secondary education             1   \n",
       "4         0  340266.072047         53  secondary education             1   \n",
       "5         0    -926.185831         27    bachelor's degree             0   \n",
       "6         0   -2879.202052         43    bachelor's degree             0   \n",
       "7         0    -152.779569         50  SECONDARY EDUCATION             1   \n",
       "8         2   -6929.865299         35    BACHELOR'S DEGREE             0   \n",
       "9         0   -2188.756445         41  secondary education             1   \n",
       "\n",
       "       family_status  family_status_id gender income_type  debt  total_income  \\\n",
       "0            married                 0      F    employee     0     40620.102   \n",
       "1            married                 0      F    employee     0     17932.802   \n",
       "2            married                 0      M    employee     0     23341.752   \n",
       "3            married                 0      M    employee     0     42820.568   \n",
       "4  civil partnership                 1      F     retiree     0     25378.572   \n",
       "5  civil partnership                 1      M    business     0     40922.170   \n",
       "6            married                 0      F    business     0     38484.156   \n",
       "7            married                 0      M    employee     0     21731.829   \n",
       "8  civil partnership                 1      F    employee     0     15337.093   \n",
       "9            married                 0      M    employee     0     23108.150   \n",
       "\n",
       "                               purpose  \n",
       "0                purchase of the house  \n",
       "1                         car purchase  \n",
       "2                purchase of the house  \n",
       "3              supplementary education  \n",
       "4                    to have a wedding  \n",
       "5                purchase of the house  \n",
       "6                 housing transactions  \n",
       "7                            education  \n",
       "8                     having a wedding  \n",
       "9  purchase of the house for my family  "
      ]
     },
     "execution_count": 3,
     "metadata": {},
     "output_type": "execute_result"
    }
   ],
   "source": [
    "# Exibindo as primeiras 10 linhas\n",
    "\n",
    "df_emprestimos.head(10)"
   ]
  },
  {
   "cell_type": "markdown",
   "metadata": {},
   "source": [
    "A principio observo a variável categórica \"education\" com escrita inconsistente (letras maiúsculas e minúsculas). Talvez seja necessário criar categorias para coluna purpose para testar as variáveis."
   ]
  },
  {
   "cell_type": "code",
   "execution_count": 4,
   "metadata": {
    "scrolled": false
   },
   "outputs": [
    {
     "name": "stdout",
     "output_type": "stream",
     "text": [
      "<class 'pandas.core.frame.DataFrame'>\n",
      "RangeIndex: 21525 entries, 0 to 21524\n",
      "Data columns (total 12 columns):\n",
      " #   Column            Non-Null Count  Dtype  \n",
      "---  ------            --------------  -----  \n",
      " 0   children          21525 non-null  int64  \n",
      " 1   days_employed     19351 non-null  float64\n",
      " 2   dob_years         21525 non-null  int64  \n",
      " 3   education         21525 non-null  object \n",
      " 4   education_id      21525 non-null  int64  \n",
      " 5   family_status     21525 non-null  object \n",
      " 6   family_status_id  21525 non-null  int64  \n",
      " 7   gender            21525 non-null  object \n",
      " 8   income_type       21525 non-null  object \n",
      " 9   debt              21525 non-null  int64  \n",
      " 10  total_income      19351 non-null  float64\n",
      " 11  purpose           21525 non-null  object \n",
      "dtypes: float64(2), int64(5), object(5)\n",
      "memory usage: 2.0+ MB\n"
     ]
    }
   ],
   "source": [
    "# Informações sobre dados\n",
    "df_emprestimos.info()"
   ]
  },
  {
   "cell_type": "markdown",
   "metadata": {},
   "source": [
    "valores ausentes: days_employed, total_income"
   ]
  },
  {
   "cell_type": "markdown",
   "metadata": {},
   "source": [
    "Ao que parece, as pessoas que não possuem informações na coluna \"days_employed\" também não possuem informações na coluna \"total_income\". O ideal seria reportar o problema e descobrir o motivo dos dados ausentes junto as demais pessoas envolvidas no projeto. No entanto, é possível ver relações entre as colunas, como por emxemplo 'days_employed' e 'income_type', 'dob_years', etc., e descobrir como preencher os dados faltantes."
   ]
  },
  {
   "cell_type": "markdown",
   "metadata": {},
   "source": [
    "## Lidando com valores ausentes <a class=\"anchor\" id=\"missings\"></a>"
   ]
  },
  {
   "cell_type": "code",
   "execution_count": 5,
   "metadata": {
    "scrolled": true
   },
   "outputs": [
    {
     "data": {
      "text/plain": [
       "children               0\n",
       "days_employed       2174\n",
       "dob_years              0\n",
       "education              0\n",
       "education_id           0\n",
       "family_status          0\n",
       "family_status_id       0\n",
       "gender                 0\n",
       "income_type            0\n",
       "debt                   0\n",
       "total_income        2174\n",
       "purpose                0\n",
       "dtype: int64"
      ]
     },
     "execution_count": 5,
     "metadata": {},
     "output_type": "execute_result"
    }
   ],
   "source": [
    "# Verificando valores ausentes\n",
    "df_emprestimos.isna().sum()"
   ]
  },
  {
   "cell_type": "code",
   "execution_count": 6,
   "metadata": {
    "scrolled": true
   },
   "outputs": [
    {
     "data": {
      "text/plain": [
       "children            0.000000\n",
       "days_employed       0.100999\n",
       "dob_years           0.000000\n",
       "education           0.000000\n",
       "education_id        0.000000\n",
       "family_status       0.000000\n",
       "family_status_id    0.000000\n",
       "gender              0.000000\n",
       "income_type         0.000000\n",
       "debt                0.000000\n",
       "total_income        0.100999\n",
       "purpose             0.000000\n",
       "dtype: float64"
      ]
     },
     "execution_count": 6,
     "metadata": {},
     "output_type": "execute_result"
    }
   ],
   "source": [
    "df_emprestimos.isna().mean()"
   ]
  },
  {
   "cell_type": "code",
   "execution_count": 7,
   "metadata": {
    "scrolled": true
   },
   "outputs": [
    {
     "data": {
      "text/html": [
       "<div>\n",
       "<style scoped>\n",
       "    .dataframe tbody tr th:only-of-type {\n",
       "        vertical-align: middle;\n",
       "    }\n",
       "\n",
       "    .dataframe tbody tr th {\n",
       "        vertical-align: top;\n",
       "    }\n",
       "\n",
       "    .dataframe thead th {\n",
       "        text-align: right;\n",
       "    }\n",
       "</style>\n",
       "<table border=\"1\" class=\"dataframe\">\n",
       "  <thead>\n",
       "    <tr style=\"text-align: right;\">\n",
       "      <th></th>\n",
       "      <th>children</th>\n",
       "      <th>days_employed</th>\n",
       "      <th>dob_years</th>\n",
       "      <th>education</th>\n",
       "      <th>education_id</th>\n",
       "      <th>family_status</th>\n",
       "      <th>family_status_id</th>\n",
       "      <th>gender</th>\n",
       "      <th>income_type</th>\n",
       "      <th>debt</th>\n",
       "      <th>total_income</th>\n",
       "      <th>purpose</th>\n",
       "    </tr>\n",
       "  </thead>\n",
       "  <tbody>\n",
       "    <tr>\n",
       "      <th>12</th>\n",
       "      <td>0</td>\n",
       "      <td>NaN</td>\n",
       "      <td>65</td>\n",
       "      <td>secondary education</td>\n",
       "      <td>1</td>\n",
       "      <td>civil partnership</td>\n",
       "      <td>1</td>\n",
       "      <td>M</td>\n",
       "      <td>retiree</td>\n",
       "      <td>0</td>\n",
       "      <td>NaN</td>\n",
       "      <td>to have a wedding</td>\n",
       "    </tr>\n",
       "    <tr>\n",
       "      <th>26</th>\n",
       "      <td>0</td>\n",
       "      <td>NaN</td>\n",
       "      <td>41</td>\n",
       "      <td>secondary education</td>\n",
       "      <td>1</td>\n",
       "      <td>married</td>\n",
       "      <td>0</td>\n",
       "      <td>M</td>\n",
       "      <td>civil servant</td>\n",
       "      <td>0</td>\n",
       "      <td>NaN</td>\n",
       "      <td>education</td>\n",
       "    </tr>\n",
       "    <tr>\n",
       "      <th>29</th>\n",
       "      <td>0</td>\n",
       "      <td>NaN</td>\n",
       "      <td>63</td>\n",
       "      <td>secondary education</td>\n",
       "      <td>1</td>\n",
       "      <td>unmarried</td>\n",
       "      <td>4</td>\n",
       "      <td>F</td>\n",
       "      <td>retiree</td>\n",
       "      <td>0</td>\n",
       "      <td>NaN</td>\n",
       "      <td>building a real estate</td>\n",
       "    </tr>\n",
       "    <tr>\n",
       "      <th>41</th>\n",
       "      <td>0</td>\n",
       "      <td>NaN</td>\n",
       "      <td>50</td>\n",
       "      <td>secondary education</td>\n",
       "      <td>1</td>\n",
       "      <td>married</td>\n",
       "      <td>0</td>\n",
       "      <td>F</td>\n",
       "      <td>civil servant</td>\n",
       "      <td>0</td>\n",
       "      <td>NaN</td>\n",
       "      <td>second-hand car purchase</td>\n",
       "    </tr>\n",
       "    <tr>\n",
       "      <th>55</th>\n",
       "      <td>0</td>\n",
       "      <td>NaN</td>\n",
       "      <td>54</td>\n",
       "      <td>secondary education</td>\n",
       "      <td>1</td>\n",
       "      <td>civil partnership</td>\n",
       "      <td>1</td>\n",
       "      <td>F</td>\n",
       "      <td>retiree</td>\n",
       "      <td>1</td>\n",
       "      <td>NaN</td>\n",
       "      <td>to have a wedding</td>\n",
       "    </tr>\n",
       "    <tr>\n",
       "      <th>...</th>\n",
       "      <td>...</td>\n",
       "      <td>...</td>\n",
       "      <td>...</td>\n",
       "      <td>...</td>\n",
       "      <td>...</td>\n",
       "      <td>...</td>\n",
       "      <td>...</td>\n",
       "      <td>...</td>\n",
       "      <td>...</td>\n",
       "      <td>...</td>\n",
       "      <td>...</td>\n",
       "      <td>...</td>\n",
       "    </tr>\n",
       "    <tr>\n",
       "      <th>21489</th>\n",
       "      <td>2</td>\n",
       "      <td>NaN</td>\n",
       "      <td>47</td>\n",
       "      <td>Secondary Education</td>\n",
       "      <td>1</td>\n",
       "      <td>married</td>\n",
       "      <td>0</td>\n",
       "      <td>M</td>\n",
       "      <td>business</td>\n",
       "      <td>0</td>\n",
       "      <td>NaN</td>\n",
       "      <td>purchase of a car</td>\n",
       "    </tr>\n",
       "    <tr>\n",
       "      <th>21495</th>\n",
       "      <td>1</td>\n",
       "      <td>NaN</td>\n",
       "      <td>50</td>\n",
       "      <td>secondary education</td>\n",
       "      <td>1</td>\n",
       "      <td>civil partnership</td>\n",
       "      <td>1</td>\n",
       "      <td>F</td>\n",
       "      <td>employee</td>\n",
       "      <td>0</td>\n",
       "      <td>NaN</td>\n",
       "      <td>wedding ceremony</td>\n",
       "    </tr>\n",
       "    <tr>\n",
       "      <th>21497</th>\n",
       "      <td>0</td>\n",
       "      <td>NaN</td>\n",
       "      <td>48</td>\n",
       "      <td>BACHELOR'S DEGREE</td>\n",
       "      <td>0</td>\n",
       "      <td>married</td>\n",
       "      <td>0</td>\n",
       "      <td>F</td>\n",
       "      <td>business</td>\n",
       "      <td>0</td>\n",
       "      <td>NaN</td>\n",
       "      <td>building a property</td>\n",
       "    </tr>\n",
       "    <tr>\n",
       "      <th>21502</th>\n",
       "      <td>1</td>\n",
       "      <td>NaN</td>\n",
       "      <td>42</td>\n",
       "      <td>secondary education</td>\n",
       "      <td>1</td>\n",
       "      <td>married</td>\n",
       "      <td>0</td>\n",
       "      <td>F</td>\n",
       "      <td>employee</td>\n",
       "      <td>0</td>\n",
       "      <td>NaN</td>\n",
       "      <td>building a real estate</td>\n",
       "    </tr>\n",
       "    <tr>\n",
       "      <th>21510</th>\n",
       "      <td>2</td>\n",
       "      <td>NaN</td>\n",
       "      <td>28</td>\n",
       "      <td>secondary education</td>\n",
       "      <td>1</td>\n",
       "      <td>married</td>\n",
       "      <td>0</td>\n",
       "      <td>F</td>\n",
       "      <td>employee</td>\n",
       "      <td>0</td>\n",
       "      <td>NaN</td>\n",
       "      <td>car purchase</td>\n",
       "    </tr>\n",
       "  </tbody>\n",
       "</table>\n",
       "<p>2174 rows × 12 columns</p>\n",
       "</div>"
      ],
      "text/plain": [
       "       children  days_employed  dob_years            education  education_id  \\\n",
       "12            0            NaN         65  secondary education             1   \n",
       "26            0            NaN         41  secondary education             1   \n",
       "29            0            NaN         63  secondary education             1   \n",
       "41            0            NaN         50  secondary education             1   \n",
       "55            0            NaN         54  secondary education             1   \n",
       "...         ...            ...        ...                  ...           ...   \n",
       "21489         2            NaN         47  Secondary Education             1   \n",
       "21495         1            NaN         50  secondary education             1   \n",
       "21497         0            NaN         48    BACHELOR'S DEGREE             0   \n",
       "21502         1            NaN         42  secondary education             1   \n",
       "21510         2            NaN         28  secondary education             1   \n",
       "\n",
       "           family_status  family_status_id gender    income_type  debt  \\\n",
       "12     civil partnership                 1      M        retiree     0   \n",
       "26               married                 0      M  civil servant     0   \n",
       "29             unmarried                 4      F        retiree     0   \n",
       "41               married                 0      F  civil servant     0   \n",
       "55     civil partnership                 1      F        retiree     1   \n",
       "...                  ...               ...    ...            ...   ...   \n",
       "21489            married                 0      M       business     0   \n",
       "21495  civil partnership                 1      F       employee     0   \n",
       "21497            married                 0      F       business     0   \n",
       "21502            married                 0      F       employee     0   \n",
       "21510            married                 0      F       employee     0   \n",
       "\n",
       "       total_income                   purpose  \n",
       "12              NaN         to have a wedding  \n",
       "26              NaN                 education  \n",
       "29              NaN    building a real estate  \n",
       "41              NaN  second-hand car purchase  \n",
       "55              NaN         to have a wedding  \n",
       "...             ...                       ...  \n",
       "21489           NaN         purchase of a car  \n",
       "21495           NaN          wedding ceremony  \n",
       "21497           NaN       building a property  \n",
       "21502           NaN    building a real estate  \n",
       "21510           NaN              car purchase  \n",
       "\n",
       "[2174 rows x 12 columns]"
      ]
     },
     "execution_count": 7,
     "metadata": {},
     "output_type": "execute_result"
    }
   ],
   "source": [
    "#Filtrando primeira colunas com valores ausentes\n",
    "df_emprestimos[df_emprestimos['days_employed'].isna()]"
   ]
  },
  {
   "cell_type": "markdown",
   "metadata": {},
   "source": [
    "## **Conclusão intermediária**\n",
    "Ao filtrar o dataframe pelos dados ausentes da coluna 'days_employed', vemos que número de linhas na tabela filtrada corresponde ao número de valores ausentes, além disso é possível pensar em padrões que podem influenciar os dados faltantes.\n",
    "\n",
    "A seguir irei investigar os padrões que podem influenciar o dados faltantes nas duas colunas 'days_employed' e 'total_income' e se há alguma dependencia entre elas."
   ]
  },
  {
   "cell_type": "code",
   "execution_count": 8,
   "metadata": {},
   "outputs": [
    {
     "data": {
      "text/html": [
       "<div>\n",
       "<style scoped>\n",
       "    .dataframe tbody tr th:only-of-type {\n",
       "        vertical-align: middle;\n",
       "    }\n",
       "\n",
       "    .dataframe tbody tr th {\n",
       "        vertical-align: top;\n",
       "    }\n",
       "\n",
       "    .dataframe thead th {\n",
       "        text-align: right;\n",
       "    }\n",
       "</style>\n",
       "<table border=\"1\" class=\"dataframe\">\n",
       "  <thead>\n",
       "    <tr style=\"text-align: right;\">\n",
       "      <th></th>\n",
       "      <th>children</th>\n",
       "      <th>days_employed</th>\n",
       "      <th>dob_years</th>\n",
       "      <th>education</th>\n",
       "      <th>education_id</th>\n",
       "      <th>family_status</th>\n",
       "      <th>family_status_id</th>\n",
       "      <th>gender</th>\n",
       "      <th>income_type</th>\n",
       "      <th>debt</th>\n",
       "      <th>total_income</th>\n",
       "      <th>purpose</th>\n",
       "    </tr>\n",
       "  </thead>\n",
       "  <tbody>\n",
       "    <tr>\n",
       "      <th>12</th>\n",
       "      <td>0</td>\n",
       "      <td>NaN</td>\n",
       "      <td>65</td>\n",
       "      <td>secondary education</td>\n",
       "      <td>1</td>\n",
       "      <td>civil partnership</td>\n",
       "      <td>1</td>\n",
       "      <td>M</td>\n",
       "      <td>retiree</td>\n",
       "      <td>0</td>\n",
       "      <td>NaN</td>\n",
       "      <td>to have a wedding</td>\n",
       "    </tr>\n",
       "    <tr>\n",
       "      <th>26</th>\n",
       "      <td>0</td>\n",
       "      <td>NaN</td>\n",
       "      <td>41</td>\n",
       "      <td>secondary education</td>\n",
       "      <td>1</td>\n",
       "      <td>married</td>\n",
       "      <td>0</td>\n",
       "      <td>M</td>\n",
       "      <td>civil servant</td>\n",
       "      <td>0</td>\n",
       "      <td>NaN</td>\n",
       "      <td>education</td>\n",
       "    </tr>\n",
       "    <tr>\n",
       "      <th>29</th>\n",
       "      <td>0</td>\n",
       "      <td>NaN</td>\n",
       "      <td>63</td>\n",
       "      <td>secondary education</td>\n",
       "      <td>1</td>\n",
       "      <td>unmarried</td>\n",
       "      <td>4</td>\n",
       "      <td>F</td>\n",
       "      <td>retiree</td>\n",
       "      <td>0</td>\n",
       "      <td>NaN</td>\n",
       "      <td>building a real estate</td>\n",
       "    </tr>\n",
       "    <tr>\n",
       "      <th>41</th>\n",
       "      <td>0</td>\n",
       "      <td>NaN</td>\n",
       "      <td>50</td>\n",
       "      <td>secondary education</td>\n",
       "      <td>1</td>\n",
       "      <td>married</td>\n",
       "      <td>0</td>\n",
       "      <td>F</td>\n",
       "      <td>civil servant</td>\n",
       "      <td>0</td>\n",
       "      <td>NaN</td>\n",
       "      <td>second-hand car purchase</td>\n",
       "    </tr>\n",
       "    <tr>\n",
       "      <th>55</th>\n",
       "      <td>0</td>\n",
       "      <td>NaN</td>\n",
       "      <td>54</td>\n",
       "      <td>secondary education</td>\n",
       "      <td>1</td>\n",
       "      <td>civil partnership</td>\n",
       "      <td>1</td>\n",
       "      <td>F</td>\n",
       "      <td>retiree</td>\n",
       "      <td>1</td>\n",
       "      <td>NaN</td>\n",
       "      <td>to have a wedding</td>\n",
       "    </tr>\n",
       "    <tr>\n",
       "      <th>...</th>\n",
       "      <td>...</td>\n",
       "      <td>...</td>\n",
       "      <td>...</td>\n",
       "      <td>...</td>\n",
       "      <td>...</td>\n",
       "      <td>...</td>\n",
       "      <td>...</td>\n",
       "      <td>...</td>\n",
       "      <td>...</td>\n",
       "      <td>...</td>\n",
       "      <td>...</td>\n",
       "      <td>...</td>\n",
       "    </tr>\n",
       "    <tr>\n",
       "      <th>21489</th>\n",
       "      <td>2</td>\n",
       "      <td>NaN</td>\n",
       "      <td>47</td>\n",
       "      <td>Secondary Education</td>\n",
       "      <td>1</td>\n",
       "      <td>married</td>\n",
       "      <td>0</td>\n",
       "      <td>M</td>\n",
       "      <td>business</td>\n",
       "      <td>0</td>\n",
       "      <td>NaN</td>\n",
       "      <td>purchase of a car</td>\n",
       "    </tr>\n",
       "    <tr>\n",
       "      <th>21495</th>\n",
       "      <td>1</td>\n",
       "      <td>NaN</td>\n",
       "      <td>50</td>\n",
       "      <td>secondary education</td>\n",
       "      <td>1</td>\n",
       "      <td>civil partnership</td>\n",
       "      <td>1</td>\n",
       "      <td>F</td>\n",
       "      <td>employee</td>\n",
       "      <td>0</td>\n",
       "      <td>NaN</td>\n",
       "      <td>wedding ceremony</td>\n",
       "    </tr>\n",
       "    <tr>\n",
       "      <th>21497</th>\n",
       "      <td>0</td>\n",
       "      <td>NaN</td>\n",
       "      <td>48</td>\n",
       "      <td>BACHELOR'S DEGREE</td>\n",
       "      <td>0</td>\n",
       "      <td>married</td>\n",
       "      <td>0</td>\n",
       "      <td>F</td>\n",
       "      <td>business</td>\n",
       "      <td>0</td>\n",
       "      <td>NaN</td>\n",
       "      <td>building a property</td>\n",
       "    </tr>\n",
       "    <tr>\n",
       "      <th>21502</th>\n",
       "      <td>1</td>\n",
       "      <td>NaN</td>\n",
       "      <td>42</td>\n",
       "      <td>secondary education</td>\n",
       "      <td>1</td>\n",
       "      <td>married</td>\n",
       "      <td>0</td>\n",
       "      <td>F</td>\n",
       "      <td>employee</td>\n",
       "      <td>0</td>\n",
       "      <td>NaN</td>\n",
       "      <td>building a real estate</td>\n",
       "    </tr>\n",
       "    <tr>\n",
       "      <th>21510</th>\n",
       "      <td>2</td>\n",
       "      <td>NaN</td>\n",
       "      <td>28</td>\n",
       "      <td>secondary education</td>\n",
       "      <td>1</td>\n",
       "      <td>married</td>\n",
       "      <td>0</td>\n",
       "      <td>F</td>\n",
       "      <td>employee</td>\n",
       "      <td>0</td>\n",
       "      <td>NaN</td>\n",
       "      <td>car purchase</td>\n",
       "    </tr>\n",
       "  </tbody>\n",
       "</table>\n",
       "<p>2174 rows × 12 columns</p>\n",
       "</div>"
      ],
      "text/plain": [
       "       children  days_employed  dob_years            education  education_id  \\\n",
       "12            0            NaN         65  secondary education             1   \n",
       "26            0            NaN         41  secondary education             1   \n",
       "29            0            NaN         63  secondary education             1   \n",
       "41            0            NaN         50  secondary education             1   \n",
       "55            0            NaN         54  secondary education             1   \n",
       "...         ...            ...        ...                  ...           ...   \n",
       "21489         2            NaN         47  Secondary Education             1   \n",
       "21495         1            NaN         50  secondary education             1   \n",
       "21497         0            NaN         48    BACHELOR'S DEGREE             0   \n",
       "21502         1            NaN         42  secondary education             1   \n",
       "21510         2            NaN         28  secondary education             1   \n",
       "\n",
       "           family_status  family_status_id gender    income_type  debt  \\\n",
       "12     civil partnership                 1      M        retiree     0   \n",
       "26               married                 0      M  civil servant     0   \n",
       "29             unmarried                 4      F        retiree     0   \n",
       "41               married                 0      F  civil servant     0   \n",
       "55     civil partnership                 1      F        retiree     1   \n",
       "...                  ...               ...    ...            ...   ...   \n",
       "21489            married                 0      M       business     0   \n",
       "21495  civil partnership                 1      F       employee     0   \n",
       "21497            married                 0      F       business     0   \n",
       "21502            married                 0      F       employee     0   \n",
       "21510            married                 0      F       employee     0   \n",
       "\n",
       "       total_income                   purpose  \n",
       "12              NaN         to have a wedding  \n",
       "26              NaN                 education  \n",
       "29              NaN    building a real estate  \n",
       "41              NaN  second-hand car purchase  \n",
       "55              NaN         to have a wedding  \n",
       "...             ...                       ...  \n",
       "21489           NaN         purchase of a car  \n",
       "21495           NaN          wedding ceremony  \n",
       "21497           NaN       building a property  \n",
       "21502           NaN    building a real estate  \n",
       "21510           NaN              car purchase  \n",
       "\n",
       "[2174 rows x 12 columns]"
      ]
     },
     "execution_count": 8,
     "metadata": {},
     "output_type": "execute_result"
    }
   ],
   "source": [
    "# Ivestigando clientes que não possuem dados sobre as características identificadas e a coluna com os valores ausentes\n",
    "\n",
    "df_emprestimos[df_emprestimos['days_employed'].isna()]"
   ]
  },
  {
   "cell_type": "code",
   "execution_count": 9,
   "metadata": {},
   "outputs": [
    {
     "data": {
      "text/html": [
       "<div>\n",
       "<style scoped>\n",
       "    .dataframe tbody tr th:only-of-type {\n",
       "        vertical-align: middle;\n",
       "    }\n",
       "\n",
       "    .dataframe tbody tr th {\n",
       "        vertical-align: top;\n",
       "    }\n",
       "\n",
       "    .dataframe thead th {\n",
       "        text-align: right;\n",
       "    }\n",
       "</style>\n",
       "<table border=\"1\" class=\"dataframe\">\n",
       "  <thead>\n",
       "    <tr style=\"text-align: right;\">\n",
       "      <th></th>\n",
       "      <th>children</th>\n",
       "      <th>days_employed</th>\n",
       "      <th>dob_years</th>\n",
       "      <th>education_id</th>\n",
       "      <th>family_status_id</th>\n",
       "      <th>debt</th>\n",
       "      <th>total_income</th>\n",
       "    </tr>\n",
       "  </thead>\n",
       "  <tbody>\n",
       "    <tr>\n",
       "      <th>count</th>\n",
       "      <td>2174.000000</td>\n",
       "      <td>0.0</td>\n",
       "      <td>2174.000000</td>\n",
       "      <td>2174.000000</td>\n",
       "      <td>2174.000000</td>\n",
       "      <td>2174.000000</td>\n",
       "      <td>0.0</td>\n",
       "    </tr>\n",
       "    <tr>\n",
       "      <th>mean</th>\n",
       "      <td>0.552438</td>\n",
       "      <td>NaN</td>\n",
       "      <td>43.632015</td>\n",
       "      <td>0.800828</td>\n",
       "      <td>0.975161</td>\n",
       "      <td>0.078197</td>\n",
       "      <td>NaN</td>\n",
       "    </tr>\n",
       "    <tr>\n",
       "      <th>std</th>\n",
       "      <td>1.469356</td>\n",
       "      <td>NaN</td>\n",
       "      <td>12.531481</td>\n",
       "      <td>0.530157</td>\n",
       "      <td>1.418220</td>\n",
       "      <td>0.268543</td>\n",
       "      <td>NaN</td>\n",
       "    </tr>\n",
       "    <tr>\n",
       "      <th>min</th>\n",
       "      <td>-1.000000</td>\n",
       "      <td>NaN</td>\n",
       "      <td>0.000000</td>\n",
       "      <td>0.000000</td>\n",
       "      <td>0.000000</td>\n",
       "      <td>0.000000</td>\n",
       "      <td>NaN</td>\n",
       "    </tr>\n",
       "    <tr>\n",
       "      <th>25%</th>\n",
       "      <td>0.000000</td>\n",
       "      <td>NaN</td>\n",
       "      <td>34.000000</td>\n",
       "      <td>0.250000</td>\n",
       "      <td>0.000000</td>\n",
       "      <td>0.000000</td>\n",
       "      <td>NaN</td>\n",
       "    </tr>\n",
       "    <tr>\n",
       "      <th>50%</th>\n",
       "      <td>0.000000</td>\n",
       "      <td>NaN</td>\n",
       "      <td>43.000000</td>\n",
       "      <td>1.000000</td>\n",
       "      <td>0.000000</td>\n",
       "      <td>0.000000</td>\n",
       "      <td>NaN</td>\n",
       "    </tr>\n",
       "    <tr>\n",
       "      <th>75%</th>\n",
       "      <td>1.000000</td>\n",
       "      <td>NaN</td>\n",
       "      <td>54.000000</td>\n",
       "      <td>1.000000</td>\n",
       "      <td>1.000000</td>\n",
       "      <td>0.000000</td>\n",
       "      <td>NaN</td>\n",
       "    </tr>\n",
       "    <tr>\n",
       "      <th>max</th>\n",
       "      <td>20.000000</td>\n",
       "      <td>NaN</td>\n",
       "      <td>73.000000</td>\n",
       "      <td>3.000000</td>\n",
       "      <td>4.000000</td>\n",
       "      <td>1.000000</td>\n",
       "      <td>NaN</td>\n",
       "    </tr>\n",
       "  </tbody>\n",
       "</table>\n",
       "</div>"
      ],
      "text/plain": [
       "          children  days_employed    dob_years  education_id  \\\n",
       "count  2174.000000            0.0  2174.000000   2174.000000   \n",
       "mean      0.552438            NaN    43.632015      0.800828   \n",
       "std       1.469356            NaN    12.531481      0.530157   \n",
       "min      -1.000000            NaN     0.000000      0.000000   \n",
       "25%       0.000000            NaN    34.000000      0.250000   \n",
       "50%       0.000000            NaN    43.000000      1.000000   \n",
       "75%       1.000000            NaN    54.000000      1.000000   \n",
       "max      20.000000            NaN    73.000000      3.000000   \n",
       "\n",
       "       family_status_id         debt  total_income  \n",
       "count       2174.000000  2174.000000           0.0  \n",
       "mean           0.975161     0.078197           NaN  \n",
       "std            1.418220     0.268543           NaN  \n",
       "min            0.000000     0.000000           NaN  \n",
       "25%            0.000000     0.000000           NaN  \n",
       "50%            0.000000     0.000000           NaN  \n",
       "75%            1.000000     0.000000           NaN  \n",
       "max            4.000000     1.000000           NaN  "
      ]
     },
     "execution_count": 9,
     "metadata": {},
     "output_type": "execute_result"
    }
   ],
   "source": [
    "# Verificando a distribuição desses dados\n",
    "df_emprestimos[df_emprestimos['days_employed'].isna()].describe()\n"
   ]
  },
  {
   "cell_type": "code",
   "execution_count": 10,
   "metadata": {},
   "outputs": [
    {
     "data": {
      "text/html": [
       "<div>\n",
       "<style scoped>\n",
       "    .dataframe tbody tr th:only-of-type {\n",
       "        vertical-align: middle;\n",
       "    }\n",
       "\n",
       "    .dataframe tbody tr th {\n",
       "        vertical-align: top;\n",
       "    }\n",
       "\n",
       "    .dataframe thead th {\n",
       "        text-align: right;\n",
       "    }\n",
       "</style>\n",
       "<table border=\"1\" class=\"dataframe\">\n",
       "  <thead>\n",
       "    <tr style=\"text-align: right;\">\n",
       "      <th></th>\n",
       "      <th>children</th>\n",
       "      <th>days_employed</th>\n",
       "      <th>dob_years</th>\n",
       "      <th>education_id</th>\n",
       "      <th>family_status_id</th>\n",
       "      <th>debt</th>\n",
       "      <th>total_income</th>\n",
       "    </tr>\n",
       "  </thead>\n",
       "  <tbody>\n",
       "    <tr>\n",
       "      <th>count</th>\n",
       "      <td>21525.000000</td>\n",
       "      <td>19351.000000</td>\n",
       "      <td>21525.000000</td>\n",
       "      <td>21525.000000</td>\n",
       "      <td>21525.000000</td>\n",
       "      <td>21525.000000</td>\n",
       "      <td>19351.000000</td>\n",
       "    </tr>\n",
       "    <tr>\n",
       "      <th>mean</th>\n",
       "      <td>0.538908</td>\n",
       "      <td>63046.497661</td>\n",
       "      <td>43.293380</td>\n",
       "      <td>0.817236</td>\n",
       "      <td>0.972544</td>\n",
       "      <td>0.080883</td>\n",
       "      <td>26787.568355</td>\n",
       "    </tr>\n",
       "    <tr>\n",
       "      <th>std</th>\n",
       "      <td>1.381587</td>\n",
       "      <td>140827.311974</td>\n",
       "      <td>12.574584</td>\n",
       "      <td>0.548138</td>\n",
       "      <td>1.420324</td>\n",
       "      <td>0.272661</td>\n",
       "      <td>16475.450632</td>\n",
       "    </tr>\n",
       "    <tr>\n",
       "      <th>min</th>\n",
       "      <td>-1.000000</td>\n",
       "      <td>-18388.949901</td>\n",
       "      <td>0.000000</td>\n",
       "      <td>0.000000</td>\n",
       "      <td>0.000000</td>\n",
       "      <td>0.000000</td>\n",
       "      <td>3306.762000</td>\n",
       "    </tr>\n",
       "    <tr>\n",
       "      <th>25%</th>\n",
       "      <td>0.000000</td>\n",
       "      <td>-2747.423625</td>\n",
       "      <td>33.000000</td>\n",
       "      <td>1.000000</td>\n",
       "      <td>0.000000</td>\n",
       "      <td>0.000000</td>\n",
       "      <td>16488.504500</td>\n",
       "    </tr>\n",
       "    <tr>\n",
       "      <th>50%</th>\n",
       "      <td>0.000000</td>\n",
       "      <td>-1203.369529</td>\n",
       "      <td>42.000000</td>\n",
       "      <td>1.000000</td>\n",
       "      <td>0.000000</td>\n",
       "      <td>0.000000</td>\n",
       "      <td>23202.870000</td>\n",
       "    </tr>\n",
       "    <tr>\n",
       "      <th>75%</th>\n",
       "      <td>1.000000</td>\n",
       "      <td>-291.095954</td>\n",
       "      <td>53.000000</td>\n",
       "      <td>1.000000</td>\n",
       "      <td>1.000000</td>\n",
       "      <td>0.000000</td>\n",
       "      <td>32549.611000</td>\n",
       "    </tr>\n",
       "    <tr>\n",
       "      <th>max</th>\n",
       "      <td>20.000000</td>\n",
       "      <td>401755.400475</td>\n",
       "      <td>75.000000</td>\n",
       "      <td>4.000000</td>\n",
       "      <td>4.000000</td>\n",
       "      <td>1.000000</td>\n",
       "      <td>362496.645000</td>\n",
       "    </tr>\n",
       "  </tbody>\n",
       "</table>\n",
       "</div>"
      ],
      "text/plain": [
       "           children  days_employed     dob_years  education_id  \\\n",
       "count  21525.000000   19351.000000  21525.000000  21525.000000   \n",
       "mean       0.538908   63046.497661     43.293380      0.817236   \n",
       "std        1.381587  140827.311974     12.574584      0.548138   \n",
       "min       -1.000000  -18388.949901      0.000000      0.000000   \n",
       "25%        0.000000   -2747.423625     33.000000      1.000000   \n",
       "50%        0.000000   -1203.369529     42.000000      1.000000   \n",
       "75%        1.000000    -291.095954     53.000000      1.000000   \n",
       "max       20.000000  401755.400475     75.000000      4.000000   \n",
       "\n",
       "       family_status_id          debt   total_income  \n",
       "count      21525.000000  21525.000000   19351.000000  \n",
       "mean           0.972544      0.080883   26787.568355  \n",
       "std            1.420324      0.272661   16475.450632  \n",
       "min            0.000000      0.000000    3306.762000  \n",
       "25%            0.000000      0.000000   16488.504500  \n",
       "50%            0.000000      0.000000   23202.870000  \n",
       "75%            1.000000      0.000000   32549.611000  \n",
       "max            4.000000      1.000000  362496.645000  "
      ]
     },
     "execution_count": 10,
     "metadata": {},
     "output_type": "execute_result"
    }
   ],
   "source": [
    "# Verificar a distribuição em todo o conjunto de dados\n",
    "df_emprestimos.describe()"
   ]
  },
  {
   "cell_type": "markdown",
   "metadata": {},
   "source": [
    "**Conclusão intermediária**\n",
    "\n",
    "A distribuição no conjunto de dados original é semelhante à distribuição da tabela filtrada. Talvez o tipo de renda pode influenciar nos valores ausentes.\n"
   ]
  },
  {
   "cell_type": "code",
   "execution_count": 11,
   "metadata": {},
   "outputs": [
    {
     "data": {
      "text/plain": [
       "employee         1105\n",
       "business          508\n",
       "retiree           413\n",
       "civil servant     147\n",
       "entrepreneur        1\n",
       "Name: income_type, dtype: int64"
      ]
     },
     "execution_count": 11,
     "metadata": {},
     "output_type": "execute_result"
    }
   ],
   "source": [
    "# Verifique outros motivos e padrões que possam levar a valores ausentes\n",
    "df_emprestimos[df_emprestimos['days_employed'].isna()]['income_type'].value_counts()\n"
   ]
  },
  {
   "cell_type": "markdown",
   "metadata": {},
   "source": [
    "**Conclusões**\n",
    "\n",
    "Os dados faltantes parecem ser frutos de algum erro de coleta/preenchimento dos dados, tratando-se de dados aleatórios. Por esse motivo irei preenche-los com média geral ou mediana, em casos de caso de valores extremos. "
   ]
  },
  {
   "cell_type": "markdown",
   "metadata": {},
   "source": [
    "## Transformação de dados"
   ]
  },
  {
   "cell_type": "markdown",
   "metadata": {},
   "source": [
    "### Procurando por dados inconsistentes para corrigi-los"
   ]
  },
  {
   "cell_type": "code",
   "execution_count": 12,
   "metadata": {},
   "outputs": [
    {
     "data": {
      "text/plain": [
       "array([\"bachelor's degree\", 'secondary education', 'Secondary Education',\n",
       "       'SECONDARY EDUCATION', \"BACHELOR'S DEGREE\", 'some college',\n",
       "       'primary education', \"Bachelor's Degree\", 'SOME COLLEGE',\n",
       "       'Some College', 'PRIMARY EDUCATION', 'Primary Education',\n",
       "       'Graduate Degree', 'GRADUATE DEGREE', 'graduate degree'],\n",
       "      dtype=object)"
      ]
     },
     "execution_count": 12,
     "metadata": {},
     "output_type": "execute_result"
    }
   ],
   "source": [
    "# Verificando os valores na coluna de educação \n",
    "df_emprestimos.groupby('education')['education_id'].value_counts()\n",
    "df_emprestimos['education'].unique()"
   ]
  },
  {
   "cell_type": "code",
   "execution_count": 13,
   "metadata": {
    "scrolled": true
   },
   "outputs": [],
   "source": [
    "# Passando todas as strings para letras minúsculas\n",
    "df_emprestimos['education'] = df_emprestimos['education'].str.lower()"
   ]
  },
  {
   "cell_type": "code",
   "execution_count": 14,
   "metadata": {},
   "outputs": [
    {
     "data": {
      "text/plain": [
       "array([\"bachelor's degree\", 'secondary education', 'some college',\n",
       "       'primary education', 'graduate degree'], dtype=object)"
      ]
     },
     "execution_count": 14,
     "metadata": {},
     "output_type": "execute_result"
    }
   ],
   "source": [
    "# Verificando se os dados foram corrigimos\n",
    "df_emprestimos['education'].unique()"
   ]
  },
  {
   "cell_type": "code",
   "execution_count": 15,
   "metadata": {},
   "outputs": [
    {
     "data": {
      "text/plain": [
       "array([ 1,  0,  3,  2, -1,  4, 20,  5])"
      ]
     },
     "execution_count": 15,
     "metadata": {},
     "output_type": "execute_result"
    }
   ],
   "source": [
    "# Vamos ver a distribuição de valores na coluna `children`\n",
    "df_emprestimos['children']\n",
    "df_emprestimos['children'].unique()"
   ]
  },
  {
   "cell_type": "markdown",
   "metadata": {},
   "source": [
    "Existem dois valores incorretos: -1 e 20"
   ]
  },
  {
   "cell_type": "code",
   "execution_count": 16,
   "metadata": {},
   "outputs": [
    {
     "name": "stdout",
     "output_type": "stream",
     "text": [
      "children            0.218351\n",
      "days_employed       0.204413\n",
      "dob_years           0.218351\n",
      "education           0.218351\n",
      "education_id        0.218351\n",
      "family_status       0.218351\n",
      "family_status_id    0.218351\n",
      "gender              0.218351\n",
      "income_type         0.218351\n",
      "debt                0.218351\n",
      "total_income        0.204413\n",
      "purpose             0.218351\n",
      "dtype: float64\n",
      "children            0.353078\n",
      "days_employed       0.311266\n",
      "dob_years           0.353078\n",
      "education           0.353078\n",
      "education_id        0.353078\n",
      "family_status       0.353078\n",
      "family_status_id    0.353078\n",
      "gender              0.353078\n",
      "income_type         0.353078\n",
      "debt                0.353078\n",
      "total_income        0.311266\n",
      "purpose             0.353078\n",
      "dtype: float64\n"
     ]
    }
   ],
   "source": [
    "#observando percentuais em relação ao conjunto total de dados:\n",
    "\n",
    "print(df_emprestimos[df_emprestimos['children'] == -1].count()/ df_emprestimos.shape[0]*100)\n",
    "print(df_emprestimos[df_emprestimos['children'] == 20].count()/ df_emprestimos.shape[0]*100)"
   ]
  },
  {
   "cell_type": "markdown",
   "metadata": {},
   "source": [
    "É possível substituir o valor -1 por 0, já o valor de 20 pode ser substituído pela mediana da quantidade de filhos, que é 0."
   ]
  },
  {
   "cell_type": "code",
   "execution_count": 17,
   "metadata": {},
   "outputs": [],
   "source": [
    "df_emprestimos['children'].replace({-1:0, 20:0}, inplace=True)"
   ]
  },
  {
   "cell_type": "code",
   "execution_count": 18,
   "metadata": {
    "scrolled": true
   },
   "outputs": [
    {
     "data": {
      "text/plain": [
       "array([1, 0, 3, 2, 4, 5])"
      ]
     },
     "execution_count": 18,
     "metadata": {},
     "output_type": "execute_result"
    }
   ],
   "source": [
    "# Verificando novamente para ter certeza de que está tudo corrigido\n",
    "df_emprestimos['children'].unique()"
   ]
  },
  {
   "cell_type": "code",
   "execution_count": 19,
   "metadata": {},
   "outputs": [
    {
     "name": "stdout",
     "output_type": "stream",
     "text": [
      "float64\n",
      "0         -8437.673028\n",
      "1         -4024.803754\n",
      "2         -5623.422610\n",
      "3         -4124.747207\n",
      "4        340266.072047\n",
      "             ...      \n",
      "21520     -4529.316663\n",
      "21521    343937.404131\n",
      "21522     -2113.346888\n",
      "21523     -3112.481705\n",
      "21524     -1984.507589\n",
      "Name: days_employed, Length: 21525, dtype: float64\n"
     ]
    }
   ],
   "source": [
    "# Valores problemáticos em `days_employed`\n",
    "print(df_emprestimos['days_employed'].dtype)\n",
    "print(df_emprestimos['days_employed'])"
   ]
  },
  {
   "cell_type": "markdown",
   "metadata": {},
   "source": [
    "Há valores negativos, irei criar uma função que retornará uma lista com os valores todos positivos."
   ]
  },
  {
   "cell_type": "code",
   "execution_count": 20,
   "metadata": {},
   "outputs": [
    {
     "data": {
      "text/plain": [
       "0          8437.673028\n",
       "1          4024.803754\n",
       "2          5623.422610\n",
       "3          4124.747207\n",
       "4        340266.072047\n",
       "             ...      \n",
       "21520      4529.316663\n",
       "21521    343937.404131\n",
       "21522      2113.346888\n",
       "21523      3112.481705\n",
       "21524      1984.507589\n",
       "Name: days_employed, Length: 21525, dtype: float64"
      ]
     },
     "execution_count": 20,
     "metadata": {},
     "output_type": "execute_result"
    }
   ],
   "source": [
    "# Função receber a conluna days_employed convertida em lista e retorna os valores positivos\n",
    "def valores_positivos(lista):\n",
    "    for i in range(len(lista)):\n",
    "        if lista[i] > 0:\n",
    "            lista[i]\n",
    "        else:\n",
    "            lista[i]=  lista[i] * -1\n",
    "    return lista\n",
    "\n",
    "# Transformando a coluna em um array\n",
    "/\n",
    "lista_days_employed= df_emprestimos['days_employed'].tolist()\n",
    "\n",
    "# Substituindo os valores da coluna:\n",
    "df_emprestimos['days_employed'] = valores_positivos(lista_days_employed)\n",
    "df_emprestimos['days_employed']\n"
   ]
  },
  {
   "cell_type": "code",
   "execution_count": 21,
   "metadata": {
    "scrolled": true
   },
   "outputs": [
    {
     "data": {
      "text/plain": [
       "0          8437.673028\n",
       "1          4024.803754\n",
       "2          5623.422610\n",
       "3          4124.747207\n",
       "4        340266.072047\n",
       "             ...      \n",
       "21520      4529.316663\n",
       "21521    343937.404131\n",
       "21522      2113.346888\n",
       "21523      3112.481705\n",
       "21524      1984.507589\n",
       "Name: days_employed, Length: 21525, dtype: float64"
      ]
     },
     "execution_count": 21,
     "metadata": {},
     "output_type": "execute_result"
    }
   ],
   "source": [
    "#Verificando o resultado\n",
    "df_emprestimos['days_employed']"
   ]
  },
  {
   "cell_type": "code",
   "execution_count": 22,
   "metadata": {
    "scrolled": true
   },
   "outputs": [
    {
     "name": "stdout",
     "output_type": "stream",
     "text": [
      "count    21525.000000\n",
      "mean        43.293380\n",
      "std         12.574584\n",
      "min          0.000000\n",
      "25%         33.000000\n",
      "50%         42.000000\n",
      "75%         53.000000\n",
      "max         75.000000\n",
      "Name: dob_years, dtype: float64\n",
      "children            0.469222\n",
      "days_employed       0.422764\n",
      "dob_years           0.469222\n",
      "education           0.469222\n",
      "education_id        0.469222\n",
      "family_status       0.469222\n",
      "family_status_id    0.469222\n",
      "gender              0.469222\n",
      "income_type         0.469222\n",
      "debt                0.469222\n",
      "total_income        0.422764\n",
      "purpose             0.469222\n",
      "dtype: float64\n"
     ]
    }
   ],
   "source": [
    "# Verificando a coluna `dob_years` para encontrar valores suspeitos e porcentagem\n",
    "print(df_emprestimos['dob_years'].describe())\n",
    "print(df_emprestimos[df_emprestimos['dob_years'] == 0].count()/ df_emprestimos.shape[0]*100)"
   ]
  },
  {
   "cell_type": "code",
   "execution_count": 23,
   "metadata": {},
   "outputs": [],
   "source": [
    "# Substituindo valor 0 em `dob_years` pela sua mediana\n",
    "df_emprestimos['dob_years'].replace({0: df_emprestimos['dob_years'].median()}, inplace=True)\n"
   ]
  },
  {
   "cell_type": "code",
   "execution_count": 24,
   "metadata": {},
   "outputs": [
    {
     "name": "stdout",
     "output_type": "stream",
     "text": [
      "count    21525.000000\n",
      "mean        43.490453\n",
      "std         12.218595\n",
      "min         19.000000\n",
      "25%         34.000000\n",
      "50%         42.000000\n",
      "75%         53.000000\n",
      "max         75.000000\n",
      "Name: dob_years, dtype: float64\n",
      "19\n"
     ]
    }
   ],
   "source": [
    "# Verificando o resultado \n",
    "print(df_emprestimos['dob_years'].describe())\n",
    "print(df_emprestimos['dob_years'].min())"
   ]
  },
  {
   "cell_type": "code",
   "execution_count": 25,
   "metadata": {},
   "outputs": [
    {
     "name": "stdout",
     "output_type": "stream",
     "text": [
      "['married' 'civil partnership' 'widow / widower' 'divorced' 'unmarried']\n",
      "family_status      family_status_id\n",
      "civil partnership  1                    4177\n",
      "divorced           3                    1195\n",
      "married            0                   12380\n",
      "unmarried          4                    2813\n",
      "widow / widower    2                     960\n",
      "Name: family_status_id, dtype: int64\n"
     ]
    }
   ],
   "source": [
    "# Verificando os valores da coluna 'family_status'\n",
    "print(df_emprestimos['family_status'].unique())\n",
    "print(df_emprestimos.groupby('family_status')['family_status_id'].value_counts())"
   ]
  },
  {
   "cell_type": "code",
   "execution_count": 26,
   "metadata": {},
   "outputs": [
    {
     "name": "stdout",
     "output_type": "stream",
     "text": [
      "['F' 'M' 'XNA']\n",
      "F      14236\n",
      "M       7288\n",
      "XNA        1\n",
      "Name: gender, dtype: int64\n",
      "       children  days_employed  dob_years     education  education_id  \\\n",
      "10701         0    2358.600502         24  some college             2   \n",
      "\n",
      "           family_status  family_status_id gender income_type  debt  \\\n",
      "10701  civil partnership                 1    XNA    business     0   \n",
      "\n",
      "       total_income          purpose  \n",
      "10701     32624.825  buy real estate  \n"
     ]
    }
   ],
   "source": [
    "# Verificando os valores da coluna 'gender'\n",
    "print(df_emprestimos['gender'].unique())\n",
    "print(df_emprestimos['gender'].value_counts())\n",
    "print(df_emprestimos[df_emprestimos['gender'] == 'XNA'])"
   ]
  },
  {
   "cell_type": "code",
   "execution_count": 27,
   "metadata": {},
   "outputs": [],
   "source": [
    "# Removendo a categoria 'XNA' pois há apenas um registro.\n",
    "df_emprestimos.drop(index=10701, inplace=True)"
   ]
  },
  {
   "cell_type": "code",
   "execution_count": 28,
   "metadata": {},
   "outputs": [
    {
     "data": {
      "text/plain": [
       "array(['F', 'M'], dtype=object)"
      ]
     },
     "execution_count": 28,
     "metadata": {},
     "output_type": "execute_result"
    }
   ],
   "source": [
    "# verificando resultado\n",
    "\n",
    "df_emprestimos['gender'].unique()"
   ]
  },
  {
   "cell_type": "code",
   "execution_count": 29,
   "metadata": {},
   "outputs": [
    {
     "name": "stdout",
     "output_type": "stream",
     "text": [
      "['employee' 'retiree' 'business' 'civil servant' 'unemployed'\n",
      " 'entrepreneur' 'student' 'paternity / maternity leave']\n",
      "employee                       11119\n",
      "business                        5084\n",
      "retiree                         3856\n",
      "civil servant                   1459\n",
      "unemployed                         2\n",
      "entrepreneur                       2\n",
      "student                            1\n",
      "paternity / maternity leave        1\n",
      "Name: income_type, dtype: int64\n"
     ]
    }
   ],
   "source": [
    "# Verificando os valores da coluna 'income_type'\n",
    "print(df_emprestimos['income_type'].unique())\n",
    "print(df_emprestimos['income_type'].value_counts())"
   ]
  },
  {
   "cell_type": "markdown",
   "metadata": {},
   "source": [
    "### Procurando por valores duplicados"
   ]
  },
  {
   "cell_type": "code",
   "execution_count": 30,
   "metadata": {},
   "outputs": [
    {
     "data": {
      "text/plain": [
       "False    21452\n",
       "True        72\n",
       "dtype: int64"
      ]
     },
     "execution_count": 30,
     "metadata": {},
     "output_type": "execute_result"
    }
   ],
   "source": [
    "# Verificando duplicatas\n",
    "\n",
    "df_emprestimos.duplicated().value_counts()"
   ]
  },
  {
   "cell_type": "code",
   "execution_count": 31,
   "metadata": {},
   "outputs": [],
   "source": [
    "# Excluindo duplicatas\n",
    "df_emprestimos.drop_duplicates(inplace=True)"
   ]
  },
  {
   "cell_type": "code",
   "execution_count": 32,
   "metadata": {},
   "outputs": [
    {
     "data": {
      "text/plain": [
       "False    21452\n",
       "dtype: int64"
      ]
     },
     "execution_count": 32,
     "metadata": {},
     "output_type": "execute_result"
    }
   ],
   "source": [
    "# Última verificação se há duplicatas\n",
    "df_emprestimos.duplicated().value_counts()"
   ]
  },
  {
   "cell_type": "code",
   "execution_count": 33,
   "metadata": {},
   "outputs": [
    {
     "data": {
      "text/plain": [
       "(21452, 12)"
      ]
     },
     "execution_count": 33,
     "metadata": {},
     "output_type": "execute_result"
    }
   ],
   "source": [
    "#Verifique o tamanho do conjunto de dados que você tem agora após suas primeiras manipulações com ele\n",
    "df_emprestimos.shape"
   ]
  },
  {
   "cell_type": "markdown",
   "metadata": {},
   "source": [
    "Até aqui os dados foram corrigidos em relação a nomes inconsistentes, valores incorretos, duplicados e negativos. Agora é necessário tratar os valores ausentes para finalmente testar as hipóteses.\n"
   ]
  },
  {
   "cell_type": "markdown",
   "metadata": {},
   "source": [
    "## Trabalhando com valores ausentes"
   ]
  },
  {
   "cell_type": "markdown",
   "metadata": {},
   "source": [
    "As colunas 'days_employed' e 'total_income' têm valores ausentes que devem ser resolvidos. Agrupando essas colunas com outras que podem influenciar na vida real o valor da receita total e dos dias trabalhados."
   ]
  },
  {
   "cell_type": "markdown",
   "metadata": {},
   "source": [
    "### Restaurar valores ausentes em `total_income`"
   ]
  },
  {
   "cell_type": "markdown",
   "metadata": {},
   "source": [
    "Para preencher os valores ausentes da coluna 'total_income' irei fazer tabelas dinâmicas para calcular média e mediana das outras variáveis que podem influenciar no valor da receita total."
   ]
  },
  {
   "cell_type": "code",
   "execution_count": 34,
   "metadata": {},
   "outputs": [],
   "source": [
    "# Irei criar uma função que retorna 3 categorias de idade = jovem, adulto e idoso.\n",
    "def categoria_idade(row):\n",
    "        if row <= 20:\n",
    "            return 'jovem'\n",
    "        elif row <=59:\n",
    "            return 'adulto'\n",
    "        else:\n",
    "            return 'idoso'\n",
    "    "
   ]
  },
  {
   "cell_type": "code",
   "execution_count": 35,
   "metadata": {},
   "outputs": [],
   "source": [
    "# Testando a função \n",
    "try:\n",
    "    df_emprestimos['dob_years'].apply(categoria_idade)\n",
    "except Exception as e:\n",
    "    print(e)"
   ]
  },
  {
   "cell_type": "code",
   "execution_count": 36,
   "metadata": {},
   "outputs": [],
   "source": [
    "# Criando nova coluna para armazenar dados da função\n",
    "df_emprestimos['categoria_idade'] = df_emprestimos['dob_years'].apply(categoria_idade)"
   ]
  },
  {
   "cell_type": "code",
   "execution_count": 37,
   "metadata": {},
   "outputs": [
    {
     "data": {
      "text/plain": [
       "adulto    18887\n",
       "idoso      2500\n",
       "jovem        65\n",
       "Name: categoria_idade, dtype: int64"
      ]
     },
     "execution_count": 37,
     "metadata": {},
     "output_type": "execute_result"
    }
   ],
   "source": [
    "# Verificando os valores na nova coluna\n",
    "df_emprestimos['categoria_idade'].value_counts()"
   ]
  },
  {
   "cell_type": "markdown",
   "metadata": {},
   "source": [
    "Agora irei criar uma tabela sem os dados faltantes para calcular média e mediana."
   ]
  },
  {
   "cell_type": "code",
   "execution_count": 38,
   "metadata": {},
   "outputs": [
    {
     "data": {
      "text/html": [
       "<div>\n",
       "<style scoped>\n",
       "    .dataframe tbody tr th:only-of-type {\n",
       "        vertical-align: middle;\n",
       "    }\n",
       "\n",
       "    .dataframe tbody tr th {\n",
       "        vertical-align: top;\n",
       "    }\n",
       "\n",
       "    .dataframe thead th {\n",
       "        text-align: right;\n",
       "    }\n",
       "</style>\n",
       "<table border=\"1\" class=\"dataframe\">\n",
       "  <thead>\n",
       "    <tr style=\"text-align: right;\">\n",
       "      <th></th>\n",
       "      <th>children</th>\n",
       "      <th>days_employed</th>\n",
       "      <th>dob_years</th>\n",
       "      <th>education</th>\n",
       "      <th>education_id</th>\n",
       "      <th>family_status</th>\n",
       "      <th>family_status_id</th>\n",
       "      <th>gender</th>\n",
       "      <th>income_type</th>\n",
       "      <th>debt</th>\n",
       "      <th>total_income</th>\n",
       "      <th>purpose</th>\n",
       "      <th>categoria_idade</th>\n",
       "    </tr>\n",
       "  </thead>\n",
       "  <tbody>\n",
       "    <tr>\n",
       "      <th>0</th>\n",
       "      <td>1</td>\n",
       "      <td>8437.673028</td>\n",
       "      <td>42</td>\n",
       "      <td>bachelor's degree</td>\n",
       "      <td>0</td>\n",
       "      <td>married</td>\n",
       "      <td>0</td>\n",
       "      <td>F</td>\n",
       "      <td>employee</td>\n",
       "      <td>0</td>\n",
       "      <td>40620.102</td>\n",
       "      <td>purchase of the house</td>\n",
       "      <td>adulto</td>\n",
       "    </tr>\n",
       "    <tr>\n",
       "      <th>1</th>\n",
       "      <td>1</td>\n",
       "      <td>4024.803754</td>\n",
       "      <td>36</td>\n",
       "      <td>secondary education</td>\n",
       "      <td>1</td>\n",
       "      <td>married</td>\n",
       "      <td>0</td>\n",
       "      <td>F</td>\n",
       "      <td>employee</td>\n",
       "      <td>0</td>\n",
       "      <td>17932.802</td>\n",
       "      <td>car purchase</td>\n",
       "      <td>adulto</td>\n",
       "    </tr>\n",
       "    <tr>\n",
       "      <th>2</th>\n",
       "      <td>0</td>\n",
       "      <td>5623.422610</td>\n",
       "      <td>33</td>\n",
       "      <td>secondary education</td>\n",
       "      <td>1</td>\n",
       "      <td>married</td>\n",
       "      <td>0</td>\n",
       "      <td>M</td>\n",
       "      <td>employee</td>\n",
       "      <td>0</td>\n",
       "      <td>23341.752</td>\n",
       "      <td>purchase of the house</td>\n",
       "      <td>adulto</td>\n",
       "    </tr>\n",
       "    <tr>\n",
       "      <th>3</th>\n",
       "      <td>3</td>\n",
       "      <td>4124.747207</td>\n",
       "      <td>32</td>\n",
       "      <td>secondary education</td>\n",
       "      <td>1</td>\n",
       "      <td>married</td>\n",
       "      <td>0</td>\n",
       "      <td>M</td>\n",
       "      <td>employee</td>\n",
       "      <td>0</td>\n",
       "      <td>42820.568</td>\n",
       "      <td>supplementary education</td>\n",
       "      <td>adulto</td>\n",
       "    </tr>\n",
       "    <tr>\n",
       "      <th>4</th>\n",
       "      <td>0</td>\n",
       "      <td>340266.072047</td>\n",
       "      <td>53</td>\n",
       "      <td>secondary education</td>\n",
       "      <td>1</td>\n",
       "      <td>civil partnership</td>\n",
       "      <td>1</td>\n",
       "      <td>F</td>\n",
       "      <td>retiree</td>\n",
       "      <td>0</td>\n",
       "      <td>25378.572</td>\n",
       "      <td>to have a wedding</td>\n",
       "      <td>adulto</td>\n",
       "    </tr>\n",
       "  </tbody>\n",
       "</table>\n",
       "</div>"
      ],
      "text/plain": [
       "   children  days_employed  dob_years            education  education_id  \\\n",
       "0         1    8437.673028         42    bachelor's degree             0   \n",
       "1         1    4024.803754         36  secondary education             1   \n",
       "2         0    5623.422610         33  secondary education             1   \n",
       "3         3    4124.747207         32  secondary education             1   \n",
       "4         0  340266.072047         53  secondary education             1   \n",
       "\n",
       "       family_status  family_status_id gender income_type  debt  total_income  \\\n",
       "0            married                 0      F    employee     0     40620.102   \n",
       "1            married                 0      F    employee     0     17932.802   \n",
       "2            married                 0      M    employee     0     23341.752   \n",
       "3            married                 0      M    employee     0     42820.568   \n",
       "4  civil partnership                 1      F     retiree     0     25378.572   \n",
       "\n",
       "                   purpose categoria_idade  \n",
       "0    purchase of the house          adulto  \n",
       "1             car purchase          adulto  \n",
       "2    purchase of the house          adulto  \n",
       "3  supplementary education          adulto  \n",
       "4        to have a wedding          adulto  "
      ]
     },
     "execution_count": 38,
     "metadata": {},
     "output_type": "execute_result"
    }
   ],
   "source": [
    "# Tabela sem valores ausentes \n",
    "df_sem_ausentes = df_emprestimos[df_emprestimos.notna()]\n",
    "df_sem_ausentes.head()"
   ]
  },
  {
   "cell_type": "code",
   "execution_count": 39,
   "metadata": {},
   "outputs": [
    {
     "data": {
      "text/html": [
       "<div>\n",
       "<style scoped>\n",
       "    .dataframe tbody tr th:only-of-type {\n",
       "        vertical-align: middle;\n",
       "    }\n",
       "\n",
       "    .dataframe tbody tr th {\n",
       "        vertical-align: top;\n",
       "    }\n",
       "\n",
       "    .dataframe thead tr th {\n",
       "        text-align: left;\n",
       "    }\n",
       "\n",
       "    .dataframe thead tr:last-of-type th {\n",
       "        text-align: right;\n",
       "    }\n",
       "</style>\n",
       "<table border=\"1\" class=\"dataframe\">\n",
       "  <thead>\n",
       "    <tr>\n",
       "      <th></th>\n",
       "      <th>mean</th>\n",
       "      <th>median</th>\n",
       "    </tr>\n",
       "    <tr>\n",
       "      <th></th>\n",
       "      <th>total_income</th>\n",
       "      <th>total_income</th>\n",
       "    </tr>\n",
       "    <tr>\n",
       "      <th>income_type</th>\n",
       "      <th></th>\n",
       "      <th></th>\n",
       "    </tr>\n",
       "  </thead>\n",
       "  <tbody>\n",
       "    <tr>\n",
       "      <th>business</th>\n",
       "      <td>32386.741818</td>\n",
       "      <td>27571.0825</td>\n",
       "    </tr>\n",
       "    <tr>\n",
       "      <th>civil servant</th>\n",
       "      <td>27343.729582</td>\n",
       "      <td>24071.6695</td>\n",
       "    </tr>\n",
       "    <tr>\n",
       "      <th>employee</th>\n",
       "      <td>25820.841683</td>\n",
       "      <td>22815.1035</td>\n",
       "    </tr>\n",
       "    <tr>\n",
       "      <th>entrepreneur</th>\n",
       "      <td>79866.103000</td>\n",
       "      <td>79866.1030</td>\n",
       "    </tr>\n",
       "    <tr>\n",
       "      <th>paternity / maternity leave</th>\n",
       "      <td>8612.661000</td>\n",
       "      <td>8612.6610</td>\n",
       "    </tr>\n",
       "    <tr>\n",
       "      <th>retiree</th>\n",
       "      <td>21940.394503</td>\n",
       "      <td>18962.3180</td>\n",
       "    </tr>\n",
       "    <tr>\n",
       "      <th>student</th>\n",
       "      <td>15712.260000</td>\n",
       "      <td>15712.2600</td>\n",
       "    </tr>\n",
       "    <tr>\n",
       "      <th>unemployed</th>\n",
       "      <td>21014.360500</td>\n",
       "      <td>21014.3605</td>\n",
       "    </tr>\n",
       "  </tbody>\n",
       "</table>\n",
       "</div>"
      ],
      "text/plain": [
       "                                     mean       median\n",
       "                             total_income total_income\n",
       "income_type                                           \n",
       "business                     32386.741818   27571.0825\n",
       "civil servant                27343.729582   24071.6695\n",
       "employee                     25820.841683   22815.1035\n",
       "entrepreneur                 79866.103000   79866.1030\n",
       "paternity / maternity leave   8612.661000    8612.6610\n",
       "retiree                      21940.394503   18962.3180\n",
       "student                      15712.260000   15712.2600\n",
       "unemployed                   21014.360500   21014.3605"
      ]
     },
     "execution_count": 39,
     "metadata": {},
     "output_type": "execute_result"
    }
   ],
   "source": [
    "# Valores médios e medianos de renda com base no tipo de renda\n",
    "df_sem_ausentes.pivot_table(index='income_type', values='total_income', aggfunc=['mean','median'])"
   ]
  },
  {
   "cell_type": "code",
   "execution_count": 40,
   "metadata": {},
   "outputs": [
    {
     "data": {
      "text/html": [
       "<div>\n",
       "<style scoped>\n",
       "    .dataframe tbody tr th:only-of-type {\n",
       "        vertical-align: middle;\n",
       "    }\n",
       "\n",
       "    .dataframe tbody tr th {\n",
       "        vertical-align: top;\n",
       "    }\n",
       "\n",
       "    .dataframe thead tr th {\n",
       "        text-align: left;\n",
       "    }\n",
       "\n",
       "    .dataframe thead tr:last-of-type th {\n",
       "        text-align: right;\n",
       "    }\n",
       "</style>\n",
       "<table border=\"1\" class=\"dataframe\">\n",
       "  <thead>\n",
       "    <tr>\n",
       "      <th></th>\n",
       "      <th>mean</th>\n",
       "      <th>median</th>\n",
       "    </tr>\n",
       "    <tr>\n",
       "      <th></th>\n",
       "      <th>total_income</th>\n",
       "      <th>total_income</th>\n",
       "    </tr>\n",
       "    <tr>\n",
       "      <th>family_status</th>\n",
       "      <th></th>\n",
       "      <th></th>\n",
       "    </tr>\n",
       "  </thead>\n",
       "  <tbody>\n",
       "    <tr>\n",
       "      <th>civil partnership</th>\n",
       "      <td>26692.840381</td>\n",
       "      <td>23185.477</td>\n",
       "    </tr>\n",
       "    <tr>\n",
       "      <th>divorced</th>\n",
       "      <td>27189.354550</td>\n",
       "      <td>23515.096</td>\n",
       "    </tr>\n",
       "    <tr>\n",
       "      <th>married</th>\n",
       "      <td>27041.784689</td>\n",
       "      <td>23389.540</td>\n",
       "    </tr>\n",
       "    <tr>\n",
       "      <th>unmarried</th>\n",
       "      <td>26934.069805</td>\n",
       "      <td>23149.028</td>\n",
       "    </tr>\n",
       "    <tr>\n",
       "      <th>widow / widower</th>\n",
       "      <td>22984.208556</td>\n",
       "      <td>20514.190</td>\n",
       "    </tr>\n",
       "  </tbody>\n",
       "</table>\n",
       "</div>"
      ],
      "text/plain": [
       "                           mean       median\n",
       "                   total_income total_income\n",
       "family_status                               \n",
       "civil partnership  26692.840381    23185.477\n",
       "divorced           27189.354550    23515.096\n",
       "married            27041.784689    23389.540\n",
       "unmarried          26934.069805    23149.028\n",
       "widow / widower    22984.208556    20514.190"
      ]
     },
     "execution_count": 40,
     "metadata": {},
     "output_type": "execute_result"
    }
   ],
   "source": [
    "# Valores médios e medianos de renda com base no status familiar\n",
    "df_sem_ausentes.pivot_table(index='family_status', values='total_income', aggfunc=['mean','median'])"
   ]
  },
  {
   "cell_type": "code",
   "execution_count": 41,
   "metadata": {
    "scrolled": true
   },
   "outputs": [
    {
     "data": {
      "text/html": [
       "<div>\n",
       "<style scoped>\n",
       "    .dataframe tbody tr th:only-of-type {\n",
       "        vertical-align: middle;\n",
       "    }\n",
       "\n",
       "    .dataframe tbody tr th {\n",
       "        vertical-align: top;\n",
       "    }\n",
       "\n",
       "    .dataframe thead th {\n",
       "        text-align: right;\n",
       "    }\n",
       "</style>\n",
       "<table border=\"1\" class=\"dataframe\">\n",
       "  <thead>\n",
       "    <tr style=\"text-align: right;\">\n",
       "      <th></th>\n",
       "      <th>total_income</th>\n",
       "    </tr>\n",
       "    <tr>\n",
       "      <th>categoria_idade</th>\n",
       "      <th></th>\n",
       "    </tr>\n",
       "  </thead>\n",
       "  <tbody>\n",
       "    <tr>\n",
       "      <th>adulto</th>\n",
       "      <td>23676.3915</td>\n",
       "    </tr>\n",
       "    <tr>\n",
       "      <th>idoso</th>\n",
       "      <td>19761.4250</td>\n",
       "    </tr>\n",
       "    <tr>\n",
       "      <th>jovem</th>\n",
       "      <td>17257.2770</td>\n",
       "    </tr>\n",
       "  </tbody>\n",
       "</table>\n",
       "</div>"
      ],
      "text/plain": [
       "                 total_income\n",
       "categoria_idade              \n",
       "adulto             23676.3915\n",
       "idoso              19761.4250\n",
       "jovem              17257.2770"
      ]
     },
     "execution_count": 41,
     "metadata": {},
     "output_type": "execute_result"
    }
   ],
   "source": [
    "# Valores médios e medianos de renda com base na idade\n",
    "df_sem_ausentes.pivot_table(index='categoria_idade', values='total_income', aggfunc='median')"
   ]
  },
  {
   "cell_type": "code",
   "execution_count": 42,
   "metadata": {},
   "outputs": [
    {
     "data": {
      "text/html": [
       "<div>\n",
       "<style scoped>\n",
       "    .dataframe tbody tr th:only-of-type {\n",
       "        vertical-align: middle;\n",
       "    }\n",
       "\n",
       "    .dataframe tbody tr th {\n",
       "        vertical-align: top;\n",
       "    }\n",
       "\n",
       "    .dataframe thead tr th {\n",
       "        text-align: left;\n",
       "    }\n",
       "\n",
       "    .dataframe thead tr:last-of-type th {\n",
       "        text-align: right;\n",
       "    }\n",
       "</style>\n",
       "<table border=\"1\" class=\"dataframe\">\n",
       "  <thead>\n",
       "    <tr>\n",
       "      <th></th>\n",
       "      <th>mean</th>\n",
       "      <th>median</th>\n",
       "    </tr>\n",
       "    <tr>\n",
       "      <th></th>\n",
       "      <th>total_income</th>\n",
       "      <th>total_income</th>\n",
       "    </tr>\n",
       "    <tr>\n",
       "      <th>education</th>\n",
       "      <th></th>\n",
       "      <th></th>\n",
       "    </tr>\n",
       "  </thead>\n",
       "  <tbody>\n",
       "    <tr>\n",
       "      <th>bachelor's degree</th>\n",
       "      <td>33142.802434</td>\n",
       "      <td>28054.5310</td>\n",
       "    </tr>\n",
       "    <tr>\n",
       "      <th>graduate degree</th>\n",
       "      <td>27960.024667</td>\n",
       "      <td>25161.5835</td>\n",
       "    </tr>\n",
       "    <tr>\n",
       "      <th>primary education</th>\n",
       "      <td>21144.882211</td>\n",
       "      <td>18741.9760</td>\n",
       "    </tr>\n",
       "    <tr>\n",
       "      <th>secondary education</th>\n",
       "      <td>24594.503037</td>\n",
       "      <td>21836.5830</td>\n",
       "    </tr>\n",
       "    <tr>\n",
       "      <th>some college</th>\n",
       "      <td>29040.132990</td>\n",
       "      <td>25608.7945</td>\n",
       "    </tr>\n",
       "  </tbody>\n",
       "</table>\n",
       "</div>"
      ],
      "text/plain": [
       "                             mean       median\n",
       "                     total_income total_income\n",
       "education                                     \n",
       "bachelor's degree    33142.802434   28054.5310\n",
       "graduate degree      27960.024667   25161.5835\n",
       "primary education    21144.882211   18741.9760\n",
       "secondary education  24594.503037   21836.5830\n",
       "some college         29040.132990   25608.7945"
      ]
     },
     "execution_count": 42,
     "metadata": {},
     "output_type": "execute_result"
    }
   ],
   "source": [
    "# Valores médios e medianos de renda com base no nível de educação\n",
    "df_sem_ausentes.pivot_table(index='education', values='total_income', aggfunc=['mean', 'median'])"
   ]
  },
  {
   "cell_type": "code",
   "execution_count": 43,
   "metadata": {},
   "outputs": [
    {
     "data": {
      "text/html": [
       "<div>\n",
       "<style scoped>\n",
       "    .dataframe tbody tr th:only-of-type {\n",
       "        vertical-align: middle;\n",
       "    }\n",
       "\n",
       "    .dataframe tbody tr th {\n",
       "        vertical-align: top;\n",
       "    }\n",
       "\n",
       "    .dataframe thead tr th {\n",
       "        text-align: left;\n",
       "    }\n",
       "\n",
       "    .dataframe thead tr:last-of-type th {\n",
       "        text-align: right;\n",
       "    }\n",
       "</style>\n",
       "<table border=\"1\" class=\"dataframe\">\n",
       "  <thead>\n",
       "    <tr>\n",
       "      <th></th>\n",
       "      <th>mean</th>\n",
       "      <th>median</th>\n",
       "    </tr>\n",
       "    <tr>\n",
       "      <th></th>\n",
       "      <th>total_income</th>\n",
       "      <th>total_income</th>\n",
       "    </tr>\n",
       "    <tr>\n",
       "      <th>children</th>\n",
       "      <th></th>\n",
       "      <th></th>\n",
       "    </tr>\n",
       "  </thead>\n",
       "  <tbody>\n",
       "    <tr>\n",
       "      <th>0</th>\n",
       "      <td>26418.722452</td>\n",
       "      <td>23029.9535</td>\n",
       "    </tr>\n",
       "    <tr>\n",
       "      <th>1</th>\n",
       "      <td>27396.494050</td>\n",
       "      <td>23670.8840</td>\n",
       "    </tr>\n",
       "    <tr>\n",
       "      <th>2</th>\n",
       "      <td>27496.357898</td>\n",
       "      <td>23143.7700</td>\n",
       "    </tr>\n",
       "    <tr>\n",
       "      <th>3</th>\n",
       "      <td>29322.623993</td>\n",
       "      <td>25155.4480</td>\n",
       "    </tr>\n",
       "    <tr>\n",
       "      <th>4</th>\n",
       "      <td>27289.829647</td>\n",
       "      <td>24981.6340</td>\n",
       "    </tr>\n",
       "    <tr>\n",
       "      <th>5</th>\n",
       "      <td>27268.847250</td>\n",
       "      <td>29816.2255</td>\n",
       "    </tr>\n",
       "  </tbody>\n",
       "</table>\n",
       "</div>"
      ],
      "text/plain": [
       "                  mean       median\n",
       "          total_income total_income\n",
       "children                           \n",
       "0         26418.722452   23029.9535\n",
       "1         27396.494050   23670.8840\n",
       "2         27496.357898   23143.7700\n",
       "3         29322.623993   25155.4480\n",
       "4         27289.829647   24981.6340\n",
       "5         27268.847250   29816.2255"
      ]
     },
     "execution_count": 43,
     "metadata": {},
     "output_type": "execute_result"
    }
   ],
   "source": [
    "# Valores médios e medianos de renda com base no nº de filhos\n",
    "df_sem_ausentes.pivot_table(index='children', values='total_income', aggfunc=['mean', 'median'])"
   ]
  },
  {
   "cell_type": "markdown",
   "metadata": {},
   "source": [
    "Há diferenças entre médias e medianas para cada característica, no entando o valor aproximado de renda entre cada coluna não se distancia muito, exceto na colua tipo de renda, por esse motivo usarei sua mediana para preencher os valores ausentes da coluna 'total_income'\n"
   ]
  },
  {
   "cell_type": "code",
   "execution_count": 44,
   "metadata": {},
   "outputs": [
    {
     "data": {
      "text/plain": [
       "23201.8735"
      ]
     },
     "execution_count": 44,
     "metadata": {},
     "output_type": "execute_result"
    }
   ],
   "source": [
    "df_sem_ausentes['total_income'].median()"
   ]
  },
  {
   "cell_type": "code",
   "execution_count": 45,
   "metadata": {},
   "outputs": [],
   "source": [
    "# Preenchendo os valores ausentes de total_income\n",
    "df_emprestimos['total_income'].fillna(df_sem_ausentes['total_income'].median(), inplace=True)"
   ]
  },
  {
   "cell_type": "code",
   "execution_count": 46,
   "metadata": {
    "scrolled": true
   },
   "outputs": [
    {
     "data": {
      "text/plain": [
       "0"
      ]
     },
     "execution_count": 46,
     "metadata": {},
     "output_type": "execute_result"
    }
   ],
   "source": [
    "# Verifique se funciona\n",
    "df_emprestimos['total_income'].isna().sum()"
   ]
  },
  {
   "cell_type": "code",
   "execution_count": 47,
   "metadata": {},
   "outputs": [
    {
     "name": "stdout",
     "output_type": "stream",
     "text": [
      "<class 'pandas.core.frame.DataFrame'>\n",
      "Int64Index: 21452 entries, 0 to 21524\n",
      "Data columns (total 13 columns):\n",
      " #   Column            Non-Null Count  Dtype  \n",
      "---  ------            --------------  -----  \n",
      " 0   children          21452 non-null  int64  \n",
      " 1   days_employed     19350 non-null  float64\n",
      " 2   dob_years         21452 non-null  int64  \n",
      " 3   education         21452 non-null  object \n",
      " 4   education_id      21452 non-null  int64  \n",
      " 5   family_status     21452 non-null  object \n",
      " 6   family_status_id  21452 non-null  int64  \n",
      " 7   gender            21452 non-null  object \n",
      " 8   income_type       21452 non-null  object \n",
      " 9   debt              21452 non-null  int64  \n",
      " 10  total_income      21452 non-null  float64\n",
      " 11  purpose           21452 non-null  object \n",
      " 12  categoria_idade   21452 non-null  object \n",
      "dtypes: float64(2), int64(5), object(6)\n",
      "memory usage: 2.3+ MB\n",
      "None\n",
      "(21452, 13)\n"
     ]
    }
   ],
   "source": [
    "# Verificar o número de entradas nas colunas\n",
    "\n",
    "print(df_emprestimos.info())\n",
    "print(df_emprestimos.shape)\n"
   ]
  },
  {
   "cell_type": "markdown",
   "metadata": {},
   "source": [
    "### Restaurar valores em `days_employed`"
   ]
  },
  {
   "cell_type": "markdown",
   "metadata": {},
   "source": [
    "Assim como a coluna 'total_income' utilizarei das tabelas dinâmicas para calcular a mediana das outras variáveis que podem influenciar no valor dos dias de trabalho: 'income_type', 'family_status', 'children', 'gender'."
   ]
  },
  {
   "cell_type": "code",
   "execution_count": 48,
   "metadata": {},
   "outputs": [
    {
     "data": {
      "text/html": [
       "<div>\n",
       "<style scoped>\n",
       "    .dataframe tbody tr th:only-of-type {\n",
       "        vertical-align: middle;\n",
       "    }\n",
       "\n",
       "    .dataframe tbody tr th {\n",
       "        vertical-align: top;\n",
       "    }\n",
       "\n",
       "    .dataframe thead tr th {\n",
       "        text-align: left;\n",
       "    }\n",
       "\n",
       "    .dataframe thead tr:last-of-type th {\n",
       "        text-align: right;\n",
       "    }\n",
       "</style>\n",
       "<table border=\"1\" class=\"dataframe\">\n",
       "  <thead>\n",
       "    <tr>\n",
       "      <th></th>\n",
       "      <th>mean</th>\n",
       "      <th>median</th>\n",
       "    </tr>\n",
       "    <tr>\n",
       "      <th></th>\n",
       "      <th>days_employed</th>\n",
       "      <th>days_employed</th>\n",
       "    </tr>\n",
       "    <tr>\n",
       "      <th>income_type</th>\n",
       "      <th></th>\n",
       "      <th></th>\n",
       "    </tr>\n",
       "  </thead>\n",
       "  <tbody>\n",
       "    <tr>\n",
       "      <th>business</th>\n",
       "      <td>2111.470404</td>\n",
       "      <td>1546.333214</td>\n",
       "    </tr>\n",
       "    <tr>\n",
       "      <th>civil servant</th>\n",
       "      <td>3399.896902</td>\n",
       "      <td>2689.368353</td>\n",
       "    </tr>\n",
       "    <tr>\n",
       "      <th>employee</th>\n",
       "      <td>2326.499216</td>\n",
       "      <td>1574.202821</td>\n",
       "    </tr>\n",
       "    <tr>\n",
       "      <th>entrepreneur</th>\n",
       "      <td>520.848083</td>\n",
       "      <td>520.848083</td>\n",
       "    </tr>\n",
       "    <tr>\n",
       "      <th>paternity / maternity leave</th>\n",
       "      <td>3296.759962</td>\n",
       "      <td>3296.759962</td>\n",
       "    </tr>\n",
       "    <tr>\n",
       "      <th>retiree</th>\n",
       "      <td>365003.491245</td>\n",
       "      <td>365213.306266</td>\n",
       "    </tr>\n",
       "    <tr>\n",
       "      <th>student</th>\n",
       "      <td>578.751554</td>\n",
       "      <td>578.751554</td>\n",
       "    </tr>\n",
       "    <tr>\n",
       "      <th>unemployed</th>\n",
       "      <td>366413.652744</td>\n",
       "      <td>366413.652744</td>\n",
       "    </tr>\n",
       "  </tbody>\n",
       "</table>\n",
       "</div>"
      ],
      "text/plain": [
       "                                      mean         median\n",
       "                             days_employed  days_employed\n",
       "income_type                                              \n",
       "business                       2111.470404    1546.333214\n",
       "civil servant                  3399.896902    2689.368353\n",
       "employee                       2326.499216    1574.202821\n",
       "entrepreneur                    520.848083     520.848083\n",
       "paternity / maternity leave    3296.759962    3296.759962\n",
       "retiree                      365003.491245  365213.306266\n",
       "student                         578.751554     578.751554\n",
       "unemployed                   366413.652744  366413.652744"
      ]
     },
     "execution_count": 48,
     "metadata": {},
     "output_type": "execute_result"
    }
   ],
   "source": [
    "# Distribuição de 'days_employed' médios e medianos com base em 'income_type'\n",
    "df_sem_ausentes.pivot_table(index='income_type', values='days_employed', aggfunc=['mean', 'median'])"
   ]
  },
  {
   "cell_type": "code",
   "execution_count": 49,
   "metadata": {},
   "outputs": [
    {
     "data": {
      "text/html": [
       "<div>\n",
       "<style scoped>\n",
       "    .dataframe tbody tr th:only-of-type {\n",
       "        vertical-align: middle;\n",
       "    }\n",
       "\n",
       "    .dataframe tbody tr th {\n",
       "        vertical-align: top;\n",
       "    }\n",
       "\n",
       "    .dataframe thead tr th {\n",
       "        text-align: left;\n",
       "    }\n",
       "\n",
       "    .dataframe thead tr:last-of-type th {\n",
       "        text-align: right;\n",
       "    }\n",
       "</style>\n",
       "<table border=\"1\" class=\"dataframe\">\n",
       "  <thead>\n",
       "    <tr>\n",
       "      <th></th>\n",
       "      <th>mean</th>\n",
       "      <th>median</th>\n",
       "    </tr>\n",
       "    <tr>\n",
       "      <th></th>\n",
       "      <th>days_employed</th>\n",
       "      <th>days_employed</th>\n",
       "    </tr>\n",
       "    <tr>\n",
       "      <th>family_status</th>\n",
       "      <th></th>\n",
       "      <th></th>\n",
       "    </tr>\n",
       "  </thead>\n",
       "  <tbody>\n",
       "    <tr>\n",
       "      <th>civil partnership</th>\n",
       "      <td>58411.268077</td>\n",
       "      <td>1943.995523</td>\n",
       "    </tr>\n",
       "    <tr>\n",
       "      <th>divorced</th>\n",
       "      <td>68816.335483</td>\n",
       "      <td>2401.954568</td>\n",
       "    </tr>\n",
       "    <tr>\n",
       "      <th>married</th>\n",
       "      <td>63312.782890</td>\n",
       "      <td>2304.964439</td>\n",
       "    </tr>\n",
       "    <tr>\n",
       "      <th>unmarried</th>\n",
       "      <td>47072.691647</td>\n",
       "      <td>1462.009287</td>\n",
       "    </tr>\n",
       "    <tr>\n",
       "      <th>widow / widower</th>\n",
       "      <td>205636.887848</td>\n",
       "      <td>337017.713307</td>\n",
       "    </tr>\n",
       "  </tbody>\n",
       "</table>\n",
       "</div>"
      ],
      "text/plain": [
       "                            mean         median\n",
       "                   days_employed  days_employed\n",
       "family_status                                  \n",
       "civil partnership   58411.268077    1943.995523\n",
       "divorced            68816.335483    2401.954568\n",
       "married             63312.782890    2304.964439\n",
       "unmarried           47072.691647    1462.009287\n",
       "widow / widower    205636.887848  337017.713307"
      ]
     },
     "execution_count": 49,
     "metadata": {},
     "output_type": "execute_result"
    }
   ],
   "source": [
    "# Distribuição de 'days_employed' médios e medianos com base em 'family_status'\n",
    "df_sem_ausentes.pivot_table(index='family_status', values='days_employed', aggfunc=['mean', 'median'])"
   ]
  },
  {
   "cell_type": "code",
   "execution_count": 50,
   "metadata": {},
   "outputs": [
    {
     "data": {
      "text/html": [
       "<div>\n",
       "<style scoped>\n",
       "    .dataframe tbody tr th:only-of-type {\n",
       "        vertical-align: middle;\n",
       "    }\n",
       "\n",
       "    .dataframe tbody tr th {\n",
       "        vertical-align: top;\n",
       "    }\n",
       "\n",
       "    .dataframe thead tr th {\n",
       "        text-align: left;\n",
       "    }\n",
       "\n",
       "    .dataframe thead tr:last-of-type th {\n",
       "        text-align: right;\n",
       "    }\n",
       "</style>\n",
       "<table border=\"1\" class=\"dataframe\">\n",
       "  <thead>\n",
       "    <tr>\n",
       "      <th></th>\n",
       "      <th>mean</th>\n",
       "      <th>median</th>\n",
       "    </tr>\n",
       "    <tr>\n",
       "      <th></th>\n",
       "      <th>days_employed</th>\n",
       "      <th>days_employed</th>\n",
       "    </tr>\n",
       "    <tr>\n",
       "      <th>children</th>\n",
       "      <th></th>\n",
       "      <th></th>\n",
       "    </tr>\n",
       "  </thead>\n",
       "  <tbody>\n",
       "    <tr>\n",
       "      <th>0</th>\n",
       "      <td>92134.886426</td>\n",
       "      <td>2618.854938</td>\n",
       "    </tr>\n",
       "    <tr>\n",
       "      <th>1</th>\n",
       "      <td>23093.921393</td>\n",
       "      <td>1664.504901</td>\n",
       "    </tr>\n",
       "    <tr>\n",
       "      <th>2</th>\n",
       "      <td>5494.398151</td>\n",
       "      <td>1680.557875</td>\n",
       "    </tr>\n",
       "    <tr>\n",
       "      <th>3</th>\n",
       "      <td>9338.376355</td>\n",
       "      <td>1765.066044</td>\n",
       "    </tr>\n",
       "    <tr>\n",
       "      <th>4</th>\n",
       "      <td>13863.043444</td>\n",
       "      <td>1905.879025</td>\n",
       "    </tr>\n",
       "    <tr>\n",
       "      <th>5</th>\n",
       "      <td>1432.348601</td>\n",
       "      <td>1231.571486</td>\n",
       "    </tr>\n",
       "  </tbody>\n",
       "</table>\n",
       "</div>"
      ],
      "text/plain": [
       "                  mean        median\n",
       "         days_employed days_employed\n",
       "children                            \n",
       "0         92134.886426   2618.854938\n",
       "1         23093.921393   1664.504901\n",
       "2          5494.398151   1680.557875\n",
       "3          9338.376355   1765.066044\n",
       "4         13863.043444   1905.879025\n",
       "5          1432.348601   1231.571486"
      ]
     },
     "execution_count": 50,
     "metadata": {},
     "output_type": "execute_result"
    }
   ],
   "source": [
    "# Distribuição de 'days_employed' médios e medianos com base em 'children'\n",
    "df_sem_ausentes.pivot_table(index='children', values='days_employed', aggfunc=['mean', 'median'])"
   ]
  },
  {
   "cell_type": "code",
   "execution_count": 51,
   "metadata": {
    "scrolled": true
   },
   "outputs": [
    {
     "data": {
      "text/html": [
       "<div>\n",
       "<style scoped>\n",
       "    .dataframe tbody tr th:only-of-type {\n",
       "        vertical-align: middle;\n",
       "    }\n",
       "\n",
       "    .dataframe tbody tr th {\n",
       "        vertical-align: top;\n",
       "    }\n",
       "\n",
       "    .dataframe thead tr th {\n",
       "        text-align: left;\n",
       "    }\n",
       "\n",
       "    .dataframe thead tr:last-of-type th {\n",
       "        text-align: right;\n",
       "    }\n",
       "</style>\n",
       "<table border=\"1\" class=\"dataframe\">\n",
       "  <thead>\n",
       "    <tr>\n",
       "      <th></th>\n",
       "      <th>mean</th>\n",
       "      <th>median</th>\n",
       "    </tr>\n",
       "    <tr>\n",
       "      <th></th>\n",
       "      <th>days_employed</th>\n",
       "      <th>days_employed</th>\n",
       "    </tr>\n",
       "    <tr>\n",
       "      <th>gender</th>\n",
       "      <th></th>\n",
       "      <th></th>\n",
       "    </tr>\n",
       "  </thead>\n",
       "  <tbody>\n",
       "    <tr>\n",
       "      <th>F</th>\n",
       "      <td>82397.770891</td>\n",
       "      <td>2539.856894</td>\n",
       "    </tr>\n",
       "    <tr>\n",
       "      <th>M</th>\n",
       "      <td>37000.331325</td>\n",
       "      <td>1662.370103</td>\n",
       "    </tr>\n",
       "  </tbody>\n",
       "</table>\n",
       "</div>"
      ],
      "text/plain": [
       "                mean        median\n",
       "       days_employed days_employed\n",
       "gender                            \n",
       "F       82397.770891   2539.856894\n",
       "M       37000.331325   1662.370103"
      ]
     },
     "execution_count": 51,
     "metadata": {},
     "output_type": "execute_result"
    }
   ],
   "source": [
    "# Distribuição de 'days_employed' médios e medianos com base em 'gender'\n",
    "df_sem_ausentes.pivot_table(index='gender', values='days_employed', aggfunc=['mean', 'median'])"
   ]
  },
  {
   "cell_type": "markdown",
   "metadata": {},
   "source": [
    "Como observado acima, há muitos valores extremos, por esse motivo usarei a mediana para preencher os valores ausentes"
   ]
  },
  {
   "cell_type": "code",
   "execution_count": 52,
   "metadata": {},
   "outputs": [],
   "source": [
    "df_emprestimos['days_employed'].fillna(df_sem_ausentes['days_employed'].median(), inplace=True)"
   ]
  },
  {
   "cell_type": "code",
   "execution_count": 53,
   "metadata": {},
   "outputs": [
    {
     "data": {
      "text/plain": [
       "0"
      ]
     },
     "execution_count": 53,
     "metadata": {},
     "output_type": "execute_result"
    }
   ],
   "source": [
    "# Verifique se a função funcionou\n",
    "df_emprestimos['days_employed'].isna().sum()\n"
   ]
  },
  {
   "cell_type": "code",
   "execution_count": 54,
   "metadata": {},
   "outputs": [
    {
     "name": "stdout",
     "output_type": "stream",
     "text": [
      "<class 'pandas.core.frame.DataFrame'>\n",
      "Int64Index: 21452 entries, 0 to 21524\n",
      "Data columns (total 13 columns):\n",
      " #   Column            Non-Null Count  Dtype  \n",
      "---  ------            --------------  -----  \n",
      " 0   children          21452 non-null  int64  \n",
      " 1   days_employed     21452 non-null  float64\n",
      " 2   dob_years         21452 non-null  int64  \n",
      " 3   education         21452 non-null  object \n",
      " 4   education_id      21452 non-null  int64  \n",
      " 5   family_status     21452 non-null  object \n",
      " 6   family_status_id  21452 non-null  int64  \n",
      " 7   gender            21452 non-null  object \n",
      " 8   income_type       21452 non-null  object \n",
      " 9   debt              21452 non-null  int64  \n",
      " 10  total_income      21452 non-null  float64\n",
      " 11  purpose           21452 non-null  object \n",
      " 12  categoria_idade   21452 non-null  object \n",
      "dtypes: float64(2), int64(5), object(6)\n",
      "memory usage: 2.3+ MB\n",
      "None\n",
      "(21452, 13)\n"
     ]
    }
   ],
   "source": [
    "# Verificando as entradas de todas as colunas do dataframe\n",
    "print(df_emprestimos.info())\n",
    "print(df_emprestimos.shape)"
   ]
  },
  {
   "cell_type": "markdown",
   "metadata": {},
   "source": [
    "## Categorização de dados\n",
    "\n",
    "Utilizarei a categorização para melhor visualizar as respostas as hipóteses."
   ]
  },
  {
   "cell_type": "code",
   "execution_count": 55,
   "metadata": {
    "scrolled": true
   },
   "outputs": [
    {
     "data": {
      "text/html": [
       "<div>\n",
       "<style scoped>\n",
       "    .dataframe tbody tr th:only-of-type {\n",
       "        vertical-align: middle;\n",
       "    }\n",
       "\n",
       "    .dataframe tbody tr th {\n",
       "        vertical-align: top;\n",
       "    }\n",
       "\n",
       "    .dataframe thead th {\n",
       "        text-align: right;\n",
       "    }\n",
       "</style>\n",
       "<table border=\"1\" class=\"dataframe\">\n",
       "  <thead>\n",
       "    <tr style=\"text-align: right;\">\n",
       "      <th></th>\n",
       "      <th>debt</th>\n",
       "      <th>children</th>\n",
       "      <th>family_status</th>\n",
       "      <th>total_income</th>\n",
       "      <th>purpose</th>\n",
       "    </tr>\n",
       "  </thead>\n",
       "  <tbody>\n",
       "    <tr>\n",
       "      <th>0</th>\n",
       "      <td>0</td>\n",
       "      <td>1</td>\n",
       "      <td>married</td>\n",
       "      <td>40620.102</td>\n",
       "      <td>purchase of the house</td>\n",
       "    </tr>\n",
       "    <tr>\n",
       "      <th>1</th>\n",
       "      <td>0</td>\n",
       "      <td>1</td>\n",
       "      <td>married</td>\n",
       "      <td>17932.802</td>\n",
       "      <td>car purchase</td>\n",
       "    </tr>\n",
       "    <tr>\n",
       "      <th>2</th>\n",
       "      <td>0</td>\n",
       "      <td>0</td>\n",
       "      <td>married</td>\n",
       "      <td>23341.752</td>\n",
       "      <td>purchase of the house</td>\n",
       "    </tr>\n",
       "    <tr>\n",
       "      <th>3</th>\n",
       "      <td>0</td>\n",
       "      <td>3</td>\n",
       "      <td>married</td>\n",
       "      <td>42820.568</td>\n",
       "      <td>supplementary education</td>\n",
       "    </tr>\n",
       "    <tr>\n",
       "      <th>4</th>\n",
       "      <td>0</td>\n",
       "      <td>0</td>\n",
       "      <td>civil partnership</td>\n",
       "      <td>25378.572</td>\n",
       "      <td>to have a wedding</td>\n",
       "    </tr>\n",
       "    <tr>\n",
       "      <th>...</th>\n",
       "      <td>...</td>\n",
       "      <td>...</td>\n",
       "      <td>...</td>\n",
       "      <td>...</td>\n",
       "      <td>...</td>\n",
       "    </tr>\n",
       "    <tr>\n",
       "      <th>21520</th>\n",
       "      <td>0</td>\n",
       "      <td>1</td>\n",
       "      <td>civil partnership</td>\n",
       "      <td>35966.698</td>\n",
       "      <td>housing transactions</td>\n",
       "    </tr>\n",
       "    <tr>\n",
       "      <th>21521</th>\n",
       "      <td>0</td>\n",
       "      <td>0</td>\n",
       "      <td>married</td>\n",
       "      <td>24959.969</td>\n",
       "      <td>purchase of a car</td>\n",
       "    </tr>\n",
       "    <tr>\n",
       "      <th>21522</th>\n",
       "      <td>1</td>\n",
       "      <td>1</td>\n",
       "      <td>civil partnership</td>\n",
       "      <td>14347.610</td>\n",
       "      <td>property</td>\n",
       "    </tr>\n",
       "    <tr>\n",
       "      <th>21523</th>\n",
       "      <td>1</td>\n",
       "      <td>3</td>\n",
       "      <td>married</td>\n",
       "      <td>39054.888</td>\n",
       "      <td>buying my own car</td>\n",
       "    </tr>\n",
       "    <tr>\n",
       "      <th>21524</th>\n",
       "      <td>0</td>\n",
       "      <td>2</td>\n",
       "      <td>married</td>\n",
       "      <td>13127.587</td>\n",
       "      <td>to buy a car</td>\n",
       "    </tr>\n",
       "  </tbody>\n",
       "</table>\n",
       "<p>21452 rows × 5 columns</p>\n",
       "</div>"
      ],
      "text/plain": [
       "       debt  children      family_status  total_income  \\\n",
       "0         0         1            married     40620.102   \n",
       "1         0         1            married     17932.802   \n",
       "2         0         0            married     23341.752   \n",
       "3         0         3            married     42820.568   \n",
       "4         0         0  civil partnership     25378.572   \n",
       "...     ...       ...                ...           ...   \n",
       "21520     0         1  civil partnership     35966.698   \n",
       "21521     0         0            married     24959.969   \n",
       "21522     1         1  civil partnership     14347.610   \n",
       "21523     1         3            married     39054.888   \n",
       "21524     0         2            married     13127.587   \n",
       "\n",
       "                       purpose  \n",
       "0        purchase of the house  \n",
       "1                 car purchase  \n",
       "2        purchase of the house  \n",
       "3      supplementary education  \n",
       "4            to have a wedding  \n",
       "...                        ...  \n",
       "21520     housing transactions  \n",
       "21521        purchase of a car  \n",
       "21522                 property  \n",
       "21523        buying my own car  \n",
       "21524             to buy a car  \n",
       "\n",
       "[21452 rows x 5 columns]"
      ]
     },
     "execution_count": 55,
     "metadata": {},
     "output_type": "execute_result"
    }
   ],
   "source": [
    "# Dados selecionados para categorização\n",
    "\n",
    "df_emprestimos.loc[:, ['debt', 'children', 'family_status', 'total_income', 'purpose']]"
   ]
  },
  {
   "cell_type": "markdown",
   "metadata": {},
   "source": [
    "[Vamos verificar valores exclusivos]"
   ]
  },
  {
   "cell_type": "code",
   "execution_count": 56,
   "metadata": {},
   "outputs": [
    {
     "name": "stdout",
     "output_type": "stream",
     "text": [
      "children                6\n",
      "days_employed       19351\n",
      "dob_years              57\n",
      "education               5\n",
      "education_id            5\n",
      "family_status           5\n",
      "family_status_id        5\n",
      "gender                  2\n",
      "income_type             8\n",
      "debt                    2\n",
      "total_income        19348\n",
      "purpose                38\n",
      "categoria_idade         3\n",
      "dtype: int64\n",
      "['purchase of the house' 'car purchase' 'supplementary education'\n",
      " 'to have a wedding' 'housing transactions' 'education' 'having a wedding'\n",
      " 'purchase of the house for my family' 'buy real estate'\n",
      " 'buy commercial real estate' 'buy residential real estate'\n",
      " 'construction of own property' 'property' 'building a property'\n",
      " 'buying a second-hand car' 'buying my own car'\n",
      " 'transactions with commercial real estate' 'building a real estate'\n",
      " 'housing' 'transactions with my real estate' 'cars' 'to become educated'\n",
      " 'second-hand car purchase' 'getting an education' 'car'\n",
      " 'wedding ceremony' 'to get a supplementary education'\n",
      " 'purchase of my own house' 'real estate transactions'\n",
      " 'getting higher education' 'to own a car' 'purchase of a car'\n",
      " 'profile education' 'university education'\n",
      " 'buying property for renting out' 'to buy a car' 'housing renovation'\n",
      " 'going to university']\n"
     ]
    }
   ],
   "source": [
    "# Verificando os valores exclusivos\n",
    "print(df_emprestimos.nunique())\n",
    "print(df_emprestimos['purpose'].unique())\n",
    "\n"
   ]
  },
  {
   "cell_type": "markdown",
   "metadata": {},
   "source": [
    "Os valores unicos da coluna 'purpose' são muito grandes e repetitivos. Criarei uma função que irá gerar uma categorização."
   ]
  },
  {
   "cell_type": "code",
   "execution_count": 57,
   "metadata": {},
   "outputs": [
    {
     "name": "stdout",
     "output_type": "stream",
     "text": [
      "new_categories: {0: 'house', 1: 'car', 2: 'house', 3: 'education', 4: 'wedding', 5: 'house', 6: 'house', 7: 'education', 8: 'wedding', 9: 'house', 10: 'real estate', 11: 'real estate', 12: 'wedding', 13: 'car', 14: 'real estate', 15: 'house', 16: 'house', 17: 'house', 18: 'car', 19: 'car', 20: 'house', 21: 'car', 22: 'car', 23: 'wedding', 24: 'real estate', 25: 'real estate', 26: 'education', 27: 'house', 28: 'house', 29: 'real estate', 30: 'real estate', 31: 'house', 32: 'wedding', 33: 'house', 34: 'real estate', 35: 'wedding', 36: 'car', 37: 'car', 38: 'education', 39: 'education', 40: 'real estate', 41: 'car', 42: 'education', 43: 'car', 44: 'car', 45: 'education', 46: 'car', 47: 'wedding', 48: 'house', 49: 'car', 50: 'car', 51: 'wedding', 52: 'education', 53: 'house', 54: 'car', 55: 'wedding', 56: 'education', 57: 'education', 58: 'house', 59: 'real estate', 60: 'education', 61: 'real estate', 62: 'education', 63: 'house', 64: 'car', 65: 'real estate', 66: 'education', 67: 'house', 68: 'real estate', 69: 'house', 70: 'real estate', 71: 'car', 72: 'real estate', 73: 'education', 74: 'house', 75: 'real estate', 76: 'car', 77: 'car', 78: 'car', 79: 'car', 80: 'car', 81: 'education', 82: 'house', 83: 'house', 84: 'real estate', 85: 'education', 86: 'wedding', 87: 'house', 88: 'wedding', 89: 'car', 90: 'house', 91: 'real estate', 92: 'wedding', 93: 'car', 94: 'wedding', 95: 'car', 96: 'real estate', 97: 'education', 98: 'house', 99: 'car', 100: 'real estate', 101: 'car', 102: 'car', 103: 'house', 104: 'house', 105: 'house', 106: 'education', 107: 'house', 108: 'car', 109: 'education', 110: 'house', 111: 'house', 112: 'house', 113: 'education', 114: 'real estate', 115: 'real estate', 116: 'real estate', 117: 'car', 118: 'wedding', 119: 'real estate', 120: 'education', 121: 'car', 122: 'car', 123: 'house', 124: 'real estate', 125: 'wedding', 126: 'house', 127: 'real estate', 128: 'car', 129: 'car', 130: 'real estate', 131: 'education', 132: 'car', 133: 'education', 134: 'real estate', 135: 'house', 136: 'real estate', 137: 'wedding', 138: 'house', 139: 'house', 140: 'real estate', 141: 'wedding', 142: 'car', 143: 'house', 144: 'car', 145: 'house', 146: 'house', 147: 'real estate', 148: 'car', 149: 'house', 150: 'wedding', 151: 'wedding', 152: 'house', 153: 'house', 154: 'real estate', 155: 'education', 156: 'education', 157: 'car', 158: 'education', 159: 'car', 160: 'house', 161: 'car', 162: 'education', 163: 'house', 164: 'car', 165: 'house', 166: 'house', 167: 'wedding', 168: 'house', 169: 'car', 170: 'house', 171: 'wedding', 172: 'house', 173: 'real estate', 174: 'car', 175: 'house', 176: 'education', 177: 'car', 178: 'car', 179: 'house', 180: 'wedding', 181: 'house', 182: 'wedding', 183: 'education', 184: 'house', 185: 'education', 186: 'real estate', 187: 'education', 188: 'house', 189: 'car', 190: 'wedding', 191: 'education', 192: 'car', 193: 'car', 194: 'education', 195: 'education', 196: 'house', 197: 'real estate', 198: 'car', 199: 'car', 200: 'house', 201: 'real estate', 202: 'real estate', 203: 'house', 204: 'real estate', 205: 'car', 206: 'education', 207: 'house', 208: 'education', 209: 'real estate', 210: 'real estate', 211: 'car', 212: 'car', 213: 'car', 214: 'house', 215: 'real estate', 216: 'education', 217: 'house', 218: 'car', 219: 'real estate', 220: 'wedding', 221: 'car', 222: 'real estate', 223: 'real estate', 224: 'house', 225: 'house', 226: 'education', 227: 'house', 228: 'house', 229: 'car', 230: 'wedding', 231: 'house', 232: 'wedding', 233: 'car', 234: 'education', 235: 'house', 236: 'car', 237: 'real estate', 238: 'wedding', 239: 'real estate', 240: 'real estate', 241: 'house', 242: 'house', 243: 'wedding', 244: 'education', 245: 'real estate', 246: 'house', 247: 'education', 248: 'real estate', 249: 'education', 250: 'car', 251: 'real estate', 252: 'house', 253: 'education', 254: 'house', 255: 'house', 256: 'education', 257: 'house', 258: 'wedding', 259: 'wedding', 260: 'house', 261: 'house', 262: 'real estate', 263: 'real estate', 264: 'house', 265: 'house', 266: 'house', 267: 'real estate', 268: 'house', 269: 'car', 270: 'house', 271: 'car', 272: 'education', 273: 'education', 274: 'wedding', 275: 'real estate', 276: 'house', 277: 'wedding', 278: 'car', 279: 'real estate', 280: 'house', 281: 'house', 282: 'house', 283: 'car', 284: 'car', 285: 'education', 286: 'car', 287: 'house', 288: 'house', 289: 'house', 290: 'education', 291: 'education', 292: 'house', 293: 'house', 294: 'wedding', 295: 'car', 296: 'house', 297: 'house', 298: 'car', 299: 'real estate', 300: 'wedding', 301: 'house', 302: 'real estate', 303: 'education', 304: 'real estate', 305: 'house', 306: 'real estate', 307: 'real estate', 308: 'house', 309: 'house', 310: 'real estate', 311: 'education', 312: 'house', 313: 'education', 314: 'real estate', 315: 'education', 316: 'house', 317: 'car', 318: 'car', 319: 'real estate', 320: 'car', 321: 'wedding', 322: 'wedding', 323: 'house', 324: 'real estate', 325: 'real estate', 326: 'real estate', 327: 'real estate', 328: 'car', 329: 'real estate', 330: 'house', 331: 'car', 332: 'education', 333: 'car', 334: 'car', 335: 'real estate', 336: 'house', 337: 'car', 338: 'real estate', 339: 'car', 340: 'real estate', 341: 'car', 342: 'car', 343: 'house', 344: 'real estate', 345: 'education', 346: 'education', 347: 'real estate', 348: 'house', 349: 'wedding', 350: 'house', 351: 'real estate', 352: 'car', 353: 'house', 354: 'real estate', 355: 'car', 356: 'real estate', 357: 'wedding', 358: 'house', 359: 'house', 360: 'house', 361: 'house', 362: 'house', 363: 'education', 364: 'education', 365: 'real estate', 366: 'wedding', 367: 'car', 368: 'house', 369: 'real estate', 370: 'car', 371: 'house', 372: 'education', 373: 'real estate', 374: 'car', 375: 'car', 376: 'education', 377: 'house', 378: 'house', 379: 'house', 380: 'wedding', 381: 'house', 382: 'car', 383: 'wedding', 384: 'house', 385: 'education', 386: 'house', 387: 'house', 388: 'car', 389: 'education', 390: 'real estate', 391: 'education', 392: 'education', 393: 'house', 394: 'real estate', 395: 'education', 396: 'car', 397: 'house', 398: 'house', 399: 'education', 400: 'house', 401: 'real estate', 402: 'real estate', 403: 'wedding', 404: 'wedding', 405: 'education', 406: 'education', 407: 'car', 408: 'real estate', 409: 'wedding', 410: 'real estate', 411: 'wedding', 412: 'wedding', 413: 'car', 414: 'house', 415: 'house', 416: 'education', 417: 'house', 418: 'house', 419: 'wedding', 420: 'car', 421: 'education', 422: 'real estate', 423: 'car', 424: 'real estate', 425: 'real estate', 426: 'education', 427: 'house', 428: 'house', 429: 'house', 430: 'wedding', 431: 'house', 432: 'house', 433: 'wedding', 434: 'education', 435: 'car', 436: 'house', 437: 'real estate', 438: 'car', 439: 'education', 440: 'education', 441: 'house', 442: 'car', 443: 'real estate', 444: 'car', 445: 'wedding', 446: 'education', 447: 'education', 448: 'house', 449: 'car', 450: 'wedding', 451: 'house', 452: 'house', 453: 'house', 454: 'real estate', 455: 'car', 456: 'wedding', 457: 'car', 458: 'wedding', 459: 'real estate', 460: 'house', 461: 'education', 462: 'wedding', 463: 'education', 464: 'house', 465: 'wedding', 466: 'education', 467: 'house', 468: 'real estate', 469: 'real estate', 470: 'car', 471: 'education', 472: 'education', 473: 'car', 474: 'house', 475: 'house', 476: 'wedding', 477: 'house', 478: 'car', 479: 'house', 480: 'house', 481: 'car', 482: 'real estate', 483: 'car', 484: 'car', 485: 'house', 486: 'wedding', 487: 'house', 488: 'real estate', 489: 'education', 490: 'car', 491: 'real estate', 492: 'wedding', 493: 'real estate', 494: 'car', 495: 'house', 496: 'education', 497: 'wedding', 498: 'real estate', 499: 'real estate', 500: 'real estate', 501: 'education', 502: 'house', 503: 'wedding', 504: 'wedding', 505: 'car', 506: 'education', 507: 'wedding', 508: 'house', 509: 'real estate', 510: 'real estate', 511: 'car', 512: 'house', 513: 'real estate', 514: 'wedding', 515: 'car', 516: 'real estate', 517: 'house', 518: 'real estate', 519: 'car', 520: 'wedding', 521: 'house', 522: 'car', 523: 'house', 524: 'car', 525: 'real estate', 526: 'house', 527: 'wedding', 528: 'wedding', 529: 'house', 530: 'house', 531: 'wedding', 532: 'wedding', 533: 'car', 534: 'real estate', 535: 'real estate', 536: 'real estate', 537: 'real estate', 538: 'real estate', 539: 'house', 540: 'education', 541: 'car', 542: 'house', 543: 'wedding', 544: 'education', 545: 'education', 546: 'car', 547: 'education', 548: 'house', 549: 'car', 550: 'education', 551: 'wedding', 552: 'car', 553: 'real estate', 554: 'real estate', 555: 'house', 556: 'house', 557: 'house', 558: 'house', 559: 'house', 560: 'real estate', 561: 'car', 562: 'car', 563: 'real estate', 564: 'car', 565: 'house', 566: 'real estate', 567: 'wedding', 568: 'wedding', 569: 'education', 570: 'real estate', 571: 'house', 572: 'house', 573: 'wedding', 574: 'wedding', 575: 'education', 576: 'car', 577: 'education', 578: 'house', 579: 'education', 580: 'education', 581: 'car', 582: 'wedding', 583: 'house', 584: 'real estate', 585: 'real estate', 586: 'house', 587: 'car', 588: 'real estate', 589: 'house', 590: 'car', 591: 'car', 592: 'wedding', 593: 'car', 594: 'house', 595: 'house', 596: 'house', 597: 'house', 598: 'house', 599: 'house', 600: 'wedding', 601: 'real estate', 602: 'house', 603: 'car', 604: 'car', 605: 'house', 606: 'house', 607: 'house', 608: 'real estate', 609: 'real estate', 610: 'car', 611: 'house', 612: 'house', 613: 'education', 614: 'real estate', 615: 'real estate', 616: 'house', 617: 'education', 618: 'car', 619: 'wedding', 620: 'education', 621: 'wedding', 622: 'car', 623: 'car', 624: 'wedding', 625: 'car', 626: 'house', 627: 'wedding', 628: 'education', 629: 'education', 630: 'education', 631: 'house', 632: 'house', 633: 'house', 634: 'car', 635: 'real estate', 636: 'real estate', 637: 'house', 638: 'real estate', 639: 'education', 640: 'real estate', 641: 'education', 642: 'car', 643: 'wedding', 644: 'house', 645: 'house', 646: 'real estate', 647: 'car', 648: 'car', 649: 'real estate', 650: 'house', 651: 'real estate', 652: 'car', 653: 'real estate', 654: 'house', 655: 'house', 656: 'house', 657: 'car', 658: 'education', 659: 'education', 660: 'house', 661: 'house', 662: 'house', 663: 'real estate', 664: 'real estate', 665: 'education', 666: 'car', 667: 'house', 668: 'car', 669: 'car', 670: 'real estate', 671: 'wedding', 672: 'house', 673: 'house', 674: 'wedding', 675: 'education', 676: 'education', 677: 'house', 678: 'house', 679: 'education', 680: 'house', 681: 'real estate', 682: 'wedding', 683: 'car', 684: 'house', 685: 'education', 686: 'house', 687: 'education', 688: 'house', 689: 'wedding', 690: 'house', 691: 'car', 692: 'house', 693: 'house', 694: 'car', 695: 'car', 696: 'real estate', 697: 'car', 698: 'car', 699: 'wedding', 700: 'education', 701: 'house', 702: 'education', 703: 'car', 704: 'house', 705: 'car', 706: 'house', 707: 'house', 708: 'house', 709: 'education', 710: 'real estate', 711: 'car', 712: 'house', 713: 'real estate', 714: 'house', 715: 'house', 716: 'real estate', 717: 'real estate', 718: 'car', 719: 'real estate', 720: 'real estate', 721: 'house', 722: 'car', 723: 'car', 724: 'car', 725: 'education', 726: 'real estate', 727: 'wedding', 728: 'house', 729: 'education', 730: 'education', 731: 'real estate', 732: 'education', 733: 'house', 734: 'house', 735: 'house', 736: 'house', 737: 'house', 738: 'house', 739: 'education', 740: 'wedding', 741: 'car', 742: 'education', 743: 'real estate', 744: 'house', 745: 'real estate', 746: 'house', 747: 'house', 748: 'real estate', 749: 'real estate', 750: 'education', 751: 'real estate', 752: 'wedding', 753: 'education', 754: 'real estate', 755: 'real estate', 756: 'car', 757: 'house', 758: 'real estate', 759: 'real estate', 760: 'wedding', 761: 'wedding', 762: 'house', 763: 'house', 764: 'education', 765: 'car', 766: 'house', 767: 'house', 768: 'house', 769: 'house', 770: 'real estate', 771: 'house', 772: 'education', 773: 'car', 774: 'education', 775: 'house', 776: 'real estate', 777: 'real estate', 778: 'education', 779: 'real estate', 780: 'house', 781: 'real estate', 782: 'house', 783: 'house', 784: 'real estate', 785: 'car', 786: 'car', 787: 'real estate', 788: 'house', 789: 'real estate', 790: 'education', 791: 'education', 792: 'real estate', 793: 'car', 794: 'real estate', 795: 'education', 796: 'wedding', 797: 'education', 798: 'wedding', 799: 'education', 800: 'education', 801: 'real estate', 802: 'education', 803: 'house', 804: 'real estate', 805: 'education', 806: 'real estate', 807: 'house', 808: 'car', 809: 'real estate', 810: 'car', 811: 'car', 812: 'car', 813: 'wedding', 814: 'house', 815: 'house', 816: 'education', 817: 'car', 818: 'wedding', 819: 'education', 820: 'wedding', 821: 'real estate', 822: 'real estate', 823: 'real estate', 824: 'house', 825: 'house', 826: 'education', 827: 'car', 828: 'house', 829: 'education', 830: 'house', 831: 'real estate', 832: 'education', 833: 'house', 834: 'house', 835: 'house', 836: 'house', 837: 'education', 838: 'house', 839: 'wedding', 840: 'house', 841: 'house', 842: 'car', 843: 'car', 844: 'house', 845: 'real estate', 846: 'wedding', 847: 'house', 848: 'car', 849: 'wedding', 850: 'house', 851: 'education', 852: 'education', 853: 'house', 854: 'real estate', 855: 'real estate', 856: 'real estate', 857: 'house', 858: 'house', 859: 'real estate', 860: 'car', 861: 'house', 862: 'house', 863: 'house', 864: 'real estate', 865: 'real estate', 866: 'real estate', 867: 'car', 868: 'house', 869: 'education', 870: 'car', 871: 'education', 872: 'real estate', 873: 'car', 874: 'education', 875: 'house', 876: 'house', 877: 'house', 878: 'house', 879: 'education', 880: 'car', 881: 'car', 882: 'real estate', 883: 'education', 884: 'car', 885: 'real estate', 886: 'wedding', 887: 'real estate', 888: 'house', 889: 'real estate', 890: 'real estate', 891: 'real estate', 892: 'real estate', 893: 'car', 894: 'real estate', 895: 'education', 896: 'house', 897: 'real estate', 898: 'car', 899: 'car', 900: 'wedding', 901: 'education', 902: 'house', 903: 'car', 904: 'wedding', 905: 'education', 906: 'wedding', 907: 'house', 908: 'car', 909: 'real estate', 910: 'wedding', 911: 'real estate', 912: 'car', 913: 'car', 914: 'house', 915: 'car', 916: 'education', 917: 'house', 918: 'education', 919: 'house', 920: 'real estate', 921: 'wedding', 922: 'car', 923: 'house', 924: 'real estate', 925: 'wedding', 926: 'education', 927: 'real estate', 928: 'car', 929: 'wedding', 930: 'education', 931: 'education', 932: 'house', 933: 'house', 934: 'house', 935: 'education', 936: 'wedding', 937: 'education', 938: 'car', 939: 'wedding', 940: 'wedding', 941: 'car', 942: 'house', 943: 'house', 944: 'car', 945: 'real estate', 946: 'car', 947: 'education', 948: 'education', 949: 'wedding', 950: 'car', 951: 'house', 952: 'car', 953: 'house', 954: 'house', 955: 'car', 956: 'car', 957: 'house', 958: 'real estate', 959: 'education', 960: 'education', 961: 'real estate', 962: 'real estate', 963: 'house', 964: 'real estate', 965: 'car', 966: 'house', 967: 'car', 968: 'car', 969: 'house', 970: 'house', 971: 'car', 972: 'car', 973: 'house', 974: 'education', 975: 'car', 976: 'education', 977: 'wedding', 978: 'house', 979: 'real estate', 980: 'education', 981: 'house', 982: 'car', 983: 'real estate', 984: 'house', 985: 'education', 986: 'education', 987: 'house', 988: 'house', 989: 'education', 990: 'wedding', 991: 'education', 992: 'car', 993: 'wedding', 994: 'education', 995: 'real estate', 996: 'education', 997: 'real estate', 998: 'education', 999: 'house', 1000: 'house', 1001: 'real estate', 1002: 'real estate', 1003: 'house', 1004: 'car', 1005: 'house', 1006: 'house', 1007: 'house', 1008: 'house', 1009: 'wedding', 1010: 'house', 1011: 'car', 1012: 'house', 1013: 'house', 1014: 'wedding', 1015: 'house', 1016: 'real estate', 1017: 'house', 1018: 'house', 1019: 'house', 1020: 'car', 1021: 'education', 1022: 'wedding', 1023: 'car', 1024: 'house', 1025: 'wedding', 1026: 'house', 1027: 'wedding', 1028: 'real estate', 1029: 'car', 1030: 'house', 1031: 'education', 1032: 'real estate', 1033: 'house', 1034: 'wedding', 1035: 'house', 1036: 'house', 1037: 'house', 1038: 'wedding', 1039: 'car', 1040: 'car', 1041: 'real estate', 1042: 'real estate', 1043: 'education', 1044: 'education', 1045: 'car', 1046: 'house', 1047: 'education', 1048: 'real estate', 1049: 'house', 1050: 'real estate', 1051: 'house', 1052: 'real estate', 1053: 'real estate', 1054: 'education', 1055: 'car', 1056: 'car', 1057: 'real estate', 1058: 'real estate', 1059: 'wedding', 1060: 'real estate', 1061: 'real estate', 1062: 'education', 1063: 'house', 1064: 'house', 1065: 'house', 1066: 'house', 1067: 'wedding', 1068: 'house', 1069: 'real estate', 1070: 'education', 1071: 'house', 1072: 'house', 1073: 'car', 1074: 'education', 1075: 'wedding', 1076: 'house', 1077: 'real estate', 1078: 'house', 1079: 'car', 1080: 'house', 1081: 'education', 1082: 'car', 1083: 'car', 1084: 'car', 1085: 'house', 1086: 'education', 1087: 'education', 1088: 'house', 1089: 'house', 1090: 'car', 1091: 'education', 1092: 'house', 1093: 'real estate', 1094: 'education', 1095: 'wedding', 1096: 'house', 1097: 'wedding', 1098: 'wedding', 1099: 'education', 1100: 'real estate', 1101: 'house', 1102: 'house', 1103: 'wedding', 1104: 'wedding', 1105: 'car', 1106: 'wedding', 1107: 'car', 1108: 'car', 1109: 'house', 1110: 'house', 1111: 'real estate', 1112: 'education', 1113: 'wedding', 1114: 'house', 1115: 'house', 1116: 'house', 1117: 'car', 1118: 'car', 1119: 'real estate', 1120: 'house', 1121: 'education', 1122: 'real estate', 1123: 'house', 1124: 'house', 1125: 'house', 1126: 'car', 1127: 'real estate', 1128: 'wedding', 1129: 'car', 1130: 'car', 1131: 'wedding', 1132: 'wedding', 1133: 'house', 1134: 'car', 1135: 'education', 1136: 'house', 1137: 'education', 1138: 'education', 1139: 'wedding', 1140: 'real estate', 1141: 'house', 1142: 'car', 1143: 'education', 1144: 'car', 1145: 'wedding', 1146: 'car', 1147: 'wedding', 1148: 'car', 1149: 'real estate', 1150: 'house', 1151: 'house', 1152: 'car', 1153: 'car', 1154: 'house', 1155: 'wedding', 1156: 'car', 1157: 'house', 1158: 'car', 1159: 'car', 1160: 'house', 1161: 'education', 1162: 'car', 1163: 'wedding', 1164: 'house', 1165: 'house', 1166: 'wedding', 1167: 'education', 1168: 'real estate', 1169: 'real estate', 1170: 'real estate', 1171: 'house', 1172: 'real estate', 1173: 'car', 1174: 'real estate', 1175: 'education', 1176: 'house', 1177: 'car', 1178: 'real estate', 1179: 'car', 1180: 'house', 1181: 'education', 1182: 'house', 1183: 'real estate', 1184: 'wedding', 1185: 'house', 1186: 'real estate', 1187: 'house', 1188: 'education', 1189: 'car', 1190: 'real estate', 1191: 'real estate', 1192: 'wedding', 1193: 'house', 1194: 'house', 1195: 'real estate', 1196: 'real estate', 1197: 'education', 1198: 'house', 1199: 'car', 1200: 'wedding', 1201: 'house', 1202: 'education', 1203: 'house', 1204: 'house', 1205: 'real estate', 1206: 'house', 1207: 'education', 1208: 'car', 1209: 'house', 1210: 'real estate', 1211: 'house', 1212: 'house', 1213: 'education', 1214: 'wedding', 1215: 'house', 1216: 'house', 1217: 'real estate', 1218: 'real estate', 1219: 'car', 1220: 'car', 1221: 'real estate', 1222: 'house', 1223: 'house', 1224: 'wedding', 1225: 'education', 1226: 'car', 1227: 'house', 1228: 'house', 1229: 'house', 1230: 'education', 1231: 'house', 1232: 'car', 1233: 'real estate', 1234: 'wedding', 1235: 'real estate', 1236: 'house', 1237: 'real estate', 1238: 'house', 1239: 'wedding', 1240: 'real estate', 1241: 'car', 1242: 'education', 1243: 'house', 1244: 'house', 1245: 'car', 1246: 'house', 1247: 'wedding', 1248: 'real estate', 1249: 'education', 1250: 'house', 1251: 'real estate', 1252: 'car', 1253: 'education', 1254: 'real estate', 1255: 'education', 1256: 'real estate', 1257: 'education', 1258: 'house', 1259: 'house', 1260: 'house', 1261: 'car', 1262: 'real estate', 1263: 'wedding', 1264: 'wedding', 1265: 'house', 1266: 'house', 1267: 'house', 1268: 'house', 1269: 'education', 1270: 'house', 1271: 'real estate', 1272: 'real estate', 1273: 'wedding', 1274: 'car', 1275: 'real estate', 1276: 'house', 1277: 'house', 1278: 'education', 1279: 'house', 1280: 'real estate', 1281: 'house', 1282: 'car', 1283: 'house', 1284: 'real estate', 1285: 'wedding', 1286: 'real estate', 1287: 'real estate', 1288: 'house', 1289: 'house', 1290: 'house', 1291: 'car', 1292: 'real estate', 1293: 'house', 1294: 'real estate', 1295: 'house', 1296: 'car', 1297: 'house', 1298: 'wedding', 1299: 'wedding', 1300: 'car', 1301: 'education', 1302: 'house', 1303: 'real estate', 1304: 'house', 1305: 'education', 1306: 'house', 1307: 'wedding', 1308: 'real estate', 1309: 'education', 1310: 'house', 1311: 'education', 1312: 'car', 1313: 'education', 1314: 'real estate', 1315: 'real estate', 1316: 'real estate', 1317: 'real estate', 1318: 'house', 1319: 'house', 1320: 'car', 1321: 'house', 1322: 'real estate', 1323: 'house', 1324: 'house', 1325: 'wedding', 1326: 'house', 1327: 'wedding', 1328: 'wedding', 1329: 'education', 1330: 'real estate', 1331: 'wedding', 1332: 'education', 1333: 'house', 1334: 'car', 1335: 'car', 1336: 'car', 1337: 'house', 1338: 'house', 1339: 'house', 1340: 'car', 1341: 'car', 1342: 'house', 1343: 'real estate', 1344: 'car', 1345: 'real estate', 1346: 'house', 1347: 'real estate', 1348: 'real estate', 1349: 'education', 1350: 'real estate', 1351: 'education', 1352: 'real estate', 1353: 'wedding', 1354: 'real estate', 1355: 'real estate', 1356: 'education', 1357: 'house', 1358: 'car', 1359: 'car', 1360: 'house', 1361: 'education', 1362: 'education', 1363: 'education', 1364: 'wedding', 1365: 'house', 1366: 'house', 1367: 'car', 1368: 'real estate', 1369: 'car', 1370: 'education', 1371: 'education', 1372: 'house', 1373: 'wedding', 1374: 'wedding', 1375: 'car', 1376: 'education', 1377: 'house', 1378: 'car', 1379: 'wedding', 1380: 'house', 1381: 'real estate', 1382: 'real estate', 1383: 'house', 1384: 'real estate', 1385: 'house', 1386: 'car', 1387: 'house', 1388: 'education', 1389: 'real estate', 1390: 'real estate', 1391: 'house', 1392: 'wedding', 1393: 'car', 1394: 'wedding', 1395: 'education', 1396: 'real estate', 1397: 'education', 1398: 'education', 1399: 'house', 1400: 'wedding', 1401: 'car', 1402: 'education', 1403: 'education', 1404: 'house', 1405: 'education', 1406: 'real estate', 1407: 'real estate', 1408: 'education', 1409: 'education', 1410: 'education', 1411: 'wedding', 1412: 'education', 1413: 'education', 1414: 'education', 1415: 'house', 1416: 'education', 1417: 'house', 1418: 'wedding', 1419: 'real estate', 1420: 'car', 1421: 'house', 1422: 'car', 1423: 'real estate', 1424: 'car', 1425: 'wedding', 1426: 'car', 1427: 'education', 1428: 'real estate', 1429: 'car', 1430: 'house', 1431: 'house', 1432: 'house', 1433: 'house', 1434: 'wedding', 1435: 'house', 1436: 'car', 1437: 'car', 1438: 'education', 1439: 'wedding', 1440: 'real estate', 1441: 'car', 1442: 'real estate', 1443: 'car', 1444: 'house', 1445: 'house', 1446: 'wedding', 1447: 'car', 1448: 'house', 1449: 'house', 1450: 'wedding', 1451: 'house', 1452: 'real estate', 1453: 'real estate', 1454: 'car', 1455: 'house', 1456: 'house', 1457: 'house', 1458: 'real estate', 1459: 'education', 1460: 'house', 1461: 'education', 1462: 'real estate', 1463: 'real estate', 1464: 'house', 1465: 'car', 1466: 'car', 1467: 'real estate', 1468: 'car', 1469: 'education', 1470: 'car', 1471: 'wedding', 1472: 'education', 1473: 'real estate', 1474: 'car', 1475: 'house', 1476: 'education', 1477: 'car', 1478: 'house', 1479: 'house', 1480: 'house', 1481: 'car', 1482: 'car', 1483: 'car', 1484: 'real estate', 1485: 'car', 1486: 'real estate', 1487: 'real estate', 1488: 'education', 1489: 'car', 1490: 'house', 1491: 'education', 1492: 'education', 1493: 'education', 1494: 'real estate', 1495: 'wedding', 1496: 'car', 1497: 'education', 1498: 'education', 1499: 'house', 1500: 'education', 1501: 'education', 1502: 'education', 1503: 'house', 1504: 'education', 1505: 'wedding', 1506: 'house', 1507: 'house', 1508: 'house', 1509: 'education', 1510: 'house', 1511: 'education', 1512: 'car', 1513: 'house', 1514: 'house', 1515: 'house', 1516: 'wedding', 1517: 'house', 1518: 'education', 1519: 'real estate', 1520: 'real estate', 1521: 'house', 1522: 'education', 1523: 'wedding', 1524: 'house', 1525: 'education', 1526: 'education', 1527: 'real estate', 1528: 'wedding', 1529: 'car', 1530: 'house', 1531: 'house', 1532: 'education', 1533: 'education', 1534: 'house', 1535: 'education', 1536: 'real estate', 1537: 'house', 1538: 'house', 1539: 'real estate', 1540: 'car', 1541: 'house', 1542: 'car', 1543: 'real estate', 1544: 'car', 1545: 'education', 1546: 'real estate', 1547: 'education', 1548: 'car', 1549: 'education', 1550: 'real estate', 1551: 'education', 1552: 'car', 1553: 'house', 1554: 'house', 1555: 'education', 1556: 'real estate', 1557: 'house', 1558: 'house', 1559: 'car', 1560: 'wedding', 1561: 'car', 1562: 'car', 1563: 'education', 1564: 'house', 1565: 'wedding', 1566: 'car', 1567: 'house', 1568: 'real estate', 1569: 'wedding', 1570: 'wedding', 1571: 'car', 1572: 'education', 1573: 'car', 1574: 'house', 1575: 'real estate', 1576: 'wedding', 1577: 'house', 1578: 'car', 1579: 'real estate', 1580: 'real estate', 1581: 'house', 1582: 'house', 1583: 'car', 1584: 'real estate', 1585: 'education', 1586: 'house', 1587: 'education', 1588: 'car', 1589: 'car', 1590: 'car', 1591: 'car', 1592: 'car', 1593: 'education', 1594: 'house', 1595: 'real estate', 1596: 'education', 1597: 'house', 1598: 'wedding', 1599: 'house', 1600: 'education', 1601: 'house', 1602: 'house', 1603: 'real estate', 1604: 'real estate', 1605: 'car', 1606: 'real estate', 1607: 'car', 1608: 'education', 1609: 'car', 1610: 'education', 1611: 'car', 1612: 'car', 1613: 'real estate', 1614: 'house', 1615: 'education', 1616: 'education', 1617: 'car', 1618: 'house', 1619: 'car', 1620: 'education', 1621: 'real estate', 1622: 'house', 1623: 'house', 1624: 'house', 1625: 'wedding', 1626: 'car', 1627: 'wedding', 1628: 'real estate', 1629: 'real estate', 1630: 'real estate', 1631: 'wedding', 1632: 'education', 1633: 'house', 1634: 'real estate', 1635: 'real estate', 1636: 'house', 1637: 'real estate', 1638: 'education', 1639: 'house', 1640: 'real estate', 1641: 'house', 1642: 'real estate', 1643: 'house', 1644: 'real estate', 1645: 'house', 1646: 'education', 1647: 'education', 1648: 'car', 1649: 'education', 1650: 'house', 1651: 'house', 1652: 'car', 1653: 'education', 1654: 'house', 1655: 'house', 1656: 'real estate', 1657: 'car', 1658: 'house', 1659: 'wedding', 1660: 'education', 1661: 'education', 1662: 'education', 1663: 'real estate', 1664: 'car', 1665: 'wedding', 1666: 'house', 1667: 'education', 1668: 'education', 1669: 'house', 1670: 'real estate', 1671: 'house', 1672: 'car', 1673: 'house', 1674: 'wedding', 1675: 'car', 1676: 'education', 1677: 'education', 1678: 'car', 1679: 'house', 1680: 'education', 1681: 'wedding', 1682: 'education', 1683: 'car', 1684: 'car', 1685: 'car', 1686: 'house', 1687: 'wedding', 1688: 'education', 1689: 'real estate', 1690: 'house', 1691: 'real estate', 1692: 'real estate', 1693: 'real estate', 1694: 'real estate', 1695: 'real estate', 1696: 'real estate', 1697: 'wedding', 1698: 'wedding', 1699: 'house', 1700: 'house', 1701: 'wedding', 1702: 'wedding', 1703: 'house', 1704: 'real estate', 1705: 'real estate', 1706: 'wedding', 1707: 'house', 1708: 'house', 1709: 'car', 1710: 'wedding', 1711: 'wedding', 1712: 'real estate', 1713: 'car', 1714: 'education', 1715: 'wedding', 1716: 'car', 1717: 'car', 1718: 'car', 1719: 'house', 1720: 'education', 1721: 'education', 1722: 'house', 1723: 'education', 1724: 'real estate', 1725: 'real estate', 1726: 'house', 1727: 'education', 1728: 'real estate', 1729: 'real estate', 1730: 'real estate', 1731: 'real estate', 1732: 'car', 1733: 'wedding', 1734: 'wedding', 1735: 'education', 1736: 'car', 1737: 'education', 1738: 'education', 1739: 'house', 1740: 'wedding', 1741: 'car', 1742: 'house', 1743: 'house', 1744: 'house', 1745: 'education', 1746: 'car', 1747: 'house', 1748: 'education', 1749: 'house', 1750: 'car', 1751: 'car', 1752: 'real estate', 1753: 'wedding', 1754: 'house', 1755: 'real estate', 1756: 'house', 1757: 'education', 1758: 'real estate', 1759: 'real estate', 1760: 'real estate', 1761: 'real estate', 1762: 'real estate', 1763: 'real estate', 1764: 'house', 1765: 'house', 1766: 'education', 1767: 'car', 1768: 'education', 1769: 'wedding', 1770: 'wedding', 1771: 'education', 1772: 'car', 1773: 'house', 1774: 'house', 1775: 'house', 1776: 'house', 1777: 'real estate', 1778: 'real estate', 1779: 'education', 1780: 'car', 1781: 'real estate', 1782: 'car', 1783: 'real estate', 1784: 'house', 1785: 'house', 1786: 'house', 1787: 'real estate', 1788: 'education', 1789: 'real estate', 1790: 'car', 1791: 'house', 1792: 'car', 1793: 'real estate', 1794: 'house', 1795: 'wedding', 1796: 'house', 1797: 'house', 1798: 'car', 1799: 'car', 1800: 'real estate', 1801: 'house', 1802: 'house', 1803: 'education', 1804: 'wedding', 1805: 'wedding', 1806: 'car', 1807: 'education', 1808: 'wedding', 1809: 'real estate', 1810: 'car', 1811: 'real estate', 1812: 'real estate', 1813: 'car', 1814: 'wedding', 1815: 'wedding', 1816: 'car', 1817: 'education', 1818: 'education', 1819: 'house', 1820: 'house', 1821: 'real estate', 1822: 'real estate', 1823: 'wedding', 1824: 'real estate', 1825: 'house', 1826: 'real estate', 1827: 'real estate', 1828: 'car', 1829: 'education', 1830: 'house', 1831: 'house', 1832: 'real estate', 1833: 'car', 1834: 'house', 1835: 'car', 1836: 'wedding', 1837: 'education', 1838: 'car', 1839: 'wedding', 1840: 'house', 1841: 'house', 1842: 'car', 1843: 'real estate', 1844: 'car', 1845: 'education', 1846: 'real estate', 1847: 'house', 1848: 'education', 1849: 'house', 1850: 'real estate', 1851: 'house', 1852: 'education', 1853: 'real estate', 1854: 'car', 1855: 'car', 1856: 'real estate', 1857: 'car', 1858: 'real estate', 1859: 'real estate', 1860: 'education', 1861: 'house', 1862: 'real estate', 1863: 'house', 1864: 'house', 1865: 'wedding', 1866: 'car', 1867: 'house', 1868: 'real estate', 1869: 'car', 1870: 'real estate', 1871: 'education', 1872: 'house', 1873: 'wedding', 1874: 'car', 1875: 'house', 1876: 'house', 1877: 'wedding', 1878: 'wedding', 1879: 'wedding', 1880: 'car', 1881: 'education', 1882: 'education', 1883: 'car', 1884: 'wedding', 1885: 'education', 1886: 'car', 1887: 'house', 1888: 'education', 1889: 'car', 1890: 'house', 1891: 'wedding', 1892: 'car', 1893: 'wedding', 1894: 'house', 1895: 'education', 1896: 'house', 1897: 'real estate', 1898: 'car', 1899: 'car', 1900: 'car', 1901: 'car', 1902: 'house', 1903: 'house', 1904: 'real estate', 1905: 'education', 1906: 'house', 1907: 'house', 1908: 'house', 1909: 'wedding', 1910: 'education', 1911: 'education', 1912: 'car', 1913: 'real estate', 1914: 'real estate', 1915: 'house', 1916: 'real estate', 1917: 'car', 1918: 'house', 1919: 'house', 1920: 'wedding', 1921: 'car', 1922: 'wedding', 1923: 'education', 1924: 'wedding', 1925: 'house', 1926: 'education', 1927: 'education', 1928: 'house', 1929: 'house', 1930: 'car', 1931: 'house', 1932: 'education', 1933: 'education', 1934: 'wedding', 1935: 'education', 1936: 'wedding', 1937: 'real estate', 1938: 'wedding', 1939: 'car', 1940: 'house', 1941: 'car', 1942: 'house', 1943: 'house', 1944: 'real estate', 1945: 'house', 1946: 'real estate', 1947: 'wedding', 1948: 'car', 1949: 'car', 1950: 'real estate', 1951: 'real estate', 1952: 'house', 1953: 'car', 1954: 'house', 1955: 'house', 1956: 'education', 1957: 'education', 1958: 'house', 1959: 'car', 1960: 'house', 1961: 'house', 1962: 'real estate', 1963: 'real estate', 1964: 'car', 1965: 'education', 1966: 'real estate', 1967: 'house', 1968: 'education', 1969: 'education', 1970: 'wedding', 1971: 'real estate', 1972: 'education', 1973: 'house', 1974: 'car', 1975: 'house', 1976: 'real estate', 1977: 'house', 1978: 'real estate', 1979: 'wedding', 1980: 'real estate', 1981: 'car', 1982: 'education', 1983: 'wedding', 1984: 'house', 1985: 'real estate', 1986: 'education', 1987: 'house', 1988: 'education', 1989: 'house', 1990: 'house', 1991: 'car', 1992: 'wedding', 1993: 'house', 1994: 'house', 1995: 'education', 1996: 'education', 1997: 'house', 1998: 'car', 1999: 'education', 2000: 'car', 2001: 'car', 2002: 'car', 2003: 'wedding', 2004: 'education', 2005: 'real estate', 2006: 'wedding', 2007: 'wedding', 2008: 'house', 2009: 'car', 2010: 'wedding', 2011: 'education', 2012: 'car', 2013: 'real estate', 2014: 'education', 2015: 'real estate', 2016: 'real estate', 2017: 'real estate', 2018: 'education', 2019: 'house', 2020: 'house', 2021: 'car', 2022: 'real estate', 2023: 'house', 2024: 'car', 2025: 'real estate', 2026: 'house', 2027: 'house', 2028: 'real estate', 2029: 'real estate', 2030: 'house', 2031: 'car', 2032: 'real estate', 2033: 'real estate', 2034: 'education', 2035: 'house', 2036: 'education', 2037: 'real estate', 2038: 'real estate', 2039: 'car', 2040: 'education', 2041: 'wedding', 2042: 'car', 2043: 'real estate', 2044: 'education', 2045: 'house', 2046: 'house', 2047: 'education', 2048: 'house', 2049: 'house', 2050: 'real estate', 2051: 'house', 2052: 'wedding', 2053: 'car', 2054: 'car', 2055: 'car', 2056: 'education', 2057: 'house', 2058: 'real estate', 2059: 'real estate', 2060: 'real estate', 2061: 'house', 2062: 'real estate', 2063: 'wedding', 2064: 'real estate', 2065: 'house', 2066: 'real estate', 2067: 'wedding', 2068: 'house', 2069: 'wedding', 2070: 'wedding', 2071: 'house', 2072: 'real estate', 2073: 'house', 2074: 'education', 2075: 'car', 2076: 'house', 2077: 'house', 2078: 'wedding', 2079: 'car', 2080: 'real estate', 2081: 'house', 2082: 'real estate', 2083: 'wedding', 2084: 'house', 2085: 'wedding', 2086: 'car', 2087: 'wedding', 2088: 'car', 2089: 'real estate', 2090: 'real estate', 2091: 'house', 2092: 'house', 2093: 'real estate', 2094: 'real estate', 2095: 'house', 2096: 'real estate', 2097: 'house', 2098: 'house', 2099: 'house', 2100: 'car', 2101: 'house', 2102: 'house', 2103: 'house', 2104: 'real estate', 2105: 'wedding', 2106: 'real estate', 2107: 'education', 2108: 'house', 2109: 'education', 2110: 'real estate', 2111: 'real estate', 2112: 'education', 2113: 'real estate', 2114: 'wedding', 2115: 'house', 2116: 'real estate', 2117: 'wedding', 2118: 'house', 2119: 'education', 2120: 'wedding', 2121: 'house', 2122: 'car', 2123: 'education', 2124: 'education', 2125: 'education', 2126: 'house', 2127: 'education', 2128: 'education', 2129: 'education', 2130: 'car', 2131: 'house', 2132: 'car', 2133: 'house', 2134: 'wedding', 2135: 'education', 2136: 'house', 2137: 'real estate', 2138: 'education', 2139: 'wedding', 2140: 'real estate', 2141: 'car', 2142: 'real estate', 2143: 'education', 2144: 'house', 2145: 'real estate', 2146: 'house', 2147: 'real estate', 2148: 'wedding', 2149: 'wedding', 2150: 'real estate', 2151: 'real estate', 2152: 'house', 2153: 'education', 2154: 'car', 2155: 'real estate', 2156: 'car', 2157: 'car', 2158: 'car', 2159: 'wedding', 2160: 'education', 2161: 'real estate', 2162: 'house', 2163: 'wedding', 2164: 'education', 2165: 'real estate', 2166: 'house', 2167: 'car', 2168: 'real estate', 2169: 'house', 2170: 'real estate', 2171: 'house', 2172: 'car', 2173: 'car', 2174: 'real estate', 2175: 'education', 2176: 'wedding', 2177: 'car', 2178: 'house', 2179: 'wedding', 2180: 'real estate', 2181: 'house', 2182: 'education', 2183: 'house', 2184: 'house', 2185: 'education', 2186: 'car', 2187: 'house', 2188: 'house', 2189: 'education', 2190: 'education', 2191: 'house', 2192: 'house', 2193: 'house', 2194: 'real estate', 2195: 'education', 2196: 'car', 2197: 'car', 2198: 'house', 2199: 'real estate', 2200: 'education', 2201: 'real estate', 2202: 'house', 2203: 'wedding', 2204: 'house', 2205: 'car', 2206: 'real estate', 2207: 'education', 2208: 'house', 2209: 'car', 2210: 'house', 2211: 'car', 2212: 'wedding', 2213: 'house', 2214: 'education', 2215: 'house', 2216: 'house', 2217: 'real estate', 2218: 'wedding', 2219: 'house', 2220: 'house', 2221: 'house', 2222: 'education', 2223: 'car', 2224: 'house', 2225: 'house', 2226: 'house', 2227: 'education', 2228: 'education', 2229: 'wedding', 2230: 'house', 2231: 'car', 2232: 'house', 2233: 'house', 2234: 'education', 2235: 'education', 2236: 'real estate', 2237: 'car', 2238: 'wedding', 2239: 'real estate', 2240: 'car', 2241: 'house', 2242: 'real estate', 2243: 'wedding', 2244: 'car', 2245: 'car', 2246: 'car', 2247: 'education', 2248: 'education', 2249: 'education', 2250: 'house', 2251: 'house', 2252: 'car', 2253: 'car', 2254: 'real estate', 2255: 'education', 2256: 'real estate', 2257: 'car', 2258: 'real estate', 2259: 'house', 2260: 'house', 2261: 'car', 2262: 'education', 2263: 'wedding', 2264: 'car', 2265: 'wedding', 2266: 'real estate', 2267: 'house', 2268: 'education', 2269: 'house', 2270: 'education', 2271: 'house', 2272: 'house', 2273: 'wedding', 2274: 'house', 2275: 'real estate', 2276: 'education', 2277: 'house', 2278: 'car', 2279: 'house', 2280: 'house', 2281: 'education', 2282: 'house', 2283: 'house', 2284: 'house', 2285: 'house', 2286: 'education', 2287: 'house', 2288: 'house', 2289: 'wedding', 2290: 'wedding', 2291: 'real estate', 2292: 'wedding', 2293: 'education', 2294: 'real estate', 2295: 'real estate', 2296: 'car', 2297: 'education', 2298: 'house', 2299: 'house', 2300: 'car', 2301: 'real estate', 2302: 'real estate', 2303: 'education', 2304: 'education', 2305: 'education', 2306: 'real estate', 2307: 'car', 2308: 'house', 2309: 'car', 2310: 'education', 2311: 'house', 2312: 'education', 2313: 'wedding', 2314: 'real estate', 2315: 'wedding', 2316: 'car', 2317: 'car', 2318: 'real estate', 2319: 'house', 2320: 'house', 2321: 'education', 2322: 'car', 2323: 'house', 2324: 'real estate', 2325: 'education', 2326: 'car', 2327: 'education', 2328: 'house', 2329: 'house', 2330: 'real estate', 2331: 'house', 2332: 'house', 2333: 'real estate', 2334: 'car', 2335: 'house', 2336: 'house', 2337: 'car', 2338: 'wedding', 2339: 'car', 2340: 'house', 2341: 'house', 2342: 'car', 2343: 'house', 2344: 'house', 2345: 'house', 2346: 'house', 2347: 'car', 2348: 'education', 2349: 'house', 2350: 'house', 2351: 'house', 2352: 'car', 2353: 'real estate', 2354: 'real estate', 2355: 'house', 2356: 'real estate', 2357: 'car', 2358: 'house', 2359: 'house', 2360: 'wedding', 2361: 'car', 2362: 'house', 2363: 'education', 2364: 'car', 2365: 'education', 2366: 'real estate', 2367: 'education', 2368: 'car', 2369: 'real estate', 2370: 'house', 2371: 'real estate', 2372: 'education', 2373: 'wedding', 2374: 'wedding', 2375: 'car', 2376: 'real estate', 2377: 'car', 2378: 'house', 2379: 'real estate', 2380: 'house', 2381: 'education', 2382: 'real estate', 2383: 'real estate', 2384: 'education', 2385: 'education', 2386: 'education', 2387: 'house', 2388: 'wedding', 2389: 'education', 2390: 'house', 2391: 'real estate', 2392: 'education', 2393: 'real estate', 2394: 'car', 2395: 'car', 2396: 'house', 2397: 'wedding', 2398: 'house', 2399: 'wedding', 2400: 'house', 2401: 'wedding', 2402: 'car', 2403: 'car', 2404: 'education', 2405: 'education', 2406: 'real estate', 2407: 'house', 2408: 'education', 2409: 'education', 2410: 'house', 2411: 'education', 2412: 'car', 2413: 'wedding', 2414: 'wedding', 2415: 'real estate', 2416: 'real estate', 2417: 'real estate', 2418: 'car', 2419: 'car', 2420: 'real estate', 2421: 'real estate', 2422: 'education', 2423: 'car', 2424: 'car', 2425: 'house', 2426: 'real estate', 2427: 'wedding', 2428: 'car', 2429: 'wedding', 2430: 'education', 2431: 'education', 2432: 'car', 2433: 'house', 2434: 'house', 2435: 'real estate', 2436: 'education', 2437: 'house', 2438: 'education', 2439: 'house', 2440: 'house', 2441: 'house', 2442: 'house', 2443: 'house', 2444: 'house', 2445: 'house', 2446: 'house', 2447: 'car', 2448: 'car', 2449: 'house', 2450: 'real estate', 2451: 'real estate', 2452: 'wedding', 2453: 'car', 2454: 'education', 2455: 'wedding', 2456: 'house', 2457: 'real estate', 2458: 'education', 2459: 'house', 2460: 'wedding', 2461: 'wedding', 2462: 'real estate', 2463: 'house', 2464: 'car', 2465: 'house', 2466: 'house', 2467: 'house', 2468: 'house', 2469: 'wedding', 2470: 'car', 2471: 'house', 2472: 'house', 2473: 'car', 2474: 'wedding', 2475: 'education', 2476: 'car', 2477: 'real estate', 2478: 'house', 2479: 'education', 2480: 'real estate', 2481: 'education', 2482: 'car', 2483: 'car', 2484: 'education', 2485: 'real estate', 2486: 'house', 2487: 'house', 2488: 'car', 2489: 'real estate', 2490: 'real estate', 2491: 'car', 2492: 'real estate', 2493: 'real estate', 2494: 'car', 2495: 'car', 2496: 'house', 2497: 'house', 2498: 'real estate', 2499: 'car', 2500: 'house', 2501: 'education', 2502: 'real estate', 2503: 'house', 2504: 'wedding', 2505: 'house', 2506: 'real estate', 2507: 'education', 2508: 'house', 2509: 'house', 2510: 'real estate', 2511: 'education', 2512: 'house', 2513: 'education', 2514: 'wedding', 2515: 'real estate', 2516: 'real estate', 2517: 'education', 2518: 'house', 2519: 'house', 2520: 'real estate', 2521: 'education', 2522: 'education', 2523: 'house', 2524: 'car', 2525: 'house', 2526: 'house', 2527: 'education', 2528: 'house', 2529: 'car', 2530: 'car', 2531: 'house', 2532: 'house', 2533: 'real estate', 2534: 'house', 2535: 'education', 2536: 'car', 2537: 'education', 2538: 'house', 2539: 'real estate', 2540: 'real estate', 2541: 'house', 2542: 'house', 2543: 'education', 2544: 'house', 2545: 'education', 2546: 'education', 2547: 'real estate', 2548: 'house', 2549: 'car', 2550: 'wedding', 2551: 'house', 2552: 'car', 2553: 'house', 2554: 'house', 2555: 'house', 2556: 'education', 2557: 'car', 2558: 'real estate', 2559: 'wedding', 2560: 'house', 2561: 'real estate', 2562: 'real estate', 2563: 'wedding', 2564: 'education', 2565: 'house', 2566: 'real estate', 2567: 'wedding', 2568: 'car', 2569: 'car', 2570: 'real estate', 2571: 'house', 2572: 'education', 2573: 'wedding', 2574: 'real estate', 2575: 'house', 2576: 'house', 2577: 'wedding', 2578: 'car', 2579: 'real estate', 2580: 'car', 2581: 'house', 2582: 'car', 2583: 'house', 2584: 'education', 2585: 'education', 2586: 'house', 2587: 'education', 2588: 'education', 2589: 'house', 2590: 'real estate', 2591: 'wedding', 2592: 'wedding', 2593: 'wedding', 2594: 'education', 2595: 'real estate', 2596: 'wedding', 2597: 'car', 2598: 'house', 2599: 'wedding', 2600: 'house', 2601: 'house', 2602: 'education', 2603: 'wedding', 2604: 'education', 2605: 'house', 2606: 'real estate', 2607: 'real estate', 2608: 'house', 2609: 'house', 2610: 'house', 2611: 'car', 2612: 'car', 2613: 'education', 2614: 'house', 2615: 'car', 2616: 'car', 2617: 'real estate', 2618: 'house', 2619: 'house', 2620: 'car', 2621: 'education', 2622: 'car', 2623: 'education', 2624: 'education', 2625: 'education', 2626: 'house', 2627: 'house', 2628: 'house', 2629: 'house', 2630: 'education', 2631: 'wedding', 2632: 'real estate', 2633: 'house', 2634: 'wedding', 2635: 'education', 2636: 'house', 2637: 'house', 2638: 'house', 2639: 'education', 2640: 'education', 2641: 'car', 2642: 'wedding', 2643: 'education', 2644: 'wedding', 2645: 'wedding', 2646: 'house', 2647: 'house', 2648: 'real estate', 2649: 'house', 2650: 'real estate', 2651: 'education', 2652: 'car', 2653: 'wedding', 2654: 'house', 2655: 'house', 2656: 'house', 2657: 'education', 2658: 'real estate', 2659: 'car', 2660: 'wedding', 2661: 'education', 2662: 'house', 2663: 'car', 2664: 'wedding', 2665: 'car', 2666: 'education', 2667: 'car', 2668: 'wedding', 2669: 'real estate', 2670: 'real estate', 2671: 'education', 2672: 'wedding', 2673: 'real estate', 2674: 'real estate', 2675: 'car', 2676: 'house', 2677: 'house', 2678: 'wedding', 2679: 'car', 2680: 'education', 2681: 'house', 2682: 'car', 2683: 'education', 2684: 'real estate', 2685: 'car', 2686: 'education', 2687: 'real estate', 2688: 'house', 2689: 'real estate', 2690: 'real estate', 2691: 'house', 2692: 'wedding', 2693: 'house', 2694: 'house', 2695: 'house', 2696: 'education', 2697: 'education', 2698: 'house', 2699: 'education', 2700: 'house', 2701: 'house', 2702: 'house', 2703: 'car', 2704: 'house', 2705: 'wedding', 2706: 'real estate', 2707: 'car', 2708: 'education', 2709: 'wedding', 2710: 'house', 2711: 'real estate', 2712: 'wedding', 2713: 'wedding', 2714: 'real estate', 2715: 'car', 2716: 'wedding', 2717: 'real estate', 2718: 'education', 2719: 'wedding', 2720: 'house', 2721: 'real estate', 2722: 'real estate', 2723: 'education', 2724: 'education', 2725: 'real estate', 2726: 'house', 2727: 'house', 2728: 'house', 2729: 'education', 2730: 'education', 2731: 'real estate', 2732: 'car', 2733: 'wedding', 2734: 'house', 2735: 'house', 2736: 'education', 2737: 'education', 2738: 'car', 2739: 'education', 2740: 'education', 2741: 'house', 2742: 'real estate', 2743: 'house', 2744: 'real estate', 2745: 'car', 2746: 'house', 2747: 'house', 2748: 'real estate', 2749: 'wedding', 2750: 'education', 2751: 'education', 2752: 'education', 2753: 'car', 2754: 'house', 2755: 'house', 2756: 'car', 2757: 'house', 2758: 'house', 2759: 'wedding', 2760: 'car', 2761: 'wedding', 2762: 'house', 2763: 'real estate', 2764: 'real estate', 2765: 'house', 2766: 'education', 2767: 'house', 2768: 'house', 2769: 'house', 2770: 'wedding', 2771: 'car', 2772: 'car', 2773: 'real estate', 2774: 'wedding', 2775: 'house', 2776: 'education', 2777: 'education', 2778: 'house', 2779: 'house', 2780: 'education', 2781: 'real estate', 2782: 'real estate', 2783: 'real estate', 2784: 'wedding', 2785: 'real estate', 2786: 'house', 2787: 'real estate', 2788: 'real estate', 2789: 'education', 2790: 'education', 2791: 'education', 2792: 'education', 2793: 'car', 2794: 'car', 2795: 'house', 2796: 'wedding', 2797: 'wedding', 2798: 'house', 2799: 'house', 2800: 'car', 2801: 'house', 2802: 'wedding', 2803: 'house', 2804: 'education', 2805: 'education', 2806: 'house', 2807: 'house', 2808: 'house', 2809: 'car', 2810: 'education', 2811: 'wedding', 2812: 'real estate', 2813: 'house', 2814: 'house', 2815: 'wedding', 2816: 'real estate', 2817: 'real estate', 2818: 'car', 2819: 'house', 2820: 'house', 2821: 'car', 2822: 'car', 2823: 'real estate', 2824: 'house', 2825: 'real estate', 2826: 'car', 2827: 'real estate', 2828: 'house', 2829: 'education', 2830: 'car', 2831: 'real estate', 2832: 'education', 2833: 'house', 2834: 'car', 2835: 'education', 2836: 'real estate', 2837: 'real estate', 2838: 'house', 2839: 'house', 2840: 'house', 2841: 'real estate', 2842: 'education', 2843: 'house', 2844: 'car', 2845: 'house', 2846: 'real estate', 2847: 'house', 2848: 'education', 2850: 'house', 2851: 'education', 2852: 'education', 2853: 'house', 2854: 'house', 2855: 'house', 2856: 'house', 2857: 'real estate', 2858: 'real estate', 2859: 'education', 2860: 'car', 2861: 'house', 2862: 'real estate', 2863: 'car', 2864: 'real estate', 2865: 'real estate', 2866: 'car', 2867: 'education', 2868: 'car', 2869: 'car', 2870: 'car', 2871: 'wedding', 2872: 'education', 2873: 'car', 2874: 'wedding', 2875: 'house', 2876: 'house', 2877: 'car', 2878: 'education', 2879: 'education', 2880: 'wedding', 2881: 'house', 2882: 'wedding', 2883: 'education', 2884: 'real estate', 2885: 'car', 2886: 'car', 2887: 'car', 2888: 'house', 2889: 'real estate', 2890: 'house', 2891: 'house', 2892: 'car', 2893: 'car', 2894: 'wedding', 2895: 'house', 2896: 'real estate', 2897: 'real estate', 2898: 'real estate', 2899: 'education', 2900: 'car', 2901: 'car', 2902: 'wedding', 2903: 'car', 2904: 'house', 2905: 'house', 2906: 'car', 2907: 'car', 2908: 'house', 2909: 'car', 2910: 'wedding', 2911: 'real estate', 2912: 'house', 2913: 'house', 2914: 'car', 2915: 'car', 2916: 'house', 2917: 'house', 2918: 'car', 2919: 'house', 2920: 'wedding', 2921: 'car', 2922: 'real estate', 2923: 'education', 2924: 'real estate', 2925: 'real estate', 2926: 'car', 2927: 'house', 2928: 'car', 2929: 'house', 2930: 'real estate', 2931: 'house', 2932: 'car', 2933: 'real estate', 2934: 'car', 2935: 'car', 2936: 'house', 2937: 'education', 2938: 'house', 2939: 'wedding', 2940: 'education', 2941: 'car', 2942: 'wedding', 2943: 'real estate', 2944: 'house', 2945: 'house', 2946: 'house', 2947: 'real estate', 2948: 'house', 2949: 'real estate', 2950: 'wedding', 2951: 'car', 2952: 'real estate', 2953: 'education', 2954: 'wedding', 2955: 'real estate', 2956: 'education', 2957: 'house', 2958: 'wedding', 2959: 'real estate', 2960: 'car', 2961: 'education', 2962: 'house', 2963: 'real estate', 2964: 'car', 2965: 'education', 2966: 'car', 2967: 'education', 2968: 'house', 2969: 'house', 2970: 'house', 2971: 'education', 2972: 'wedding', 2973: 'real estate', 2974: 'wedding', 2975: 'wedding', 2976: 'real estate', 2977: 'house', 2978: 'house', 2979: 'wedding', 2980: 'education', 2981: 'car', 2982: 'real estate', 2983: 'house', 2984: 'real estate', 2985: 'education', 2986: 'car', 2987: 'house', 2988: 'wedding', 2989: 'education', 2990: 'house', 2991: 'house', 2992: 'real estate', 2993: 'house', 2994: 'education', 2995: 'house', 2996: 'car', 2997: 'house', 2998: 'car', 2999: 'car', 3000: 'house', 3001: 'real estate', 3002: 'real estate', 3003: 'real estate', 3004: 'education', 3005: 'education', 3006: 'real estate', 3007: 'real estate', 3008: 'car', 3009: 'education', 3010: 'house', 3011: 'car', 3012: 'education', 3013: 'wedding', 3014: 'house', 3015: 'wedding', 3016: 'house', 3017: 'car', 3018: 'real estate', 3019: 'house', 3020: 'house', 3021: 'car', 3022: 'house', 3023: 'real estate', 3024: 'real estate', 3025: 'wedding', 3026: 'education', 3027: 'house', 3028: 'house', 3029: 'house', 3030: 'car', 3031: 'wedding', 3032: 'car', 3033: 'house', 3034: 'education', 3035: 'car', 3036: 'wedding', 3037: 'house', 3038: 'house', 3039: 'car', 3040: 'real estate', 3041: 'house', 3042: 'real estate', 3043: 'real estate', 3044: 'real estate', 3045: 'education', 3046: 'real estate', 3047: 'education', 3048: 'wedding', 3049: 'wedding', 3050: 'education', 3051: 'education', 3052: 'real estate', 3053: 'car', 3054: 'car', 3055: 'house', 3056: 'car', 3057: 'house', 3058: 'real estate', 3059: 'car', 3060: 'house', 3061: 'wedding', 3062: 'house', 3063: 'education', 3064: 'house', 3065: 'education', 3066: 'real estate', 3067: 'house', 3068: 'education', 3069: 'car', 3070: 'real estate', 3071: 'house', 3072: 'car', 3073: 'house', 3074: 'education', 3075: 'house', 3076: 'house', 3077: 'car', 3078: 'house', 3079: 'car', 3080: 'real estate', 3081: 'education', 3082: 'house', 3083: 'car', 3084: 'real estate', 3085: 'wedding', 3086: 'house', 3087: 'education', 3088: 'car', 3089: 'real estate', 3090: 'car', 3091: 'real estate', 3092: 'car', 3093: 'car', 3094: 'house', 3095: 'real estate', 3096: 'real estate', 3097: 'house', 3098: 'real estate', 3099: 'education', 3100: 'wedding', 3101: 'real estate', 3102: 'car', 3103: 'car', 3104: 'real estate', 3105: 'education', 3106: 'car', 3107: 'house', 3108: 'real estate', 3109: 'education', 3110: 'wedding', 3111: 'real estate', 3112: 'house', 3113: 'house', 3114: 'house', 3115: 'real estate', 3116: 'real estate', 3117: 'house', 3118: 'car', 3119: 'real estate', 3120: 'education', 3121: 'education', 3122: 'real estate', 3123: 'house', 3124: 'house', 3125: 'house', 3126: 'education', 3127: 'real estate', 3128: 'real estate', 3129: 'education', 3130: 'education', 3131: 'real estate', 3132: 'house', 3133: 'house', 3134: 'house', 3135: 'car', 3136: 'car', 3137: 'house', 3138: 'real estate', 3139: 'car', 3140: 'education', 3141: 'education', 3142: 'education', 3143: 'car', 3144: 'real estate', 3145: 'car', 3146: 'house', 3147: 'house', 3148: 'wedding', 3149: 'real estate', 3150: 'education', 3151: 'wedding', 3152: 'house', 3153: 'car', 3154: 'real estate', 3155: 'car', 3156: 'house', 3157: 'house', 3158: 'house', 3159: 'house', 3160: 'house', 3161: 'house', 3162: 'house', 3163: 'real estate', 3164: 'house', 3165: 'education', 3166: 'wedding', 3167: 'house', 3168: 'education', 3169: 'house', 3170: 'real estate', 3171: 'house', 3172: 'car', 3173: 'car', 3174: 'real estate', 3175: 'house', 3176: 'house', 3177: 'real estate', 3178: 'house', 3179: 'real estate', 3180: 'real estate', 3181: 'education', 3182: 'education', 3183: 'car', 3184: 'real estate', 3185: 'car', 3186: 'education', 3187: 'real estate', 3188: 'real estate', 3189: 'house', 3190: 'education', 3191: 'car', 3192: 'wedding', 3193: 'real estate', 3194: 'house', 3195: 'house', 3196: 'education', 3197: 'house', 3198: 'wedding', 3199: 'house', 3200: 'wedding', 3201: 'real estate', 3202: 'real estate', 3203: 'car', 3204: 'house', 3205: 'wedding', 3206: 'real estate', 3207: 'education', 3208: 'car', 3209: 'wedding', 3210: 'real estate', 3211: 'car', 3212: 'real estate', 3213: 'real estate', 3214: 'car', 3215: 'education', 3216: 'house', 3217: 'car', 3218: 'education', 3219: 'house', 3220: 'education', 3221: 'education', 3222: 'real estate', 3223: 'wedding', 3224: 'house', 3225: 'education', 3226: 'house', 3227: 'real estate', 3228: 'car', 3229: 'house', 3230: 'education', 3231: 'house', 3232: 'car', 3233: 'real estate', 3234: 'education', 3235: 'wedding', 3236: 'house', 3237: 'real estate', 3238: 'house', 3239: 'education', 3240: 'education', 3241: 'education', 3242: 'house', 3243: 'education', 3244: 'house', 3245: 'house', 3246: 'house', 3247: 'car', 3248: 'house', 3249: 'house', 3250: 'car', 3251: 'house', 3252: 'car', 3253: 'car', 3254: 'car', 3255: 'house', 3256: 'car', 3257: 'house', 3258: 'car', 3259: 'wedding', 3260: 'wedding', 3261: 'education', 3262: 'house', 3263: 'education', 3264: 'education', 3265: 'house', 3266: 'house', 3267: 'house', 3268: 'real estate', 3269: 'house', 3270: 'car', 3271: 'real estate', 3272: 'education', 3273: 'house', 3274: 'wedding', 3275: 'house', 3276: 'house', 3277: 'house', 3278: 'wedding', 3279: 'car', 3280: 'wedding', 3281: 'house', 3282: 'house', 3283: 'car', 3284: 'real estate', 3285: 'education', 3286: 'education', 3287: 'education', 3288: 'house', 3289: 'real estate', 3291: 'house', 3292: 'car', 3293: 'house', 3294: 'house', 3295: 'wedding', 3296: 'wedding', 3297: 'car', 3298: 'real estate', 3299: 'education', 3300: 'education', 3301: 'education', 3302: 'education', 3303: 'car', 3304: 'real estate', 3305: 'real estate', 3306: 'house', 3307: 'education', 3308: 'car', 3309: 'wedding', 3310: 'house', 3311: 'real estate', 3312: 'real estate', 3313: 'house', 3314: 'wedding', 3315: 'house', 3316: 'real estate', 3317: 'education', 3318: 'education', 3319: 'house', 3320: 'house', 3321: 'car', 3322: 'education', 3323: 'car', 3324: 'house', 3325: 'education', 3326: 'house', 3327: 'education', 3328: 'house', 3329: 'real estate', 3330: 'wedding', 3331: 'wedding', 3332: 'house', 3333: 'house', 3334: 'real estate', 3335: 'real estate', 3336: 'education', 3337: 'house', 3338: 'car', 3339: 'car', 3340: 'car', 3341: 'education', 3342: 'real estate', 3343: 'car', 3344: 'real estate', 3345: 'wedding', 3346: 'car', 3347: 'education', 3348: 'house', 3349: 'education', 3350: 'education', 3351: 'house', 3352: 'house', 3353: 'house', 3354: 'wedding', 3355: 'wedding', 3356: 'education', 3357: 'real estate', 3358: 'car', 3359: 'house', 3360: 'car', 3361: 'education', 3362: 'real estate', 3363: 'real estate', 3364: 'house', 3365: 'house', 3366: 'car', 3367: 'education', 3368: 'wedding', 3369: 'car', 3370: 'real estate', 3371: 'education', 3372: 'real estate', 3373: 'education', 3374: 'real estate', 3375: 'wedding', 3376: 'real estate', 3377: 'education', 3378: 'real estate', 3379: 'house', 3380: 'education', 3381: 'education', 3382: 'car', 3383: 'car', 3384: 'car', 3385: 'house', 3386: 'education', 3387: 'car', 3388: 'house', 3389: 'house', 3390: 'house', 3391: 'real estate', 3392: 'house', 3393: 'education', 3394: 'house', 3395: 'car', 3396: 'education', 3397: 'car', 3398: 'real estate', 3399: 'education', 3400: 'education', 3401: 'education', 3402: 'house', 3403: 'house', 3404: 'wedding', 3405: 'house', 3406: 'house', 3407: 'education', 3408: 'car', 3409: 'education', 3410: 'house', 3411: 'education', 3412: 'wedding', 3413: 'real estate', 3414: 'house', 3415: 'education', 3416: 'real estate', 3417: 'education', 3418: 'education', 3419: 'house', 3420: 'wedding', 3421: 'education', 3422: 'house', 3423: 'real estate', 3424: 'real estate', 3425: 'wedding', 3426: 'car', 3427: 'real estate', 3428: 'house', 3429: 'real estate', 3430: 'education', 3431: 'car', 3432: 'car', 3433: 'real estate', 3434: 'house', 3435: 'car', 3436: 'education', 3437: 'car', 3438: 'car', 3439: 'wedding', 3440: 'house', 3441: 'education', 3442: 'house', 3443: 'wedding', 3444: 'house', 3445: 'car', 3446: 'house', 3447: 'car', 3448: 'education', 3449: 'education', 3450: 'house', 3451: 'real estate', 3452: 'real estate', 3453: 'wedding', 3454: 'car', 3455: 'house', 3456: 'education', 3457: 'real estate', 3458: 'house', 3459: 'car', 3460: 'real estate', 3461: 'house', 3462: 'car', 3463: 'house', 3464: 'house', 3465: 'wedding', 3466: 'education', 3467: 'house', 3468: 'education', 3469: 'education', 3470: 'house', 3471: 'education', 3472: 'house', 3473: 'car', 3474: 'house', 3475: 'car', 3476: 'house', 3477: 'house', 3478: 'car', 3479: 'house', 3480: 'car', 3481: 'house', 3482: 'real estate', 3483: 'real estate', 3484: 'education', 3485: 'real estate', 3486: 'real estate', 3487: 'car', 3488: 'car', 3489: 'wedding', 3490: 'wedding', 3491: 'education', 3492: 'house', 3493: 'house', 3494: 'real estate', 3495: 'car', 3496: 'education', 3497: 'education', 3498: 'house', 3499: 'car', 3500: 'education', 3501: 'house', 3502: 'wedding', 3503: 'car', 3504: 'education', 3505: 'car', 3506: 'house', 3507: 'house', 3508: 'house', 3509: 'house', 3510: 'wedding', 3511: 'education', 3512: 'wedding', 3513: 'wedding', 3514: 'real estate', 3515: 'house', 3516: 'real estate', 3517: 'real estate', 3518: 'house', 3519: 'house', 3520: 'real estate', 3521: 'car', 3522: 'house', 3523: 'real estate', 3524: 'real estate', 3525: 'car', 3526: 'wedding', 3527: 'car', 3528: 'education', 3529: 'real estate', 3530: 'house', 3531: 'house', 3532: 'car', 3533: 'house', 3534: 'education', 3535: 'education', 3536: 'house', 3537: 'real estate', 3538: 'car', 3539: 'house', 3540: 'real estate', 3541: 'real estate', 3542: 'real estate', 3543: 'wedding', 3544: 'car', 3545: 'real estate', 3546: 'real estate', 3547: 'car', 3548: 'house', 3549: 'house', 3550: 'car', 3551: 'car', 3552: 'education', 3553: 'education', 3554: 'car', 3555: 'house', 3556: 'real estate', 3557: 'real estate', 3558: 'car', 3559: 'house', 3560: 'house', 3561: 'house', 3562: 'house', 3563: 'house', 3564: 'real estate', 3565: 'house', 3566: 'house', 3567: 'education', 3568: 'car', 3569: 'education', 3570: 'house', 3571: 'education', 3572: 'real estate', 3573: 'house', 3574: 'house', 3575: 'car', 3576: 'real estate', 3577: 'education', 3578: 'education', 3579: 'house', 3580: 'house', 3581: 'education', 3582: 'real estate', 3583: 'real estate', 3584: 'education', 3585: 'wedding', 3586: 'education', 3587: 'house', 3588: 'wedding', 3589: 'house', 3590: 'real estate', 3591: 'wedding', 3592: 'house', 3593: 'car', 3594: 'education', 3595: 'education', 3596: 'house', 3597: 'education', 3598: 'car', 3599: 'education', 3600: 'education', 3601: 'education', 3602: 'house', 3603: 'house', 3604: 'education', 3605: 'house', 3606: 'car', 3607: 'education', 3608: 'car', 3609: 'house', 3610: 'education', 3611: 'car', 3612: 'house', 3613: 'house', 3614: 'real estate', 3615: 'wedding', 3616: 'house', 3617: 'education', 3618: 'car', 3619: 'house', 3620: 'house', 3621: 'real estate', 3622: 'wedding', 3623: 'wedding', 3624: 'education', 3625: 'real estate', 3626: 'car', 3627: 'education', 3628: 'wedding', 3629: 'house', 3630: 'house', 3631: 'car', 3632: 'car', 3633: 'house', 3634: 'real estate', 3635: 'education', 3636: 'house', 3637: 'house', 3638: 'car', 3639: 'education', 3640: 'car', 3641: 'house', 3642: 'house', 3643: 'house', 3644: 'car', 3645: 'house', 3646: 'real estate', 3647: 'house', 3648: 'education', 3649: 'house', 3650: 'real estate', 3651: 'real estate', 3652: 'house', 3653: 'car', 3654: 'car', 3655: 'education', 3656: 'real estate', 3657: 'education', 3658: 'car', 3659: 'car', 3660: 'car', 3661: 'wedding', 3662: 'real estate', 3663: 'house', 3664: 'real estate', 3665: 'education', 3666: 'car', 3667: 'real estate', 3668: 'education', 3669: 'house', 3670: 'house', 3671: 'car', 3672: 'house', 3673: 'house', 3674: 'real estate', 3675: 'education', 3676: 'education', 3677: 'car', 3678: 'car', 3679: 'house', 3680: 'wedding', 3681: 'real estate', 3682: 'real estate', 3683: 'education', 3684: 'house', 3685: 'house', 3686: 'education', 3687: 'education', 3688: 'house', 3689: 'education', 3690: 'wedding', 3691: 'house', 3692: 'house', 3693: 'wedding', 3694: 'wedding', 3695: 'wedding', 3696: 'real estate', 3697: 'car', 3698: 'real estate', 3699: 'education', 3700: 'wedding', 3701: 'house', 3702: 'real estate', 3703: 'real estate', 3704: 'car', 3705: 'real estate', 3706: 'education', 3707: 'house', 3708: 'house', 3709: 'wedding', 3710: 'house', 3711: 'education', 3712: 'real estate', 3713: 'car', 3714: 'car', 3715: 'house', 3716: 'car', 3717: 'wedding', 3718: 'car', 3719: 'wedding', 3720: 'house', 3721: 'real estate', 3722: 'house', 3723: 'car', 3724: 'wedding', 3725: 'education', 3726: 'car', 3727: 'education', 3728: 'house', 3729: 'house', 3730: 'real estate', 3731: 'education', 3732: 'wedding', 3733: 'car', 3734: 'education', 3735: 'house', 3736: 'real estate', 3737: 'house', 3738: 'education', 3739: 'wedding', 3740: 'car', 3741: 'house', 3742: 'car', 3743: 'real estate', 3744: 'house', 3745: 'car', 3746: 'house', 3747: 'house', 3748: 'house', 3749: 'house', 3750: 'education', 3751: 'real estate', 3752: 'real estate', 3753: 'real estate', 3754: 'house', 3755: 'car', 3756: 'car', 3757: 'education', 3758: 'education', 3759: 'car', 3760: 'house', 3761: 'house', 3762: 'car', 3763: 'wedding', 3764: 'car', 3765: 'car', 3766: 'house', 3767: 'house', 3768: 'education', 3769: 'wedding', 3770: 'real estate', 3771: 'real estate', 3772: 'education', 3773: 'house', 3774: 'car', 3775: 'car', 3776: 'education', 3777: 'real estate', 3778: 'wedding', 3779: 'house', 3780: 'car', 3781: 'real estate', 3782: 'house', 3783: 'education', 3784: 'real estate', 3785: 'house', 3786: 'house', 3787: 'education', 3788: 'real estate', 3789: 'car', 3790: 'house', 3791: 'real estate', 3792: 'education', 3793: 'house', 3794: 'car', 3795: 'house', 3796: 'wedding', 3797: 'real estate', 3798: 'real estate', 3799: 'house', 3800: 'real estate', 3801: 'real estate', 3802: 'real estate', 3803: 'education', 3804: 'wedding', 3805: 'house', 3806: 'education', 3807: 'education', 3808: 'real estate', 3809: 'real estate', 3810: 'real estate', 3811: 'house', 3812: 'wedding', 3813: 'house', 3814: 'wedding', 3815: 'car', 3816: 'car', 3817: 'education', 3818: 'car', 3819: 'education', 3820: 'house', 3821: 'real estate', 3822: 'house', 3823: 'car', 3824: 'house', 3825: 'education', 3826: 'car', 3827: 'education', 3828: 'house', 3829: 'education', 3830: 'education', 3831: 'house', 3832: 'education', 3833: 'house', 3834: 'education', 3835: 'wedding', 3836: 'wedding', 3837: 'car', 3838: 'education', 3839: 'car', 3840: 'real estate', 3841: 'wedding', 3842: 'house', 3843: 'education', 3844: 'real estate', 3845: 'house', 3846: 'education', 3847: 'house', 3848: 'wedding', 3849: 'house', 3850: 'real estate', 3851: 'real estate', 3852: 'real estate', 3853: 'car', 3854: 'wedding', 3855: 'wedding', 3856: 'wedding', 3857: 'car', 3858: 'car', 3859: 'house', 3860: 'education', 3861: 'real estate', 3862: 'house', 3863: 'education', 3864: 'car', 3865: 'house', 3866: 'car', 3867: 'house', 3868: 'house', 3869: 'house', 3870: 'real estate', 3871: 'education', 3872: 'wedding', 3873: 'education', 3874: 'house', 3875: 'house', 3876: 'car', 3877: 'car', 3878: 'car', 3879: 'real estate', 3880: 'wedding', 3881: 'real estate', 3882: 'real estate', 3883: 'real estate', 3884: 'car', 3885: 'education', 3886: 'real estate', 3887: 'car', 3888: 'wedding', 3889: 'wedding', 3890: 'car', 3891: 'house', 3892: 'real estate', 3893: 'real estate', 3894: 'house', 3895: 'real estate', 3896: 'real estate', 3897: 'car', 3898: 'house', 3899: 'house', 3900: 'car', 3901: 'car', 3902: 'car', 3903: 'car', 3904: 'wedding', 3905: 'house', 3906: 'education', 3907: 'house', 3908: 'real estate', 3909: 'car', 3910: 'car', 3911: 'wedding', 3912: 'car', 3913: 'real estate', 3914: 'wedding', 3915: 'education', 3916: 'real estate', 3917: 'real estate', 3918: 'car', 3919: 'house', 3920: 'real estate', 3921: 'car', 3922: 'car', 3923: 'wedding', 3924: 'wedding', 3925: 'real estate', 3926: 'education', 3927: 'house', 3928: 'house', 3929: 'education', 3930: 'education', 3931: 'car', 3932: 'house', 3933: 'real estate', 3934: 'house', 3935: 'car', 3936: 'real estate', 3937: 'car', 3938: 'car', 3939: 'house', 3940: 'real estate', 3941: 'house', 3942: 'house', 3943: 'car', 3944: 'car', 3945: 'real estate', 3946: 'car', 3947: 'car', 3948: 'car', 3949: 'house', 3950: 'real estate', 3951: 'real estate', 3952: 'education', 3953: 'education', 3954: 'real estate', 3955: 'education', 3956: 'house', 3957: 'real estate', 3958: 'education', 3959: 'real estate', 3960: 'education', 3961: 'education', 3962: 'house', 3963: 'education', 3964: 'car', 3965: 'house', 3966: 'house', 3967: 'car', 3968: 'education', 3969: 'car', 3970: 'car', 3971: 'real estate', 3972: 'real estate', 3973: 'education', 3974: 'wedding', 3975: 'wedding', 3976: 'car', 3977: 'real estate', 3978: 'education', 3979: 'car', 3980: 'wedding', 3981: 'house', 3982: 'house', 3983: 'house', 3984: 'wedding', 3985: 'wedding', 3986: 'car', 3987: 'real estate', 3988: 'education', 3989: 'education', 3990: 'house', 3991: 'education', 3992: 'real estate', 3993: 'car', 3994: 'house', 3995: 'car', 3996: 'house', 3997: 'education', 3998: 'wedding', 3999: 'car', 4000: 'education', 4001: 'wedding', 4002: 'education', 4003: 'car', 4004: 'education', 4005: 'education', 4006: 'house', 4007: 'house', 4008: 'house', 4009: 'real estate', 4010: 'education', 4011: 'house', 4012: 'car', 4013: 'real estate', 4014: 'real estate', 4015: 'wedding', 4016: 'car', 4017: 'real estate', 4018: 'house', 4019: 'house', 4020: 'house', 4021: 'education', 4022: 'house', 4023: 'real estate', 4024: 'house', 4025: 'car', 4026: 'education', 4027: 'wedding', 4028: 'real estate', 4029: 'wedding', 4030: 'house', 4031: 'house', 4032: 'real estate', 4033: 'car', 4034: 'real estate', 4035: 'real estate', 4036: 'house', 4037: 'house', 4038: 'education', 4039: 'education', 4040: 'car', 4041: 'real estate', 4042: 'car', 4043: 'education', 4044: 'house', 4045: 'wedding', 4046: 'real estate', 4047: 'car', 4048: 'real estate', 4049: 'real estate', 4050: 'education', 4051: 'education', 4052: 'wedding', 4053: 'education', 4054: 'car', 4055: 'education', 4056: 'wedding', 4057: 'house', 4058: 'real estate', 4059: 'house', 4060: 'education', 4061: 'car', 4062: 'house', 4063: 'house', 4064: 'house', 4065: 'house', 4066: 'house', 4067: 'house', 4068: 'house', 4069: 'education', 4070: 'wedding', 4071: 'house', 4072: 'house', 4073: 'house', 4074: 'education', 4075: 'house', 4076: 'house', 4077: 'wedding', 4078: 'wedding', 4079: 'car', 4080: 'real estate', 4081: 'real estate', 4082: 'real estate', 4083: 'education', 4084: 'house', 4085: 'car', 4086: 'real estate', 4087: 'car', 4088: 'house', 4089: 'wedding', 4090: 'real estate', 4091: 'car', 4092: 'house', 4093: 'car', 4094: 'house', 4095: 'house', 4096: 'car', 4097: 'house', 4098: 'wedding', 4099: 'car', 4100: 'house', 4101: 'house', 4102: 'education', 4103: 'education', 4104: 'wedding', 4105: 'car', 4106: 'car', 4107: 'real estate', 4108: 'education', 4109: 'education', 4110: 'wedding', 4111: 'house', 4112: 'wedding', 4113: 'real estate', 4114: 'house', 4115: 'education', 4116: 'house', 4117: 'car', 4118: 'car', 4119: 'real estate', 4120: 'car', 4121: 'real estate', 4122: 'real estate', 4123: 'house', 4124: 'house', 4125: 'car', 4126: 'house', 4127: 'wedding', 4128: 'house', 4129: 'real estate', 4130: 'house', 4131: 'real estate', 4132: 'car', 4133: 'car', 4134: 'real estate', 4135: 'house', 4136: 'education', 4137: 'education', 4138: 'real estate', 4139: 'real estate', 4140: 'education', 4141: 'education', 4142: 'house', 4143: 'education', 4144: 'car', 4145: 'wedding', 4146: 'house', 4147: 'real estate', 4148: 'car', 4149: 'real estate', 4150: 'house', 4151: 'car', 4152: 'house', 4153: 'education', 4154: 'real estate', 4155: 'education', 4156: 'education', 4157: 'education', 4158: 'car', 4159: 'car', 4160: 'house', 4161: 'house', 4162: 'house', 4163: 'house', 4164: 'real estate', 4165: 'house', 4166: 'house', 4167: 'education', 4168: 'car', 4169: 'education', 4170: 'real estate', 4171: 'wedding', 4172: 'real estate', 4173: 'car', 4174: 'real estate', 4175: 'wedding', 4176: 'house', 4177: 'car', 4178: 'real estate', 4179: 'house', 4180: 'house', 4181: 'real estate', 4183: 'car', 4184: 'education', 4185: 'car', 4186: 'education', 4187: 'education', 4188: 'wedding', 4189: 'real estate', 4190: 'real estate', 4191: 'real estate', 4192: 'car', 4193: 'real estate', 4194: 'house', 4195: 'real estate', 4196: 'house', 4197: 'wedding', 4198: 'car', 4199: 'wedding', 4200: 'wedding', 4201: 'real estate', 4202: 'real estate', 4203: 'house', 4204: 'house', 4205: 'real estate', 4206: 'real estate', 4207: 'education', 4208: 'car', 4209: 'real estate', 4210: 'car', 4211: 'real estate', 4212: 'real estate', 4213: 'wedding', 4214: 'education', 4215: 'education', 4216: 'real estate', 4217: 'real estate', 4218: 'wedding', 4219: 'education', 4220: 'real estate', 4221: 'car', 4222: 'house', 4223: 'house', 4224: 'wedding', 4225: 'car', 4226: 'house', 4227: 'real estate', 4228: 'real estate', 4229: 'house', 4230: 'car', 4231: 'real estate', 4232: 'car', 4233: 'house', 4234: 'real estate', 4235: 'car', 4236: 'house', 4237: 'house', 4238: 'education', 4239: 'education', 4240: 'education', 4241: 'real estate', 4242: 'real estate', 4243: 'car', 4244: 'education', 4245: 'education', 4246: 'education', 4247: 'house', 4248: 'real estate', 4249: 'house', 4250: 'car', 4251: 'real estate', 4252: 'house', 4253: 'house', 4254: 'real estate', 4255: 'wedding', 4256: 'house', 4257: 'car', 4258: 'education', 4259: 'education', 4260: 'education', 4261: 'house', 4262: 'house', 4263: 'education', 4264: 'house', 4265: 'real estate', 4266: 'education', 4267: 'real estate', 4268: 'house', 4269: 'car', 4270: 'car', 4271: 'wedding', 4272: 'real estate', 4273: 'house', 4274: 'car', 4275: 'house', 4276: 'real estate', 4277: 'house', 4278: 'house', 4279: 'house', 4280: 'house', 4281: 'house', 4282: 'real estate', 4283: 'house', 4284: 'car', 4285: 'car', 4286: 'wedding', 4287: 'education', 4288: 'real estate', 4289: 'house', 4290: 'house', 4291: 'house', 4292: 'real estate', 4293: 'real estate', 4294: 'house', 4295: 'house', 4296: 'wedding', 4297: 'house', 4298: 'house', 4299: 'house', 4300: 'house', 4301: 'house', 4302: 'education', 4303: 'house', 4304: 'education', 4305: 'real estate', 4306: 'real estate', 4307: 'education', 4308: 'wedding', 4309: 'car', 4310: 'education', 4311: 'house', 4312: 'house', 4313: 'house', 4314: 'real estate', 4315: 'house', 4316: 'education', 4317: 'house', 4318: 'house', 4319: 'house', 4320: 'house', 4321: 'wedding', 4322: 'education', 4323: 'house', 4324: 'wedding', 4325: 'car', 4326: 'house', 4327: 'real estate', 4328: 'house', 4329: 'education', 4330: 'house', 4331: 'house', 4332: 'house', 4333: 'house', 4334: 'wedding', 4335: 'car', 4336: 'car', 4337: 'house', 4338: 'house', 4339: 'house', 4340: 'house', 4341: 'wedding', 4342: 'education', 4343: 'real estate', 4344: 'wedding', 4345: 'car', 4346: 'education', 4347: 'real estate', 4348: 'education', 4349: 'house', 4350: 'car', 4351: 'car', 4352: 'real estate', 4353: 'car', 4354: 'car', 4355: 'real estate', 4356: 'wedding', 4357: 'education', 4358: 'car', 4359: 'house', 4360: 'real estate', 4361: 'real estate', 4362: 'education', 4363: 'house', 4364: 'wedding', 4365: 'car', 4366: 'real estate', 4367: 'education', 4368: 'education', 4369: 'real estate', 4370: 'car', 4371: 'real estate', 4372: 'house', 4373: 'house', 4374: 'house', 4375: 'car', 4376: 'real estate', 4377: 'house', 4378: 'car', 4379: 'car', 4380: 'real estate', 4381: 'house', 4382: 'car', 4383: 'house', 4384: 'education', 4385: 'real estate', 4386: 'real estate', 4387: 'real estate', 4388: 'house', 4389: 'wedding', 4390: 'house', 4391: 'wedding', 4392: 'house', 4393: 'real estate', 4394: 'house', 4395: 'house', 4396: 'education', 4397: 'real estate', 4398: 'wedding', 4399: 'house', 4400: 'real estate', 4401: 'education', 4402: 'real estate', 4403: 'real estate', 4404: 'real estate', 4405: 'education', 4406: 'wedding', 4407: 'real estate', 4408: 'real estate', 4409: 'real estate', 4410: 'car', 4411: 'car', 4412: 'house', 4413: 'wedding', 4414: 'education', 4415: 'education', 4416: 'real estate', 4417: 'house', 4418: 'real estate', 4419: 'real estate', 4420: 'real estate', 4421: 'house', 4422: 'house', 4423: 'car', 4424: 'real estate', 4425: 'real estate', 4426: 'education', 4427: 'education', 4428: 'car', 4429: 'real estate', 4430: 'education', 4431: 'education', 4432: 'real estate', 4433: 'car', 4434: 'car', 4435: 'car', 4436: 'car', 4437: 'education', 4438: 'car', 4439: 'car', 4440: 'car', 4441: 'real estate', 4442: 'car', 4443: 'house', 4444: 'car', 4445: 'house', 4446: 'real estate', 4447: 'car', 4448: 'real estate', 4449: 'house', 4450: 'car', 4451: 'wedding', 4452: 'real estate', 4453: 'house', 4454: 'real estate', 4455: 'real estate', 4456: 'real estate', 4457: 'car', 4458: 'education', 4459: 'house', 4460: 'wedding', 4461: 'house', 4462: 'education', 4463: 'real estate', 4464: 'real estate', 4465: 'car', 4466: 'wedding', 4467: 'house', 4468: 'wedding', 4469: 'real estate', 4470: 'wedding', 4471: 'car', 4472: 'car', 4473: 'house', 4474: 'house', 4475: 'real estate', 4476: 'house', 4477: 'real estate', 4478: 'house', 4479: 'real estate', 4480: 'real estate', 4481: 'house', 4482: 'car', 4483: 'education', 4484: 'car', 4485: 'house', 4486: 'wedding', 4487: 'real estate', 4488: 'real estate', 4489: 'education', 4490: 'education', 4491: 'real estate', 4492: 'car', 4493: 'wedding', 4494: 'education', 4495: 'real estate', 4496: 'education', 4497: 'wedding', 4498: 'car', 4499: 'real estate', 4500: 'real estate', 4501: 'car', 4502: 'real estate', 4503: 'house', 4504: 'house', 4505: 'education', 4506: 'real estate', 4507: 'real estate', 4508: 'house', 4509: 'education', 4510: 'wedding', 4511: 'real estate', 4512: 'wedding', 4513: 'car', 4514: 'education', 4515: 'house', 4516: 'house', 4517: 'education', 4518: 'house', 4519: 'education', 4520: 'house', 4521: 'education', 4522: 'education', 4523: 'house', 4524: 'house', 4525: 'education', 4526: 'car', 4527: 'house', 4528: 'house', 4529: 'wedding', 4530: 'house', 4531: 'wedding', 4532: 'house', 4533: 'house', 4534: 'house', 4535: 'car', 4536: 'education', 4537: 'car', 4538: 'car', 4539: 'house', 4540: 'car', 4541: 'wedding', 4542: 'education', 4543: 'car', 4544: 'education', 4545: 'wedding', 4546: 'house', 4547: 'education', 4548: 'house', 4549: 'education', 4550: 'car', 4551: 'wedding', 4552: 'real estate', 4553: 'real estate', 4554: 'education', 4555: 'wedding', 4556: 'real estate', 4557: 'car', 4558: 'house', 4559: 'house', 4560: 'car', 4561: 'house', 4562: 'house', 4563: 'education', 4564: 'house', 4565: 'house', 4566: 'education', 4567: 'education', 4568: 'house', 4569: 'house', 4570: 'wedding', 4571: 'real estate', 4572: 'house', 4573: 'car', 4574: 'education', 4575: 'house', 4576: 'house', 4577: 'education', 4578: 'house', 4579: 'real estate', 4580: 'education', 4581: 'real estate', 4582: 'car', 4583: 'house', 4584: 'house', 4585: 'house', 4586: 'car', 4587: 'house', 4588: 'education', 4589: 'house', 4590: 'wedding', 4591: 'real estate', 4592: 'house', 4593: 'house', 4594: 'house', 4595: 'car', 4596: 'real estate', 4597: 'car', 4598: 'real estate', 4599: 'real estate', 4600: 'wedding', 4601: 'house', 4602: 'real estate', 4603: 'real estate', 4604: 'house', 4605: 'car', 4606: 'car', 4607: 'education', 4608: 'wedding', 4609: 'real estate', 4610: 'real estate', 4611: 'education', 4612: 'education', 4613: 'real estate', 4614: 'real estate', 4615: 'house', 4616: 'house', 4617: 'education', 4618: 'house', 4619: 'education', 4620: 'wedding', 4621: 'house', 4622: 'car', 4623: 'house', 4624: 'house', 4625: 'car', 4626: 'car', 4627: 'wedding', 4628: 'house', 4629: 'real estate', 4630: 'education', 4631: 'education', 4632: 'education', 4633: 'real estate', 4634: 'education', 4635: 'car', 4636: 'education', 4637: 'wedding', 4638: 'real estate', 4639: 'real estate', 4640: 'wedding', 4641: 'education', 4642: 'house', 4643: 'house', 4644: 'car', 4645: 'education', 4646: 'education', 4647: 'real estate', 4648: 'car', 4649: 'wedding', 4650: 'real estate', 4651: 'house', 4652: 'car', 4653: 'education', 4654: 'education', 4655: 'car', 4656: 'education', 4657: 'wedding', 4658: 'house', 4659: 'education', 4660: 'education', 4661: 'house', 4662: 'house', 4663: 'real estate', 4664: 'car', 4665: 'wedding', 4666: 'real estate', 4667: 'real estate', 4668: 'wedding', 4669: 'house', 4670: 'car', 4671: 'real estate', 4672: 'education', 4673: 'house', 4674: 'car', 4675: 'car', 4676: 'education', 4677: 'education', 4678: 'real estate', 4679: 'real estate', 4680: 'real estate', 4681: 'house', 4682: 'house', 4683: 'house', 4684: 'house', 4685: 'car', 4686: 'real estate', 4687: 'car', 4688: 'wedding', 4689: 'wedding', 4690: 'house', 4691: 'house', 4692: 'house', 4693: 'real estate', 4694: 'house', 4695: 'wedding', 4696: 'car', 4697: 'real estate', 4698: 'car', 4699: 'car', 4700: 'wedding', 4701: 'wedding', 4702: 'house', 4703: 'house', 4704: 'house', 4705: 'education', 4706: 'house', 4707: 'house', 4708: 'house', 4709: 'house', 4710: 'real estate', 4711: 'car', 4712: 'real estate', 4713: 'real estate', 4714: 'wedding', 4715: 'house', 4716: 'house', 4717: 'education', 4718: 'wedding', 4719: 'house', 4720: 'education', 4721: 'real estate', 4722: 'real estate', 4723: 'real estate', 4724: 'real estate', 4725: 'real estate', 4726: 'real estate', 4727: 'house', 4728: 'wedding', 4729: 'wedding', 4730: 'house', 4731: 'real estate', 4732: 'house', 4733: 'car', 4734: 'education', 4735: 'real estate', 4736: 'education', 4737: 'house', 4738: 'education', 4739: 'real estate', 4740: 'car', 4741: 'car', 4742: 'house', 4743: 'education', 4744: 'house', 4745: 'education', 4746: 'house', 4747: 'education', 4748: 'house', 4749: 'real estate', 4750: 'real estate', 4751: 'education', 4752: 'real estate', 4753: 'house', 4754: 'education', 4755: 'house', 4756: 'car', 4757: 'real estate', 4758: 'wedding', 4759: 'house', 4760: 'car', 4761: 'real estate', 4762: 'house', 4763: 'education', 4764: 'house', 4765: 'house', 4766: 'house', 4767: 'real estate', 4768: 'education', 4769: 'education', 4770: 'education', 4771: 'wedding', 4772: 'car', 4773: 'wedding', 4774: 'car', 4775: 'education', 4776: 'wedding', 4777: 'car', 4778: 'real estate', 4779: 'education', 4780: 'house', 4781: 'wedding', 4782: 'real estate', 4783: 'house', 4784: 'car', 4785: 'house', 4786: 'education', 4787: 'real estate', 4788: 'education', 4789: 'house', 4790: 'house', 4791: 'wedding', 4792: 'real estate', 4793: 'car', 4794: 'house', 4795: 'real estate', 4796: 'house', 4797: 'house', 4798: 'real estate', 4799: 'real estate', 4800: 'education', 4801: 'education', 4802: 'car', 4803: 'car', 4804: 'car', 4805: 'real estate', 4806: 'house', 4807: 'house', 4808: 'car', 4809: 'house', 4810: 'education', 4811: 'wedding', 4812: 'house', 4813: 'real estate', 4814: 'real estate', 4815: 'wedding', 4816: 'house', 4817: 'wedding', 4818: 'house', 4819: 'education', 4820: 'education', 4821: 'real estate', 4822: 'car', 4823: 'house', 4824: 'house', 4825: 'education', 4826: 'house', 4827: 'house', 4828: 'real estate', 4829: 'car', 4830: 'car', 4831: 'education', 4832: 'education', 4833: 'car', 4834: 'car', 4835: 'wedding', 4836: 'car', 4837: 'real estate', 4838: 'car', 4839: 'car', 4840: 'car', 4841: 'education', 4842: 'car', 4843: 'education', 4844: 'house', 4845: 'car', 4846: 'house', 4847: 'car', 4848: 'education', 4849: 'house', 4850: 'car', 4852: 'real estate', 4853: 'house', 4854: 'real estate', 4855: 'real estate', 4856: 'education', 4857: 'house', 4858: 'education', 4859: 'real estate', 4860: 'education', 4861: 'wedding', 4862: 'education', 4863: 'house', 4864: 'house', 4865: 'house', 4866: 'real estate', 4867: 'wedding', 4868: 'education', 4869: 'car', 4870: 'house', 4871: 'real estate', 4872: 'education', 4873: 'car', 4874: 'education', 4875: 'car', 4876: 'house', 4877: 'house', 4878: 'wedding', 4879: 'education', 4880: 'real estate', 4881: 'car', 4882: 'car', 4883: 'real estate', 4884: 'education', 4885: 'house', 4886: 'house', 4887: 'car', 4888: 'house', 4889: 'house', 4890: 'house', 4891: 'car', 4892: 'house', 4893: 'real estate', 4894: 'education', 4895: 'house', 4896: 'real estate', 4897: 'education', 4898: 'wedding', 4899: 'education', 4900: 'car', 4901: 'real estate', 4902: 'education', 4903: 'education', 4904: 'education', 4905: 'real estate', 4906: 'car', 4907: 'education', 4908: 'wedding', 4909: 'wedding', 4910: 'education', 4911: 'house', 4912: 'house', 4913: 'real estate', 4914: 'real estate', 4915: 'real estate', 4916: 'house', 4917: 'wedding', 4918: 'real estate', 4919: 'wedding', 4920: 'real estate', 4921: 'house', 4922: 'car', 4923: 'real estate', 4924: 'house', 4925: 'house', 4926: 'car', 4927: 'house', 4928: 'wedding', 4929: 'car', 4930: 'real estate', 4931: 'car', 4932: 'real estate', 4933: 'car', 4934: 'house', 4935: 'car', 4936: 'house', 4937: 'house', 4938: 'real estate', 4939: 'education', 4940: 'house', 4941: 'house', 4942: 'education', 4943: 'wedding', 4944: 'car', 4945: 'real estate', 4946: 'car', 4947: 'house', 4948: 'car', 4949: 'real estate', 4950: 'real estate', 4951: 'house', 4952: 'real estate', 4953: 'education', 4954: 'real estate', 4955: 'car', 4956: 'real estate', 4957: 'real estate', 4958: 'car', 4959: 'real estate', 4960: 'education', 4961: 'car', 4962: 'wedding', 4963: 'real estate', 4964: 'real estate', 4965: 'education', 4966: 'car', 4967: 'car', 4968: 'car', 4969: 'house', 4970: 'education', 4971: 'real estate', 4972: 'car', 4973: 'car', 4974: 'car', 4975: 'education', 4976: 'house', 4977: 'house', 4978: 'real estate', 4979: 'education', 4980: 'education', 4981: 'car', 4982: 'real estate', 4983: 'education', 4984: 'wedding', 4985: 'wedding', 4986: 'education', 4987: 'house', 4988: 'education', 4989: 'house', 4990: 'house', 4991: 'car', 4992: 'house', 4993: 'education', 4994: 'real estate', 4995: 'house', 4996: 'car', 4997: 'real estate', 4998: 'car', 4999: 'car', 5000: 'education', 5001: 'house', 5002: 'house', 5003: 'wedding', 5004: 'car', 5005: 'car', 5006: 'house', 5007: 'real estate', 5008: 'house', 5009: 'education', 5010: 'education', 5011: 'real estate', 5012: 'education', 5013: 'real estate', 5014: 'real estate', 5015: 'wedding', 5016: 'real estate', 5017: 'real estate', 5018: 'car', 5019: 'wedding', 5020: 'wedding', 5021: 'house', 5022: 'house', 5023: 'wedding', 5024: 'house', 5025: 'car', 5026: 'education', 5027: 'house', 5028: 'wedding', 5029: 'education', 5030: 'car', 5031: 'car', 5032: 'house', 5033: 'real estate', 5034: 'wedding', 5035: 'house', 5036: 'house', 5037: 'house', 5038: 'wedding', 5039: 'real estate', 5040: 'education', 5041: 'education', 5042: 'wedding', 5043: 'wedding', 5044: 'car', 5045: 'education', 5046: 'education', 5047: 'house', 5048: 'car', 5049: 'house', 5050: 'house', 5051: 'house', 5052: 'house', 5053: 'wedding', 5054: 'real estate', 5055: 'car', 5056: 'house', 5057: 'real estate', 5058: 'education', 5059: 'car', 5060: 'wedding', 5061: 'education', 5062: 'car', 5063: 'house', 5064: 'education', 5065: 'real estate', 5066: 'real estate', 5067: 'education', 5068: 'car', 5069: 'house', 5070: 'house', 5071: 'real estate', 5072: 'car', 5073: 'wedding', 5074: 'house', 5075: 'car', 5076: 'education', 5077: 'car', 5078: 'education', 5079: 'education', 5080: 'house', 5081: 'wedding', 5082: 'education', 5083: 'wedding', 5084: 'house', 5085: 'house', 5086: 'car', 5087: 'wedding', 5088: 'wedding', 5089: 'real estate', 5090: 'car', 5091: 'real estate', 5092: 'education', 5093: 'house', 5094: 'real estate', 5095: 'education', 5096: 'education', 5097: 'car', 5098: 'education', 5099: 'wedding', 5100: 'real estate', 5101: 'house', 5102: 'education', 5103: 'car', 5104: 'house', 5105: 'car', 5106: 'wedding', 5107: 'car', 5108: 'house', 5109: 'real estate', 5110: 'education', 5111: 'house', 5112: 'house', 5113: 'education', 5114: 'car', 5115: 'wedding', 5116: 'car', 5117: 'car', 5118: 'house', 5119: 'car', 5120: 'house', 5121: 'wedding', 5122: 'real estate', 5123: 'car', 5124: 'wedding', 5125: 'real estate', 5126: 'car', 5127: 'education', 5128: 'car', 5129: 'car', 5130: 'house', 5131: 'real estate', 5132: 'real estate', 5133: 'wedding', 5134: 'house', 5135: 'real estate', 5136: 'house', 5137: 'house', 5138: 'car', 5139: 'education', 5140: 'wedding', 5141: 'car', 5142: 'wedding', 5143: 'education', 5144: 'education', 5145: 'house', 5146: 'wedding', 5147: 'house', 5148: 'house', 5149: 'car', 5150: 'house', 5151: 'education', 5152: 'real estate', 5153: 'house', 5154: 'house', 5155: 'education', 5156: 'car', 5157: 'real estate', 5158: 'real estate', 5159: 'wedding', 5160: 'real estate', 5161: 'education', 5162: 'real estate', 5163: 'education', 5164: 'real estate', 5165: 'education', 5166: 'education', 5167: 'house', 5168: 'real estate', 5169: 'car', 5170: 'real estate', 5171: 'education', 5172: 'real estate', 5173: 'house', 5174: 'education', 5175: 'house', 5176: 'car', 5177: 'car', 5178: 'education', 5179: 'car', 5180: 'education', 5181: 'wedding', 5182: 'house', 5183: 'real estate', 5184: 'real estate', 5185: 'wedding', 5186: 'car', 5187: 'house', 5188: 'house', 5189: 'house', 5190: 'house', 5191: 'car', 5192: 'house', 5193: 'car', 5194: 'house', 5195: 'car', 5196: 'house', 5197: 'real estate', 5198: 'car', 5199: 'house', 5200: 'car', 5201: 'real estate', 5202: 'real estate', 5203: 'car', 5204: 'education', 5205: 'house', 5206: 'house', 5207: 'education', 5208: 'house', 5209: 'house', 5210: 'car', 5211: 'education', 5212: 'real estate', 5213: 'education', 5214: 'house', 5215: 'real estate', 5216: 'car', 5217: 'house', 5218: 'house', 5219: 'education', 5220: 'education', 5221: 'wedding', 5222: 'wedding', 5223: 'real estate', 5224: 'house', 5225: 'real estate', 5226: 'education', 5227: 'wedding', 5228: 'education', 5229: 'car', 5230: 'house', 5231: 'house', 5232: 'education', 5233: 'house', 5234: 'house', 5235: 'real estate', 5236: 'education', 5237: 'education', 5238: 'car', 5239: 'wedding', 5240: 'house', 5241: 'car', 5242: 'house', 5243: 'house', 5244: 'house', 5245: 'education', 5246: 'car', 5247: 'car', 5248: 'house', 5249: 'car', 5250: 'education', 5251: 'house', 5252: 'car', 5253: 'car', 5254: 'house', 5255: 'wedding', 5256: 'car', 5257: 'wedding', 5258: 'house', 5259: 'house', 5260: 'real estate', 5261: 'real estate', 5262: 'house', 5263: 'house', 5264: 'wedding', 5265: 'house', 5266: 'house', 5267: 'house', 5268: 'house', 5269: 'education', 5270: 'house', 5271: 'education', 5272: 'real estate', 5273: 'house', 5274: 'real estate', 5275: 'house', 5276: 'real estate', 5277: 'house', 5278: 'wedding', 5279: 'house', 5280: 'real estate', 5281: 'education', 5282: 'car', 5283: 'education', 5284: 'house', 5285: 'car', 5286: 'real estate', 5287: 'real estate', 5288: 'house', 5289: 'car', 5290: 'education', 5291: 'education', 5292: 'wedding', 5293: 'house', 5294: 'car', 5295: 'house', 5296: 'real estate', 5297: 'house', 5298: 'wedding', 5299: 'car', 5300: 'wedding', 5301: 'house', 5302: 'education', 5303: 'house', 5304: 'wedding', 5305: 'wedding', 5306: 'house', 5307: 'house', 5308: 'wedding', 5309: 'house', 5310: 'real estate', 5311: 'real estate', 5312: 'real estate', 5313: 'house', 5314: 'real estate', 5315: 'real estate', 5316: 'real estate', 5317: 'car', 5318: 'real estate', 5319: 'house', 5320: 'house', 5321: 'real estate', 5322: 'house', 5323: 'wedding', 5324: 'car', 5325: 'education', 5326: 'house', 5327: 'house', 5328: 'wedding', 5329: 'car', 5330: 'education', 5331: 'education', 5332: 'education', 5333: 'wedding', 5334: 'education', 5335: 'wedding', 5336: 'house', 5337: 'house', 5338: 'house', 5339: 'car', 5340: 'car', 5341: 'house', 5342: 'wedding', 5343: 'house', 5344: 'car', 5345: 'wedding', 5346: 'car', 5347: 'car', 5348: 'real estate', 5349: 'house', 5350: 'house', 5351: 'wedding', 5352: 'house', 5353: 'real estate', 5354: 'house', 5355: 'house', 5356: 'real estate', 5357: 'car', 5358: 'house', 5359: 'real estate', 5360: 'real estate', 5361: 'house', 5362: 'car', 5363: 'car', 5364: 'car', 5365: 'house', 5366: 'real estate', 5367: 'house', 5368: 'car', 5369: 'real estate', 5370: 'real estate', 5371: 'wedding', 5372: 'real estate', 5373: 'education', 5374: 'wedding', 5375: 'house', 5376: 'house', 5377: 'real estate', 5378: 'house', 5379: 'education', 5380: 'house', 5381: 'education', 5382: 'house', 5383: 'house', 5384: 'house', 5385: 'house', 5386: 'real estate', 5387: 'house', 5388: 'education', 5389: 'education', 5390: 'car', 5391: 'house', 5392: 'house', 5393: 'real estate', 5394: 'education', 5395: 'real estate', 5396: 'house', 5397: 'real estate', 5398: 'education', 5399: 'real estate', 5400: 'house', 5401: 'house', 5402: 'car', 5403: 'car', 5404: 'car', 5405: 'car', 5406: 'wedding', 5407: 'real estate', 5408: 'education', 5409: 'car', 5410: 'real estate', 5411: 'car', 5412: 'car', 5413: 'car', 5414: 'education', 5415: 'house', 5416: 'house', 5417: 'house', 5418: 'car', 5419: 'car', 5420: 'wedding', 5421: 'house', 5422: 'house', 5423: 'real estate', 5424: 'real estate', 5425: 'car', 5426: 'wedding', 5427: 'education', 5428: 'house', 5429: 'education', 5430: 'house', 5431: 'real estate', 5432: 'real estate', 5433: 'car', 5434: 'real estate', 5435: 'education', 5436: 'real estate', 5437: 'education', 5438: 'car', 5439: 'real estate', 5440: 'house', 5441: 'house', 5442: 'car', 5443: 'house', 5444: 'real estate', 5445: 'house', 5446: 'car', 5447: 'real estate', 5448: 'car', 5449: 'education', 5450: 'education', 5451: 'house', 5452: 'education', 5453: 'car', 5454: 'education', 5455: 'wedding', 5456: 'house', 5457: 'wedding', 5458: 'wedding', 5459: 'car', 5460: 'house', 5461: 'house', 5462: 'wedding', 5463: 'real estate', 5464: 'real estate', 5465: 'real estate', 5466: 'wedding', 5467: 'car', 5468: 'real estate', 5469: 'house', 5470: 'real estate', 5471: 'education', 5472: 'wedding', 5473: 'education', 5474: 'house', 5475: 'car', 5476: 'house', 5477: 'car', 5478: 'house', 5479: 'house', 5480: 'house', 5481: 'education', 5482: 'real estate', 5483: 'house', 5484: 'house', 5485: 'education', 5486: 'education', 5487: 'house', 5488: 'education', 5489: 'house', 5490: 'real estate', 5491: 'real estate', 5492: 'house', 5493: 'education', 5494: 'education', 5495: 'education', 5496: 'wedding', 5497: 'real estate', 5498: 'real estate', 5499: 'car', 5500: 'real estate', 5501: 'wedding', 5502: 'house', 5503: 'house', 5504: 'house', 5505: 'house', 5506: 'house', 5507: 'education', 5508: 'real estate', 5509: 'car', 5510: 'car', 5511: 'car', 5512: 'car', 5513: 'house', 5514: 'real estate', 5515: 'car', 5516: 'real estate', 5517: 'car', 5518: 'real estate', 5519: 'education', 5520: 'car', 5521: 'house', 5522: 'house', 5523: 'car', 5524: 'car', 5525: 'education', 5526: 'house', 5527: 'real estate', 5528: 'education', 5529: 'house', 5530: 'house', 5531: 'car', 5532: 'wedding', 5533: 'house', 5534: 'house', 5535: 'house', 5536: 'real estate', 5537: 'real estate', 5538: 'real estate', 5539: 'car', 5540: 'real estate', 5541: 'real estate', 5542: 'real estate', 5543: 'real estate', 5544: 'house', 5545: 'house', 5546: 'car', 5547: 'real estate', 5548: 'education', 5549: 'education', 5550: 'house', 5551: 'real estate', 5552: 'wedding', 5553: 'real estate', 5554: 'car', 5555: 'car', 5556: 'wedding', 5558: 'education', 5559: 'real estate', 5560: 'real estate', 5561: 'wedding', 5562: 'house', 5563: 'house', 5564: 'house', 5565: 'real estate', 5566: 'house', 5567: 'education', 5568: 'real estate', 5569: 'education', 5570: 'wedding', 5571: 'house', 5572: 'real estate', 5573: 'house', 5574: 'education', 5575: 'education', 5576: 'car', 5577: 'real estate', 5578: 'car', 5579: 'car', 5580: 'real estate', 5581: 'house', 5582: 'real estate', 5583: 'house', 5584: 'education', 5585: 'car', 5586: 'education', 5587: 'house', 5588: 'education', 5589: 'car', 5590: 'education', 5591: 'education', 5592: 'house', 5593: 'real estate', 5594: 'house', 5595: 'real estate', 5596: 'wedding', 5597: 'real estate', 5598: 'real estate', 5599: 'car', 5600: 'real estate', 5601: 'real estate', 5602: 'house', 5603: 'education', 5604: 'house', 5605: 'real estate', 5606: 'real estate', 5607: 'house', 5608: 'real estate', 5609: 'real estate', 5610: 'house', 5611: 'house', 5612: 'car', 5613: 'real estate', 5614: 'car', 5615: 'education', 5616: 'wedding', 5617: 'house', 5618: 'education', 5619: 'car', 5620: 'education', 5621: 'real estate', 5622: 'real estate', 5623: 'wedding', 5624: 'education', 5625: 'education', 5626: 'education', 5627: 'car', 5628: 'car', 5629: 'real estate', 5630: 'house', 5631: 'education', 5632: 'real estate', 5633: 'education', 5634: 'car', 5635: 'education', 5636: 'education', 5637: 'education', 5638: 'car', 5639: 'real estate', 5640: 'car', 5641: 'car', 5642: 'car', 5643: 'real estate', 5644: 'house', 5645: 'car', 5646: 'real estate', 5647: 'car', 5648: 'car', 5649: 'real estate', 5650: 'real estate', 5651: 'real estate', 5652: 'education', 5653: 'car', 5654: 'wedding', 5655: 'house', 5656: 'car', 5657: 'car', 5658: 'education', 5659: 'education', 5660: 'real estate', 5661: 'house', 5662: 'house', 5663: 'house', 5664: 'education', 5665: 'house', 5666: 'real estate', 5667: 'education', 5668: 'car', 5669: 'wedding', 5670: 'real estate', 5671: 'real estate', 5672: 'education', 5673: 'real estate', 5674: 'real estate', 5675: 'car', 5676: 'house', 5677: 'education', 5678: 'house', 5679: 'car', 5680: 'education', 5681: 'car', 5682: 'wedding', 5683: 'wedding', 5684: 'education', 5685: 'car', 5686: 'house', 5687: 'wedding', 5688: 'wedding', 5689: 'car', 5690: 'wedding', 5691: 'house', 5692: 'house', 5693: 'house', 5694: 'house', 5695: 'house', 5696: 'house', 5697: 'house', 5698: 'education', 5699: 'house', 5700: 'car', 5701: 'wedding', 5702: 'real estate', 5703: 'real estate', 5704: 'car', 5705: 'house', 5706: 'education', 5707: 'house', 5708: 'real estate', 5709: 'education', 5710: 'house', 5711: 'education', 5712: 'house', 5713: 'real estate', 5714: 'house', 5715: 'education', 5716: 'car', 5717: 'wedding', 5718: 'house', 5719: 'house', 5720: 'education', 5721: 'car', 5722: 'house', 5723: 'education', 5724: 'house', 5725: 'education', 5726: 'wedding', 5727: 'house', 5728: 'house', 5729: 'house', 5730: 'house', 5731: 'wedding', 5732: 'wedding', 5733: 'wedding', 5734: 'house', 5735: 'real estate', 5736: 'wedding', 5737: 'education', 5738: 'house', 5739: 'house', 5740: 'education', 5741: 'education', 5742: 'car', 5743: 'wedding', 5744: 'wedding', 5745: 'education', 5746: 'real estate', 5747: 'car', 5748: 'house', 5749: 'house', 5750: 'wedding', 5751: 'house', 5752: 'education', 5753: 'wedding', 5754: 'real estate', 5755: 'house', 5756: 'house', 5757: 'car', 5758: 'real estate', 5759: 'car', 5760: 'education', 5761: 'car', 5762: 'real estate', 5763: 'house', 5764: 'house', 5765: 'house', 5766: 'education', 5767: 'house', 5768: 'house', 5769: 'education', 5770: 'education', 5771: 'car', 5772: 'education', 5773: 'real estate', 5774: 'car', 5775: 'car', 5776: 'education', 5777: 'real estate', 5778: 'car', 5779: 'education', 5780: 'house', 5781: 'education', 5782: 'car', 5783: 'education', 5784: 'education', 5785: 'house', 5786: 'car', 5787: 'real estate', 5788: 'car', 5789: 'real estate', 5790: 'car', 5791: 'real estate', 5792: 'car', 5793: 'car', 5794: 'car', 5795: 'real estate', 5796: 'house', 5797: 'wedding', 5798: 'real estate', 5799: 'house', 5800: 'house', 5801: 'house', 5802: 'real estate', 5803: 'education', 5804: 'real estate', 5805: 'house', 5806: 'education', 5807: 'education', 5808: 'wedding', 5809: 'wedding', 5810: 'house', 5811: 'house', 5812: 'real estate', 5813: 'education', 5814: 'education', 5815: 'real estate', 5816: 'real estate', 5817: 'car', 5818: 'house', 5819: 'real estate', 5820: 'wedding', 5821: 'education', 5822: 'house', 5823: 'education', 5824: 'car', 5825: 'wedding', 5826: 'car', 5827: 'house', 5828: 'wedding', 5829: 'education', 5830: 'real estate', 5831: 'real estate', 5832: 'house', 5833: 'house', 5834: 'house', 5835: 'wedding', 5836: 'house', 5837: 'education', 5838: 'car', 5839: 'education', 5840: 'real estate', 5841: 'car', 5842: 'real estate', 5843: 'real estate', 5844: 'house', 5845: 'house', 5846: 'house', 5847: 'education', 5848: 'house', 5849: 'education', 5850: 'real estate', 5851: 'education', 5852: 'education', 5853: 'wedding', 5854: 'wedding', 5855: 'house', 5856: 'education', 5857: 'house', 5858: 'real estate', 5859: 'real estate', 5860: 'house', 5861: 'house', 5862: 'car', 5863: 'house', 5864: 'house', 5865: 'real estate', 5866: 'house', 5867: 'house', 5868: 'education', 5869: 'house', 5870: 'car', 5871: 'car', 5872: 'house', 5873: 'education', 5874: 'real estate', 5875: 'car', 5876: 'real estate', 5877: 'real estate', 5878: 'education', 5879: 'real estate', 5880: 'real estate', 5881: 'house', 5882: 'house', 5883: 'education', 5884: 'real estate', 5885: 'real estate', 5886: 'house', 5887: 'wedding', 5888: 'car', 5889: 'house', 5890: 'real estate', 5891: 'education', 5892: 'education', 5893: 'real estate', 5894: 'house', 5895: 'house', 5896: 'wedding', 5897: 'house', 5898: 'house', 5899: 'education', 5900: 'wedding', 5901: 'education', 5902: 'real estate', 5903: 'house', 5904: 'car', 5905: 'education', 5906: 'house', 5907: 'house', 5908: 'real estate', 5909: 'house', 5910: 'education', 5911: 'real estate', 5912: 'house', 5913: 'car', 5914: 'car', 5915: 'car', 5916: 'real estate', 5917: 'wedding', 5918: 'house', 5919: 'education', 5920: 'education', 5921: 'education', 5922: 'real estate', 5923: 'real estate', 5924: 'car', 5925: 'wedding', 5926: 'real estate', 5927: 'education', 5928: 'real estate', 5929: 'education', 5930: 'education', 5931: 'real estate', 5932: 'car', 5933: 'wedding', 5934: 'car', 5935: 'car', 5936: 'real estate', 5937: 'car', 5938: 'house', 5939: 'car', 5940: 'car', 5941: 'real estate', 5942: 'car', 5943: 'real estate', 5944: 'car', 5945: 'house', 5946: 'house', 5947: 'real estate', 5948: 'real estate', 5949: 'education', 5950: 'education', 5951: 'car', 5952: 'real estate', 5953: 'car', 5954: 'education', 5955: 'wedding', 5956: 'education', 5957: 'wedding', 5958: 'car', 5959: 'car', 5960: 'wedding', 5961: 'education', 5962: 'education', 5963: 'education', 5964: 'education', 5965: 'car', 5966: 'wedding', 5967: 'wedding', 5968: 'wedding', 5969: 'house', 5970: 'car', 5971: 'education', 5972: 'real estate', 5973: 'house', 5974: 'education', 5975: 'house', 5976: 'car', 5977: 'education', 5978: 'car', 5979: 'real estate', 5980: 'education', 5981: 'car', 5982: 'real estate', 5983: 'education', 5984: 'car', 5985: 'house', 5986: 'car', 5987: 'real estate', 5988: 'education', 5989: 'house', 5990: 'car', 5991: 'house', 5992: 'car', 5993: 'car', 5994: 'house', 5995: 'real estate', 5996: 'car', 5997: 'house', 5998: 'real estate', 5999: 'education', 6000: 'wedding', 6001: 'wedding', 6002: 'education', 6003: 'house', 6004: 'house', 6005: 'real estate', 6006: 'house', 6007: 'house', 6008: 'real estate', 6009: 'education', 6010: 'education', 6011: 'car', 6012: 'house', 6013: 'house', 6014: 'real estate', 6015: 'house', 6016: 'education', 6017: 'real estate', 6018: 'real estate', 6019: 'car', 6020: 'real estate', 6021: 'house', 6022: 'real estate', 6023: 'real estate', 6024: 'education', 6025: 'real estate', 6026: 'education', 6027: 'education', 6028: 'house', 6029: 'real estate', 6030: 'house', 6031: 'house', 6032: 'house', 6033: 'education', 6034: 'wedding', 6035: 'house', 6036: 'education', 6037: 'wedding', 6038: 'house', 6039: 'education', 6040: 'education', 6041: 'car', 6042: 'house', 6043: 'real estate', 6044: 'house', 6045: 'wedding', 6046: 'house', 6047: 'education', 6048: 'real estate', 6049: 'education', 6050: 'car', 6051: 'car', 6052: 'house', 6053: 'real estate', 6054: 'car', 6055: 'house', 6056: 'real estate', 6057: 'car', 6058: 'house', 6059: 'education', 6060: 'car', 6061: 'house', 6062: 'real estate', 6063: 'house', 6064: 'wedding', 6065: 'education', 6066: 'house', 6067: 'education', 6068: 'education', 6069: 'house', 6070: 'house', 6071: 'car', 6072: 'education', 6073: 'house', 6074: 'wedding', 6075: 'house', 6076: 'real estate', 6077: 'education', 6078: 'house', 6079: 'house', 6080: 'education', 6081: 'house', 6082: 'real estate', 6083: 'education', 6084: 'real estate', 6085: 'education', 6086: 'real estate', 6087: 'wedding', 6088: 'wedding', 6089: 'car', 6090: 'house', 6091: 'real estate', 6092: 'real estate', 6093: 'house', 6094: 'house', 6095: 'real estate', 6096: 'car', 6097: 'house', 6098: 'car', 6099: 'education', 6100: 'education', 6101: 'real estate', 6102: 'wedding', 6103: 'education', 6104: 'car', 6105: 'real estate', 6106: 'house', 6107: 'house', 6108: 'house', 6109: 'house', 6110: 'car', 6111: 'real estate', 6112: 'house', 6113: 'house', 6114: 'house', 6115: 'house', 6116: 'car', 6117: 'car', 6118: 'house', 6119: 'house', 6120: 'real estate', 6121: 'education', 6122: 'car', 6123: 'real estate', 6124: 'house', 6125: 'car', 6126: 'wedding', 6127: 'car', 6128: 'education', 6129: 'car', 6130: 'education', 6131: 'car', 6132: 'car', 6133: 'education', 6134: 'house', 6135: 'wedding', 6136: 'house', 6137: 'house', 6138: 'real estate', 6139: 'real estate', 6140: 'house', 6141: 'car', 6142: 'car', 6143: 'house', 6144: 'house', 6145: 'house', 6146: 'education', 6147: 'house', 6148: 'real estate', 6149: 'house', 6150: 'wedding', 6151: 'wedding', 6152: 'car', 6153: 'education', 6154: 'house', 6155: 'real estate', 6156: 'education', 6157: 'wedding', 6158: 'car', 6159: 'real estate', 6160: 'real estate', 6161: 'wedding', 6162: 'real estate', 6163: 'house', 6164: 'education', 6165: 'education', 6166: 'car', 6167: 'car', 6168: 'car', 6169: 'real estate', 6170: 'house', 6171: 'education', 6172: 'car', 6173: 'education', 6174: 'house', 6175: 'car', 6176: 'real estate', 6177: 'car', 6178: 'real estate', 6179: 'house', 6180: 'house', 6181: 'real estate', 6182: 'real estate', 6183: 'car', 6184: 'house', 6185: 'house', 6186: 'education', 6187: 'wedding', 6188: 'house', 6189: 'car', 6190: 'car', 6191: 'education', 6192: 'education', 6193: 'real estate', 6194: 'real estate', 6195: 'wedding', 6196: 'wedding', 6197: 'education', 6198: 'house', 6199: 'house', 6200: 'car', 6201: 'house', 6202: 'house', 6203: 'car', 6204: 'car', 6205: 'house', 6206: 'car', 6207: 'wedding', 6208: 'education', 6209: 'wedding', 6210: 'real estate', 6211: 'education', 6212: 'real estate', 6213: 'education', 6214: 'real estate', 6215: 'education', 6216: 'house', 6217: 'real estate', 6218: 'house', 6219: 'house', 6220: 'car', 6221: 'house', 6222: 'education', 6223: 'education', 6224: 'car', 6225: 'car', 6226: 'real estate', 6227: 'real estate', 6228: 'house', 6229: 'house', 6230: 'real estate', 6231: 'house', 6232: 'car', 6233: 'real estate', 6234: 'education', 6235: 'car', 6236: 'education', 6237: 'house', 6238: 'real estate', 6239: 'house', 6240: 'car', 6241: 'real estate', 6242: 'wedding', 6243: 'education', 6244: 'education', 6245: 'real estate', 6246: 'real estate', 6247: 'house', 6248: 'real estate', 6249: 'car', 6250: 'real estate', 6251: 'house', 6252: 'house', 6253: 'car', 6254: 'car', 6255: 'house', 6256: 'real estate', 6257: 'house', 6258: 'education', 6259: 'car', 6260: 'wedding', 6261: 'education', 6262: 'education', 6263: 'real estate', 6264: 'car', 6265: 'car', 6266: 'real estate', 6267: 'house', 6268: 'car', 6269: 'wedding', 6270: 'real estate', 6271: 'education', 6272: 'car', 6273: 'real estate', 6274: 'real estate', 6275: 'real estate', 6276: 'education', 6277: 'car', 6278: 'house', 6279: 'car', 6280: 'education', 6281: 'house', 6282: 'education', 6283: 'real estate', 6284: 'car', 6285: 'car', 6286: 'education', 6287: 'education', 6288: 'car', 6289: 'house', 6290: 'car', 6291: 'real estate', 6292: 'house', 6293: 'education', 6294: 'car', 6295: 'education', 6296: 'education', 6297: 'real estate', 6298: 'car', 6299: 'education', 6300: 'real estate', 6301: 'car', 6302: 'house', 6303: 'house', 6304: 'car', 6305: 'house', 6306: 'car', 6307: 'house', 6308: 'house', 6309: 'education', 6310: 'car', 6311: 'wedding', 6313: 'real estate', 6314: 'education', 6315: 'wedding', 6316: 'real estate', 6317: 'car', 6318: 'house', 6319: 'education', 6320: 'real estate', 6321: 'car', 6322: 'real estate', 6323: 'car', 6324: 'house', 6325: 'wedding', 6326: 'house', 6327: 'car', 6328: 'real estate', 6329: 'house', 6330: 'car', 6331: 'wedding', 6332: 'real estate', 6333: 'real estate', 6334: 'real estate', 6335: 'education', 6336: 'house', 6337: 'real estate', 6338: 'house', 6339: 'house', 6340: 'house', 6341: 'car', 6342: 'real estate', 6343: 'education', 6344: 'house', 6345: 'real estate', 6346: 'house', 6347: 'house', 6348: 'real estate', 6349: 'house', 6350: 'car', 6351: 'house', 6352: 'car', 6353: 'education', 6354: 'education', 6355: 'car', 6356: 'car', 6357: 'car', 6358: 'real estate', 6359: 'wedding', 6360: 'house', 6361: 'car', 6362: 'house', 6363: 'house', 6364: 'real estate', 6365: 'education', 6366: 'car', 6367: 'education', 6368: 'real estate', 6369: 'education', 6370: 'car', 6371: 'house', 6372: 'house', 6373: 'education', 6374: 'car', 6375: 'car', 6376: 'real estate', 6377: 'real estate', 6378: 'house', 6379: 'real estate', 6380: 'education', 6381: 'real estate', 6382: 'education', 6383: 'house', 6384: 'car', 6385: 'education', 6386: 'car', 6387: 'house', 6388: 'house', 6389: 'house', 6390: 'house', 6391: 'wedding', 6392: 'real estate', 6393: 'house', 6394: 'house', 6395: 'car', 6396: 'real estate', 6397: 'education', 6398: 'house', 6399: 'car', 6400: 'wedding', 6401: 'wedding', 6402: 'real estate', 6403: 'car', 6404: 'real estate', 6405: 'house', 6406: 'house', 6407: 'house', 6408: 'real estate', 6409: 'house', 6410: 'car', 6411: 'wedding', 6412: 'house', 6413: 'car', 6414: 'house', 6415: 'house', 6416: 'house', 6417: 'car', 6418: 'real estate', 6419: 'real estate', 6420: 'car', 6421: 'car', 6422: 'real estate', 6423: 'house', 6424: 'house', 6425: 'education', 6426: 'education', 6427: 'car', 6428: 'wedding', 6429: 'real estate', 6430: 'education', 6431: 'real estate', 6432: 'real estate', 6433: 'real estate', 6434: 'car', 6435: 'house', 6436: 'house', 6437: 'house', 6438: 'wedding', 6439: 'car', 6440: 'house', 6441: 'car', 6442: 'wedding', 6443: 'house', 6444: 'house', 6445: 'house', 6446: 'real estate', 6447: 'education', 6448: 'house', 6449: 'education', 6450: 'wedding', 6451: 'house', 6452: 'wedding', 6453: 'house', 6454: 'real estate', 6455: 'education', 6456: 'house', 6457: 'education', 6458: 'car', 6459: 'house', 6460: 'car', 6461: 'education', 6462: 'education', 6463: 'real estate', 6464: 'car', 6465: 'real estate', 6466: 'real estate', 6467: 'real estate', 6468: 'house', 6469: 'car', 6470: 'education', 6471: 'education', 6472: 'education', 6473: 'education', 6474: 'education', 6475: 'wedding', 6476: 'real estate', 6477: 'car', 6478: 'real estate', 6479: 'car', 6480: 'wedding', 6481: 'car', 6482: 'house', 6483: 'house', 6484: 'house', 6485: 'education', 6486: 'car', 6487: 'real estate', 6488: 'wedding', 6489: 'wedding', 6490: 'real estate', 6491: 'real estate', 6492: 'house', 6493: 'wedding', 6494: 'wedding', 6495: 'house', 6496: 'education', 6497: 'house', 6498: 'car', 6499: 'house', 6500: 'car', 6501: 'wedding', 6502: 'car', 6503: 'real estate', 6504: 'education', 6505: 'real estate', 6506: 'house', 6507: 'house', 6508: 'house', 6509: 'wedding', 6510: 'house', 6511: 'car', 6512: 'car', 6513: 'house', 6514: 'house', 6515: 'real estate', 6516: 'house', 6517: 'real estate', 6518: 'real estate', 6519: 'real estate', 6520: 'real estate', 6521: 'real estate', 6522: 'house', 6523: 'house', 6524: 'house', 6525: 'education', 6526: 'real estate', 6527: 'real estate', 6528: 'real estate', 6529: 'real estate', 6530: 'education', 6531: 'education', 6532: 'car', 6533: 'real estate', 6534: 'house', 6535: 'wedding', 6536: 'house', 6537: 'wedding', 6538: 'real estate', 6539: 'house', 6540: 'education', 6541: 'real estate', 6542: 'house', 6543: 'wedding', 6544: 'house', 6545: 'house', 6546: 'house', 6547: 'house', 6548: 'house', 6549: 'car', 6550: 'real estate', 6551: 'education', 6552: 'real estate', 6553: 'education', 6554: 'wedding', 6555: 'education', 6556: 'wedding', 6557: 'car', 6558: 'house', 6559: 'real estate', 6560: 'real estate', 6561: 'car', 6562: 'real estate', 6563: 'car', 6564: 'real estate', 6565: 'wedding', 6566: 'car', 6567: 'real estate', 6568: 'house', 6569: 'house', 6570: 'car', 6571: 'house', 6572: 'car', 6573: 'house', 6574: 'car', 6575: 'house', 6576: 'house', 6577: 'education', 6578: 'education', 6579: 'car', 6580: 'wedding', 6581: 'car', 6582: 'wedding', 6583: 'education', 6584: 'real estate', 6585: 'car', 6586: 'education', 6587: 'house', 6588: 'house', 6589: 'house', 6590: 'car', 6591: 'education', 6592: 'car', 6593: 'real estate', 6594: 'real estate', 6595: 'house', 6596: 'education', 6597: 'real estate', 6598: 'real estate', 6599: 'car', 6600: 'education', 6601: 'house', 6602: 'education', 6603: 'house', 6604: 'house', 6605: 'education', 6606: 'house', 6607: 'house', 6608: 'house', 6609: 'house', 6610: 'education', 6611: 'house', 6612: 'car', 6613: 'wedding', 6614: 'education', 6615: 'real estate', 6616: 'car', 6617: 'house', 6618: 'wedding', 6619: 'house', 6620: 'education', 6621: 'house', 6622: 'education', 6623: 'real estate', 6624: 'wedding', 6625: 'real estate', 6626: 'car', 6627: 'real estate', 6628: 'real estate', 6629: 'house', 6630: 'education', 6631: 'real estate', 6632: 'real estate', 6633: 'education', 6634: 'house', 6635: 'real estate', 6636: 'real estate', 6637: 'wedding', 6638: 'car', 6639: 'real estate', 6640: 'education', 6641: 'house', 6642: 'house', 6643: 'real estate', 6644: 'wedding', 6645: 'education', 6646: 'car', 6647: 'wedding', 6648: 'education', 6649: 'house', 6650: 'house', 6651: 'car', 6652: 'real estate', 6653: 'education', 6654: 'car', 6655: 'education', 6656: 'real estate', 6657: 'wedding', 6658: 'house', 6659: 'house', 6660: 'education', 6661: 'wedding', 6662: 'house', 6663: 'car', 6664: 'education', 6665: 'real estate', 6666: 'real estate', 6667: 'education', 6668: 'real estate', 6669: 'real estate', 6670: 'real estate', 6671: 'house', 6672: 'real estate', 6673: 'car', 6674: 'wedding', 6675: 'real estate', 6676: 'house', 6677: 'real estate', 6678: 'education', 6679: 'real estate', 6680: 'education', 6681: 'car', 6682: 'house', 6683: 'car', 6684: 'real estate', 6685: 'wedding', 6686: 'house', 6687: 'house', 6688: 'education', 6689: 'house', 6690: 'real estate', 6691: 'wedding', 6692: 'house', 6693: 'wedding', 6694: 'house', 6695: 'real estate', 6696: 'house', 6697: 'real estate', 6698: 'wedding', 6699: 'house', 6700: 'car', 6701: 'wedding', 6702: 'house', 6703: 'real estate', 6704: 'car', 6705: 'house', 6706: 'real estate', 6707: 'education', 6708: 'car', 6709: 'house', 6710: 'real estate', 6711: 'education', 6712: 'wedding', 6713: 'wedding', 6714: 'car', 6715: 'house', 6716: 'wedding', 6717: 'house', 6718: 'real estate', 6719: 'wedding', 6720: 'education', 6721: 'house', 6722: 'house', 6723: 'wedding', 6724: 'car', 6725: 'house', 6726: 'education', 6727: 'real estate', 6728: 'house', 6729: 'car', 6730: 'education', 6731: 'wedding', 6732: 'real estate', 6733: 'education', 6734: 'car', 6735: 'wedding', 6736: 'house', 6737: 'real estate', 6738: 'house', 6739: 'car', 6740: 'real estate', 6741: 'house', 6742: 'real estate', 6743: 'real estate', 6744: 'education', 6745: 'house', 6746: 'real estate', 6747: 'real estate', 6748: 'house', 6749: 'education', 6750: 'house', 6751: 'wedding', 6752: 'real estate', 6753: 'house', 6754: 'education', 6755: 'house', 6756: 'car', 6757: 'house', 6758: 'house', 6759: 'real estate', 6760: 'car', 6761: 'car', 6762: 'house', 6763: 'real estate', 6764: 'car', 6765: 'car', 6766: 'real estate', 6767: 'car', 6768: 'education', 6769: 'house', 6770: 'real estate', 6771: 'house', 6772: 'car', 6773: 'education', 6774: 'car', 6775: 'house', 6776: 'house', 6777: 'car', 6778: 'education', 6779: 'car', 6780: 'car', 6781: 'real estate', 6782: 'car', 6783: 'education', 6784: 'education', 6785: 'education', 6786: 'wedding', 6787: 'education', 6788: 'car', 6789: 'car', 6790: 'education', 6791: 'car', 6792: 'real estate', 6793: 'house', 6794: 'education', 6795: 'house', 6796: 'real estate', 6797: 'real estate', 6798: 'car', 6799: 'house', 6800: 'car', 6801: 'real estate', 6802: 'real estate', 6803: 'house', 6804: 'education', 6805: 'house', 6806: 'house', 6807: 'real estate', 6808: 'car', 6809: 'real estate', 6810: 'wedding', 6811: 'education', 6812: 'wedding', 6813: 'house', 6814: 'wedding', 6815: 'car', 6816: 'house', 6817: 'house', 6818: 'car', 6819: 'real estate', 6820: 'house', 6821: 'house', 6822: 'house', 6823: 'house', 6824: 'education', 6825: 'car', 6826: 'car', 6827: 'real estate', 6828: 'car', 6829: 'wedding', 6830: 'education', 6831: 'house', 6832: 'real estate', 6833: 'house', 6834: 'car', 6835: 'real estate', 6836: 'house', 6837: 'house', 6838: 'education', 6839: 'house', 6840: 'wedding', 6841: 'car', 6842: 'real estate', 6843: 'wedding', 6844: 'real estate', 6845: 'house', 6846: 'wedding', 6847: 'house', 6848: 'car', 6849: 'car', 6850: 'education', 6851: 'wedding', 6852: 'house', 6853: 'education', 6854: 'education', 6855: 'house', 6856: 'house', 6857: 'car', 6858: 'wedding', 6859: 'real estate', 6860: 'real estate', 6861: 'education', 6862: 'car', 6863: 'education', 6864: 'house', 6865: 'education', 6866: 'house', 6867: 'house', 6868: 'real estate', 6869: 'real estate', 6870: 'real estate', 6871: 'education', 6872: 'car', 6873: 'real estate', 6874: 'real estate', 6875: 'car', 6876: 'house', 6877: 'education', 6878: 'education', 6879: 'real estate', 6880: 'house', 6881: 'education', 6882: 'car', 6883: 'car', 6884: 'real estate', 6885: 'real estate', 6886: 'education', 6887: 'house', 6888: 'house', 6889: 'real estate', 6890: 'real estate', 6891: 'education', 6892: 'house', 6893: 'real estate', 6894: 'house', 6895: 'wedding', 6896: 'real estate', 6897: 'house', 6898: 'house', 6899: 'car', 6900: 'education', 6901: 'house', 6902: 'real estate', 6903: 'car', 6904: 'education', 6905: 'house', 6906: 'house', 6907: 'house', 6908: 'car', 6909: 'house', 6910: 'house', 6911: 'education', 6912: 'education', 6913: 'house', 6914: 'car', 6915: 'wedding', 6916: 'car', 6917: 'wedding', 6918: 'education', 6919: 'house', 6920: 'real estate', 6921: 'car', 6922: 'education', 6923: 'real estate', 6924: 'house', 6925: 'wedding', 6926: 'house', 6927: 'house', 6928: 'education', 6929: 'house', 6930: 'real estate', 6931: 'house', 6932: 'real estate', 6933: 'real estate', 6934: 'real estate', 6935: 'house', 6936: 'real estate', 6937: 'education', 6938: 'wedding', 6939: 'house', 6940: 'car', 6941: 'real estate', 6942: 'education', 6943: 'wedding', 6944: 'car', 6945: 'house', 6946: 'real estate', 6947: 'house', 6948: 'car', 6949: 'real estate', 6950: 'car', 6951: 'house', 6952: 'house', 6953: 'education', 6954: 'house', 6955: 'house', 6956: 'house', 6957: 'car', 6958: 'education', 6959: 'house', 6960: 'house', 6961: 'education', 6962: 'car', 6963: 'car', 6964: 'education', 6965: 'car', 6966: 'education', 6967: 'wedding', 6968: 'car', 6969: 'education', 6970: 'car', 6971: 'wedding', 6972: 'real estate', 6973: 'real estate', 6974: 'education', 6975: 'real estate', 6976: 'car', 6977: 'house', 6978: 'house', 6979: 'car', 6980: 'house', 6981: 'car', 6982: 'wedding', 6983: 'real estate', 6984: 'car', 6985: 'house', 6986: 'education', 6987: 'wedding', 6988: 'wedding', 6989: 'car', 6990: 'education', 6991: 'wedding', 6992: 'car', 6993: 'car', 6994: 'car', 6995: 'house', 6996: 'education', 6997: 'house', 6998: 'car', 6999: 'house', 7000: 'car', 7001: 'education', 7002: 'house', 7003: 'house', 7004: 'house', 7005: 'car', 7006: 'education', 7007: 'car', 7008: 'house', 7009: 'real estate', 7010: 'house', 7011: 'house', 7012: 'education', 7013: 'house', 7014: 'real estate', 7015: 'house', 7016: 'car', 7017: 'real estate', 7018: 'wedding', 7019: 'house', 7020: 'real estate', 7021: 'house', 7022: 'house', 7023: 'house', 7024: 'car', 7025: 'education', 7026: 'wedding', 7027: 'wedding', 7028: 'house', 7029: 'car', 7030: 'car', 7031: 'house', 7032: 'house', 7033: 'house', 7034: 'education', 7035: 'real estate', 7036: 'car', 7037: 'education', 7038: 'real estate', 7039: 'house', 7040: 'education', 7041: 'car', 7042: 'car', 7043: 'real estate', 7044: 'real estate', 7045: 'real estate', 7046: 'real estate', 7047: 'wedding', 7048: 'wedding', 7049: 'real estate', 7050: 'wedding', 7051: 'house', 7052: 'education', 7053: 'wedding', 7054: 'house', 7055: 'house', 7056: 'house', 7057: 'education', 7058: 'house', 7059: 'wedding', 7060: 'real estate', 7061: 'real estate', 7062: 'house', 7063: 'house', 7064: 'house', 7065: 'house', 7066: 'car', 7067: 'car', 7068: 'car', 7069: 'house', 7070: 'education', 7071: 'house', 7072: 'car', 7073: 'wedding', 7074: 'wedding', 7075: 'car', 7076: 'wedding', 7077: 'wedding', 7078: 'education', 7079: 'house', 7080: 'car', 7081: 'real estate', 7082: 'car', 7083: 'house', 7084: 'education', 7085: 'house', 7086: 'house', 7087: 'car', 7088: 'car', 7089: 'car', 7090: 'real estate', 7091: 'car', 7092: 'real estate', 7093: 'education', 7094: 'house', 7095: 'education', 7096: 'house', 7097: 'real estate', 7098: 'house', 7099: 'wedding', 7100: 'education', 7101: 'house', 7102: 'house', 7103: 'house', 7104: 'real estate', 7105: 'real estate', 7106: 'education', 7107: 'car', 7108: 'car', 7109: 'education', 7110: 'education', 7111: 'real estate', 7112: 'car', 7113: 'wedding', 7114: 'wedding', 7115: 'car', 7116: 'education', 7117: 'car', 7118: 'wedding', 7119: 'house', 7120: 'car', 7121: 'education', 7122: 'house', 7123: 'car', 7124: 'car', 7125: 'real estate', 7126: 'education', 7127: 'house', 7128: 'car', 7129: 'house', 7130: 'house', 7131: 'real estate', 7132: 'real estate', 7133: 'car', 7134: 'house', 7135: 'house', 7136: 'real estate', 7137: 'wedding', 7138: 'wedding', 7139: 'car', 7140: 'education', 7141: 'house', 7142: 'real estate', 7143: 'car', 7144: 'house', 7145: 'wedding', 7146: 'wedding', 7147: 'real estate', 7148: 'education', 7149: 'car', 7150: 'house', 7151: 'wedding', 7152: 'real estate', 7153: 'education', 7154: 'real estate', 7155: 'education', 7156: 'education', 7157: 'house', 7158: 'house', 7159: 'house', 7160: 'house', 7161: 'wedding', 7162: 'house', 7163: 'education', 7164: 'house', 7165: 'house', 7166: 'house', 7167: 'house', 7168: 'house', 7169: 'car', 7170: 'education', 7171: 'house', 7172: 'education', 7173: 'house', 7174: 'wedding', 7175: 'car', 7176: 'real estate', 7177: 'real estate', 7178: 'education', 7179: 'car', 7180: 'car', 7181: 'wedding', 7182: 'car', 7183: 'car', 7184: 'wedding', 7185: 'wedding', 7186: 'education', 7187: 'wedding', 7188: 'house', 7189: 'real estate', 7190: 'car', 7191: 'education', 7192: 'education', 7193: 'real estate', 7194: 'education', 7195: 'house', 7196: 'real estate', 7197: 'real estate', 7198: 'house', 7199: 'car', 7200: 'house', 7201: 'car', 7202: 'house', 7203: 'real estate', 7204: 'house', 7205: 'real estate', 7206: 'education', 7207: 'house', 7208: 'house', 7209: 'house', 7210: 'car', 7211: 'real estate', 7212: 'car', 7213: 'education', 7214: 'car', 7215: 'real estate', 7216: 'house', 7217: 'car', 7218: 'wedding', 7219: 'car', 7220: 'house', 7221: 'house', 7222: 'house', 7223: 'real estate', 7224: 'house', 7225: 'house', 7226: 'house', 7227: 'house', 7228: 'house', 7229: 'wedding', 7230: 'house', 7231: 'education', 7232: 'wedding', 7233: 'house', 7234: 'real estate', 7235: 'education', 7236: 'car', 7237: 'house', 7238: 'wedding', 7239: 'car', 7240: 'education', 7241: 'car', 7242: 'wedding', 7243: 'education', 7244: 'house', 7245: 'car', 7246: 'real estate', 7247: 'car', 7248: 'real estate', 7249: 'house', 7250: 'real estate', 7251: 'real estate', 7252: 'real estate', 7253: 'house', 7254: 'house', 7255: 'car', 7256: 'education', 7257: 'wedding', 7258: 'house', 7259: 'house', 7260: 'car', 7261: 'house', 7262: 'education', 7263: 'house', 7264: 'real estate', 7265: 'real estate', 7266: 'education', 7267: 'house', 7268: 'education', 7269: 'car', 7270: 'wedding', 7271: 'car', 7272: 'education', 7273: 'car', 7274: 'real estate', 7275: 'wedding', 7276: 'education', 7277: 'car', 7278: 'real estate', 7279: 'wedding', 7280: 'real estate', 7281: 'education', 7282: 'car', 7283: 'car', 7284: 'house', 7285: 'wedding', 7286: 'house', 7287: 'house', 7288: 'house', 7289: 'house', 7290: 'house', 7291: 'real estate', 7292: 'real estate', 7293: 'house', 7294: 'education', 7295: 'car', 7296: 'real estate', 7297: 'car', 7298: 'education', 7299: 'car', 7300: 'house', 7301: 'wedding', 7302: 'car', 7303: 'real estate', 7304: 'wedding', 7305: 'house', 7306: 'education', 7307: 'wedding', 7308: 'car', 7309: 'education', 7310: 'education', 7311: 'education', 7312: 'house', 7313: 'wedding', 7314: 'education', 7315: 'house', 7316: 'wedding', 7317: 'wedding', 7318: 'car', 7319: 'house', 7320: 'car', 7321: 'house', 7322: 'house', 7323: 'house', 7324: 'house', 7325: 'real estate', 7326: 'education', 7327: 'real estate', 7328: 'education', 7329: 'education', 7330: 'house', 7331: 'house', 7332: 'car', 7333: 'car', 7334: 'education', 7335: 'house', 7336: 'real estate', 7337: 'real estate', 7338: 'education', 7339: 'real estate', 7340: 'house', 7341: 'car', 7342: 'house', 7343: 'real estate', 7344: 'house', 7345: 'car', 7346: 'car', 7347: 'education', 7348: 'education', 7349: 'education', 7350: 'house', 7351: 'real estate', 7352: 'car', 7353: 'car', 7354: 'car', 7355: 'real estate', 7356: 'wedding', 7357: 'real estate', 7358: 'education', 7359: 'real estate', 7360: 'education', 7361: 'car', 7362: 'education', 7363: 'real estate', 7364: 'car', 7365: 'house', 7366: 'real estate', 7367: 'education', 7368: 'house', 7369: 'car', 7370: 'education', 7371: 'real estate', 7372: 'house', 7373: 'house', 7374: 'education', 7375: 'real estate', 7376: 'education', 7377: 'house', 7378: 'car', 7379: 'car', 7380: 'education', 7381: 'education', 7382: 'wedding', 7383: 'education', 7384: 'house', 7385: 'house', 7386: 'real estate', 7387: 'real estate', 7388: 'car', 7389: 'wedding', 7390: 'house', 7391: 'car', 7392: 'wedding', 7393: 'real estate', 7394: 'education', 7395: 'education', 7396: 'real estate', 7397: 'real estate', 7398: 'house', 7399: 'house', 7400: 'car', 7401: 'car', 7402: 'house', 7403: 'car', 7404: 'education', 7405: 'house', 7406: 'wedding', 7407: 'house', 7408: 'car', 7409: 'education', 7410: 'house', 7411: 'wedding', 7412: 'wedding', 7413: 'car', 7414: 'education', 7415: 'house', 7416: 'car', 7417: 'education', 7418: 'car', 7419: 'education', 7420: 'car', 7421: 'education', 7422: 'education', 7423: 'car', 7424: 'house', 7425: 'education', 7426: 'house', 7427: 'car', 7428: 'car', 7429: 'car', 7430: 'education', 7431: 'house', 7432: 'real estate', 7433: 'education', 7434: 'house', 7435: 'education', 7436: 'real estate', 7437: 'real estate', 7438: 'education', 7439: 'education', 7440: 'education', 7441: 'education', 7442: 'car', 7443: 'wedding', 7444: 'wedding', 7445: 'real estate', 7446: 'education', 7447: 'real estate', 7448: 'car', 7449: 'education', 7450: 'car', 7451: 'house', 7452: 'real estate', 7453: 'car', 7454: 'house', 7455: 'education', 7456: 'house', 7457: 'car', 7458: 'house', 7459: 'real estate', 7460: 'wedding', 7461: 'car', 7462: 'real estate', 7463: 'house', 7464: 'education', 7465: 'wedding', 7466: 'education', 7467: 'car', 7468: 'education', 7469: 'education', 7470: 'house', 7471: 'house', 7472: 'car', 7473: 'education', 7474: 'car', 7475: 'education', 7476: 'education', 7477: 'car', 7478: 'real estate', 7479: 'house', 7480: 'car', 7481: 'car', 7482: 'real estate', 7483: 'house', 7484: 'education', 7485: 'car', 7486: 'real estate', 7487: 'education', 7488: 'car', 7489: 'house', 7490: 'car', 7491: 'wedding', 7492: 'real estate', 7493: 'real estate', 7494: 'house', 7495: 'education', 7496: 'education', 7497: 'car', 7498: 'car', 7499: 'car', 7500: 'real estate', 7501: 'education', 7502: 'house', 7503: 'real estate', 7504: 'car', 7505: 'house', 7506: 'house', 7507: 'house', 7508: 'house', 7509: 'education', 7510: 'education', 7511: 'real estate', 7512: 'education', 7513: 'real estate', 7514: 'house', 7515: 'house', 7516: 'house', 7517: 'house', 7518: 'education', 7519: 'education', 7520: 'car', 7521: 'house', 7522: 'real estate', 7523: 'real estate', 7524: 'real estate', 7525: 'real estate', 7526: 'car', 7527: 'car', 7528: 'real estate', 7529: 'real estate', 7530: 'real estate', 7531: 'house', 7532: 'education', 7533: 'education', 7534: 'house', 7535: 'education', 7536: 'real estate', 7537: 'real estate', 7538: 'car', 7539: 'education', 7540: 'car', 7541: 'education', 7542: 'house', 7543: 'real estate', 7544: 'wedding', 7545: 'house', 7546: 'wedding', 7547: 'real estate', 7548: 'wedding', 7549: 'house', 7550: 'house', 7551: 'education', 7552: 'car', 7553: 'car', 7554: 'real estate', 7555: 'house', 7556: 'car', 7557: 'car', 7558: 'education', 7559: 'car', 7560: 'car', 7561: 'car', 7562: 'house', 7563: 'wedding', 7564: 'education', 7565: 'house', 7566: 'car', 7567: 'education', 7568: 'house', 7569: 'car', 7570: 'education', 7571: 'education', 7572: 'car', 7573: 'wedding', 7574: 'real estate', 7575: 'house', 7576: 'education', 7577: 'house', 7578: 'wedding', 7579: 'education', 7580: 'car', 7581: 'education', 7582: 'house', 7583: 'wedding', 7584: 'car', 7585: 'wedding', 7586: 'real estate', 7587: 'house', 7588: 'education', 7589: 'house', 7590: 'wedding', 7591: 'education', 7592: 'house', 7593: 'car', 7594: 'real estate', 7595: 'education', 7596: 'wedding', 7597: 'education', 7598: 'house', 7599: 'car', 7600: 'real estate', 7601: 'house', 7602: 'house', 7603: 'wedding', 7604: 'house', 7605: 'house', 7606: 'car', 7607: 'real estate', 7608: 'wedding', 7609: 'house', 7610: 'wedding', 7611: 'education', 7612: 'education', 7613: 'real estate', 7614: 'real estate', 7615: 'education', 7616: 'education', 7617: 'car', 7618: 'real estate', 7619: 'house', 7620: 'real estate', 7621: 'wedding', 7622: 'car', 7623: 'house', 7624: 'house', 7625: 'car', 7626: 'car', 7627: 'wedding', 7628: 'house', 7629: 'education', 7630: 'car', 7631: 'real estate', 7632: 'real estate', 7633: 'education', 7634: 'house', 7635: 'real estate', 7636: 'house', 7637: 'education', 7638: 'house', 7639: 'wedding', 7640: 'education', 7641: 'wedding', 7642: 'house', 7643: 'car', 7644: 'car', 7645: 'wedding', 7646: 'wedding', 7647: 'real estate', 7648: 'wedding', 7649: 'car', 7650: 'house', 7651: 'house', 7652: 'education', 7653: 'car', 7654: 'education', 7655: 'education', 7656: 'education', 7657: 'education', 7658: 'car', 7659: 'real estate', 7660: 'car', 7661: 'car', 7662: 'education', 7663: 'real estate', 7664: 'house', 7665: 'real estate', 7666: 'house', 7667: 'education', 7668: 'education', 7669: 'real estate', 7670: 'house', 7671: 'real estate', 7672: 'education', 7673: 'education', 7674: 'real estate', 7675: 'car', 7676: 'education', 7677: 'car', 7678: 'car', 7679: 'house', 7680: 'wedding', 7681: 'education', 7682: 'real estate', 7683: 'education', 7684: 'house', 7685: 'real estate', 7686: 'house', 7687: 'car', 7688: 'house', 7689: 'wedding', 7690: 'real estate', 7691: 'real estate', 7692: 'real estate', 7693: 'real estate', 7694: 'house', 7695: 'real estate', 7696: 'real estate', 7697: 'car', 7698: 'house', 7699: 'car', 7700: 'house', 7701: 'car', 7702: 'house', 7703: 'wedding', 7704: 'car', 7705: 'car', 7706: 'house', 7707: 'car', 7708: 'real estate', 7709: 'house', 7710: 'real estate', 7711: 'wedding', 7712: 'car', 7713: 'car', 7714: 'car', 7715: 'real estate', 7716: 'education', 7717: 'house', 7718: 'car', 7719: 'education', 7720: 'house', 7721: 'real estate', 7722: 'car', 7723: 'real estate', 7724: 'education', 7725: 'real estate', 7726: 'house', 7727: 'car', 7728: 'car', 7729: 'wedding', 7730: 'house', 7731: 'education', 7732: 'house', 7733: 'car', 7734: 'house', 7735: 'wedding', 7736: 'real estate', 7737: 'wedding', 7738: 'house', 7739: 'real estate', 7740: 'real estate', 7741: 'education', 7742: 'education', 7743: 'wedding', 7744: 'car', 7745: 'house', 7746: 'real estate', 7747: 'education', 7748: 'education', 7749: 'real estate', 7750: 'car', 7751: 'real estate', 7752: 'house', 7753: 'wedding', 7754: 'car', 7755: 'house', 7756: 'real estate', 7757: 'car', 7758: 'wedding', 7759: 'real estate', 7760: 'car', 7761: 'house', 7762: 'wedding', 7763: 'real estate', 7764: 'real estate', 7765: 'car', 7766: 'house', 7767: 'real estate', 7768: 'car', 7769: 'real estate', 7770: 'house', 7771: 'car', 7772: 'car', 7773: 'house', 7774: 'real estate', 7775: 'car', 7776: 'house', 7777: 'wedding', 7778: 'house', 7779: 'car', 7780: 'real estate', 7781: 'education', 7782: 'wedding', 7783: 'real estate', 7784: 'real estate', 7785: 'house', 7786: 'house', 7787: 'education', 7788: 'real estate', 7789: 'house', 7790: 'real estate', 7791: 'real estate', 7792: 'car', 7793: 'house', 7794: 'wedding', 7795: 'house', 7796: 'house', 7797: 'education', 7798: 'house', 7799: 'real estate', 7800: 'house', 7801: 'education', 7802: 'car', 7803: 'wedding', 7804: 'house', 7805: 'house', 7806: 'real estate', 7807: 'house', 7809: 'car', 7810: 'car', 7811: 'real estate', 7812: 'education', 7813: 'real estate', 7814: 'education', 7815: 'education', 7816: 'house', 7817: 'education', 7818: 'education', 7819: 'real estate', 7820: 'car', 7821: 'education', 7822: 'car', 7823: 'car', 7824: 'real estate', 7825: 'house', 7826: 'house', 7827: 'wedding', 7828: 'house', 7829: 'house', 7830: 'real estate', 7831: 'house', 7832: 'car', 7833: 'real estate', 7834: 'house', 7835: 'car', 7836: 'car', 7837: 'house', 7838: 'car', 7839: 'car', 7840: 'house', 7841: 'house', 7842: 'house', 7843: 'house', 7844: 'education', 7845: 'real estate', 7846: 'house', 7847: 'real estate', 7848: 'real estate', 7849: 'wedding', 7850: 'car', 7851: 'education', 7852: 'house', 7853: 'house', 7854: 'house', 7855: 'car', 7856: 'house', 7857: 'car', 7858: 'car', 7859: 'house', 7860: 'real estate', 7861: 'wedding', 7862: 'education', 7863: 'house', 7864: 'education', 7865: 'education', 7866: 'house', 7867: 'education', 7868: 'house', 7869: 'car', 7870: 'education', 7871: 'car', 7872: 'education', 7873: 'house', 7874: 'education', 7875: 'education', 7876: 'house', 7877: 'house', 7878: 'real estate', 7879: 'car', 7880: 'education', 7881: 'education', 7882: 'real estate', 7883: 'education', 7884: 'wedding', 7885: 'car', 7886: 'car', 7887: 'house', 7888: 'house', 7889: 'education', 7890: 'real estate', 7891: 'education', 7892: 'wedding', 7893: 'wedding', 7894: 'car', 7895: 'house', 7896: 'real estate', 7897: 'car', 7898: 'house', 7899: 'car', 7900: 'house', 7901: 'house', 7902: 'car', 7903: 'car', 7904: 'real estate', 7905: 'house', 7906: 'real estate', 7907: 'house', 7908: 'house', 7909: 'education', 7910: 'real estate', 7911: 'wedding', 7912: 'real estate', 7913: 'house', 7914: 'wedding', 7915: 'education', 7916: 'education', 7917: 'education', 7918: 'education', 7919: 'real estate', 7920: 'car', 7922: 'education', 7923: 'education', 7924: 'house', 7925: 'real estate', 7926: 'house', 7927: 'car', 7928: 'education', 7929: 'real estate', 7930: 'car', 7931: 'car', 7932: 'house', 7933: 'house', 7934: 'education', 7935: 'real estate', 7936: 'education', 7937: 'real estate', 7939: 'real estate', 7940: 'car', 7941: 'education', 7942: 'education', 7943: 'house', 7944: 'education', 7945: 'car', 7946: 'house', 7947: 'education', 7948: 'house', 7949: 'house', 7950: 'wedding', 7951: 'house', 7952: 'real estate', 7953: 'wedding', 7954: 'real estate', 7955: 'house', 7956: 'real estate', 7957: 'house', 7958: 'house', 7959: 'wedding', 7960: 'house', 7961: 'car', 7962: 'house', 7963: 'real estate', 7964: 'car', 7965: 'house', 7966: 'wedding', 7967: 'education', 7968: 'wedding', 7969: 'real estate', 7970: 'education', 7971: 'house', 7972: 'house', 7973: 'education', 7974: 'car', 7975: 'education', 7976: 'real estate', 7977: 'car', 7978: 'house', 7979: 'education', 7980: 'car', 7981: 'house', 7982: 'house', 7983: 'wedding', 7984: 'house', 7985: 'education', 7986: 'real estate', 7987: 'education', 7988: 'car', 7989: 'real estate', 7990: 'car', 7991: 'wedding', 7992: 'wedding', 7993: 'car', 7994: 'real estate', 7995: 'wedding', 7996: 'car', 7997: 'car', 7998: 'house', 7999: 'education', 8000: 'house', 8001: 'house', 8002: 'real estate', 8003: 'wedding', 8004: 'car', 8005: 'real estate', 8006: 'car', 8007: 'wedding', 8008: 'car', 8009: 'real estate', 8010: 'house', 8011: 'real estate', 8012: 'car', 8013: 'house', 8014: 'house', 8015: 'real estate', 8016: 'car', 8017: 'house', 8018: 'wedding', 8019: 'car', 8020: 'education', 8021: 'house', 8022: 'car', 8023: 'house', 8024: 'house', 8025: 'education', 8026: 'car', 8027: 'car', 8028: 'car', 8029: 'education', 8030: 'wedding', 8031: 'education', 8032: 'house', 8033: 'car', 8034: 'house', 8035: 'real estate', 8036: 'car', 8037: 'car', 8038: 'real estate', 8039: 'real estate', 8040: 'wedding', 8041: 'house', 8042: 'car', 8043: 'house', 8044: 'wedding', 8045: 'education', 8046: 'real estate', 8047: 'house', 8048: 'wedding', 8049: 'car', 8050: 'house', 8051: 'education', 8052: 'wedding', 8053: 'house', 8054: 'car', 8055: 'real estate', 8056: 'house', 8057: 'real estate', 8058: 'car', 8059: 'car', 8060: 'education', 8061: 'education', 8062: 'house', 8063: 'car', 8064: 'real estate', 8065: 'real estate', 8066: 'house', 8067: 'house', 8068: 'house', 8069: 'car', 8070: 'house', 8071: 'real estate', 8072: 'car', 8073: 'real estate', 8074: 'house', 8075: 'car', 8076: 'education', 8077: 'education', 8078: 'real estate', 8079: 'house', 8080: 'real estate', 8081: 'car', 8082: 'real estate', 8083: 'education', 8084: 'car', 8085: 'education', 8086: 'car', 8087: 'real estate', 8088: 'house', 8089: 'real estate', 8090: 'house', 8091: 'real estate', 8092: 'education', 8093: 'real estate', 8094: 'real estate', 8095: 'car', 8096: 'house', 8097: 'real estate', 8098: 'wedding', 8099: 'wedding', 8100: 'real estate', 8101: 'real estate', 8102: 'real estate', 8103: 'real estate', 8104: 'wedding', 8105: 'education', 8106: 'wedding', 8107: 'house', 8108: 'education', 8109: 'house', 8110: 'house', 8111: 'house', 8112: 'real estate', 8113: 'real estate', 8114: 'car', 8115: 'car', 8116: 'house', 8117: 'car', 8118: 'house', 8119: 'house', 8120: 'house', 8121: 'wedding', 8122: 'house', 8123: 'education', 8124: 'education', 8125: 'real estate', 8126: 'education', 8127: 'real estate', 8128: 'car', 8129: 'house', 8130: 'real estate', 8131: 'car', 8132: 'education', 8133: 'car', 8134: 'real estate', 8135: 'real estate', 8136: 'car', 8137: 'education', 8138: 'education', 8139: 'house', 8140: 'house', 8141: 'education', 8142: 'wedding', 8143: 'education', 8144: 'wedding', 8145: 'car', 8146: 'house', 8147: 'education', 8148: 'education', 8149: 'wedding', 8150: 'education', 8151: 'education', 8152: 'house', 8153: 'house', 8154: 'house', 8155: 'house', 8156: 'car', 8157: 'education', 8158: 'real estate', 8159: 'car', 8160: 'education', 8161: 'car', 8162: 'house', 8163: 'house', 8164: 'wedding', 8165: 'car', 8166: 'wedding', 8167: 'education', 8168: 'education', 8169: 'wedding', 8170: 'car', 8171: 'real estate', 8172: 'wedding', 8173: 'house', 8174: 'house', 8175: 'real estate', 8176: 'house', 8177: 'education', 8178: 'car', 8179: 'education', 8180: 'car', 8181: 'real estate', 8182: 'real estate', 8183: 'car', 8184: 'house', 8185: 'education', 8186: 'house', 8187: 'real estate', 8188: 'house', 8189: 'house', 8190: 'house', 8191: 'house', 8192: 'wedding', 8193: 'car', 8194: 'wedding', 8195: 'house', 8196: 'education', 8197: 'real estate', 8198: 'house', 8199: 'real estate', 8200: 'real estate', 8201: 'car', 8202: 'wedding', 8203: 'education', 8204: 'wedding', 8205: 'wedding', 8206: 'car', 8207: 'car', 8208: 'car', 8209: 'house', 8210: 'house', 8211: 'house', 8212: 'house', 8213: 'house', 8214: 'real estate', 8215: 'education', 8216: 'house', 8217: 'wedding', 8218: 'car', 8219: 'wedding', 8220: 'car', 8221: 'car', 8222: 'house', 8223: 'car', 8224: 'wedding', 8225: 'house', 8226: 'car', 8227: 'education', 8228: 'education', 8229: 'real estate', 8230: 'car', 8231: 'education', 8232: 'car', 8233: 'car', 8234: 'car', 8235: 'real estate', 8236: 'education', 8237: 'house', 8238: 'education', 8239: 'education', 8240: 'car', 8241: 'car', 8242: 'house', 8243: 'house', 8244: 'education', 8245: 'real estate', 8246: 'car', 8247: 'real estate', 8248: 'house', 8249: 'house', 8250: 'car', 8251: 'car', 8252: 'car', 8253: 'car', 8254: 'car', 8255: 'house', 8256: 'education', 8257: 'real estate', 8258: 'education', 8259: 'education', 8260: 'real estate', 8261: 'wedding', 8262: 'wedding', 8263: 'real estate', 8264: 'education', 8265: 'car', 8266: 'real estate', 8267: 'car', 8268: 'real estate', 8269: 'real estate', 8270: 'house', 8271: 'house', 8272: 'car', 8273: 'real estate', 8274: 'real estate', 8275: 'wedding', 8276: 'education', 8277: 'real estate', 8278: 'wedding', 8279: 'house', 8280: 'house', 8281: 'house', 8282: 'real estate', 8283: 'house', 8284: 'house', 8285: 'car', 8286: 'car', 8287: 'car', 8288: 'real estate', 8289: 'education', 8290: 'real estate', 8291: 'education', 8292: 'education', 8293: 'wedding', 8294: 'house', 8295: 'car', 8296: 'wedding', 8297: 'house', 8298: 'real estate', 8299: 'car', 8300: 'car', 8301: 'wedding', 8302: 'wedding', 8303: 'wedding', 8304: 'car', 8305: 'real estate', 8306: 'real estate', 8307: 'car', 8308: 'house', 8309: 'car', 8310: 'house', 8311: 'car', 8312: 'house', 8313: 'real estate', 8314: 'wedding', 8315: 'car', 8316: 'education', 8317: 'wedding', 8318: 'car', 8319: 'house', 8320: 'house', 8321: 'house', 8322: 'house', 8323: 'education', 8324: 'wedding', 8325: 'car', 8326: 'house', 8327: 'real estate', 8328: 'real estate', 8329: 'education', 8330: 'real estate', 8331: 'education', 8332: 'car', 8333: 'car', 8334: 'house', 8335: 'real estate', 8336: 'education', 8337: 'real estate', 8338: 'education', 8339: 'wedding', 8340: 'real estate', 8341: 'house', 8342: 'education', 8343: 'house', 8344: 'car', 8345: 'real estate', 8346: 'car', 8347: 'house', 8348: 'house', 8349: 'education', 8350: 'house', 8351: 'education', 8352: 'house', 8353: 'car', 8354: 'wedding', 8355: 'house', 8356: 'education', 8357: 'education', 8358: 'car', 8359: 'wedding', 8360: 'car', 8361: 'education', 8362: 'house', 8363: 'real estate', 8364: 'car', 8365: 'house', 8366: 'real estate', 8367: 'house', 8368: 'wedding', 8369: 'education', 8370: 'wedding', 8371: 'education', 8372: 'house', 8373: 'education', 8374: 'wedding', 8375: 'education', 8376: 'car', 8377: 'real estate', 8378: 'car', 8379: 'real estate', 8380: 'house', 8381: 'house', 8382: 'house', 8383: 'car', 8384: 'real estate', 8385: 'car', 8386: 'house', 8387: 'car', 8388: 'house', 8389: 'education', 8390: 'house', 8391: 'real estate', 8392: 'car', 8393: 'wedding', 8394: 'real estate', 8395: 'car', 8396: 'education', 8397: 'real estate', 8398: 'car', 8399: 'car', 8400: 'house', 8401: 'house', 8402: 'car', 8403: 'house', 8404: 'wedding', 8405: 'house', 8406: 'education', 8407: 'real estate', 8408: 'car', 8409: 'house', 8410: 'wedding', 8411: 'car', 8412: 'house', 8413: 'house', 8414: 'real estate', 8415: 'real estate', 8416: 'house', 8417: 'car', 8418: 'car', 8419: 'car', 8420: 'real estate', 8421: 'real estate', 8422: 'real estate', 8423: 'real estate', 8424: 'real estate', 8425: 'car', 8426: 'real estate', 8427: 'house', 8428: 'house', 8429: 'real estate', 8430: 'house', 8431: 'wedding', 8432: 'education', 8433: 'house', 8434: 'real estate', 8435: 'house', 8436: 'house', 8437: 'car', 8438: 'house', 8439: 'education', 8440: 'education', 8441: 'house', 8442: 'car', 8443: 'car', 8444: 'real estate', 8445: 'house', 8446: 'wedding', 8447: 'car', 8448: 'real estate', 8449: 'house', 8450: 'house', 8451: 'house', 8452: 'house', 8453: 'real estate', 8454: 'car', 8455: 'education', 8456: 'real estate', 8457: 'education', 8458: 'house', 8459: 'car', 8460: 'education', 8461: 'education', 8462: 'real estate', 8463: 'education', 8464: 'real estate', 8465: 'real estate', 8466: 'house', 8467: 'education', 8468: 'house', 8469: 'house', 8470: 'wedding', 8471: 'house', 8472: 'real estate', 8473: 'real estate', 8474: 'education', 8475: 'real estate', 8476: 'car', 8477: 'car', 8478: 'education', 8479: 'car', 8480: 'education', 8481: 'education', 8482: 'wedding', 8483: 'real estate', 8484: 'car', 8485: 'house', 8486: 'car', 8487: 'real estate', 8488: 'education', 8489: 'education', 8490: 'house', 8491: 'house', 8492: 'house', 8493: 'wedding', 8494: 'education', 8495: 'real estate', 8496: 'car', 8497: 'house', 8498: 'car', 8499: 'real estate', 8500: 'real estate', 8501: 'wedding', 8502: 'real estate', 8503: 'real estate', 8504: 'wedding', 8505: 'education', 8506: 'wedding', 8507: 'wedding', 8508: 'wedding', 8509: 'house', 8510: 'house', 8511: 'real estate', 8512: 'real estate', 8513: 'real estate', 8514: 'car', 8515: 'education', 8516: 'house', 8517: 'wedding', 8518: 'house', 8519: 'real estate', 8520: 'house', 8521: 'real estate', 8522: 'education', 8523: 'education', 8524: 'house', 8525: 'education', 8526: 'education', 8527: 'education', 8528: 'car', 8529: 'real estate', 8530: 'house', 8531: 'house', 8532: 'real estate', 8533: 'real estate', 8534: 'education', 8535: 'education', 8536: 'wedding', 8537: 'house', 8538: 'real estate', 8539: 'wedding', 8540: 'house', 8541: 'education', 8542: 'house', 8543: 'car', 8544: 'house', 8545: 'house', 8546: 'car', 8547: 'house', 8548: 'house', 8549: 'wedding', 8550: 'education', 8551: 'house', 8552: 'house', 8553: 'car', 8554: 'house', 8555: 'house', 8556: 'real estate', 8557: 'car', 8558: 'education', 8559: 'house', 8560: 'wedding', 8561: 'house', 8562: 'house', 8563: 'house', 8564: 'house', 8565: 'house', 8566: 'house', 8567: 'wedding', 8568: 'house', 8569: 'real estate', 8570: 'house', 8571: 'house', 8572: 'real estate', 8573: 'house', 8574: 'house', 8575: 'car', 8576: 'real estate', 8577: 'house', 8578: 'car', 8579: 'real estate', 8580: 'car', 8581: 'real estate', 8582: 'car', 8584: 'education', 8585: 'real estate', 8586: 'house', 8587: 'real estate', 8588: 'wedding', 8589: 'real estate', 8590: 'education', 8591: 'wedding', 8592: 'real estate', 8593: 'education', 8594: 'wedding', 8595: 'car', 8596: 'education', 8597: 'education', 8598: 'house', 8599: 'house', 8600: 'wedding', 8601: 'education', 8602: 'house', 8603: 'house', 8604: 'car', 8605: 'real estate', 8606: 'real estate', 8607: 'real estate', 8608: 'house', 8609: 'house', 8610: 'car', 8611: 'education', 8612: 'education', 8613: 'house', 8614: 'car', 8615: 'car', 8616: 'car', 8617: 'house', 8618: 'house', 8619: 'real estate', 8620: 'education', 8621: 'house', 8622: 'wedding', 8623: 'house', 8624: 'house', 8625: 'car', 8626: 'car', 8627: 'car', 8628: 'house', 8629: 'real estate', 8630: 'education', 8631: 'real estate', 8632: 'house', 8633: 'house', 8634: 'car', 8635: 'house', 8636: 'car', 8637: 'car', 8638: 'real estate', 8639: 'house', 8640: 'house', 8641: 'house', 8642: 'education', 8643: 'education', 8644: 'house', 8645: 'real estate', 8646: 'real estate', 8647: 'real estate', 8648: 'house', 8649: 'education', 8650: 'education', 8651: 'car', 8652: 'real estate', 8653: 'education', 8654: 'car', 8655: 'wedding', 8656: 'house', 8657: 'real estate', 8658: 'house', 8659: 'wedding', 8660: 'car', 8661: 'car', 8662: 'education', 8663: 'wedding', 8664: 'car', 8665: 'education', 8666: 'real estate', 8667: 'real estate', 8668: 'education', 8669: 'real estate', 8670: 'house', 8671: 'education', 8672: 'car', 8673: 'real estate', 8674: 'education', 8675: 'education', 8676: 'real estate', 8677: 'wedding', 8678: 'car', 8679: 'car', 8680: 'real estate', 8681: 'house', 8682: 'wedding', 8683: 'car', 8684: 'education', 8685: 'house', 8686: 'real estate', 8687: 'house', 8688: 'education', 8689: 'real estate', 8690: 'education', 8691: 'education', 8692: 'car', 8693: 'education', 8694: 'education', 8695: 'house', 8696: 'house', 8697: 'house', 8698: 'house', 8699: 'car', 8700: 'education', 8701: 'house', 8702: 'education', 8703: 'house', 8704: 'education', 8705: 'house', 8706: 'car', 8707: 'education', 8708: 'house', 8709: 'wedding', 8710: 'education', 8711: 'house', 8712: 'wedding', 8713: 'house', 8714: 'house', 8715: 'education', 8716: 'education', 8717: 'education', 8718: 'real estate', 8719: 'education', 8720: 'car', 8721: 'car', 8722: 'education', 8723: 'house', 8724: 'house', 8725: 'car', 8726: 'house', 8727: 'car', 8728: 'house', 8729: 'car', 8730: 'house', 8731: 'car', 8732: 'wedding', 8733: 'house', 8734: 'house', 8735: 'house', 8736: 'car', 8737: 'wedding', 8738: 'house', 8739: 'wedding', 8740: 'wedding', 8741: 'real estate', 8742: 'house', 8743: 'car', 8744: 'education', 8745: 'house', 8746: 'wedding', 8747: 'education', 8748: 'real estate', 8749: 'real estate', 8750: 'wedding', 8751: 'wedding', 8752: 'house', 8753: 'wedding', 8754: 'wedding', 8755: 'education', 8756: 'wedding', 8757: 'wedding', 8758: 'car', 8759: 'real estate', 8760: 'wedding', 8761: 'real estate', 8762: 'wedding', 8763: 'car', 8764: 'house', 8765: 'house', 8766: 'car', 8767: 'house', 8768: 'real estate', 8769: 'house', 8770: 'education', 8771: 'house', 8772: 'real estate', 8773: 'car', 8774: 'car', 8775: 'house', 8776: 'car', 8777: 'education', 8778: 'education', 8779: 'real estate', 8780: 'car', 8781: 'real estate', 8782: 'house', 8783: 'wedding', 8784: 'education', 8785: 'wedding', 8786: 'house', 8787: 'car', 8788: 'car', 8789: 'real estate', 8790: 'education', 8791: 'real estate', 8792: 'house', 8793: 'car', 8794: 'wedding', 8795: 'real estate', 8796: 'house', 8797: 'education', 8798: 'house', 8799: 'car', 8800: 'house', 8801: 'house', 8802: 'car', 8803: 'house', 8804: 'house', 8805: 'wedding', 8806: 'real estate', 8807: 'car', 8808: 'wedding', 8809: 'real estate', 8810: 'real estate', 8811: 'car', 8812: 'real estate', 8813: 'real estate', 8814: 'car', 8815: 'education', 8816: 'real estate', 8817: 'education', 8818: 'real estate', 8819: 'house', 8820: 'education', 8821: 'car', 8822: 'education', 8823: 'real estate', 8824: 'house', 8825: 'house', 8826: 'education', 8827: 'car', 8828: 'wedding', 8829: 'house', 8830: 'car', 8831: 'education', 8832: 'car', 8833: 'education', 8834: 'wedding', 8835: 'real estate', 8836: 'house', 8837: 'education', 8838: 'house', 8839: 'real estate', 8840: 'car', 8841: 'wedding', 8842: 'house', 8843: 'wedding', 8844: 'car', 8845: 'house', 8846: 'house', 8847: 'house', 8848: 'education', 8849: 'car', 8850: 'wedding', 8851: 'education', 8852: 'education', 8853: 'wedding', 8854: 'house', 8855: 'house', 8856: 'house', 8857: 'car', 8858: 'real estate', 8859: 'real estate', 8860: 'house', 8861: 'education', 8862: 'car', 8863: 'real estate', 8864: 'education', 8865: 'car', 8866: 'real estate', 8867: 'education', 8868: 'house', 8869: 'car', 8870: 'wedding', 8871: 'car', 8872: 'car', 8873: 'car', 8874: 'car', 8875: 'real estate', 8876: 'education', 8877: 'car', 8878: 'real estate', 8879: 'house', 8880: 'education', 8881: 'real estate', 8882: 'education', 8883: 'education', 8884: 'real estate', 8885: 'car', 8886: 'real estate', 8887: 'wedding', 8888: 'education', 8889: 'car', 8890: 'real estate', 8891: 'wedding', 8892: 'house', 8893: 'house', 8894: 'house', 8895: 'wedding', 8896: 'wedding', 8897: 'wedding', 8898: 'house', 8899: 'house', 8900: 'real estate', 8901: 'car', 8902: 'house', 8903: 'real estate', 8904: 'house', 8905: 'car', 8906: 'real estate', 8907: 'house', 8908: 'education', 8909: 'house', 8910: 'real estate', 8911: 'real estate', 8912: 'car', 8913: 'car', 8914: 'house', 8915: 'car', 8916: 'real estate', 8917: 'house', 8918: 'car', 8919: 'wedding', 8920: 'real estate', 8921: 'wedding', 8922: 'education', 8923: 'real estate', 8924: 'house', 8925: 'education', 8926: 'wedding', 8927: 'car', 8928: 'real estate', 8929: 'education', 8930: 'real estate', 8931: 'wedding', 8932: 'car', 8933: 'wedding', 8934: 'house', 8935: 'real estate', 8936: 'real estate', 8937: 'house', 8938: 'education', 8939: 'education', 8940: 'real estate', 8941: 'real estate', 8942: 'house', 8943: 'wedding', 8944: 'car', 8945: 'car', 8946: 'real estate', 8947: 'house', 8948: 'real estate', 8949: 'real estate', 8950: 'car', 8951: 'car', 8952: 'education', 8953: 'real estate', 8954: 'house', 8955: 'car', 8956: 'car', 8957: 'house', 8958: 'wedding', 8959: 'house', 8960: 'car', 8961: 'car', 8962: 'car', 8963: 'car', 8964: 'wedding', 8965: 'car', 8966: 'real estate', 8967: 'real estate', 8968: 'real estate', 8969: 'real estate', 8970: 'education', 8971: 'education', 8972: 'real estate', 8973: 'house', 8974: 'house', 8975: 'house', 8976: 'education', 8977: 'car', 8978: 'wedding', 8979: 'education', 8980: 'real estate', 8981: 'house', 8982: 'car', 8983: 'house', 8984: 'wedding', 8985: 'wedding', 8986: 'house', 8987: 'wedding', 8988: 'education', 8989: 'education', 8990: 'wedding', 8991: 'real estate', 8992: 'education', 8993: 'house', 8994: 'house', 8995: 'real estate', 8996: 'education', 8997: 'real estate', 8998: 'real estate', 8999: 'education', 9000: 'wedding', 9001: 'wedding', 9002: 'car', 9003: 'real estate', 9004: 'education', 9005: 'education', 9006: 'education', 9007: 'house', 9008: 'real estate', 9009: 'car', 9010: 'education', 9011: 'car', 9012: 'education', 9013: 'education', 9014: 'real estate', 9015: 'car', 9016: 'house', 9017: 'car', 9018: 'real estate', 9019: 'education', 9020: 'house', 9021: 'education', 9022: 'real estate', 9023: 'house', 9024: 'car', 9025: 'house', 9026: 'car', 9027: 'car', 9028: 'real estate', 9029: 'wedding', 9030: 'house', 9031: 'real estate', 9032: 'house', 9033: 'car', 9034: 'car', 9035: 'car', 9036: 'real estate', 9037: 'house', 9038: 'house', 9039: 'wedding', 9040: 'wedding', 9041: 'real estate', 9042: 'education', 9043: 'real estate', 9044: 'real estate', 9045: 'real estate', 9046: 'real estate', 9047: 'car', 9048: 'education', 9049: 'house', 9050: 'car', 9051: 'education', 9052: 'car', 9053: 'education', 9054: 'real estate', 9055: 'real estate', 9056: 'house', 9057: 'wedding', 9058: 'wedding', 9059: 'education', 9060: 'house', 9061: 'education', 9062: 'education', 9063: 'car', 9064: 'education', 9065: 'education', 9066: 'wedding', 9067: 'real estate', 9068: 'house', 9069: 'house', 9070: 'real estate', 9071: 'education', 9072: 'house', 9073: 'car', 9074: 'real estate', 9075: 'car', 9076: 'car', 9077: 'house', 9078: 'education', 9079: 'car', 9080: 'education', 9081: 'real estate', 9082: 'education', 9083: 'real estate', 9084: 'real estate', 9085: 'real estate', 9086: 'real estate', 9087: 'house', 9088: 'car', 9089: 'wedding', 9090: 'house', 9091: 'house', 9092: 'real estate', 9093: 'wedding', 9094: 'house', 9095: 'car', 9096: 'house', 9097: 'car', 9098: 'house', 9099: 'house', 9100: 'education', 9101: 'house', 9102: 'education', 9103: 'house', 9104: 'wedding', 9105: 'house', 9106: 'car', 9107: 'real estate', 9108: 'house', 9109: 'real estate', 9110: 'real estate', 9111: 'education', 9112: 'house', 9113: 'real estate', 9114: 'education', 9115: 'house', 9116: 'house', 9117: 'education', 9118: 'real estate', 9119: 'house', 9120: 'education', 9121: 'car', 9122: 'education', 9123: 'house', 9124: 'real estate', 9125: 'car', 9126: 'car', 9127: 'education', 9128: 'education', 9129: 'real estate', 9130: 'real estate', 9131: 'car', 9132: 'car', 9133: 'car', 9134: 'house', 9135: 'real estate', 9136: 'house', 9137: 'house', 9138: 'real estate', 9139: 'car', 9140: 'real estate', 9141: 'education', 9142: 'real estate', 9143: 'wedding', 9144: 'house', 9145: 'car', 9146: 'real estate', 9147: 'wedding', 9148: 'wedding', 9149: 'house', 9150: 'car', 9151: 'education', 9152: 'real estate', 9153: 'real estate', 9154: 'house', 9155: 'real estate', 9156: 'house', 9157: 'education', 9158: 'house', 9159: 'education', 9160: 'real estate', 9161: 'education', 9162: 'education', 9163: 'education', 9164: 'real estate', 9165: 'wedding', 9166: 'education', 9167: 'house', 9168: 'education', 9169: 'education', 9170: 'education', 9171: 'house', 9172: 'house', 9173: 'house', 9174: 'house', 9175: 'education', 9176: 'real estate', 9177: 'house', 9178: 'real estate', 9179: 'house', 9180: 'real estate', 9181: 'real estate', 9182: 'real estate', 9183: 'house', 9184: 'car', 9185: 'wedding', 9186: 'house', 9187: 'real estate', 9188: 'house', 9189: 'education', 9190: 'education', 9191: 'real estate', 9192: 'house', 9193: 'real estate', 9194: 'education', 9195: 'house', 9196: 'wedding', 9197: 'house', 9198: 'house', 9199: 'car', 9200: 'house', 9201: 'house', 9202: 'education', 9203: 'house', 9204: 'education', 9205: 'real estate', 9206: 'wedding', 9207: 'car', 9208: 'house', 9209: 'house', 9210: 'education', 9211: 'wedding', 9212: 'house', 9213: 'car', 9214: 'car', 9215: 'car', 9216: 'house', 9217: 'wedding', 9218: 'wedding', 9219: 'car', 9220: 'car', 9221: 'real estate', 9222: 'education', 9223: 'car', 9224: 'house', 9225: 'car', 9226: 'education', 9227: 'education', 9228: 'real estate', 9229: 'house', 9230: 'car', 9231: 'real estate', 9232: 'house', 9233: 'house', 9234: 'real estate', 9235: 'car', 9236: 'real estate', 9237: 'real estate', 9239: 'education', 9240: 'real estate', 9241: 'education', 9242: 'real estate', 9243: 'car', 9244: 'car', 9245: 'house', 9246: 'education', 9247: 'real estate', 9248: 'house', 9249: 'real estate', 9250: 'car', 9251: 'house', 9252: 'house', 9253: 'real estate', 9254: 'wedding', 9255: 'wedding', 9256: 'real estate', 9257: 'real estate', 9258: 'education', 9259: 'car', 9260: 'real estate', 9261: 'house', 9262: 'house', 9263: 'wedding', 9264: 'real estate', 9265: 'house', 9266: 'real estate', 9267: 'wedding', 9268: 'wedding', 9269: 'car', 9270: 'car', 9271: 'house', 9272: 'real estate', 9273: 'house', 9274: 'real estate', 9275: 'real estate', 9276: 'real estate', 9277: 'real estate', 9278: 'house', 9279: 'real estate', 9280: 'real estate', 9281: 'real estate', 9282: 'real estate', 9283: 'house', 9284: 'car', 9285: 'car', 9286: 'car', 9287: 'education', 9288: 'education', 9289: 'wedding', 9290: 'house', 9291: 'real estate', 9292: 'house', 9293: 'education', 9294: 'education', 9295: 'car', 9296: 'car', 9297: 'real estate', 9298: 'car', 9299: 'car', 9300: 'car', 9301: 'house', 9302: 'education', 9303: 'education', 9304: 'education', 9305: 'wedding', 9306: 'car', 9307: 'wedding', 9308: 'wedding', 9309: 'house', 9310: 'car', 9311: 'car', 9312: 'real estate', 9313: 'house', 9314: 'car', 9315: 'house', 9316: 'house', 9317: 'car', 9318: 'education', 9319: 'car', 9320: 'house', 9321: 'wedding', 9322: 'car', 9323: 'house', 9324: 'wedding', 9325: 'house', 9326: 'car', 9327: 'real estate', 9328: 'real estate', 9329: 'house', 9330: 'house', 9331: 'wedding', 9332: 'real estate', 9333: 'house', 9334: 'education', 9335: 'education', 9336: 'education', 9337: 'education', 9338: 'house', 9339: 'car', 9340: 'wedding', 9341: 'real estate', 9342: 'real estate', 9343: 'car', 9344: 'car', 9345: 'car', 9346: 'real estate', 9347: 'car', 9348: 'car', 9349: 'real estate', 9350: 'wedding', 9351: 'education', 9352: 'real estate', 9353: 'education', 9354: 'real estate', 9355: 'car', 9356: 'car', 9357: 'house', 9358: 'car', 9359: 'wedding', 9360: 'education', 9361: 'education', 9362: 'house', 9363: 'car', 9364: 'house', 9365: 'car', 9366: 'house', 9367: 'wedding', 9368: 'house', 9369: 'wedding', 9370: 'house', 9371: 'education', 9372: 'house', 9373: 'real estate', 9374: 'wedding', 9375: 'car', 9376: 'wedding', 9377: 'house', 9378: 'education', 9379: 'education', 9380: 'house', 9381: 'wedding', 9382: 'house', 9383: 'education', 9384: 'house', 9385: 'house', 9386: 'education', 9387: 'education', 9388: 'wedding', 9389: 'house', 9390: 'education', 9391: 'wedding', 9392: 'car', 9393: 'car', 9394: 'house', 9395: 'education', 9396: 'car', 9397: 'house', 9398: 'wedding', 9399: 'car', 9400: 'real estate', 9401: 'education', 9402: 'car', 9403: 'real estate', 9404: 'car', 9405: 'real estate', 9406: 'education', 9407: 'house', 9408: 'house', 9409: 'house', 9410: 'house', 9411: 'real estate', 9412: 'house', 9413: 'car', 9414: 'education', 9415: 'real estate', 9416: 'house', 9417: 'education', 9418: 'education', 9419: 'education', 9420: 'house', 9421: 'house', 9422: 'real estate', 9423: 'education', 9424: 'car', 9425: 'car', 9426: 'real estate', 9427: 'house', 9428: 'real estate', 9429: 'real estate', 9430: 'real estate', 9431: 'house', 9432: 'real estate', 9433: 'house', 9434: 'education', 9435: 'education', 9436: 'wedding', 9437: 'house', 9438: 'real estate', 9439: 'real estate', 9440: 'real estate', 9441: 'house', 9442: 'real estate', 9443: 'education', 9444: 'house', 9445: 'house', 9446: 'real estate', 9447: 'house', 9448: 'real estate', 9449: 'real estate', 9450: 'education', 9451: 'house', 9452: 'wedding', 9453: 'car', 9454: 'car', 9455: 'education', 9456: 'real estate', 9457: 'car', 9458: 'house', 9459: 'car', 9460: 'house', 9461: 'car', 9462: 'real estate', 9463: 'wedding', 9464: 'education', 9465: 'education', 9466: 'real estate', 9467: 'real estate', 9468: 'wedding', 9469: 'wedding', 9470: 'real estate', 9471: 'real estate', 9472: 'education', 9473: 'car', 9474: 'real estate', 9475: 'wedding', 9476: 'education', 9477: 'house', 9478: 'car', 9479: 'education', 9480: 'real estate', 9481: 'education', 9482: 'education', 9483: 'house', 9484: 'house', 9485: 'education', 9486: 'education', 9487: 'house', 9488: 'house', 9489: 'house', 9490: 'house', 9491: 'car', 9492: 'education', 9493: 'education', 9494: 'real estate', 9495: 'real estate', 9496: 'house', 9497: 'wedding', 9498: 'education', 9499: 'education', 9500: 'education', 9501: 'car', 9502: 'car', 9503: 'education', 9504: 'real estate', 9505: 'wedding', 9506: 'car', 9507: 'house', 9508: 'house', 9509: 'real estate', 9510: 'car', 9511: 'real estate', 9512: 'real estate', 9513: 'wedding', 9514: 'car', 9515: 'education', 9516: 'education', 9517: 'house', 9518: 'wedding', 9519: 'real estate', 9520: 'house', 9521: 'real estate', 9522: 'education', 9523: 'house', 9524: 'house', 9525: 'education', 9526: 'house', 9527: 'real estate', 9529: 'car', 9530: 'house', 9531: 'house', 9532: 'car', 9533: 'car', 9534: 'house', 9535: 'real estate', 9536: 'house', 9537: 'real estate', 9538: 'education', 9539: 'education', 9540: 'car', 9541: 'car', 9542: 'house', 9543: 'wedding', 9544: 'house', 9545: 'wedding', 9546: 'house', 9547: 'car', 9548: 'car', 9549: 'education', 9550: 'house', 9551: 'real estate', 9552: 'car', 9553: 'real estate', 9554: 'education', 9555: 'house', 9556: 'education', 9557: 'house', 9558: 'house', 9559: 'education', 9560: 'car', 9561: 'education', 9562: 'house', 9563: 'education', 9564: 'education', 9565: 'real estate', 9566: 'wedding', 9567: 'house', 9568: 'car', 9569: 'wedding', 9570: 'car', 9571: 'wedding', 9572: 'house', 9573: 'education', 9574: 'education', 9575: 'education', 9576: 'real estate', 9577: 'education', 9578: 'education', 9579: 'real estate', 9580: 'car', 9581: 'education', 9582: 'house', 9583: 'house', 9584: 'car', 9585: 'education', 9586: 'real estate', 9587: 'car', 9588: 'house', 9589: 'education', 9590: 'house', 9591: 'education', 9592: 'education', 9593: 'car', 9594: 'wedding', 9595: 'wedding', 9596: 'education', 9597: 'education', 9598: 'house', 9599: 'wedding', 9600: 'real estate', 9601: 'real estate', 9602: 'real estate', 9603: 'house', 9605: 'house', 9606: 'house', 9607: 'education', 9608: 'education', 9609: 'house', 9610: 'house', 9611: 'wedding', 9612: 'education', 9613: 'real estate', 9614: 'wedding', 9615: 'car', 9616: 'education', 9617: 'education', 9618: 'wedding', 9619: 'real estate', 9620: 'house', 9621: 'house', 9622: 'car', 9623: 'house', 9624: 'house', 9625: 'education', 9626: 'car', 9628: 'house', 9629: 'real estate', 9630: 'real estate', 9631: 'real estate', 9632: 'education', 9633: 'car', 9634: 'real estate', 9635: 'house', 9636: 'house', 9637: 'car', 9638: 'car', 9639: 'real estate', 9640: 'car', 9641: 'education', 9642: 'house', 9643: 'wedding', 9644: 'real estate', 9645: 'car', 9646: 'car', 9647: 'car', 9648: 'real estate', 9649: 'real estate', 9650: 'car', 9651: 'real estate', 9652: 'house', 9653: 'house', 9654: 'car', 9655: 'real estate', 9656: 'real estate', 9657: 'real estate', 9658: 'house', 9659: 'house', 9660: 'real estate', 9661: 'house', 9662: 'house', 9663: 'house', 9664: 'wedding', 9665: 'house', 9666: 'education', 9667: 'real estate', 9668: 'education', 9669: 'real estate', 9670: 'house', 9671: 'house', 9672: 'wedding', 9673: 'education', 9674: 'car', 9675: 'wedding', 9676: 'car', 9677: 'car', 9678: 'house', 9679: 'wedding', 9680: 'house', 9681: 'house', 9682: 'house', 9683: 'car', 9684: 'real estate', 9685: 'house', 9686: 'real estate', 9687: 'education', 9688: 'house', 9689: 'house', 9690: 'house', 9691: 'house', 9692: 'house', 9693: 'education', 9694: 'car', 9695: 'car', 9696: 'education', 9697: 'real estate', 9698: 'education', 9699: 'house', 9700: 'house', 9701: 'wedding', 9702: 'house', 9703: 'house', 9704: 'house', 9705: 'car', 9706: 'car', 9707: 'house', 9708: 'house', 9709: 'car', 9710: 'house', 9711: 'education', 9712: 'car', 9713: 'education', 9714: 'education', 9715: 'education', 9716: 'education', 9717: 'education', 9718: 'house', 9719: 'education', 9720: 'education', 9721: 'wedding', 9722: 'real estate', 9723: 'education', 9724: 'real estate', 9725: 'car', 9726: 'real estate', 9727: 'house', 9728: 'car', 9729: 'house', 9730: 'real estate', 9731: 'education', 9732: 'house', 9733: 'education', 9734: 'wedding', 9735: 'car', 9736: 'house', 9737: 'house', 9738: 'real estate', 9739: 'car', 9740: 'car', 9741: 'house', 9742: 'house', 9743: 'house', 9744: 'house', 9745: 'education', 9746: 'real estate', 9747: 'education', 9748: 'house', 9749: 'car', 9750: 'wedding', 9751: 'real estate', 9752: 'house', 9753: 'car', 9754: 'real estate', 9755: 'real estate', 9756: 'education', 9757: 'house', 9758: 'real estate', 9759: 'car', 9760: 'car', 9761: 'car', 9762: 'real estate', 9763: 'house', 9764: 'house', 9765: 'wedding', 9766: 'house', 9767: 'car', 9768: 'education', 9769: 'car', 9770: 'house', 9771: 'house', 9772: 'car', 9773: 'car', 9774: 'real estate', 9775: 'real estate', 9776: 'house', 9777: 'real estate', 9778: 'house', 9779: 'house', 9780: 'house', 9781: 'car', 9782: 'education', 9783: 'real estate', 9784: 'wedding', 9785: 'car', 9786: 'car', 9787: 'car', 9788: 'house', 9789: 'car', 9790: 'car', 9791: 'real estate', 9792: 'wedding', 9793: 'car', 9794: 'house', 9795: 'car', 9796: 'wedding', 9797: 'real estate', 9798: 'education', 9799: 'real estate', 9800: 'car', 9801: 'house', 9802: 'car', 9803: 'house', 9804: 'house', 9805: 'real estate', 9806: 'education', 9807: 'house', 9808: 'house', 9809: 'house', 9810: 'wedding', 9811: 'house', 9812: 'house', 9813: 'real estate', 9814: 'car', 9815: 'education', 9816: 'house', 9817: 'house', 9818: 'car', 9819: 'house', 9820: 'real estate', 9821: 'car', 9822: 'wedding', 9823: 'education', 9824: 'education', 9825: 'education', 9826: 'education', 9827: 'real estate', 9828: 'education', 9829: 'house', 9830: 'house', 9831: 'real estate', 9832: 'house', 9833: 'car', 9834: 'real estate', 9835: 'education', 9836: 'real estate', 9837: 'real estate', 9838: 'real estate', 9839: 'car', 9840: 'education', 9841: 'house', 9842: 'house', 9843: 'car', 9844: 'real estate', 9845: 'education', 9846: 'wedding', 9847: 'education', 9848: 'car', 9849: 'education', 9850: 'education', 9851: 'real estate', 9852: 'house', 9853: 'real estate', 9854: 'house', 9856: 'house', 9857: 'house', 9858: 'real estate', 9859: 'education', 9860: 'education', 9861: 'house', 9862: 'education', 9863: 'education', 9864: 'education', 9865: 'car', 9866: 'real estate', 9867: 'car', 9868: 'real estate', 9869: 'education', 9870: 'car', 9871: 'house', 9872: 'house', 9873: 'real estate', 9874: 'car', 9875: 'education', 9876: 'real estate', 9877: 'house', 9878: 'house', 9879: 'wedding', 9880: 'education', 9881: 'house', 9882: 'car', 9883: 'real estate', 9884: 'wedding', 9885: 'car', 9886: 'education', 9887: 'house', 9888: 'car', 9889: 'house', 9890: 'real estate', 9891: 'wedding', 9892: 'education', 9893: 'education', 9894: 'car', 9895: 'car', 9896: 'house', 9897: 'house', 9898: 'wedding', 9899: 'car', 9900: 'house', 9901: 'house', 9902: 'house', 9903: 'real estate', 9904: 'wedding', 9905: 'education', 9906: 'education', 9907: 'real estate', 9908: 'wedding', 9909: 'house', 9910: 'real estate', 9911: 'education', 9912: 'house', 9913: 'education', 9914: 'car', 9915: 'house', 9916: 'car', 9917: 'house', 9918: 'education', 9919: 'education', 9920: 'wedding', 9921: 'education', 9922: 'wedding', 9923: 'real estate', 9924: 'real estate', 9925: 'education', 9926: 'house', 9927: 'real estate', 9928: 'house', 9929: 'car', 9930: 'house', 9931: 'real estate', 9932: 'car', 9933: 'car', 9934: 'wedding', 9935: 'car', 9936: 'house', 9937: 'real estate', 9938: 'house', 9939: 'education', 9940: 'car', 9941: 'car', 9942: 'education', 9943: 'real estate', 9944: 'education', 9945: 'car', 9946: 'car', 9947: 'house', 9948: 'car', 9949: 'house', 9950: 'real estate', 9951: 'house', 9952: 'education', 9953: 'house', 9954: 'house', 9955: 'house', 9956: 'house', 9957: 'house', 9958: 'house', 9959: 'car', 9960: 'car', 9961: 'car', 9962: 'house', 9963: 'education', 9964: 'car', 9965: 'car', 9966: 'house', 9967: 'house', 9968: 'real estate', 9969: 'real estate', 9970: 'wedding', 9971: 'car', 9972: 'real estate', 9973: 'house', 9974: 'real estate', 9975: 'education', 9976: 'real estate', 9977: 'education', 9978: 'house', 9979: 'real estate', 9980: 'house', 9981: 'education', 9982: 'real estate', 9983: 'real estate', 9984: 'house', 9985: 'wedding', 9986: 'house', 9987: 'car', 9988: 'wedding', 9989: 'car', 9990: 'real estate', 9991: 'house', 9992: 'wedding', 9993: 'real estate', 9994: 'house', 9995: 'house', 9996: 'car', 9997: 'house', 9998: 'house', 9999: 'car', 10000: 'car', 10001: 'car', 10002: 'house', 10003: 'real estate', 10004: 'house', 10005: 'education', 10006: 'education', 10007: 'car', 10008: 'education', 10009: 'education', 10010: 'real estate', 10011: 'car', 10012: 'education', 10013: 'real estate', 10014: 'real estate', 10015: 'car', 10016: 'house', 10017: 'wedding', 10018: 'real estate', 10019: 'house', 10020: 'house', 10021: 'real estate', 10022: 'house', 10023: 'education', 10024: 'education', 10025: 'real estate', 10026: 'real estate', 10027: 'wedding', 10028: 'real estate', 10029: 'car', 10030: 'education', 10031: 'house', 10032: 'house', 10033: 'education', 10034: 'wedding', 10035: 'house', 10036: 'car', 10037: 'house', 10038: 'car', 10039: 'car', 10040: 'house', 10041: 'real estate', 10042: 'education', 10043: 'real estate', 10044: 'house', 10045: 'house', 10046: 'house', 10047: 'real estate', 10048: 'education', 10049: 'house', 10050: 'wedding', 10051: 'education', 10052: 'real estate', 10053: 'education', 10054: 'wedding', 10055: 'wedding', 10056: 'wedding', 10057: 'car', 10058: 'house', 10059: 'house', 10060: 'house', 10061: 'real estate', 10062: 'house', 10063: 'house', 10064: 'real estate', 10065: 'real estate', 10066: 'house', 10067: 'real estate', 10068: 'education', 10069: 'real estate', 10070: 'wedding', 10071: 'wedding', 10072: 'car', 10073: 'education', 10074: 'wedding', 10075: 'education', 10076: 'wedding', 10077: 'education', 10078: 'education', 10079: 'wedding', 10080: 'real estate', 10081: 'car', 10082: 'house', 10083: 'house', 10084: 'house', 10085: 'car', 10086: 'house', 10087: 'education', 10088: 'car', 10089: 'house', 10090: 'house', 10091: 'wedding', 10092: 'car', 10093: 'real estate', 10094: 'car', 10095: 'education', 10096: 'car', 10097: 'house', 10098: 'real estate', 10099: 'wedding', 10100: 'wedding', 10101: 'car', 10102: 'house', 10103: 'car', 10104: 'car', 10105: 'real estate', 10106: 'house', 10107: 'education', 10108: 'education', 10109: 'real estate', 10110: 'house', 10111: 'education', 10112: 'real estate', 10113: 'wedding', 10114: 'real estate', 10115: 'education', 10116: 'real estate', 10117: 'real estate', 10118: 'house', 10119: 'house', 10120: 'real estate', 10121: 'education', 10122: 'car', 10123: 'house', 10124: 'wedding', 10125: 'house', 10126: 'education', 10127: 'house', 10128: 'house', 10129: 'house', 10130: 'car', 10131: 'house', 10132: 'house', 10133: 'house', 10134: 'education', 10135: 'education', 10136: 'house', 10137: 'house', 10138: 'house', 10139: 'education', 10140: 'house', 10141: 'real estate', 10142: 'real estate', 10143: 'house', 10144: 'education', 10145: 'wedding', 10146: 'wedding', 10147: 'real estate', 10148: 'wedding', 10149: 'car', 10150: 'wedding', 10151: 'real estate', 10152: 'house', 10153: 'education', 10154: 'education', 10155: 'house', 10156: 'education', 10157: 'house', 10158: 'education', 10159: 'car', 10160: 'house', 10161: 'education', 10162: 'wedding', 10163: 'wedding', 10164: 'real estate', 10165: 'car', 10166: 'education', 10167: 'education', 10168: 'car', 10169: 'house', 10170: 'car', 10171: 'house', 10172: 'real estate', 10173: 'car', 10174: 'house', 10175: 'real estate', 10176: 'car', 10177: 'education', 10178: 'education', 10179: 'real estate', 10180: 'house', 10181: 'wedding', 10182: 'education', 10183: 'house', 10184: 'education', 10185: 'house', 10186: 'education', 10187: 'house', 10188: 'real estate', 10189: 'real estate', 10190: 'car', 10191: 'car', 10192: 'car', 10193: 'house', 10194: 'education', 10195: 'car', 10196: 'car', 10197: 'education', 10198: 'car', 10199: 'car', 10200: 'education', 10201: 'car', 10202: 'house', 10203: 'real estate', 10204: 'real estate', 10205: 'car', 10206: 'house', 10207: 'house', 10208: 'real estate', 10209: 'education', 10210: 'car', 10211: 'education', 10212: 'house', 10213: 'education', 10214: 'car', 10215: 'education', 10216: 'house', 10217: 'house', 10218: 'wedding', 10219: 'education', 10220: 'education', 10221: 'car', 10222: 'wedding', 10223: 'real estate', 10224: 'car', 10225: 'real estate', 10226: 'house', 10227: 'education', 10228: 'house', 10229: 'house', 10230: 'car', 10231: 'education', 10232: 'real estate', 10233: 'education', 10234: 'house', 10235: 'house', 10236: 'car', 10237: 'real estate', 10238: 'education', 10239: 'house', 10240: 'car', 10241: 'wedding', 10242: 'house', 10243: 'house', 10244: 'car', 10245: 'car', 10246: 'car', 10247: 'house', 10248: 'education', 10249: 'education', 10250: 'real estate', 10251: 'real estate', 10252: 'house', 10253: 'education', 10254: 'car', 10255: 'house', 10256: 'house', 10257: 'house', 10258: 'car', 10259: 'education', 10260: 'education', 10261: 'car', 10262: 'wedding', 10263: 'education', 10264: 'education', 10265: 'education', 10266: 'house', 10267: 'car', 10268: 'wedding', 10269: 'real estate', 10270: 'education', 10271: 'wedding', 10272: 'real estate', 10273: 'education', 10274: 'real estate', 10275: 'car', 10276: 'wedding', 10277: 'house', 10278: 'education', 10279: 'car', 10280: 'house', 10281: 'car', 10282: 'real estate', 10283: 'car', 10284: 'real estate', 10285: 'house', 10286: 'car', 10287: 'education', 10288: 'wedding', 10289: 'car', 10290: 'house', 10291: 'real estate', 10292: 'wedding', 10293: 'real estate', 10294: 'house', 10295: 'education', 10296: 'education', 10297: 'car', 10298: 'car', 10299: 'car', 10300: 'wedding', 10301: 'wedding', 10302: 'real estate', 10303: 'wedding', 10304: 'house', 10305: 'car', 10306: 'real estate', 10307: 'wedding', 10308: 'real estate', 10309: 'car', 10310: 'car', 10311: 'house', 10312: 'education', 10313: 'house', 10314: 'real estate', 10315: 'car', 10316: 'car', 10317: 'house', 10318: 'house', 10319: 'education', 10320: 'education', 10321: 'real estate', 10322: 'wedding', 10323: 'house', 10324: 'car', 10325: 'real estate', 10326: 'wedding', 10327: 'house', 10328: 'house', 10329: 'house', 10330: 'car', 10331: 'car', 10332: 'real estate', 10333: 'house', 10334: 'real estate', 10335: 'house', 10336: 'house', 10337: 'real estate', 10338: 'house', 10339: 'house', 10340: 'education', 10341: 'house', 10342: 'car', 10343: 'house', 10344: 'education', 10345: 'house', 10346: 'car', 10347: 'house', 10348: 'house', 10349: 'real estate', 10350: 'education', 10351: 'car', 10352: 'wedding', 10353: 'education', 10354: 'house', 10355: 'real estate', 10356: 'house', 10357: 'house', 10358: 'wedding', 10359: 'house', 10360: 'house', 10361: 'education', 10362: 'house', 10363: 'car', 10364: 'education', 10365: 'real estate', 10366: 'education', 10367: 'real estate', 10368: 'real estate', 10369: 'house', 10370: 'real estate', 10371: 'car', 10372: 'real estate', 10373: 'house', 10374: 'house', 10375: 'car', 10376: 'wedding', 10377: 'house', 10378: 'house', 10379: 'car', 10380: 'house', 10381: 'car', 10382: 'house', 10383: 'education', 10384: 'car', 10385: 'car', 10386: 'car', 10387: 'wedding', 10388: 'car', 10389: 'real estate', 10390: 'car', 10391: 'wedding', 10392: 'house', 10393: 'car', 10394: 'car', 10395: 'car', 10396: 'house', 10397: 'real estate', 10398: 'car', 10399: 'wedding', 10400: 'house', 10401: 'house', 10402: 'house', 10403: 'education', 10404: 'house', 10405: 'house', 10406: 'wedding', 10407: 'car', 10408: 'car', 10409: 'car', 10410: 'education', 10411: 'wedding', 10412: 'wedding', 10413: 'real estate', 10414: 'education', 10415: 'car', 10416: 'real estate', 10417: 'house', 10418: 'real estate', 10419: 'education', 10420: 'house', 10421: 'house', 10422: 'house', 10423: 'education', 10424: 'wedding', 10425: 'education', 10426: 'car', 10427: 'house', 10428: 'real estate', 10429: 'car', 10430: 'wedding', 10431: 'education', 10432: 'house', 10433: 'wedding', 10434: 'house', 10435: 'real estate', 10436: 'education', 10437: 'real estate', 10438: 'education', 10439: 'house', 10440: 'house', 10441: 'education', 10442: 'wedding', 10443: 'wedding', 10444: 'car', 10445: 'wedding', 10446: 'car', 10447: 'real estate', 10448: 'real estate', 10449: 'car', 10450: 'wedding', 10451: 'wedding', 10452: 'house', 10453: 'house', 10454: 'education', 10455: 'education', 10456: 'house', 10457: 'car', 10458: 'house', 10459: 'real estate', 10460: 'real estate', 10461: 'wedding', 10463: 'house', 10464: 'wedding', 10465: 'education', 10466: 'car', 10467: 'wedding', 10468: 'house', 10469: 'education', 10470: 'real estate', 10471: 'wedding', 10472: 'education', 10473: 'education', 10474: 'wedding', 10475: 'education', 10476: 'wedding', 10477: 'house', 10478: 'car', 10479: 'house', 10480: 'real estate', 10481: 'real estate', 10482: 'real estate', 10483: 'wedding', 10484: 'house', 10485: 'education', 10486: 'house', 10487: 'house', 10488: 'real estate', 10489: 'house', 10490: 'house', 10491: 'education', 10492: 'house', 10493: 'real estate', 10494: 'education', 10495: 'house', 10496: 'car', 10497: 'house', 10498: 'car', 10499: 'education', 10500: 'car', 10501: 'education', 10502: 'house', 10503: 'education', 10504: 'car', 10505: 'house', 10506: 'house', 10507: 'education', 10508: 'house', 10509: 'real estate', 10510: 'education', 10511: 'house', 10512: 'car', 10513: 'car', 10514: 'real estate', 10515: 'wedding', 10516: 'education', 10517: 'education', 10518: 'car', 10519: 'house', 10520: 'wedding', 10521: 'real estate', 10522: 'real estate', 10523: 'car', 10524: 'education', 10525: 'car', 10526: 'wedding', 10527: 'real estate', 10528: 'car', 10529: 'car', 10530: 'car', 10531: 'education', 10532: 'wedding', 10533: 'real estate', 10534: 'education', 10535: 'wedding', 10536: 'education', 10537: 'education', 10538: 'car', 10539: 'wedding', 10540: 'real estate', 10541: 'car', 10542: 'car', 10543: 'house', 10544: 'education', 10545: 'education', 10546: 'education', 10547: 'real estate', 10548: 'real estate', 10549: 'education', 10550: 'car', 10551: 'real estate', 10552: 'house', 10553: 'house', 10554: 'education', 10555: 'car', 10556: 'car', 10557: 'real estate', 10558: 'house', 10559: 'house', 10560: 'house', 10561: 'real estate', 10562: 'real estate', 10563: 'car', 10564: 'car', 10565: 'real estate', 10566: 'education', 10567: 'real estate', 10568: 'wedding', 10569: 'education', 10570: 'education', 10571: 'wedding', 10572: 'car', 10573: 'house', 10574: 'real estate', 10575: 'education', 10576: 'education', 10577: 'house', 10578: 'real estate', 10579: 'real estate', 10580: 'house', 10581: 'real estate', 10582: 'house', 10583: 'car', 10584: 'car', 10585: 'real estate', 10586: 'education', 10587: 'house', 10588: 'real estate', 10589: 'house', 10590: 'house', 10591: 'real estate', 10592: 'education', 10593: 'real estate', 10594: 'car', 10595: 'house', 10596: 'house', 10597: 'house', 10598: 'car', 10599: 'car', 10600: 'house', 10601: 'car', 10602: 'house', 10603: 'real estate', 10604: 'car', 10605: 'real estate', 10606: 'real estate', 10607: 'car', 10608: 'car', 10609: 'car', 10610: 'education', 10611: 'house', 10612: 'house', 10613: 'house', 10614: 'car', 10615: 'real estate', 10616: 'education', 10617: 'car', 10618: 'real estate', 10619: 'wedding', 10620: 'wedding', 10621: 'car', 10622: 'education', 10623: 'house', 10624: 'house', 10625: 'house', 10626: 'education', 10627: 'house', 10628: 'real estate', 10629: 'education', 10630: 'education', 10631: 'house', 10632: 'education', 10633: 'house', 10634: 'house', 10635: 'wedding', 10636: 'house', 10637: 'real estate', 10638: 'wedding', 10639: 'education', 10640: 'house', 10641: 'real estate', 10642: 'car', 10643: 'wedding', 10644: 'real estate', 10645: 'house', 10646: 'house', 10647: 'wedding', 10648: 'education', 10649: 'real estate', 10650: 'real estate', 10651: 'house', 10652: 'real estate', 10653: 'house', 10654: 'house', 10655: 'car', 10656: 'car', 10657: 'car', 10658: 'car', 10659: 'wedding', 10660: 'real estate', 10661: 'house', 10662: 'car', 10663: 'house', 10664: 'real estate', 10665: 'real estate', 10666: 'car', 10667: 'real estate', 10668: 'house', 10669: 'car', 10670: 'wedding', 10671: 'house', 10672: 'education', 10673: 'education', 10674: 'house', 10675: 'house', 10676: 'car', 10677: 'wedding', 10678: 'education', 10679: 'house', 10680: 'house', 10681: 'car', 10682: 'car', 10683: 'real estate', 10684: 'car', 10685: 'education', 10686: 'house', 10687: 'house', 10688: 'house', 10689: 'real estate', 10690: 'house', 10691: 'education', 10692: 'real estate', 10693: 'car', 10694: 'real estate', 10695: 'house', 10696: 'house', 10698: 'education', 10699: 'real estate', 10700: 'house', 10702: 'wedding', 10703: 'education', 10704: 'car', 10705: 'education', 10706: 'house', 10707: 'education', 10708: 'wedding', 10709: 'car', 10710: 'wedding', 10711: 'car', 10712: 'wedding', 10713: 'car', 10714: 'house', 10715: 'house', 10716: 'education', 10717: 'car', 10718: 'house', 10719: 'real estate', 10720: 'wedding', 10721: 'car', 10722: 'real estate', 10723: 'house', 10724: 'car', 10725: 'house', 10726: 'education', 10727: 'car', 10728: 'real estate', 10729: 'car', 10730: 'wedding', 10731: 'car', 10732: 'real estate', 10733: 'house', 10734: 'real estate', 10735: 'house', 10736: 'education', 10737: 'house', 10738: 'house', 10739: 'real estate', 10740: 'education', 10741: 'house', 10742: 'car', 10743: 'education', 10744: 'car', 10745: 'car', 10746: 'education', 10747: 'car', 10748: 'car', 10749: 'car', 10750: 'house', 10751: 'house', 10752: 'education', 10753: 'car', 10754: 'real estate', 10755: 'wedding', 10756: 'education', 10757: 'house', 10758: 'education', 10759: 'education', 10760: 'wedding', 10761: 'wedding', 10762: 'car', 10763: 'house', 10764: 'house', 10765: 'education', 10766: 'real estate', 10767: 'education', 10768: 'house', 10769: 'car', 10770: 'house', 10771: 'education', 10772: 'house', 10773: 'house', 10774: 'real estate', 10775: 'car', 10776: 'education', 10777: 'house', 10778: 'education', 10779: 'house', 10780: 'car', 10781: 'house', 10782: 'house', 10783: 'car', 10784: 'education', 10785: 'wedding', 10786: 'car', 10787: 'education', 10788: 'car', 10789: 'house', 10790: 'car', 10791: 'wedding', 10792: 'car', 10793: 'house', 10794: 'wedding', 10795: 'education', 10796: 'education', 10797: 'house', 10798: 'real estate', 10799: 'car', 10800: 'education', 10801: 'education', 10802: 'car', 10803: 'wedding', 10804: 'house', 10805: 'car', 10806: 'car', 10807: 'house', 10808: 'real estate', 10809: 'education', 10810: 'real estate', 10811: 'wedding', 10812: 'car', 10813: 'education', 10814: 'real estate', 10815: 'house', 10816: 'real estate', 10817: 'education', 10818: 'real estate', 10819: 'education', 10820: 'car', 10821: 'wedding', 10822: 'car', 10823: 'house', 10824: 'car', 10825: 'education', 10826: 'real estate', 10827: 'house', 10828: 'real estate', 10829: 'house', 10830: 'car', 10831: 'house', 10832: 'real estate', 10833: 'car', 10834: 'car', 10835: 'house', 10836: 'real estate', 10837: 'house', 10838: 'house', 10839: 'house', 10840: 'real estate', 10841: 'education', 10842: 'real estate', 10843: 'car', 10844: 'house', 10845: 'wedding', 10846: 'house', 10847: 'car', 10848: 'education', 10849: 'car', 10850: 'wedding', 10851: 'education', 10852: 'education', 10853: 'house', 10854: 'car', 10855: 'real estate', 10856: 'house', 10857: 'car', 10858: 'house', 10859: 'real estate', 10860: 'education', 10861: 'car', 10862: 'real estate', 10863: 'house', 10865: 'wedding', 10866: 'car', 10867: 'car', 10868: 'car', 10869: 'real estate', 10870: 'education', 10871: 'real estate', 10872: 'house', 10873: 'house', 10874: 'real estate', 10875: 'real estate', 10876: 'wedding', 10877: 'house', 10878: 'wedding', 10879: 'wedding', 10880: 'real estate', 10881: 'real estate', 10882: 'wedding', 10883: 'education', 10884: 'education', 10885: 'car', 10886: 'car', 10887: 'car', 10888: 'house', 10889: 'education', 10890: 'real estate', 10891: 'education', 10892: 'car', 10893: 'real estate', 10894: 'education', 10895: 'real estate', 10896: 'real estate', 10897: 'real estate', 10898: 'real estate', 10899: 'house', 10900: 'real estate', 10901: 'real estate', 10902: 'house', 10903: 'car', 10904: 'wedding', 10905: 'house', 10906: 'car', 10907: 'education', 10908: 'house', 10909: 'real estate', 10910: 'real estate', 10911: 'car', 10912: 'real estate', 10913: 'education', 10914: 'wedding', 10915: 'education', 10916: 'education', 10917: 'house', 10918: 'house', 10919: 'wedding', 10920: 'education', 10921: 'car', 10922: 'real estate', 10923: 'wedding', 10924: 'real estate', 10925: 'car', 10926: 'real estate', 10927: 'education', 10928: 'real estate', 10929: 'education', 10930: 'house', 10931: 'real estate', 10932: 'house', 10933: 'car', 10934: 'house', 10935: 'real estate', 10936: 'real estate', 10937: 'real estate', 10938: 'real estate', 10939: 'house', 10940: 'education', 10941: 'car', 10942: 'house', 10943: 'real estate', 10944: 'house', 10945: 'car', 10946: 'wedding', 10947: 'real estate', 10948: 'house', 10949: 'house', 10950: 'real estate', 10951: 'education', 10952: 'wedding', 10953: 'education', 10954: 'real estate', 10955: 'wedding', 10956: 'real estate', 10957: 'car', 10958: 'house', 10959: 'car', 10960: 'education', 10961: 'education', 10962: 'real estate', 10963: 'car', 10964: 'education', 10965: 'education', 10966: 'car', 10967: 'house', 10968: 'wedding', 10969: 'house', 10970: 'car', 10971: 'car', 10972: 'house', 10973: 'car', 10974: 'house', 10975: 'real estate', 10976: 'real estate', 10977: 'education', 10978: 'house', 10979: 'car', 10980: 'education', 10981: 'real estate', 10982: 'real estate', 10983: 'real estate', 10984: 'education', 10985: 'house', 10986: 'car', 10987: 'education', 10988: 'real estate', 10989: 'house', 10990: 'education', 10991: 'education', 10992: 'education', 10993: 'wedding', 10995: 'house', 10996: 'education', 10997: 'wedding', 10998: 'real estate', 10999: 'car', 11000: 'real estate', 11001: 'car', 11002: 'real estate', 11003: 'education', 11004: 'house', 11005: 'wedding', 11006: 'real estate', 11007: 'car', 11008: 'education', 11009: 'house', 11010: 'education', 11011: 'real estate', 11012: 'car', 11013: 'house', 11014: 'house', 11015: 'real estate', 11016: 'education', 11017: 'real estate', 11018: 'house', 11019: 'car', 11020: 'house', 11021: 'wedding', 11022: 'real estate', 11023: 'education', 11024: 'house', 11025: 'house', 11026: 'car', 11027: 'education', 11028: 'car', 11029: 'house', 11030: 'house', 11031: 'house', 11032: 'car', 11033: 'wedding', 11034: 'wedding', 11035: 'education', 11036: 'house', 11037: 'real estate', 11038: 'education', 11039: 'house', 11040: 'house', 11041: 'real estate', 11042: 'education', 11043: 'real estate', 11044: 'car', 11045: 'education', 11046: 'car', 11047: 'education', 11048: 'education', 11049: 'real estate', 11050: 'education', 11051: 'education', 11052: 'car', 11053: 'house', 11054: 'house', 11055: 'wedding', 11056: 'education', 11057: 'wedding', 11058: 'house', 11059: 'house', 11060: 'education', 11061: 'education', 11062: 'wedding', 11063: 'real estate', 11064: 'house', 11065: 'house', 11066: 'house', 11067: 'car', 11068: 'education', 11069: 'car', 11070: 'car', 11071: 'real estate', 11072: 'real estate', 11073: 'house', 11074: 'education', 11075: 'real estate', 11076: 'education', 11077: 'car', 11078: 'house', 11079: 'education', 11080: 'real estate', 11081: 'car', 11082: 'wedding', 11083: 'real estate', 11084: 'house', 11085: 'car', 11086: 'car', 11087: 'car', 11088: 'real estate', 11089: 'education', 11090: 'car', 11091: 'house', 11092: 'house', 11093: 'car', 11094: 'real estate', 11095: 'wedding', 11096: 'car', 11097: 'real estate', 11098: 'real estate', 11099: 'real estate', 11100: 'car', 11101: 'wedding', 11102: 'house', 11103: 'real estate', 11104: 'education', 11105: 'house', 11106: 'house', 11107: 'wedding', 11108: 'real estate', 11109: 'house', 11110: 'car', 11111: 'education', 11112: 'education', 11113: 'car', 11114: 'house', 11115: 'real estate', 11116: 'house', 11117: 'real estate', 11118: 'house', 11119: 'house', 11120: 'house', 11121: 'car', 11122: 'house', 11123: 'house', 11124: 'real estate', 11125: 'real estate', 11126: 'house', 11127: 'house', 11128: 'real estate', 11129: 'education', 11130: 'house', 11131: 'house', 11132: 'car', 11133: 'car', 11134: 'real estate', 11135: 'car', 11136: 'education', 11137: 'car', 11138: 'house', 11139: 'real estate', 11140: 'real estate', 11141: 'house', 11142: 'house', 11143: 'real estate', 11144: 'education', 11145: 'car', 11146: 'real estate', 11147: 'real estate', 11148: 'house', 11149: 'education', 11150: 'house', 11151: 'real estate', 11152: 'house', 11153: 'house', 11154: 'house', 11155: 'house', 11156: 'real estate', 11157: 'real estate', 11158: 'house', 11159: 'house', 11160: 'house', 11161: 'house', 11162: 'education', 11163: 'house', 11164: 'wedding', 11165: 'education', 11166: 'house', 11167: 'house', 11168: 'real estate', 11169: 'house', 11170: 'real estate', 11171: 'house', 11172: 'wedding', 11173: 'wedding', 11174: 'house', 11175: 'car', 11176: 'wedding', 11177: 'house', 11178: 'real estate', 11179: 'education', 11180: 'house', 11181: 'car', 11182: 'house', 11183: 'house', 11184: 'real estate', 11185: 'education', 11186: 'house', 11187: 'wedding', 11188: 'car', 11189: 'real estate', 11190: 'house', 11191: 'house', 11192: 'car', 11193: 'real estate', 11194: 'house', 11195: 'real estate', 11196: 'house', 11197: 'wedding', 11198: 'education', 11199: 'house', 11200: 'real estate', 11201: 'car', 11202: 'education', 11203: 'wedding', 11204: 'house', 11205: 'wedding', 11206: 'house', 11207: 'real estate', 11208: 'education', 11209: 'house', 11210: 'real estate', 11211: 'education', 11212: 'real estate', 11213: 'real estate', 11214: 'car', 11215: 'car', 11216: 'real estate', 11217: 'education', 11218: 'house', 11219: 'car', 11220: 'wedding', 11221: 'education', 11222: 'car', 11223: 'house', 11224: 'education', 11225: 'car', 11226: 'wedding', 11227: 'real estate', 11228: 'education', 11229: 'education', 11230: 'house', 11231: 'education', 11232: 'house', 11233: 'car', 11234: 'house', 11235: 'real estate', 11236: 'wedding', 11237: 'car', 11238: 'car', 11239: 'wedding', 11240: 'house', 11241: 'wedding', 11242: 'car', 11243: 'education', 11244: 'real estate', 11245: 'car', 11246: 'real estate', 11247: 'education', 11248: 'real estate', 11249: 'house', 11250: 'real estate', 11251: 'house', 11252: 'car', 11253: 'education', 11254: 'car', 11255: 'house', 11256: 'car', 11257: 'real estate', 11258: 'wedding', 11259: 'car', 11260: 'real estate', 11261: 'education', 11262: 'house', 11263: 'car', 11264: 'education', 11265: 'house', 11266: 'wedding', 11267: 'house', 11268: 'car', 11269: 'house', 11270: 'education', 11271: 'education', 11272: 'education', 11273: 'wedding', 11274: 'house', 11275: 'car', 11276: 'real estate', 11277: 'house', 11278: 'house', 11279: 'house', 11280: 'wedding', 11281: 'wedding', 11282: 'house', 11283: 'house', 11284: 'education', 11285: 'house', 11286: 'education', 11287: 'house', 11288: 'wedding', 11289: 'wedding', 11290: 'car', 11291: 'house', 11292: 'education', 11293: 'wedding', 11294: 'education', 11295: 'house', 11296: 'wedding', 11297: 'car', 11298: 'education', 11299: 'car', 11300: 'house', 11301: 'education', 11302: 'real estate', 11303: 'education', 11304: 'house', 11305: 'real estate', 11306: 'education', 11307: 'wedding', 11308: 'education', 11309: 'house', 11310: 'car', 11311: 'education', 11312: 'real estate', 11313: 'car', 11314: 'real estate', 11315: 'real estate', 11316: 'wedding', 11317: 'car', 11318: 'wedding', 11319: 'house', 11320: 'real estate', 11321: 'house', 11322: 'education', 11323: 'car', 11324: 'car', 11325: 'car', 11326: 'education', 11327: 'education', 11328: 'house', 11329: 'car', 11330: 'wedding', 11331: 'house', 11332: 'house', 11333: 'education', 11334: 'car', 11335: 'real estate', 11336: 'house', 11337: 'real estate', 11338: 'house', 11339: 'house', 11340: 'wedding', 11341: 'car', 11342: 'real estate', 11343: 'education', 11344: 'house', 11345: 'real estate', 11346: 'education', 11347: 'wedding', 11348: 'house', 11349: 'education', 11350: 'house', 11351: 'house', 11352: 'real estate', 11353: 'real estate', 11354: 'car', 11355: 'house', 11356: 'house', 11357: 'wedding', 11358: 'house', 11359: 'car', 11360: 'education', 11361: 'education', 11362: 'real estate', 11363: 'real estate', 11364: 'car', 11365: 'real estate', 11366: 'education', 11367: 'house', 11368: 'house', 11369: 'real estate', 11370: 'education', 11371: 'real estate', 11372: 'car', 11373: 'wedding', 11374: 'real estate', 11375: 'car', 11376: 'education', 11377: 'house', 11378: 'car', 11379: 'real estate', 11380: 'house', 11381: 'house', 11382: 'house', 11383: 'education', 11384: 'house', 11385: 'house', 11386: 'real estate', 11387: 'house', 11388: 'car', 11389: 'real estate', 11390: 'house', 11391: 'house', 11392: 'real estate', 11393: 'real estate', 11394: 'real estate', 11395: 'car', 11396: 'house', 11397: 'education', 11398: 'wedding', 11399: 'house', 11400: 'car', 11401: 'car', 11402: 'real estate', 11403: 'real estate', 11404: 'house', 11405: 'real estate', 11406: 'house', 11407: 'car', 11408: 'real estate', 11409: 'house', 11410: 'wedding', 11411: 'house', 11412: 'education', 11413: 'real estate', 11414: 'real estate', 11415: 'house', 11416: 'house', 11417: 'car', 11418: 'real estate', 11419: 'house', 11420: 'car', 11421: 'house', 11422: 'education', 11423: 'house', 11424: 'car', 11425: 'car', 11426: 'house', 11427: 'wedding', 11428: 'education', 11429: 'house', 11430: 'house', 11431: 'wedding', 11432: 'house', 11433: 'education', 11434: 'wedding', 11435: 'education', 11436: 'wedding', 11437: 'wedding', 11438: 'house', 11439: 'education', 11440: 'real estate', 11441: 'car', 11442: 'real estate', 11443: 'wedding', 11444: 'house', 11445: 'real estate', 11446: 'real estate', 11447: 'wedding', 11448: 'house', 11449: 'education', 11450: 'real estate', 11451: 'house', 11452: 'education', 11453: 'education', 11454: 'house', 11455: 'car', 11456: 'house', 11457: 'house', 11458: 'wedding', 11459: 'real estate', 11460: 'real estate', 11461: 'education', 11462: 'house', 11463: 'education', 11464: 'education', 11465: 'car', 11466: 'education', 11467: 'car', 11468: 'wedding', 11469: 'house', 11470: 'wedding', 11471: 'real estate', 11472: 'car', 11473: 'wedding', 11474: 'car', 11475: 'education', 11476: 'real estate', 11477: 'house', 11478: 'house', 11479: 'real estate', 11480: 'house', 11481: 'real estate', 11482: 'wedding', 11483: 'house', 11484: 'real estate', 11485: 'real estate', 11486: 'education', 11487: 'house', 11488: 'car', 11489: 'real estate', 11490: 'wedding', 11491: 'house', 11492: 'real estate', 11493: 'real estate', 11494: 'house', 11495: 'car', 11496: 'real estate', 11497: 'house', 11498: 'house', 11499: 'real estate', 11500: 'real estate', 11501: 'house', 11502: 'car', 11503: 'car', 11504: 'wedding', 11505: 'education', 11506: 'wedding', 11507: 'real estate', 11508: 'house', 11509: 'wedding', 11510: 'real estate', 11511: 'real estate', 11512: 'house', 11513: 'car', 11514: 'house', 11515: 'education', 11516: 'house', 11517: 'car', 11518: 'house', 11519: 'real estate', 11520: 'wedding', 11521: 'house', 11522: 'house', 11523: 'house', 11524: 'house', 11525: 'real estate', 11526: 'wedding', 11527: 'wedding', 11528: 'house', 11529: 'house', 11530: 'house', 11531: 'education', 11532: 'wedding', 11533: 'house', 11534: 'car', 11535: 'education', 11536: 'real estate', 11537: 'house', 11538: 'real estate', 11539: 'house', 11540: 'education', 11541: 'wedding', 11542: 'real estate', 11543: 'real estate', 11544: 'real estate', 11545: 'real estate', 11546: 'house', 11547: 'education', 11548: 'real estate', 11549: 'real estate', 11550: 'education', 11551: 'car', 11552: 'house', 11553: 'real estate', 11554: 'education', 11555: 'car', 11556: 'house', 11557: 'education', 11558: 'car', 11559: 'education', 11560: 'car', 11561: 'education', 11562: 'house', 11563: 'education', 11564: 'wedding', 11565: 'house', 11566: 'real estate', 11567: 'real estate', 11568: 'education', 11569: 'house', 11570: 'wedding', 11571: 'car', 11572: 'real estate', 11573: 'real estate', 11574: 'wedding', 11575: 'wedding', 11576: 'house', 11577: 'wedding', 11578: 'house', 11579: 'house', 11580: 'real estate', 11581: 'house', 11582: 'wedding', 11583: 'house', 11584: 'house', 11585: 'car', 11586: 'house', 11587: 'education', 11588: 'real estate', 11589: 'car', 11590: 'real estate', 11591: 'car', 11592: 'education', 11593: 'education', 11594: 'wedding', 11595: 'car', 11596: 'real estate', 11597: 'car', 11598: 'house', 11599: 'real estate', 11600: 'house', 11601: 'house', 11602: 'house', 11603: 'real estate', 11604: 'education', 11605: 'house', 11606: 'real estate', 11607: 'house', 11608: 'house', 11609: 'house', 11610: 'house', 11611: 'education', 11612: 'real estate', 11613: 'house', 11614: 'education', 11615: 'wedding', 11616: 'wedding', 11617: 'house', 11618: 'house', 11619: 'real estate', 11620: 'house', 11621: 'real estate', 11622: 'car', 11623: 'car', 11624: 'car', 11625: 'education', 11626: 'real estate', 11627: 'wedding', 11628: 'house', 11629: 'education', 11630: 'car', 11631: 'real estate', 11632: 'house', 11633: 'education', 11634: 'education', 11635: 'real estate', 11636: 'real estate', 11637: 'real estate', 11638: 'house', 11639: 'car', 11640: 'real estate', 11641: 'education', 11642: 'real estate', 11643: 'house', 11644: 'wedding', 11645: 'real estate', 11646: 'car', 11647: 'wedding', 11648: 'car', 11649: 'car', 11650: 'house', 11651: 'car', 11652: 'house', 11653: 'car', 11654: 'education', 11655: 'real estate', 11656: 'education', 11657: 'house', 11658: 'education', 11659: 'car', 11660: 'real estate', 11661: 'car', 11662: 'education', 11663: 'education', 11664: 'education', 11665: 'house', 11666: 'education', 11667: 'house', 11668: 'car', 11669: 'wedding', 11670: 'car', 11671: 'house', 11672: 'car', 11673: 'education', 11674: 'house', 11675: 'car', 11676: 'education', 11677: 'real estate', 11678: 'education', 11679: 'real estate', 11680: 'house', 11681: 'house', 11682: 'education', 11683: 'house', 11684: 'house', 11685: 'education', 11686: 'car', 11687: 'house', 11688: 'real estate', 11689: 'car', 11690: 'wedding', 11691: 'house', 11692: 'house', 11693: 'education', 11694: 'house', 11695: 'car', 11696: 'house', 11697: 'education', 11698: 'real estate', 11699: 'car', 11700: 'house', 11701: 'real estate', 11702: 'car', 11703: 'real estate', 11704: 'education', 11705: 'house', 11706: 'wedding', 11707: 'house', 11708: 'car', 11709: 'car', 11710: 'real estate', 11711: 'education', 11712: 'real estate', 11713: 'car', 11714: 'real estate', 11715: 'car', 11716: 'car', 11717: 'car', 11718: 'car', 11719: 'house', 11720: 'wedding', 11721: 'education', 11722: 'house', 11723: 'education', 11724: 'wedding', 11725: 'house', 11726: 'education', 11727: 'real estate', 11728: 'real estate', 11729: 'real estate', 11730: 'house', 11731: 'car', 11732: 'car', 11733: 'car', 11734: 'education', 11735: 'house', 11736: 'house', 11737: 'real estate', 11738: 'house', 11739: 'real estate', 11740: 'real estate', 11741: 'real estate', 11742: 'house', 11743: 'car', 11744: 'wedding', 11745: 'house', 11746: 'car', 11747: 'house', 11748: 'house', 11749: 'real estate', 11750: 'house', 11751: 'real estate', 11752: 'house', 11753: 'education', 11754: 'wedding', 11755: 'house', 11756: 'house', 11757: 'house', 11758: 'real estate', 11759: 'education', 11760: 'wedding', 11761: 'education', 11762: 'wedding', 11763: 'education', 11764: 'car', 11765: 'house', 11766: 'house', 11767: 'house', 11768: 'education', 11769: 'wedding', 11770: 'wedding', 11771: 'education', 11772: 'real estate', 11773: 'car', 11774: 'car', 11775: 'house', 11776: 'car', 11777: 'house', 11778: 'house', 11779: 'real estate', 11780: 'house', 11781: 'car', 11782: 'education', 11783: 'education', 11784: 'car', 11785: 'car', 11786: 'wedding', 11787: 'real estate', 11788: 'car', 11789: 'house', 11790: 'house', 11792: 'house', 11793: 'house', 11794: 'car', 11795: 'education', 11796: 'education', 11797: 'house', 11798: 'education', 11799: 'house', 11800: 'education', 11801: 'education', 11802: 'real estate', 11803: 'car', 11804: 'wedding', 11805: 'house', 11806: 'house', 11807: 'house', 11808: 'car', 11809: 'wedding', 11810: 'car', 11811: 'car', 11812: 'wedding', 11813: 'wedding', 11814: 'real estate', 11815: 'education', 11816: 'house', 11817: 'education', 11818: 'car', 11819: 'education', 11820: 'wedding', 11821: 'real estate', 11822: 'education', 11823: 'car', 11824: 'education', 11825: 'house', 11826: 'car', 11827: 'house', 11828: 'car', 11829: 'house', 11830: 'house', 11831: 'house', 11832: 'education', 11833: 'wedding', 11834: 'car', 11835: 'house', 11836: 'education', 11837: 'wedding', 11838: 'house', 11839: 'real estate', 11840: 'education', 11841: 'car', 11842: 'education', 11843: 'car', 11844: 'house', 11845: 'house', 11846: 'real estate', 11847: 'real estate', 11848: 'wedding', 11849: 'house', 11850: 'house', 11851: 'house', 11852: 'house', 11853: 'education', 11854: 'house', 11855: 'education', 11856: 'real estate', 11857: 'house', 11858: 'real estate', 11859: 'house', 11860: 'car', 11861: 'wedding', 11862: 'car', 11863: 'wedding', 11864: 'car', 11865: 'car', 11866: 'car', 11867: 'house', 11868: 'real estate', 11869: 'house', 11870: 'education', 11871: 'real estate', 11872: 'house', 11873: 'wedding', 11874: 'car', 11875: 'house', 11876: 'car', 11877: 'house', 11878: 'wedding', 11879: 'house', 11880: 'wedding', 11881: 'house', 11882: 'real estate', 11883: 'house', 11884: 'wedding', 11885: 'house', 11886: 'education', 11887: 'house', 11888: 'real estate', 11889: 'education', 11890: 'real estate', 11891: 'house', 11892: 'education', 11893: 'car', 11894: 'house', 11895: 'real estate', 11896: 'education', 11897: 'car', 11898: 'real estate', 11899: 'car', 11900: 'real estate', 11901: 'education', 11902: 'real estate', 11903: 'house', 11904: 'house', 11905: 'wedding', 11906: 'real estate', 11907: 'wedding', 11908: 'education', 11909: 'car', 11910: 'education', 11911: 'education', 11912: 'house', 11913: 'house', 11914: 'real estate', 11915: 'wedding', 11916: 'house', 11917: 'car', 11918: 'real estate', 11919: 'real estate', 11920: 'house', 11921: 'wedding', 11922: 'education', 11923: 'wedding', 11924: 'house', 11925: 'real estate', 11926: 'house', 11927: 'wedding', 11928: 'education', 11929: 'house', 11930: 'wedding', 11931: 'education', 11932: 'real estate', 11933: 'education', 11934: 'real estate', 11935: 'real estate', 11936: 'real estate', 11937: 'house', 11938: 'house', 11939: 'house', 11940: 'house', 11941: 'car', 11942: 'real estate', 11943: 'wedding', 11944: 'real estate', 11945: 'car', 11946: 'real estate', 11947: 'real estate', 11948: 'house', 11949: 'car', 11950: 'wedding', 11951: 'education', 11952: 'car', 11953: 'real estate', 11954: 'education', 11955: 'education', 11956: 'house', 11957: 'wedding', 11958: 'house', 11959: 'house', 11960: 'real estate', 11961: 'car', 11962: 'house', 11963: 'real estate', 11964: 'real estate', 11965: 'education', 11966: 'real estate', 11967: 'house', 11968: 'house', 11969: 'house', 11970: 'house', 11971: 'education', 11972: 'education', 11973: 'house', 11974: 'house', 11975: 'education', 11976: 'house', 11977: 'wedding', 11978: 'education', 11979: 'car', 11980: 'house', 11981: 'wedding', 11982: 'real estate', 11983: 'education', 11984: 'car', 11985: 'education', 11986: 'house', 11987: 'real estate', 11988: 'house', 11989: 'real estate', 11990: 'car', 11991: 'real estate', 11992: 'real estate', 11993: 'education', 11994: 'education', 11995: 'real estate', 11996: 'real estate', 11997: 'education', 11998: 'car', 11999: 'education', 12000: 'real estate', 12001: 'education', 12002: 'education', 12003: 'education', 12004: 'education', 12005: 'house', 12006: 'real estate', 12007: 'education', 12008: 'education', 12009: 'real estate', 12010: 'car', 12011: 'house', 12012: 'house', 12013: 'car', 12014: 'car', 12015: 'car', 12016: 'real estate', 12017: 'car', 12018: 'car', 12019: 'car', 12020: 'real estate', 12021: 'house', 12022: 'car', 12023: 'education', 12024: 'wedding', 12025: 'car', 12026: 'real estate', 12027: 'real estate', 12028: 'car', 12029: 'wedding', 12030: 'house', 12031: 'house', 12032: 'education', 12033: 'wedding', 12034: 'real estate', 12035: 'education', 12036: 'real estate', 12037: 'real estate', 12038: 'wedding', 12039: 'car', 12040: 'education', 12041: 'wedding', 12042: 'education', 12043: 'car', 12044: 'house', 12045: 'house', 12046: 'real estate', 12047: 'real estate', 12048: 'car', 12049: 'real estate', 12050: 'wedding', 12051: 'real estate', 12052: 'education', 12053: 'car', 12054: 'real estate', 12055: 'education', 12056: 'real estate', 12057: 'real estate', 12058: 'real estate', 12059: 'education', 12060: 'education', 12061: 'car', 12062: 'house', 12063: 'real estate', 12064: 'real estate', 12065: 'house', 12066: 'real estate', 12067: 'house', 12068: 'house', 12069: 'education', 12070: 'house', 12071: 'car', 12072: 'car', 12073: 'education', 12074: 'real estate', 12075: 'house', 12076: 'education', 12077: 'real estate', 12078: 'house', 12079: 'education', 12080: 'real estate', 12081: 'wedding', 12082: 'car', 12083: 'car', 12084: 'education', 12085: 'house', 12086: 'real estate', 12087: 'education', 12088: 'education', 12089: 'house', 12090: 'education', 12091: 'real estate', 12092: 'house', 12093: 'house', 12094: 'car', 12095: 'house', 12096: 'car', 12097: 'education', 12098: 'car', 12099: 'real estate', 12100: 'car', 12101: 'education', 12102: 'education', 12103: 'real estate', 12104: 'real estate', 12105: 'wedding', 12106: 'real estate', 12107: 'education', 12108: 'real estate', 12109: 'education', 12110: 'car', 12111: 'house', 12112: 'car', 12113: 'education', 12114: 'house', 12115: 'real estate', 12116: 'wedding', 12117: 'education', 12118: 'car', 12119: 'education', 12120: 'education', 12121: 'car', 12122: 'house', 12123: 'wedding', 12124: 'house', 12125: 'house', 12126: 'real estate', 12127: 'real estate', 12128: 'real estate', 12129: 'real estate', 12130: 'car', 12131: 'education', 12132: 'education', 12133: 'house', 12134: 'education', 12135: 'wedding', 12136: 'house', 12137: 'car', 12138: 'education', 12139: 'car', 12140: 'house', 12141: 'education', 12142: 'house', 12143: 'real estate', 12144: 'wedding', 12145: 'real estate', 12146: 'car', 12147: 'car', 12148: 'house', 12149: 'car', 12150: 'car', 12151: 'education', 12152: 'wedding', 12153: 'car', 12154: 'education', 12155: 'real estate', 12156: 'car', 12157: 'education', 12158: 'real estate', 12159: 'house', 12160: 'house', 12161: 'education', 12162: 'house', 12163: 'car', 12164: 'education', 12165: 'wedding', 12166: 'house', 12167: 'house', 12168: 'real estate', 12169: 'education', 12170: 'house', 12171: 'real estate', 12172: 'real estate', 12173: 'car', 12174: 'wedding', 12175: 'real estate', 12176: 'real estate', 12177: 'education', 12178: 'wedding', 12179: 'wedding', 12180: 'wedding', 12181: 'house', 12182: 'car', 12183: 'real estate', 12184: 'house', 12185: 'house', 12186: 'wedding', 12187: 'education', 12188: 'car', 12189: 'house', 12190: 'education', 12191: 'car', 12192: 'house', 12193: 'house', 12194: 'education', 12195: 'house', 12196: 'house', 12197: 'house', 12198: 'house', 12199: 'house', 12200: 'house', 12201: 'real estate', 12202: 'wedding', 12203: 'real estate', 12204: 'car', 12205: 'house', 12206: 'real estate', 12207: 'education', 12208: 'real estate', 12209: 'education', 12210: 'education', 12211: 'car', 12212: 'real estate', 12213: 'house', 12214: 'wedding', 12215: 'house', 12216: 'education', 12217: 'house', 12218: 'house', 12219: 'house', 12220: 'house', 12221: 'car', 12222: 'house', 12223: 'real estate', 12224: 'education', 12225: 'house', 12226: 'house', 12227: 'real estate', 12228: 'car', 12229: 'house', 12230: 'real estate', 12231: 'real estate', 12232: 'house', 12233: 'car', 12234: 'wedding', 12235: 'real estate', 12236: 'real estate', 12237: 'car', 12238: 'house', 12239: 'wedding', 12240: 'education', 12241: 'car', 12242: 'real estate', 12243: 'house', 12244: 'real estate', 12245: 'house', 12246: 'education', 12247: 'house', 12248: 'house', 12249: 'real estate', 12250: 'house', 12251: 'real estate', 12252: 'real estate', 12253: 'education', 12254: 'education', 12255: 'wedding', 12256: 'education', 12257: 'education', 12258: 'real estate', 12259: 'education', 12260: 'real estate', 12261: 'real estate', 12262: 'real estate', 12263: 'house', 12264: 'house', 12265: 'house', 12266: 'house', 12267: 'real estate', 12268: 'car', 12269: 'education', 12270: 'education', 12271: 'real estate', 12272: 'real estate', 12273: 'house', 12274: 'house', 12275: 'car', 12276: 'house', 12277: 'car', 12278: 'car', 12279: 'car', 12280: 'real estate', 12281: 'house', 12282: 'wedding', 12283: 'house', 12284: 'house', 12285: 'wedding', 12286: 'house', 12287: 'real estate', 12288: 'car', 12289: 'car', 12290: 'real estate', 12291: 'car', 12292: 'real estate', 12293: 'real estate', 12294: 'house', 12295: 'real estate', 12296: 'house', 12297: 'education', 12298: 'house', 12299: 'real estate', 12300: 'house', 12301: 'house', 12302: 'house', 12303: 'car', 12304: 'house', 12305: 'house', 12306: 'house', 12307: 'real estate', 12308: 'education', 12309: 'car', 12310: 'car', 12311: 'house', 12312: 'car', 12313: 'house', 12314: 'real estate', 12315: 'car', 12316: 'house', 12317: 'real estate', 12318: 'education', 12319: 'wedding', 12320: 'wedding', 12321: 'education', 12322: 'house', 12323: 'car', 12324: 'house', 12325: 'house', 12326: 'education', 12327: 'real estate', 12328: 'car', 12329: 'house', 12330: 'house', 12331: 'car', 12332: 'education', 12333: 'education', 12334: 'real estate', 12335: 'house', 12336: 'car', 12337: 'car', 12338: 'wedding', 12339: 'house', 12340: 'house', 12341: 'house', 12342: 'real estate', 12343: 'house', 12344: 'education', 12345: 'house', 12346: 'car', 12347: 'education', 12348: 'education', 12349: 'house', 12350: 'education', 12351: 'house', 12352: 'car', 12353: 'house', 12354: 'wedding', 12355: 'house', 12356: 'house', 12357: 'education', 12358: 'house', 12359: 'education', 12360: 'house', 12361: 'car', 12362: 'house', 12363: 'real estate', 12364: 'house', 12365: 'house', 12366: 'car', 12367: 'house', 12368: 'car', 12369: 'car', 12370: 'house', 12371: 'house', 12372: 'car', 12374: 'real estate', 12376: 'education', 12377: 'house', 12378: 'education', 12379: 'education', 12380: 'car', 12381: 'house', 12382: 'real estate', 12383: 'house', 12384: 'education', 12385: 'house', 12386: 'house', 12387: 'car', 12388: 'house', 12389: 'education', 12390: 'house', 12391: 'car', 12392: 'real estate', 12393: 'education', 12394: 'wedding', 12395: 'wedding', 12396: 'real estate', 12397: 'education', 12398: 'house', 12399: 'wedding', 12400: 'education', 12401: 'house', 12402: 'car', 12403: 'real estate', 12404: 'house', 12405: 'car', 12406: 'real estate', 12407: 'education', 12408: 'house', 12409: 'car', 12410: 'wedding', 12411: 'real estate', 12412: 'house', 12413: 'house', 12414: 'education', 12415: 'wedding', 12416: 'education', 12417: 'real estate', 12418: 'house', 12419: 'real estate', 12420: 'house', 12421: 'education', 12422: 'real estate', 12423: 'wedding', 12424: 'education', 12425: 'car', 12426: 'wedding', 12427: 'house', 12428: 'wedding', 12429: 'car', 12430: 'house', 12431: 'car', 12432: 'wedding', 12433: 'education', 12434: 'house', 12435: 'education', 12436: 'house', 12437: 'house', 12438: 'car', 12439: 'wedding', 12440: 'house', 12441: 'car', 12442: 'car', 12443: 'house', 12444: 'real estate', 12445: 'car', 12446: 'real estate', 12447: 'education', 12448: 'wedding', 12449: 'real estate', 12450: 'real estate', 12451: 'house', 12452: 'education', 12453: 'wedding', 12454: 'house', 12455: 'house', 12456: 'house', 12457: 'education', 12458: 'real estate', 12459: 'house', 12460: 'real estate', 12461: 'education', 12462: 'house', 12463: 'wedding', 12464: 'education', 12465: 'car', 12466: 'car', 12467: 'wedding', 12468: 'car', 12469: 'house', 12470: 'car', 12471: 'house', 12472: 'car', 12473: 'education', 12474: 'education', 12475: 'real estate', 12476: 'car', 12477: 'wedding', 12478: 'real estate', 12479: 'house', 12480: 'house', 12481: 'real estate', 12482: 'house', 12483: 'house', 12484: 'house', 12485: 'car', 12486: 'real estate', 12487: 'real estate', 12488: 'house', 12489: 'car', 12490: 'education', 12491: 'wedding', 12492: 'real estate', 12493: 'house', 12494: 'real estate', 12495: 'car', 12496: 'real estate', 12497: 'wedding', 12498: 'car', 12499: 'education', 12500: 'real estate', 12501: 'education', 12502: 'real estate', 12503: 'wedding', 12504: 'education', 12505: 'house', 12506: 'education', 12507: 'car', 12508: 'house', 12509: 'real estate', 12510: 'house', 12511: 'real estate', 12512: 'real estate', 12513: 'real estate', 12514: 'house', 12515: 'real estate', 12516: 'real estate', 12517: 'car', 12518: 'house', 12519: 'car', 12520: 'house', 12521: 'car', 12522: 'house', 12523: 'house', 12524: 'car', 12525: 'real estate', 12526: 'car', 12527: 'car', 12528: 'car', 12529: 'real estate', 12530: 'wedding', 12531: 'house', 12532: 'house', 12533: 'education', 12534: 'wedding', 12535: 'car', 12536: 'real estate', 12537: 'car', 12538: 'car', 12539: 'house', 12540: 'education', 12541: 'house', 12542: 'car', 12543: 'real estate', 12544: 'wedding', 12545: 'house', 12546: 'house', 12547: 'house', 12548: 'education', 12549: 'house', 12550: 'car', 12551: 'house', 12552: 'car', 12553: 'wedding', 12554: 'car', 12555: 'car', 12556: 'car', 12557: 'education', 12558: 'house', 12559: 'car', 12560: 'car', 12561: 'house', 12562: 'house', 12563: 'house', 12564: 'house', 12565: 'house', 12566: 'education', 12567: 'education', 12568: 'car', 12569: 'education', 12570: 'wedding', 12571: 'house', 12572: 'education', 12573: 'education', 12574: 'real estate', 12575: 'house', 12576: 'wedding', 12577: 'wedding', 12578: 'education', 12579: 'real estate', 12580: 'real estate', 12581: 'wedding', 12582: 'car', 12583: 'education', 12584: 'car', 12585: 'car', 12586: 'house', 12587: 'house', 12588: 'car', 12589: 'car', 12590: 'house', 12591: 'house', 12592: 'real estate', 12593: 'education', 12594: 'real estate', 12595: 'house', 12596: 'house', 12597: 'real estate', 12598: 'house', 12599: 'education', 12600: 'car', 12601: 'house', 12602: 'education', 12603: 'education', 12604: 'real estate', 12605: 'house', 12606: 'wedding', 12607: 'real estate', 12608: 'house', 12609: 'house', 12610: 'house', 12611: 'car', 12612: 'car', 12613: 'house', 12614: 'real estate', 12615: 'house', 12616: 'education', 12617: 'house', 12618: 'house', 12619: 'education', 12620: 'car', 12621: 'car', 12622: 'education', 12623: 'house', 12624: 'house', 12625: 'wedding', 12626: 'car', 12627: 'wedding', 12628: 'house', 12629: 'house', 12630: 'house', 12631: 'wedding', 12632: 'wedding', 12633: 'wedding', 12634: 'house', 12635: 'house', 12636: 'education', 12637: 'real estate', 12638: 'house', 12639: 'wedding', 12640: 'real estate', 12641: 'real estate', 12642: 'real estate', 12643: 'education', 12644: 'car', 12645: 'car', 12646: 'house', 12647: 'car', 12648: 'house', 12649: 'house', 12650: 'house', 12651: 'education', 12652: 'real estate', 12653: 'house', 12654: 'house', 12655: 'education', 12656: 'real estate', 12657: 'car', 12658: 'car', 12659: 'house', 12660: 'house', 12661: 'wedding', 12662: 'house', 12663: 'house', 12664: 'house', 12665: 'car', 12666: 'house', 12667: 'house', 12668: 'car', 12669: 'house', 12670: 'house', 12671: 'real estate', 12672: 'house', 12673: 'real estate', 12674: 'house', 12675: 'real estate', 12676: 'car', 12677: 'house', 12678: 'real estate', 12679: 'car', 12680: 'real estate', 12681: 'car', 12682: 'house', 12683: 'house', 12684: 'education', 12685: 'car', 12686: 'real estate', 12687: 'real estate', 12688: 'house', 12689: 'house', 12690: 'house', 12691: 'car', 12692: 'car', 12693: 'car', 12694: 'education', 12695: 'car', 12696: 'house', 12697: 'house', 12698: 'education', 12699: 'car', 12700: 'house', 12701: 'house', 12702: 'education', 12703: 'real estate', 12704: 'house', 12705: 'education', 12706: 'wedding', 12707: 'real estate', 12708: 'real estate', 12709: 'education', 12710: 'house', 12711: 'car', 12712: 'house', 12713: 'real estate', 12714: 'house', 12715: 'car', 12716: 'car', 12717: 'house', 12718: 'car', 12719: 'real estate', 12720: 'education', 12721: 'house', 12722: 'wedding', 12723: 'real estate', 12724: 'house', 12725: 'real estate', 12726: 'real estate', 12727: 'car', 12728: 'real estate', 12729: 'education', 12730: 'house', 12731: 'car', 12732: 'wedding', 12733: 'car', 12734: 'house', 12735: 'real estate', 12737: 'house', 12738: 'car', 12739: 'education', 12740: 'wedding', 12741: 'house', 12742: 'house', 12743: 'car', 12744: 'wedding', 12745: 'car', 12746: 'car', 12747: 'house', 12748: 'house', 12749: 'house', 12750: 'wedding', 12751: 'real estate', 12752: 'house', 12753: 'education', 12754: 'house', 12755: 'house', 12756: 'education', 12757: 'education', 12758: 'car', 12759: 'car', 12760: 'house', 12761: 'education', 12762: 'education', 12763: 'car', 12764: 'real estate', 12765: 'car', 12766: 'house', 12767: 'car', 12768: 'car', 12769: 'house', 12770: 'house', 12771: 'education', 12772: 'real estate', 12773: 'real estate', 12774: 'house', 12775: 'house', 12776: 'education', 12777: 'real estate', 12778: 'real estate', 12779: 'car', 12780: 'car', 12781: 'education', 12782: 'real estate', 12783: 'house', 12784: 'house', 12785: 'education', 12786: 'real estate', 12787: 'education', 12788: 'house', 12789: 'house', 12790: 'education', 12791: 'car', 12792: 'wedding', 12793: 'wedding', 12794: 'real estate', 12795: 'wedding', 12796: 'house', 12797: 'house', 12798: 'real estate', 12799: 'real estate', 12800: 'wedding', 12801: 'wedding', 12802: 'real estate', 12803: 'house', 12804: 'house', 12805: 'house', 12806: 'wedding', 12807: 'education', 12808: 'real estate', 12809: 'car', 12810: 'real estate', 12811: 'wedding', 12812: 'education', 12813: 'house', 12814: 'car', 12815: 'house', 12816: 'house', 12817: 'house', 12818: 'real estate', 12819: 'house', 12820: 'real estate', 12821: 'car', 12822: 'real estate', 12823: 'house', 12824: 'house', 12825: 'house', 12826: 'education', 12827: 'house', 12828: 'education', 12829: 'education', 12830: 'wedding', 12831: 'house', 12832: 'education', 12833: 'real estate', 12834: 'house', 12835: 'wedding', 12836: 'car', 12837: 'wedding', 12838: 'house', 12839: 'house', 12840: 'house', 12841: 'car', 12842: 'education', 12843: 'wedding', 12844: 'house', 12845: 'car', 12846: 'car', 12847: 'real estate', 12848: 'house', 12849: 'real estate', 12850: 'house', 12851: 'car', 12852: 'wedding', 12853: 'education', 12854: 'real estate', 12855: 'car', 12856: 'real estate', 12857: 'education', 12858: 'education', 12859: 'wedding', 12860: 'education', 12861: 'house', 12862: 'car', 12863: 'wedding', 12864: 'house', 12865: 'education', 12866: 'real estate', 12867: 'real estate', 12868: 'education', 12869: 'real estate', 12870: 'education', 12871: 'education', 12872: 'house', 12873: 'house', 12874: 'real estate', 12875: 'real estate', 12876: 'education', 12877: 'real estate', 12878: 'car', 12879: 'education', 12880: 'education', 12881: 'car', 12882: 'car', 12883: 'wedding', 12884: 'car', 12885: 'car', 12886: 'house', 12887: 'house', 12888: 'car', 12889: 'real estate', 12890: 'real estate', 12891: 'house', 12892: 'house', 12893: 'education', 12894: 'house', 12895: 'car', 12896: 'education', 12897: 'car', 12898: 'house', 12899: 'car', 12900: 'wedding', 12901: 'wedding', 12902: 'house', 12903: 'real estate', 12904: 'house', 12905: 'wedding', 12906: 'house', 12907: 'house', 12908: 'wedding', 12909: 'house', 12910: 'real estate', 12911: 'car', 12912: 'house', 12913: 'house', 12914: 'education', 12915: 'education', 12916: 'education', 12917: 'real estate', 12918: 'car', 12919: 'car', 12920: 'education', 12921: 'real estate', 12922: 'house', 12923: 'house', 12924: 'house', 12925: 'car', 12926: 'car', 12927: 'real estate', 12928: 'education', 12929: 'house', 12930: 'real estate', 12931: 'wedding', 12932: 'house', 12933: 'house', 12934: 'real estate', 12935: 'house', 12936: 'house', 12937: 'car', 12938: 'car', 12939: 'house', 12940: 'house', 12941: 'car', 12942: 'real estate', 12943: 'car', 12944: 'education', 12945: 'house', 12946: 'house', 12947: 'house', 12948: 'house', 12949: 'car', 12950: 'real estate', 12951: 'real estate', 12952: 'house', 12953: 'real estate', 12954: 'wedding', 12955: 'real estate', 12956: 'real estate', 12957: 'real estate', 12958: 'education', 12959: 'car', 12960: 'house', 12961: 'education', 12962: 'house', 12963: 'real estate', 12964: 'education', 12965: 'real estate', 12966: 'house', 12967: 'house', 12968: 'real estate', 12969: 'wedding', 12970: 'education', 12971: 'house', 12972: 'house', 12973: 'house', 12974: 'real estate', 12975: 'house', 12976: 'house', 12977: 'house', 12978: 'education', 12979: 'education', 12980: 'car', 12981: 'car', 12982: 'wedding', 12983: 'wedding', 12984: 'car', 12985: 'wedding', 12986: 'car', 12987: 'real estate', 12988: 'house', 12989: 'real estate', 12990: 'car', 12991: 'education', 12992: 'house', 12993: 'real estate', 12994: 'real estate', 12995: 'house', 12996: 'education', 12997: 'real estate', 12998: 'house', 12999: 'house', 13000: 'real estate', 13001: 'house', 13002: 'wedding', 13003: 'car', 13004: 'house', 13005: 'real estate', 13006: 'education', 13007: 'house', 13008: 'house', 13009: 'real estate', 13010: 'house', 13011: 'car', 13012: 'real estate', 13013: 'real estate', 13014: 'real estate', 13015: 'car', 13016: 'real estate', 13017: 'real estate', 13018: 'wedding', 13019: 'house', 13020: 'house', 13021: 'car', 13022: 'education', 13023: 'wedding', 13024: 'education', 13026: 'education', 13027: 'house', 13028: 'real estate', 13029: 'house', 13030: 'real estate', 13031: 'wedding', 13032: 'real estate', 13033: 'education', 13034: 'house', 13035: 'wedding', 13036: 'real estate', 13037: 'car', 13038: 'education', 13039: 'car', 13040: 'house', 13041: 'house', 13042: 'real estate', 13043: 'house', 13044: 'wedding', 13045: 'car', 13046: 'car', 13047: 'wedding', 13048: 'real estate', 13049: 'real estate', 13050: 'real estate', 13051: 'house', 13052: 'education', 13053: 'house', 13054: 'car', 13055: 'education', 13056: 'real estate', 13057: 'education', 13058: 'car', 13059: 'education', 13060: 'house', 13061: 'house', 13062: 'house', 13063: 'real estate', 13064: 'house', 13065: 'wedding', 13066: 'car', 13067: 'car', 13068: 'wedding', 13069: 'education', 13070: 'real estate', 13071: 'house', 13072: 'wedding', 13073: 'car', 13074: 'education', 13075: 'education', 13076: 'car', 13077: 'house', 13078: 'house', 13079: 'wedding', 13080: 'real estate', 13081: 'wedding', 13082: 'real estate', 13083: 'education', 13084: 'real estate', 13085: 'car', 13086: 'wedding', 13087: 'house', 13088: 'car', 13089: 'house', 13090: 'real estate', 13091: 'car', 13092: 'real estate', 13093: 'house', 13094: 'car', 13095: 'house', 13096: 'house', 13097: 'car', 13098: 'car', 13099: 'house', 13100: 'house', 13101: 'real estate', 13102: 'real estate', 13103: 'wedding', 13104: 'real estate', 13105: 'real estate', 13106: 'education', 13107: 'real estate', 13108: 'education', 13109: 'car', 13110: 'education', 13111: 'real estate', 13112: 'wedding', 13113: 'wedding', 13114: 'car', 13115: 'education', 13116: 'car', 13117: 'house', 13118: 'house', 13119: 'car', 13120: 'house', 13121: 'car', 13122: 'car', 13123: 'house', 13124: 'car', 13125: 'education', 13126: 'real estate', 13127: 'car', 13128: 'real estate', 13129: 'real estate', 13130: 'car', 13131: 'car', 13132: 'real estate', 13133: 'car', 13134: 'car', 13135: 'real estate', 13136: 'education', 13137: 'car', 13138: 'real estate', 13139: 'car', 13140: 'education', 13141: 'house', 13142: 'car', 13143: 'house', 13144: 'real estate', 13145: 'real estate', 13146: 'education', 13147: 'car', 13148: 'house', 13149: 'education', 13150: 'education', 13151: 'education', 13152: 'wedding', 13153: 'real estate', 13154: 'education', 13155: 'education', 13156: 'house', 13157: 'car', 13158: 'education', 13159: 'education', 13160: 'house', 13161: 'house', 13162: 'car', 13163: 'real estate', 13164: 'real estate', 13165: 'car', 13166: 'house', 13167: 'real estate', 13168: 'education', 13169: 'real estate', 13170: 'education', 13171: 'education', 13172: 'house', 13173: 'wedding', 13174: 'real estate', 13175: 'house', 13176: 'house', 13177: 'car', 13178: 'car', 13179: 'house', 13180: 'education', 13181: 'education', 13182: 'education', 13183: 'car', 13184: 'car', 13185: 'car', 13186: 'house', 13187: 'wedding', 13188: 'car', 13189: 'wedding', 13190: 'car', 13191: 'real estate', 13192: 'house', 13193: 'education', 13194: 'education', 13195: 'real estate', 13196: 'real estate', 13197: 'car', 13198: 'car', 13199: 'wedding', 13200: 'house', 13201: 'real estate', 13202: 'house', 13203: 'real estate', 13204: 'real estate', 13205: 'wedding', 13206: 'education', 13207: 'real estate', 13208: 'car', 13209: 'house', 13210: 'real estate', 13211: 'real estate', 13212: 'real estate', 13213: 'house', 13214: 'house', 13215: 'real estate', 13216: 'car', 13217: 'car', 13218: 'real estate', 13219: 'house', 13220: 'car', 13221: 'house', 13222: 'car', 13223: 'wedding', 13224: 'real estate', 13225: 'education', 13226: 'car', 13227: 'house', 13228: 'car', 13229: 'real estate', 13230: 'house', 13231: 'education', 13232: 'education', 13233: 'house', 13234: 'car', 13235: 'car', 13236: 'wedding', 13237: 'car', 13238: 'car', 13239: 'car', 13240: 'wedding', 13241: 'house', 13242: 'wedding', 13243: 'education', 13244: 'house', 13245: 'house', 13246: 'real estate', 13247: 'education', 13248: 'house', 13249: 'real estate', 13250: 'wedding', 13251: 'car', 13252: 'car', 13253: 'education', 13254: 'house', 13255: 'real estate', 13256: 'real estate', 13257: 'education', 13258: 'house', 13259: 'car', 13260: 'education', 13261: 'real estate', 13262: 'wedding', 13263: 'car', 13264: 'real estate', 13265: 'real estate', 13266: 'house', 13267: 'real estate', 13268: 'education', 13269: 'house', 13270: 'house', 13271: 'house', 13272: 'wedding', 13273: 'real estate', 13274: 'education', 13275: 'education', 13276: 'car', 13277: 'education', 13278: 'house', 13279: 'real estate', 13280: 'house', 13281: 'education', 13282: 'education', 13283: 'wedding', 13284: 'house', 13285: 'house', 13286: 'house', 13287: 'house', 13288: 'car', 13289: 'house', 13290: 'house', 13291: 'education', 13292: 'car', 13293: 'education', 13294: 'real estate', 13295: 'real estate', 13296: 'house', 13297: 'car', 13298: 'house', 13299: 'house', 13300: 'car', 13301: 'car', 13302: 'house', 13303: 'real estate', 13304: 'house', 13305: 'house', 13306: 'wedding', 13307: 'house', 13308: 'real estate', 13309: 'wedding', 13310: 'real estate', 13311: 'house', 13312: 'house', 13313: 'education', 13314: 'house', 13315: 'education', 13316: 'wedding', 13317: 'education', 13318: 'house', 13319: 'wedding', 13320: 'real estate', 13321: 'real estate', 13322: 'car', 13323: 'real estate', 13324: 'house', 13325: 'car', 13326: 'real estate', 13327: 'education', 13328: 'education', 13329: 'education', 13330: 'real estate', 13331: 'education', 13332: 'education', 13333: 'house', 13334: 'wedding', 13335: 'real estate', 13336: 'wedding', 13337: 'education', 13338: 'education', 13339: 'house', 13340: 'education', 13341: 'real estate', 13342: 'car', 13343: 'house', 13344: 'education', 13345: 'house', 13346: 'real estate', 13347: 'education', 13348: 'education', 13349: 'house', 13350: 'wedding', 13351: 'real estate', 13352: 'house', 13353: 'education', 13354: 'education', 13355: 'wedding', 13356: 'house', 13357: 'house', 13358: 'real estate', 13359: 'house', 13360: 'education', 13361: 'house', 13362: 'car', 13363: 'real estate', 13364: 'real estate', 13365: 'wedding', 13366: 'house', 13367: 'real estate', 13368: 'real estate', 13369: 'house', 13370: 'wedding', 13371: 'education', 13372: 'real estate', 13373: 'house', 13374: 'house', 13375: 'house', 13376: 'house', 13377: 'house', 13378: 'wedding', 13379: 'wedding', 13380: 'house', 13381: 'real estate', 13382: 'house', 13383: 'real estate', 13384: 'house', 13385: 'house', 13386: 'education', 13387: 'education', 13388: 'house', 13389: 'real estate', 13390: 'house', 13391: 'education', 13392: 'car', 13393: 'house', 13394: 'real estate', 13395: 'car', 13396: 'education', 13397: 'house', 13398: 'education', 13399: 'car', 13400: 'house', 13401: 'education', 13402: 'wedding', 13403: 'car', 13404: 'real estate', 13405: 'house', 13406: 'house', 13407: 'real estate', 13408: 'house', 13409: 'education', 13410: 'car', 13411: 'education', 13412: 'real estate', 13413: 'car', 13414: 'real estate', 13415: 'real estate', 13416: 'house', 13417: 'car', 13418: 'education', 13419: 'education', 13420: 'wedding', 13421: 'education', 13422: 'education', 13423: 'wedding', 13424: 'education', 13425: 'car', 13426: 'wedding', 13427: 'house', 13428: 'education', 13429: 'real estate', 13430: 'wedding', 13431: 'wedding', 13432: 'real estate', 13433: 'education', 13434: 'education', 13435: 'house', 13436: 'house', 13437: 'real estate', 13438: 'real estate', 13439: 'house', 13440: 'real estate', 13441: 'house', 13442: 'real estate', 13443: 'wedding', 13444: 'house', 13445: 'real estate', 13446: 'house', 13447: 'car', 13448: 'real estate', 13449: 'car', 13450: 'education', 13451: 'house', 13452: 'education', 13453: 'car', 13454: 'car', 13455: 'real estate', 13456: 'house', 13457: 'education', 13458: 'real estate', 13459: 'education', 13460: 'house', 13461: 'car', 13462: 'house', 13463: 'house', 13464: 'car', 13465: 'education', 13466: 'education', 13467: 'wedding', 13468: 'real estate', 13469: 'wedding', 13470: 'car', 13471: 'education', 13472: 'car', 13473: 'wedding', 13474: 'car', 13475: 'real estate', 13476: 'car', 13477: 'car', 13478: 'real estate', 13479: 'house', 13480: 'education', 13481: 'car', 13482: 'car', 13483: 'education', 13484: 'car', 13485: 'real estate', 13486: 'education', 13487: 'house', 13488: 'education', 13489: 'real estate', 13490: 'education', 13491: 'car', 13492: 'education', 13493: 'car', 13494: 'education', 13495: 'education', 13496: 'real estate', 13497: 'education', 13498: 'wedding', 13499: 'house', 13500: 'car', 13501: 'house', 13502: 'real estate', 13503: 'wedding', 13504: 'house', 13505: 'real estate', 13506: 'car', 13507: 'real estate', 13508: 'education', 13509: 'education', 13510: 'house', 13511: 'house', 13512: 'car', 13513: 'house', 13514: 'house', 13515: 'car', 13516: 'wedding', 13517: 'education', 13518: 'education', 13519: 'car', 13520: 'house', 13521: 'real estate', 13522: 'real estate', 13523: 'house', 13524: 'house', 13525: 'car', 13526: 'real estate', 13527: 'wedding', 13528: 'real estate', 13529: 'house', 13530: 'car', 13531: 'real estate', 13532: 'house', 13533: 'real estate', 13534: 'education', 13535: 'car', 13536: 'education', 13537: 'house', 13538: 'real estate', 13539: 'car', 13540: 'house', 13541: 'house', 13542: 'house', 13543: 'car', 13544: 'car', 13545: 'education', 13546: 'house', 13547: 'car', 13548: 'education', 13549: 'wedding', 13550: 'house', 13551: 'education', 13552: 'education', 13553: 'car', 13554: 'car', 13555: 'education', 13556: 'real estate', 13557: 'house', 13558: 'house', 13559: 'house', 13560: 'car', 13561: 'real estate', 13562: 'house', 13563: 'education', 13564: 'house', 13565: 'wedding', 13566: 'car', 13567: 'house', 13568: 'house', 13569: 'education', 13570: 'house', 13571: 'education', 13572: 'house', 13573: 'house', 13574: 'real estate', 13575: 'wedding', 13576: 'real estate', 13577: 'house', 13578: 'house', 13579: 'real estate', 13580: 'house', 13581: 'wedding', 13582: 'real estate', 13583: 'education', 13584: 'wedding', 13585: 'car', 13586: 'wedding', 13587: 'house', 13588: 'car', 13589: 'house', 13590: 'car', 13591: 'house', 13592: 'education', 13593: 'wedding', 13594: 'education', 13595: 'education', 13596: 'real estate', 13597: 'house', 13598: 'car', 13599: 'real estate', 13600: 'house', 13601: 'real estate', 13602: 'house', 13603: 'car', 13604: 'real estate', 13605: 'real estate', 13606: 'wedding', 13607: 'real estate', 13608: 'car', 13609: 'house', 13610: 'house', 13611: 'house', 13612: 'car', 13613: 'car', 13614: 'car', 13615: 'wedding', 13616: 'car', 13617: 'real estate', 13618: 'house', 13619: 'real estate', 13620: 'car', 13621: 'car', 13622: 'house', 13623: 'house', 13624: 'wedding', 13625: 'car', 13626: 'education', 13627: 'wedding', 13628: 'car', 13629: 'real estate', 13630: 'education', 13631: 'education', 13632: 'car', 13633: 'wedding', 13634: 'education', 13635: 'education', 13636: 'house', 13637: 'wedding', 13638: 'house', 13640: 'car', 13641: 'education', 13642: 'education', 13643: 'house', 13644: 'education', 13645: 'house', 13646: 'real estate', 13647: 'real estate', 13648: 'house', 13649: 'education', 13650: 'real estate', 13651: 'wedding', 13652: 'car', 13653: 'house', 13654: 'car', 13655: 'real estate', 13656: 'real estate', 13657: 'house', 13658: 'car', 13659: 'real estate', 13660: 'education', 13661: 'house', 13662: 'house', 13663: 'car', 13664: 'education', 13665: 'education', 13666: 'real estate', 13667: 'real estate', 13668: 'house', 13669: 'car', 13670: 'house', 13671: 'house', 13672: 'car', 13673: 'real estate', 13674: 'house', 13675: 'house', 13676: 'house', 13677: 'house', 13678: 'wedding', 13679: 'car', 13680: 'real estate', 13681: 'wedding', 13682: 'wedding', 13683: 'real estate', 13684: 'house', 13685: 'wedding', 13686: 'real estate', 13687: 'real estate', 13688: 'real estate', 13689: 'education', 13690: 'house', 13691: 'house', 13692: 'wedding', 13693: 'car', 13694: 'house', 13695: 'house', 13696: 'real estate', 13697: 'education', 13698: 'house', 13699: 'house', 13700: 'education', 13701: 'real estate', 13702: 'real estate', 13703: 'car', 13704: 'house', 13705: 'real estate', 13706: 'education', 13707: 'car', 13708: 'house', 13709: 'car', 13710: 'real estate', 13711: 'car', 13712: 'house', 13713: 'house', 13714: 'education', 13715: 'house', 13716: 'house', 13717: 'real estate', 13718: 'house', 13719: 'wedding', 13720: 'car', 13721: 'real estate', 13722: 'education', 13723: 'wedding', 13724: 'house', 13725: 'house', 13726: 'real estate', 13727: 'education', 13728: 'house', 13729: 'education', 13730: 'house', 13731: 'wedding', 13732: 'education', 13733: 'real estate', 13734: 'house', 13735: 'education', 13736: 'house', 13737: 'car', 13738: 'real estate', 13739: 'car', 13740: 'wedding', 13741: 'wedding', 13742: 'house', 13743: 'real estate', 13744: 'real estate', 13745: 'real estate', 13746: 'real estate', 13747: 'education', 13748: 'house', 13749: 'real estate', 13750: 'house', 13751: 'education', 13752: 'house', 13753: 'car', 13754: 'car', 13755: 'car', 13756: 'wedding', 13757: 'wedding', 13758: 'education', 13759: 'house', 13760: 'car', 13761: 'wedding', 13762: 'house', 13763: 'education', 13764: 'car', 13765: 'education', 13766: 'wedding', 13767: 'car', 13768: 'car', 13769: 'education', 13770: 'house', 13771: 'car', 13772: 'house', 13774: 'real estate', 13775: 'house', 13776: 'education', 13777: 'education', 13778: 'house', 13779: 'house', 13780: 'car', 13781: 'wedding', 13782: 'house', 13783: 'house', 13784: 'education', 13785: 'house', 13786: 'car', 13787: 'education', 13788: 'education', 13789: 'house', 13790: 'education', 13791: 'house', 13792: 'car', 13793: 'real estate', 13794: 'house', 13795: 'real estate', 13796: 'education', 13797: 'car', 13798: 'real estate', 13799: 'real estate', 13800: 'education', 13801: 'house', 13802: 'real estate', 13803: 'house', 13804: 'house', 13805: 'real estate', 13806: 'wedding', 13807: 'education', 13808: 'education', 13809: 'real estate', 13810: 'real estate', 13811: 'education', 13812: 'house', 13813: 'education', 13814: 'education', 13815: 'car', 13816: 'house', 13817: 'education', 13818: 'house', 13819: 'house', 13820: 'car', 13821: 'real estate', 13822: 'car', 13823: 'car', 13824: 'house', 13825: 'education', 13826: 'education', 13827: 'car', 13828: 'wedding', 13829: 'education', 13830: 'education', 13831: 'car', 13832: 'education', 13833: 'wedding', 13834: 'house', 13835: 'education', 13836: 'real estate', 13837: 'car', 13838: 'education', 13839: 'wedding', 13840: 'education', 13841: 'education', 13842: 'house', 13843: 'education', 13844: 'real estate', 13845: 'education', 13846: 'house', 13847: 'house', 13848: 'wedding', 13849: 'real estate', 13850: 'house', 13851: 'wedding', 13852: 'house', 13853: 'wedding', 13854: 'car', 13855: 'education', 13856: 'education', 13857: 'wedding', 13858: 'education', 13859: 'education', 13860: 'house', 13861: 'car', 13862: 'real estate', 13863: 'house', 13864: 'car', 13865: 'education', 13866: 'house', 13867: 'real estate', 13868: 'car', 13869: 'house', 13870: 'house', 13871: 'house', 13872: 'car', 13873: 'education', 13874: 'car', 13875: 'real estate', 13876: 'house', 13877: 'real estate', 13879: 'car', 13880: 'real estate', 13881: 'car', 13882: 'house', 13883: 'house', 13884: 'house', 13885: 'house', 13886: 'car', 13887: 'car', 13888: 'house', 13889: 'car', 13890: 'car', 13891: 'house', 13892: 'house', 13893: 'real estate', 13894: 'education', 13895: 'car', 13896: 'real estate', 13897: 'real estate', 13898: 'house', 13899: 'education', 13900: 'house', 13901: 'real estate', 13902: 'house', 13903: 'education', 13904: 'real estate', 13905: 'education', 13906: 'house', 13907: 'education', 13908: 'house', 13909: 'education', 13910: 'house', 13911: 'car', 13912: 'education', 13913: 'real estate', 13914: 'car', 13915: 'real estate', 13916: 'real estate', 13917: 'car', 13918: 'real estate', 13919: 'house', 13920: 'house', 13921: 'real estate', 13922: 'real estate', 13923: 'real estate', 13924: 'education', 13925: 'car', 13926: 'house', 13927: 'education', 13928: 'real estate', 13929: 'house', 13930: 'wedding', 13931: 'wedding', 13932: 'real estate', 13933: 'wedding', 13934: 'car', 13935: 'car', 13936: 'house', 13937: 'real estate', 13938: 'car', 13939: 'house', 13940: 'real estate', 13941: 'real estate', 13943: 'car', 13944: 'house', 13945: 'house', 13946: 'car', 13947: 'education', 13948: 'education', 13949: 'real estate', 13950: 'house', 13951: 'car', 13952: 'education', 13953: 'house', 13954: 'car', 13955: 'house', 13956: 'house', 13957: 'education', 13958: 'house', 13959: 'house', 13960: 'house', 13961: 'house', 13962: 'real estate', 13963: 'wedding', 13964: 'education', 13965: 'house', 13966: 'real estate', 13967: 'education', 13968: 'car', 13969: 'education', 13970: 'education', 13971: 'education', 13972: 'real estate', 13973: 'education', 13974: 'wedding', 13975: 'house', 13976: 'car', 13977: 'real estate', 13978: 'car', 13979: 'car', 13980: 'education', 13981: 'education', 13982: 'education', 13983: 'education', 13984: 'house', 13985: 'car', 13986: 'car', 13987: 'wedding', 13988: 'house', 13989: 'car', 13990: 'wedding', 13991: 'education', 13992: 'wedding', 13993: 'car', 13994: 'car', 13995: 'car', 13996: 'house', 13997: 'real estate', 13998: 'real estate', 13999: 'house', 14000: 'car', 14001: 'wedding', 14002: 'education', 14003: 'wedding', 14004: 'house', 14005: 'real estate', 14006: 'real estate', 14007: 'real estate', 14008: 'house', 14009: 'house', 14010: 'house', 14011: 'house', 14012: 'real estate', 14013: 'house', 14014: 'wedding', 14015: 'car', 14016: 'real estate', 14017: 'house', 14018: 'house', 14019: 'wedding', 14020: 'car', 14021: 'house', 14022: 'education', 14023: 'education', 14024: 'education', 14025: 'car', 14026: 'car', 14027: 'house', 14028: 'education', 14029: 'car', 14030: 'car', 14031: 'education', 14032: 'car', 14033: 'education', 14034: 'wedding', 14035: 'education', 14036: 'education', 14037: 'education', 14038: 'real estate', 14039: 'house', 14040: 'house', 14041: 'education', 14042: 'car', 14043: 'real estate', 14044: 'house', 14045: 'car', 14046: 'car', 14047: 'education', 14048: 'house', 14049: 'real estate', 14050: 'house', 14051: 'house', 14052: 'education', 14053: 'house', 14054: 'real estate', 14055: 'real estate', 14056: 'house', 14057: 'real estate', 14058: 'house', 14059: 'car', 14060: 'house', 14061: 'car', 14062: 'real estate', 14063: 'house', 14064: 'house', 14065: 'education', 14066: 'car', 14067: 'wedding', 14068: 'real estate', 14069: 'education', 14070: 'car', 14071: 'wedding', 14072: 'real estate', 14073: 'wedding', 14074: 'house', 14075: 'education', 14076: 'real estate', 14077: 'car', 14078: 'education', 14079: 'car', 14080: 'real estate', 14081: 'house', 14082: 'house', 14083: 'house', 14084: 'house', 14085: 'house', 14086: 'real estate', 14087: 'real estate', 14088: 'car', 14089: 'car', 14090: 'house', 14091: 'real estate', 14092: 'real estate', 14093: 'education', 14094: 'car', 14095: 'house', 14096: 'car', 14098: 'education', 14099: 'education', 14100: 'wedding', 14101: 'real estate', 14102: 'education', 14103: 'house', 14104: 'car', 14105: 'real estate', 14106: 'house', 14107: 'real estate', 14108: 'education', 14109: 'real estate', 14110: 'car', 14111: 'education', 14112: 'real estate', 14113: 'real estate', 14114: 'real estate', 14115: 'house', 14116: 'car', 14117: 'education', 14118: 'wedding', 14119: 'education', 14120: 'house', 14121: 'real estate', 14122: 'real estate', 14123: 'car', 14124: 'car', 14125: 'car', 14126: 'education', 14127: 'real estate', 14128: 'house', 14129: 'house', 14130: 'car', 14131: 'wedding', 14132: 'real estate', 14133: 'house', 14134: 'wedding', 14135: 'education', 14136: 'education', 14137: 'house', 14138: 'education', 14139: 'wedding', 14140: 'house', 14141: 'education', 14142: 'education', 14143: 'house', 14144: 'wedding', 14145: 'education', 14146: 'wedding', 14147: 'real estate', 14148: 'education', 14149: 'car', 14150: 'house', 14151: 'wedding', 14152: 'house', 14153: 'house', 14154: 'house', 14155: 'house', 14156: 'wedding', 14157: 'wedding', 14158: 'house', 14159: 'education', 14160: 'car', 14161: 'house', 14162: 'car', 14163: 'house', 14164: 'wedding', 14165: 'house', 14166: 'house', 14167: 'real estate', 14168: 'house', 14169: 'wedding', 14170: 'car', 14171: 'house', 14172: 'real estate', 14173: 'wedding', 14174: 'real estate', 14175: 'education', 14176: 'car', 14177: 'car', 14178: 'education', 14179: 'wedding', 14180: 'house', 14181: 'house', 14182: 'real estate', 14183: 'car', 14184: 'education', 14185: 'car', 14186: 'real estate', 14187: 'education', 14188: 'education', 14189: 'wedding', 14190: 'real estate', 14191: 'car', 14192: 'wedding', 14193: 'real estate', 14194: 'house', 14195: 'education', 14196: 'house', 14197: 'car', 14198: 'house', 14199: 'house', 14200: 'car', 14201: 'wedding', 14202: 'house', 14203: 'real estate', 14204: 'house', 14205: 'real estate', 14206: 'house', 14207: 'house', 14208: 'education', 14209: 'real estate', 14210: 'house', 14211: 'wedding', 14212: 'education', 14213: 'real estate', 14214: 'house', 14215: 'education', 14216: 'education', 14217: 'house', 14218: 'car', 14219: 'education', 14220: 'real estate', 14221: 'house', 14222: 'real estate', 14223: 'real estate', 14224: 'house', 14225: 'house', 14226: 'house', 14227: 'car', 14228: 'house', 14229: 'house', 14230: 'education', 14231: 'education', 14232: 'car', 14233: 'real estate', 14234: 'wedding', 14235: 'education', 14236: 'house', 14237: 'house', 14238: 'house', 14239: 'real estate', 14240: 'wedding', 14241: 'real estate', 14242: 'education', 14243: 'house', 14244: 'car', 14245: 'house', 14246: 'car', 14247: 'real estate', 14248: 'house', 14249: 'house', 14250: 'house', 14251: 'real estate', 14252: 'education', 14253: 'education', 14254: 'car', 14255: 'car', 14256: 'car', 14257: 'car', 14258: 'education', 14259: 'house', 14260: 'house', 14261: 'house', 14262: 'house', 14263: 'house', 14264: 'real estate', 14265: 'real estate', 14266: 'house', 14267: 'car', 14268: 'wedding', 14269: 'wedding', 14270: 'house', 14271: 'car', 14272: 'house', 14273: 'real estate', 14274: 'house', 14275: 'car', 14276: 'house', 14277: 'real estate', 14278: 'education', 14279: 'house', 14280: 'education', 14281: 'house', 14282: 'house', 14283: 'house', 14284: 'house', 14285: 'education', 14286: 'real estate', 14287: 'house', 14288: 'house', 14289: 'house', 14290: 'house', 14291: 'house', 14292: 'house', 14293: 'house', 14294: 'real estate', 14295: 'car', 14296: 'house', 14297: 'education', 14298: 'real estate', 14299: 'house', 14300: 'house', 14301: 'real estate', 14302: 'house', 14303: 'real estate', 14304: 'education', 14305: 'house', 14306: 'car', 14307: 'house', 14308: 'house', 14309: 'real estate', 14310: 'house', 14311: 'education', 14312: 'real estate', 14313: 'house', 14314: 'real estate', 14315: 'house', 14316: 'house', 14317: 'education', 14318: 'education', 14319: 'car', 14320: 'education', 14321: 'car', 14322: 'house', 14323: 'wedding', 14324: 'education', 14325: 'car', 14326: 'house', 14327: 'house', 14328: 'house', 14329: 'house', 14330: 'car', 14331: 'education', 14332: 'car', 14333: 'wedding', 14334: 'house', 14335: 'real estate', 14336: 'car', 14337: 'house', 14338: 'real estate', 14339: 'house', 14340: 'house', 14341: 'car', 14342: 'car', 14343: 'house', 14344: 'real estate', 14345: 'wedding', 14346: 'house', 14347: 'real estate', 14348: 'real estate', 14349: 'real estate', 14350: 'education', 14351: 'car', 14352: 'wedding', 14353: 'education', 14354: 'education', 14355: 'car', 14356: 'car', 14357: 'real estate', 14358: 'house', 14359: 'wedding', 14360: 'house', 14361: 'wedding', 14362: 'house', 14363: 'real estate', 14364: 'house', 14365: 'education', 14366: 'wedding', 14367: 'real estate', 14368: 'education', 14369: 'house', 14370: 'house', 14371: 'real estate', 14372: 'car', 14373: 'car', 14374: 'house', 14375: 'education', 14376: 'house', 14377: 'education', 14378: 'house', 14379: 'education', 14380: 'real estate', 14381: 'house', 14382: 'education', 14383: 'real estate', 14384: 'education', 14385: 'real estate', 14386: 'house', 14387: 'education', 14388: 'house', 14389: 'house', 14390: 'education', 14391: 'car', 14392: 'education', 14393: 'house', 14394: 'education', 14395: 'car', 14396: 'car', 14397: 'house', 14398: 'wedding', 14399: 'education', 14400: 'house', 14401: 'wedding', 14402: 'car', 14403: 'education', 14404: 'car', 14405: 'house', 14406: 'wedding', 14407: 'education', 14408: 'car', 14409: 'real estate', 14410: 'wedding', 14411: 'house', 14412: 'car', 14413: 'real estate', 14414: 'real estate', 14415: 'education', 14416: 'real estate', 14417: 'house', 14418: 'house', 14419: 'house', 14420: 'real estate', 14421: 'real estate', 14422: 'wedding', 14423: 'car', 14424: 'real estate', 14425: 'car', 14426: 'real estate', 14427: 'car', 14428: 'education', 14429: 'house', 14430: 'car', 14431: 'house', 14433: 'wedding', 14434: 'wedding', 14435: 'wedding', 14436: 'wedding', 14437: 'wedding', 14438: 'education', 14439: 'real estate', 14440: 'house', 14441: 'wedding', 14442: 'real estate', 14443: 'wedding', 14444: 'education', 14445: 'car', 14446: 'real estate', 14447: 'house', 14448: 'real estate', 14449: 'wedding', 14450: 'car', 14451: 'wedding', 14452: 'real estate', 14453: 'wedding', 14454: 'real estate', 14455: 'real estate', 14456: 'house', 14457: 'wedding', 14458: 'wedding', 14459: 'house', 14460: 'real estate', 14461: 'education', 14462: 'education', 14463: 'education', 14464: 'house', 14465: 'house', 14466: 'house', 14467: 'house', 14468: 'real estate', 14469: 'real estate', 14470: 'house', 14471: 'house', 14472: 'education', 14473: 'wedding', 14474: 'education', 14475: 'education', 14476: 'house', 14477: 'education', 14478: 'house', 14479: 'real estate', 14480: 'car', 14481: 'education', 14482: 'house', 14483: 'car', 14484: 'house', 14485: 'education', 14486: 'car', 14487: 'education', 14488: 'house', 14489: 'education', 14490: 'education', 14491: 'car', 14492: 'real estate', 14493: 'house', 14494: 'real estate', 14495: 'wedding', 14496: 'real estate', 14497: 'education', 14498: 'education', 14499: 'real estate', 14500: 'house', 14501: 'real estate', 14502: 'real estate', 14503: 'wedding', 14504: 'house', 14505: 'house', 14506: 'car', 14507: 'car', 14508: 'car', 14509: 'house', 14510: 'car', 14511: 'real estate', 14512: 'car', 14513: 'house', 14514: 'education', 14515: 'house', 14516: 'house', 14517: 'house', 14518: 'wedding', 14519: 'wedding', 14520: 'wedding', 14521: 'car', 14522: 'real estate', 14523: 'car', 14524: 'real estate', 14525: 'car', 14526: 'education', 14527: 'education', 14528: 'car', 14529: 'house', 14530: 'house', 14531: 'house', 14532: 'car', 14533: 'wedding', 14534: 'house', 14535: 'wedding', 14536: 'real estate', 14537: 'car', 14538: 'car', 14539: 'education', 14540: 'education', 14541: 'car', 14542: 'education', 14543: 'house', 14544: 'education', 14545: 'real estate', 14546: 'house', 14547: 'real estate', 14548: 'house', 14549: 'house', 14550: 'house', 14551: 'house', 14552: 'house', 14553: 'real estate', 14554: 'car', 14555: 'house', 14556: 'real estate', 14557: 'education', 14558: 'education', 14559: 'house', 14560: 'car', 14561: 'house', 14562: 'real estate', 14563: 'real estate', 14564: 'car', 14565: 'real estate', 14566: 'house', 14567: 'real estate', 14568: 'house', 14569: 'real estate', 14570: 'real estate', 14571: 'education', 14572: 'car', 14573: 'car', 14574: 'house', 14575: 'house', 14576: 'house', 14577: 'real estate', 14578: 'wedding', 14579: 'house', 14580: 'real estate', 14581: 'wedding', 14582: 'car', 14583: 'house', 14584: 'car', 14585: 'house', 14586: 'wedding', 14587: 'car', 14588: 'real estate', 14589: 'car', 14590: 'education', 14591: 'real estate', 14592: 'house', 14593: 'education', 14594: 'car', 14595: 'house', 14596: 'wedding', 14597: 'real estate', 14598: 'real estate', 14599: 'house', 14600: 'car', 14601: 'real estate', 14602: 'car', 14603: 'house', 14604: 'house', 14605: 'car', 14606: 'house', 14607: 'car', 14608: 'wedding', 14609: 'house', 14610: 'wedding', 14611: 'house', 14612: 'house', 14613: 'car', 14614: 'car', 14615: 'wedding', 14616: 'house', 14617: 'education', 14618: 'real estate', 14619: 'real estate', 14620: 'house', 14621: 'education', 14622: 'real estate', 14623: 'real estate', 14624: 'education', 14625: 'real estate', 14626: 'house', 14627: 'education', 14628: 'house', 14629: 'real estate', 14630: 'real estate', 14631: 'education', 14632: 'house', 14633: 'wedding', 14634: 'real estate', 14635: 'real estate', 14636: 'real estate', 14637: 'wedding', 14638: 'house', 14639: 'real estate', 14640: 'house', 14641: 'car', 14642: 'house', 14643: 'real estate', 14644: 'education', 14645: 'wedding', 14646: 'real estate', 14647: 'house', 14648: 'education', 14649: 'car', 14650: 'education', 14651: 'house', 14652: 'car', 14653: 'car', 14654: 'house', 14655: 'wedding', 14656: 'education', 14657: 'car', 14658: 'house', 14659: 'house', 14660: 'wedding', 14661: 'house', 14662: 'car', 14663: 'education', 14664: 'car', 14665: 'house', 14666: 'real estate', 14667: 'house', 14668: 'house', 14669: 'education', 14670: 'education', 14671: 'car', 14672: 'car', 14673: 'real estate', 14674: 'car', 14675: 'house', 14676: 'car', 14677: 'real estate', 14678: 'education', 14679: 'education', 14680: 'house', 14681: 'car', 14682: 'house', 14683: 'education', 14684: 'house', 14685: 'real estate', 14686: 'car', 14687: 'real estate', 14688: 'education', 14689: 'education', 14690: 'house', 14691: 'real estate', 14692: 'education', 14693: 'real estate', 14694: 'wedding', 14695: 'wedding', 14696: 'real estate', 14697: 'real estate', 14698: 'education', 14699: 'car', 14700: 'house', 14701: 'house', 14702: 'real estate', 14703: 'car', 14704: 'house', 14705: 'house', 14706: 'education', 14707: 'house', 14708: 'real estate', 14709: 'car', 14710: 'house', 14711: 'house', 14712: 'real estate', 14713: 'house', 14714: 'wedding', 14715: 'house', 14716: 'education', 14717: 'education', 14718: 'house', 14719: 'house', 14720: 'education', 14721: 'house', 14722: 'car', 14723: 'education', 14724: 'house', 14725: 'education', 14726: 'education', 14727: 'wedding', 14729: 'education', 14730: 'real estate', 14731: 'house', 14732: 'wedding', 14733: 'house', 14734: 'education', 14735: 'wedding', 14736: 'house', 14737: 'education', 14738: 'house', 14739: 'car', 14740: 'house', 14741: 'real estate', 14742: 'house', 14743: 'car', 14744: 'car', 14745: 'house', 14746: 'house', 14747: 'house', 14748: 'house', 14749: 'real estate', 14750: 'car', 14751: 'education', 14752: 'real estate', 14753: 'car', 14754: 'real estate', 14755: 'car', 14756: 'real estate', 14757: 'house', 14758: 'car', 14759: 'education', 14760: 'education', 14761: 'house', 14762: 'car', 14763: 'house', 14764: 'house', 14765: 'real estate', 14766: 'real estate', 14767: 'house', 14768: 'car', 14769: 'house', 14770: 'education', 14771: 'car', 14772: 'education', 14773: 'wedding', 14774: 'house', 14775: 'wedding', 14776: 'real estate', 14777: 'education', 14778: 'house', 14779: 'car', 14780: 'house', 14781: 'house', 14782: 'car', 14783: 'car', 14784: 'house', 14785: 'wedding', 14786: 'wedding', 14787: 'wedding', 14788: 'house', 14789: 'house', 14790: 'wedding', 14791: 'education', 14792: 'wedding', 14793: 'house', 14794: 'real estate', 14795: 'house', 14796: 'wedding', 14797: 'car', 14798: 'house', 14799: 'education', 14800: 'real estate', 14801: 'wedding', 14802: 'real estate', 14803: 'house', 14804: 'education', 14805: 'house', 14806: 'education', 14807: 'house', 14808: 'wedding', 14809: 'car', 14810: 'house', 14811: 'education', 14812: 'house', 14813: 'house', 14814: 'car', 14815: 'real estate', 14816: 'education', 14817: 'real estate', 14818: 'car', 14819: 'car', 14820: 'education', 14821: 'house', 14822: 'education', 14823: 'wedding', 14824: 'car', 14825: 'house', 14826: 'education', 14827: 'real estate', 14828: 'house', 14829: 'house', 14830: 'car', 14831: 'wedding', 14833: 'wedding', 14834: 'car', 14835: 'real estate', 14836: 'education', 14837: 'real estate', 14838: 'real estate', 14839: 'car', 14840: 'education', 14841: 'car', 14842: 'wedding', 14843: 'house', 14844: 'real estate', 14845: 'education', 14846: 'education', 14847: 'car', 14848: 'house', 14849: 'house', 14850: 'real estate', 14851: 'education', 14852: 'car', 14853: 'real estate', 14854: 'education', 14855: 'car', 14856: 'education', 14857: 'house', 14858: 'wedding', 14859: 'education', 14860: 'education', 14861: 'real estate', 14862: 'house', 14863: 'house', 14864: 'education', 14865: 'house', 14866: 'house', 14867: 'real estate', 14868: 'car', 14869: 'house', 14870: 'real estate', 14871: 'education', 14872: 'house', 14873: 'house', 14874: 'education', 14875: 'car', 14876: 'house', 14877: 'house', 14878: 'car', 14879: 'wedding', 14880: 'car', 14881: 'real estate', 14882: 'wedding', 14883: 'car', 14884: 'real estate', 14885: 'house', 14886: 'house', 14887: 'car', 14888: 'real estate', 14889: 'house', 14890: 'education', 14891: 'car', 14892: 'education', 14893: 'education', 14894: 'house', 14895: 'education', 14896: 'car', 14897: 'house', 14898: 'house', 14899: 'car', 14900: 'wedding', 14901: 'education', 14902: 'education', 14903: 'real estate', 14904: 'car', 14905: 'house', 14906: 'education', 14907: 'education', 14908: 'education', 14909: 'real estate', 14910: 'real estate', 14911: 'real estate', 14912: 'car', 14913: 'education', 14914: 'real estate', 14915: 'house', 14916: 'house', 14917: 'real estate', 14918: 'wedding', 14919: 'education', 14920: 'house', 14921: 'wedding', 14922: 'house', 14923: 'real estate', 14924: 'real estate', 14925: 'wedding', 14926: 'real estate', 14927: 'education', 14928: 'education', 14929: 'wedding', 14930: 'education', 14931: 'house', 14932: 'real estate', 14933: 'education', 14934: 'car', 14935: 'house', 14936: 'house', 14937: 'real estate', 14938: 'house', 14939: 'house', 14940: 'real estate', 14941: 'real estate', 14942: 'education', 14943: 'wedding', 14944: 'real estate', 14945: 'house', 14946: 'real estate', 14947: 'real estate', 14948: 'house', 14949: 'education', 14950: 'real estate', 14951: 'car', 14952: 'education', 14953: 'wedding', 14954: 'car', 14955: 'car', 14956: 'house', 14957: 'education', 14958: 'house', 14959: 'real estate', 14960: 'real estate', 14961: 'house', 14962: 'car', 14963: 'house', 14964: 'real estate', 14965: 'education', 14966: 'real estate', 14967: 'house', 14968: 'education', 14969: 'house', 14970: 'house', 14971: 'house', 14972: 'house', 14973: 'car', 14974: 'education', 14975: 'house', 14976: 'house', 14977: 'house', 14978: 'house', 14979: 'real estate', 14980: 'education', 14981: 'car', 14982: 'wedding', 14983: 'real estate', 14984: 'real estate', 14985: 'real estate', 14986: 'education', 14987: 'real estate', 14988: 'house', 14989: 'education', 14990: 'house', 14991: 'house', 14992: 'real estate', 14993: 'education', 14994: 'house', 14995: 'real estate', 14996: 'wedding', 14997: 'house', 14998: 'real estate', 14999: 'wedding', 15000: 'real estate', 15001: 'real estate', 15002: 'real estate', 15003: 'house', 15004: 'education', 15005: 'house', 15006: 'house', 15007: 'education', 15008: 'education', 15009: 'wedding', 15010: 'education', 15011: 'car', 15013: 'education', 15014: 'education', 15015: 'house', 15016: 'education', 15017: 'wedding', 15018: 'car', 15019: 'real estate', 15020: 'car', 15021: 'car', 15022: 'house', 15023: 'car', 15024: 'real estate', 15025: 'education', 15026: 'car', 15027: 'house', 15028: 'car', 15029: 'real estate', 15030: 'real estate', 15031: 'real estate', 15032: 'real estate', 15033: 'wedding', 15034: 'car', 15035: 'house', 15036: 'car', 15037: 'house', 15038: 'education', 15039: 'education', 15040: 'education', 15041: 'real estate', 15042: 'education', 15043: 'education', 15044: 'car', 15045: 'car', 15046: 'car', 15047: 'education', 15048: 'house', 15049: 'education', 15050: 'real estate', 15051: 'real estate', 15052: 'house', 15053: 'education', 15054: 'house', 15055: 'education', 15056: 'car', 15057: 'wedding', 15058: 'car', 15059: 'real estate', 15060: 'education', 15061: 'education', 15062: 'real estate', 15063: 'education', 15064: 'wedding', 15065: 'real estate', 15066: 'car', 15067: 'real estate', 15068: 'real estate', 15069: 'house', 15070: 'wedding', 15071: 'real estate', 15072: 'car', 15073: 'real estate', 15074: 'real estate', 15075: 'real estate', 15076: 'house', 15077: 'car', 15078: 'education', 15079: 'house', 15080: 'car', 15081: 'house', 15082: 'car', 15083: 'car', 15084: 'car', 15085: 'car', 15086: 'wedding', 15087: 'wedding', 15088: 'real estate', 15089: 'wedding', 15090: 'house', 15092: 'house', 15093: 'real estate', 15094: 'car', 15095: 'wedding', 15096: 'wedding', 15097: 'real estate', 15098: 'education', 15099: 'real estate', 15100: 'car', 15101: 'real estate', 15102: 'house', 15103: 'house', 15104: 'house', 15105: 'real estate', 15106: 'education', 15107: 'car', 15108: 'wedding', 15109: 'real estate', 15110: 'education', 15111: 'car', 15112: 'car', 15113: 'education', 15114: 'house', 15115: 'house', 15116: 'car', 15117: 'education', 15118: 'real estate', 15119: 'car', 15120: 'wedding', 15121: 'house', 15122: 'real estate', 15123: 'car', 15124: 'real estate', 15125: 'education', 15126: 'house', 15127: 'education', 15128: 'car', 15129: 'house', 15130: 'house', 15131: 'wedding', 15132: 'wedding', 15133: 'house', 15134: 'house', 15135: 'education', 15136: 'real estate', 15137: 'house', 15138: 'real estate', 15139: 'house', 15140: 'house', 15141: 'house', 15142: 'house', 15143: 'house', 15144: 'house', 15145: 'house', 15146: 'education', 15147: 'car', 15148: 'car', 15149: 'house', 15150: 'car', 15151: 'education', 15152: 'real estate', 15153: 'education', 15154: 'house', 15155: 'real estate', 15156: 'education', 15157: 'real estate', 15158: 'car', 15159: 'house', 15160: 'education', 15161: 'wedding', 15162: 'education', 15163: 'education', 15164: 'real estate', 15165: 'house', 15166: 'car', 15167: 'education', 15168: 'education', 15169: 'house', 15170: 'car', 15171: 'education', 15172: 'house', 15173: 'education', 15174: 'house', 15175: 'wedding', 15176: 'house', 15177: 'car', 15178: 'real estate', 15179: 'house', 15180: 'real estate', 15181: 'house', 15182: 'education', 15183: 'car', 15184: 'real estate', 15185: 'house', 15186: 'real estate', 15187: 'car', 15189: 'car', 15190: 'car', 15191: 'house', 15192: 'wedding', 15193: 'car', 15194: 'car', 15195: 'house', 15196: 'real estate', 15197: 'car', 15198: 'car', 15199: 'real estate', 15200: 'education', 15201: 'real estate', 15202: 'real estate', 15203: 'car', 15204: 'real estate', 15205: 'house', 15206: 'wedding', 15207: 'real estate', 15208: 'real estate', 15209: 'education', 15210: 'car', 15211: 'education', 15212: 'car', 15213: 'car', 15214: 'car', 15215: 'education', 15216: 'wedding', 15217: 'real estate', 15218: 'real estate', 15219: 'real estate', 15220: 'house', 15221: 'house', 15222: 'wedding', 15223: 'wedding', 15224: 'house', 15225: 'real estate', 15226: 'education', 15227: 'car', 15228: 'house', 15229: 'real estate', 15230: 'car', 15231: 'real estate', 15232: 'car', 15233: 'real estate', 15234: 'education', 15235: 'car', 15236: 'real estate', 15237: 'education', 15238: 'real estate', 15239: 'wedding', 15240: 'real estate', 15241: 'house', 15242: 'education', 15243: 'real estate', 15244: 'wedding', 15245: 'real estate', 15246: 'house', 15247: 'education', 15248: 'car', 15249: 'house', 15250: 'car', 15251: 'education', 15252: 'real estate', 15253: 'car', 15254: 'wedding', 15255: 'car', 15256: 'house', 15257: 'house', 15258: 'house', 15259: 'real estate', 15260: 'wedding', 15261: 'education', 15262: 'car', 15263: 'wedding', 15264: 'car', 15265: 'real estate', 15266: 'wedding', 15267: 'car', 15268: 'house', 15269: 'car', 15270: 'wedding', 15271: 'real estate', 15272: 'house', 15274: 'house', 15275: 'real estate', 15276: 'real estate', 15277: 'real estate', 15278: 'car', 15279: 'car', 15280: 'house', 15281: 'house', 15282: 'house', 15283: 'real estate', 15284: 'real estate', 15285: 'real estate', 15286: 'car', 15287: 'real estate', 15288: 'car', 15289: 'house', 15290: 'real estate', 15291: 'car', 15292: 'real estate', 15293: 'house', 15294: 'education', 15295: 'car', 15296: 'real estate', 15297: 'education', 15298: 'education', 15299: 'car', 15300: 'wedding', 15301: 'car', 15302: 'education', 15303: 'house', 15304: 'education', 15305: 'real estate', 15306: 'house', 15307: 'house', 15308: 'real estate', 15309: 'house', 15310: 'education', 15311: 'car', 15312: 'education', 15313: 'education', 15314: 'wedding', 15315: 'education', 15316: 'education', 15317: 'real estate', 15318: 'wedding', 15319: 'car', 15320: 'car', 15321: 'car', 15322: 'real estate', 15323: 'real estate', 15324: 'real estate', 15325: 'house', 15326: 'car', 15327: 'real estate', 15328: 'education', 15329: 'house', 15330: 'house', 15331: 'car', 15332: 'education', 15333: 'car', 15334: 'car', 15335: 'wedding', 15336: 'education', 15337: 'education', 15338: 'house', 15339: 'house', 15340: 'car', 15341: 'real estate', 15342: 'real estate', 15343: 'car', 15344: 'real estate', 15345: 'education', 15346: 'real estate', 15347: 'real estate', 15348: 'education', 15349: 'house', 15350: 'education', 15351: 'house', 15352: 'house', 15353: 'education', 15354: 'house', 15355: 'real estate', 15356: 'house', 15357: 'house', 15358: 'real estate', 15359: 'car', 15360: 'house', 15361: 'real estate', 15362: 'house', 15363: 'real estate', 15364: 'real estate', 15365: 'education', 15366: 'wedding', 15367: 'house', 15368: 'real estate', 15369: 'house', 15370: 'house', 15371: 'car', 15372: 'real estate', 15373: 'education', 15374: 'house', 15375: 'education', 15376: 'car', 15377: 'real estate', 15378: 'education', 15379: 'wedding', 15380: 'house', 15381: 'car', 15382: 'house', 15383: 'house', 15384: 'real estate', 15385: 'wedding', 15386: 'house', 15387: 'house', 15388: 'house', 15389: 'car', 15390: 'wedding', 15391: 'house', 15392: 'car', 15393: 'house', 15394: 'house', 15395: 'car', 15396: 'education', 15397: 'real estate', 15398: 'car', 15399: 'real estate', 15400: 'real estate', 15401: 'car', 15402: 'house', 15403: 'real estate', 15404: 'house', 15405: 'house', 15406: 'house', 15407: 'house', 15408: 'house', 15409: 'house', 15410: 'car', 15411: 'car', 15412: 'real estate', 15413: 'wedding', 15414: 'wedding', 15415: 'car', 15416: 'car', 15417: 'real estate', 15418: 'house', 15419: 'house', 15420: 'real estate', 15421: 'education', 15422: 'real estate', 15423: 'house', 15424: 'car', 15425: 'education', 15426: 'house', 15427: 'house', 15428: 'car', 15429: 'real estate', 15430: 'house', 15431: 'house', 15432: 'wedding', 15433: 'car', 15434: 'car', 15435: 'wedding', 15436: 'education', 15437: 'house', 15438: 'car', 15439: 'wedding', 15440: 'house', 15441: 'car', 15442: 'house', 15443: 'wedding', 15444: 'wedding', 15445: 'real estate', 15446: 'house', 15447: 'wedding', 15448: 'car', 15449: 'house', 15450: 'real estate', 15451: 'real estate', 15452: 'wedding', 15453: 'car', 15454: 'car', 15455: 'house', 15456: 'house', 15457: 'car', 15458: 'wedding', 15459: 'house', 15460: 'wedding', 15461: 'house', 15462: 'education', 15463: 'real estate', 15464: 'car', 15465: 'education', 15466: 'house', 15467: 'car', 15468: 'house', 15469: 'car', 15470: 'education', 15471: 'house', 15472: 'house', 15473: 'house', 15474: 'car', 15475: 'car', 15476: 'house', 15477: 'wedding', 15478: 'car', 15479: 'car', 15480: 'real estate', 15481: 'car', 15482: 'education', 15483: 'wedding', 15484: 'education', 15485: 'education', 15486: 'house', 15487: 'real estate', 15488: 'car', 15489: 'wedding', 15490: 'wedding', 15491: 'house', 15492: 'education', 15493: 'car', 15494: 'real estate', 15495: 'house', 15496: 'car', 15497: 'wedding', 15498: 'real estate', 15499: 'real estate', 15500: 'real estate', 15501: 'car', 15502: 'house', 15503: 'real estate', 15504: 'real estate', 15505: 'house', 15506: 'house', 15507: 'house', 15508: 'house', 15509: 'education', 15510: 'real estate', 15511: 'real estate', 15512: 'house', 15513: 'car', 15514: 'car', 15515: 'education', 15516: 'education', 15517: 'real estate', 15518: 'house', 15519: 'real estate', 15520: 'education', 15521: 'education', 15522: 'house', 15523: 'house', 15524: 'education', 15525: 'house', 15526: 'real estate', 15527: 'education', 15528: 'real estate', 15529: 'house', 15530: 'house', 15531: 'education', 15532: 'car', 15533: 'house', 15534: 'wedding', 15535: 'real estate', 15536: 'real estate', 15537: 'real estate', 15538: 'house', 15539: 'real estate', 15540: 'real estate', 15541: 'real estate', 15542: 'house', 15543: 'car', 15544: 'real estate', 15545: 'education', 15546: 'wedding', 15547: 'education', 15548: 'car', 15549: 'house', 15550: 'car', 15551: 'house', 15552: 'real estate', 15553: 'car', 15554: 'house', 15555: 'real estate', 15556: 'house', 15557: 'car', 15558: 'wedding', 15559: 'education', 15560: 'wedding', 15561: 'house', 15562: 'education', 15563: 'car', 15564: 'car', 15565: 'wedding', 15566: 'education', 15567: 'house', 15568: 'house', 15569: 'house', 15570: 'house', 15571: 'real estate', 15572: 'real estate', 15573: 'car', 15574: 'wedding', 15575: 'education', 15576: 'real estate', 15577: 'education', 15578: 'car', 15579: 'car', 15580: 'house', 15581: 'car', 15582: 'house', 15583: 'car', 15584: 'education', 15585: 'car', 15586: 'real estate', 15587: 'real estate', 15588: 'house', 15589: 'real estate', 15590: 'real estate', 15591: 'education', 15592: 'car', 15593: 'real estate', 15594: 'house', 15595: 'car', 15596: 'house', 15597: 'wedding', 15598: 'real estate', 15599: 'real estate', 15600: 'house', 15601: 'real estate', 15602: 'education', 15603: 'real estate', 15604: 'car', 15605: 'real estate', 15606: 'car', 15607: 'wedding', 15608: 'house', 15609: 'house', 15610: 'real estate', 15611: 'education', 15612: 'education', 15613: 'house', 15614: 'house', 15615: 'house', 15616: 'house', 15617: 'house', 15618: 'education', 15619: 'wedding', 15620: 'real estate', 15621: 'wedding', 15622: 'wedding', 15623: 'education', 15624: 'car', 15625: 'house', 15626: 'house', 15627: 'education', 15628: 'real estate', 15629: 'education', 15630: 'education', 15631: 'real estate', 15632: 'house', 15633: 'car', 15634: 'house', 15635: 'house', 15636: 'education', 15637: 'house', 15638: 'real estate', 15639: 'wedding', 15640: 'house', 15641: 'car', 15642: 'house', 15643: 'education', 15644: 'real estate', 15645: 'car', 15646: 'house', 15647: 'wedding', 15648: 'wedding', 15649: 'house', 15650: 'car', 15651: 'house', 15652: 'car', 15653: 'house', 15654: 'house', 15655: 'car', 15656: 'house', 15657: 'car', 15658: 'education', 15659: 'car', 15660: 'education', 15661: 'car', 15662: 'house', 15663: 'real estate', 15664: 'car', 15665: 'house', 15666: 'house', 15667: 'house', 15668: 'car', 15669: 'real estate', 15670: 'education', 15671: 'education', 15672: 'house', 15673: 'car', 15674: 'wedding', 15675: 'real estate', 15676: 'real estate', 15677: 'house', 15678: 'car', 15679: 'education', 15680: 'house', 15681: 'education', 15682: 'education', 15683: 'real estate', 15684: 'education', 15685: 'real estate', 15686: 'education', 15687: 'education', 15688: 'real estate', 15689: 'house', 15690: 'real estate', 15691: 'car', 15692: 'house', 15693: 'house', 15694: 'education', 15695: 'car', 15696: 'wedding', 15697: 'house', 15698: 'real estate', 15699: 'real estate', 15700: 'real estate', 15701: 'wedding', 15702: 'car', 15703: 'wedding', 15704: 'real estate', 15705: 'house', 15706: 'real estate', 15707: 'real estate', 15708: 'house', 15709: 'wedding', 15710: 'house', 15711: 'wedding', 15712: 'wedding', 15713: 'car', 15714: 'wedding', 15715: 'real estate', 15716: 'house', 15717: 'house', 15718: 'education', 15719: 'car', 15720: 'car', 15721: 'car', 15722: 'house', 15723: 'house', 15724: 'car', 15725: 'car', 15726: 'house', 15727: 'car', 15728: 'car', 15729: 'car', 15730: 'car', 15731: 'house', 15732: 'education', 15733: 'real estate', 15734: 'real estate', 15735: 'education', 15736: 'house', 15737: 'education', 15738: 'car', 15739: 'car', 15740: 'education', 15741: 'car', 15742: 'real estate', 15743: 'house', 15744: 'real estate', 15745: 'house', 15746: 'house', 15747: 'education', 15748: 'real estate', 15749: 'education', 15750: 'car', 15751: 'wedding', 15752: 'real estate', 15753: 'car', 15754: 'real estate', 15755: 'real estate', 15756: 'car', 15757: 'real estate', 15758: 'car', 15759: 'car', 15760: 'wedding', 15761: 'car', 15762: 'education', 15763: 'house', 15764: 'education', 15765: 'house', 15766: 'house', 15767: 'house', 15768: 'car', 15769: 'house', 15770: 'wedding', 15771: 'real estate', 15772: 'house', 15773: 'house', 15774: 'house', 15775: 'house', 15776: 'education', 15777: 'real estate', 15778: 'education', 15779: 'car', 15780: 'house', 15781: 'education', 15782: 'car', 15783: 'real estate', 15784: 'house', 15785: 'education', 15786: 'car', 15787: 'real estate', 15788: 'education', 15789: 'house', 15790: 'car', 15791: 'car', 15792: 'education', 15793: 'car', 15794: 'wedding', 15795: 'wedding', 15796: 'education', 15797: 'house', 15798: 'house', 15799: 'house', 15800: 'real estate', 15801: 'car', 15802: 'real estate', 15803: 'education', 15804: 'real estate', 15805: 'car', 15806: 'education', 15807: 'car', 15808: 'wedding', 15809: 'education', 15810: 'car', 15811: 'wedding', 15812: 'house', 15813: 'house', 15814: 'real estate', 15815: 'real estate', 15816: 'real estate', 15817: 'house', 15818: 'house', 15819: 'education', 15820: 'house', 15821: 'education', 15822: 'car', 15823: 'real estate', 15824: 'real estate', 15825: 'real estate', 15826: 'education', 15827: 'education', 15828: 'house', 15829: 'wedding', 15830: 'house', 15831: 'real estate', 15832: 'real estate', 15833: 'wedding', 15834: 'real estate', 15835: 'car', 15836: 'real estate', 15837: 'real estate', 15838: 'real estate', 15839: 'wedding', 15840: 'education', 15841: 'car', 15842: 'car', 15843: 'house', 15844: 'wedding', 15845: 'house', 15846: 'real estate', 15847: 'education', 15848: 'house', 15849: 'house', 15850: 'house', 15851: 'house', 15852: 'car', 15853: 'house', 15854: 'real estate', 15855: 'wedding', 15856: 'education', 15857: 'car', 15858: 'real estate', 15859: 'education', 15860: 'education', 15861: 'house', 15862: 'house', 15863: 'car', 15864: 'real estate', 15865: 'house', 15866: 'house', 15867: 'education', 15868: 'education', 15869: 'real estate', 15870: 'education', 15871: 'car', 15872: 'car', 15873: 'car', 15874: 'house', 15875: 'car', 15876: 'education', 15877: 'wedding', 15878: 'house', 15879: 'house', 15880: 'house', 15881: 'real estate', 15882: 'house', 15883: 'wedding', 15884: 'house', 15885: 'real estate', 15886: 'education', 15887: 'house', 15888: 'real estate', 15889: 'car', 15890: 'house', 15891: 'car', 15892: 'car', 15893: 'house', 15894: 'real estate', 15895: 'house', 15896: 'house', 15897: 'education', 15898: 'house', 15899: 'wedding', 15900: 'house', 15901: 'house', 15902: 'car', 15903: 'car', 15904: 'real estate', 15905: 'car', 15906: 'car', 15907: 'education', 15908: 'real estate', 15909: 'car', 15910: 'wedding', 15911: 'house', 15912: 'house', 15913: 'house', 15914: 'house', 15915: 'car', 15916: 'real estate', 15917: 'car', 15918: 'house', 15919: 'house', 15920: 'house', 15921: 'real estate', 15922: 'car', 15923: 'real estate', 15924: 'car', 15925: 'house', 15926: 'house', 15927: 'education', 15928: 'real estate', 15929: 'car', 15930: 'education', 15931: 'house', 15932: 'car', 15933: 'wedding', 15934: 'house', 15935: 'car', 15936: 'education', 15937: 'education', 15938: 'education', 15939: 'real estate', 15940: 'house', 15941: 'education', 15942: 'education', 15943: 'real estate', 15944: 'wedding', 15945: 'house', 15946: 'house', 15947: 'car', 15948: 'education', 15949: 'real estate', 15950: 'house', 15951: 'house', 15952: 'house', 15953: 'car', 15954: 'education', 15955: 'real estate', 15956: 'house', 15957: 'house', 15958: 'house', 15959: 'house', 15960: 'education', 15961: 'education', 15962: 'house', 15963: 'real estate', 15964: 'car', 15965: 'house', 15966: 'wedding', 15967: 'house', 15968: 'house', 15969: 'house', 15970: 'education', 15971: 'education', 15972: 'education', 15973: 'real estate', 15974: 'real estate', 15975: 'education', 15976: 'real estate', 15977: 'house', 15978: 'wedding', 15979: 'car', 15980: 'wedding', 15981: 'education', 15982: 'real estate', 15983: 'education', 15984: 'education', 15985: 'wedding', 15986: 'house', 15987: 'wedding', 15988: 'house', 15989: 'wedding', 15990: 'education', 15992: 'car', 15993: 'real estate', 15994: 'wedding', 15995: 'wedding', 15996: 'real estate', 15997: 'car', 15998: 'wedding', 15999: 'education', 16000: 'wedding', 16001: 'house', 16002: 'real estate', 16003: 'real estate', 16004: 'house', 16005: 'house', 16006: 'house', 16007: 'education', 16008: 'car', 16009: 'education', 16010: 'house', 16011: 'real estate', 16012: 'education', 16013: 'real estate', 16014: 'car', 16015: 'car', 16016: 'real estate', 16017: 'car', 16018: 'house', 16019: 'real estate', 16020: 'house', 16021: 'real estate', 16022: 'wedding', 16023: 'car', 16024: 'house', 16025: 'education', 16026: 'education', 16027: 'education', 16028: 'car', 16029: 'house', 16030: 'car', 16031: 'house', 16032: 'house', 16033: 'wedding', 16034: 'real estate', 16035: 'car', 16036: 'car', 16037: 'education', 16038: 'real estate', 16039: 'real estate', 16040: 'education', 16041: 'real estate', 16042: 'house', 16043: 'house', 16044: 'education', 16045: 'car', 16046: 'car', 16047: 'education', 16048: 'house', 16049: 'education', 16050: 'house', 16051: 'house', 16052: 'real estate', 16053: 'car', 16054: 'wedding', 16055: 'real estate', 16056: 'car', 16057: 'real estate', 16058: 'education', 16059: 'education', 16060: 'house', 16061: 'education', 16062: 'house', 16063: 'car', 16064: 'house', 16065: 'house', 16066: 'house', 16067: 'real estate', 16068: 'house', 16069: 'education', 16070: 'car', 16071: 'real estate', 16072: 'house', 16073: 'education', 16074: 'car', 16075: 'wedding', 16076: 'car', 16077: 'car', 16078: 'house', 16079: 'education', 16080: 'car', 16081: 'real estate', 16082: 'car', 16083: 'house', 16084: 'house', 16085: 'education', 16086: 'real estate', 16087: 'real estate', 16088: 'education', 16089: 'wedding', 16090: 'wedding', 16091: 'wedding', 16092: 'wedding', 16093: 'real estate', 16094: 'house', 16095: 'education', 16096: 'wedding', 16097: 'house', 16098: 'house', 16099: 'real estate', 16100: 'house', 16101: 'house', 16102: 'house', 16103: 'car', 16104: 'house', 16105: 'education', 16106: 'real estate', 16107: 'wedding', 16108: 'house', 16109: 'education', 16110: 'education', 16111: 'real estate', 16112: 'wedding', 16113: 'car', 16114: 'car', 16115: 'car', 16116: 'education', 16117: 'car', 16118: 'education', 16119: 'education', 16120: 'car', 16121: 'education', 16122: 'wedding', 16123: 'education', 16124: 'house', 16125: 'house', 16126: 'real estate', 16127: 'car', 16128: 'education', 16129: 'car', 16130: 'education', 16131: 'real estate', 16132: 'real estate', 16133: 'house', 16134: 'wedding', 16135: 'real estate', 16136: 'real estate', 16137: 'education', 16138: 'real estate', 16139: 'wedding', 16140: 'house', 16141: 'car', 16142: 'car', 16143: 'wedding', 16144: 'house', 16145: 'car', 16146: 'car', 16147: 'education', 16148: 'wedding', 16149: 'car', 16150: 'real estate', 16151: 'wedding', 16152: 'car', 16153: 'real estate', 16154: 'house', 16155: 'car', 16156: 'house', 16157: 'car', 16158: 'real estate', 16159: 'car', 16160: 'real estate', 16161: 'wedding', 16162: 'education', 16163: 'real estate', 16164: 'wedding', 16165: 'house', 16166: 'car', 16167: 'education', 16168: 'car', 16169: 'wedding', 16170: 'car', 16171: 'house', 16172: 'real estate', 16173: 'education', 16174: 'car', 16175: 'real estate', 16177: 'house', 16178: 'wedding', 16179: 'real estate', 16180: 'car', 16181: 'real estate', 16182: 'house', 16183: 'real estate', 16184: 'house', 16185: 'real estate', 16186: 'education', 16187: 'education', 16188: 'education', 16189: 'car', 16190: 'real estate', 16191: 'real estate', 16192: 'real estate', 16193: 'car', 16194: 'house', 16195: 'car', 16196: 'car', 16197: 'house', 16198: 'education', 16199: 'real estate', 16200: 'real estate', 16201: 'house', 16202: 'house', 16203: 'car', 16205: 'house', 16206: 'education', 16207: 'education', 16208: 'wedding', 16209: 'education', 16210: 'real estate', 16211: 'wedding', 16212: 'education', 16213: 'real estate', 16214: 'house', 16215: 'education', 16216: 'real estate', 16217: 'house', 16218: 'real estate', 16219: 'house', 16220: 'house', 16221: 'wedding', 16222: 'house', 16223: 'real estate', 16224: 'house', 16225: 'house', 16226: 'education', 16227: 'education', 16228: 'real estate', 16229: 'real estate', 16230: 'real estate', 16231: 'wedding', 16232: 'real estate', 16233: 'house', 16234: 'real estate', 16235: 'education', 16236: 'car', 16237: 'house', 16238: 'house', 16239: 'house', 16240: 'car', 16241: 'house', 16242: 'car', 16243: 'house', 16244: 'house', 16245: 'car', 16246: 'car', 16247: 'house', 16248: 'car', 16249: 'education', 16250: 'house', 16251: 'real estate', 16252: 'house', 16253: 'education', 16254: 'house', 16255: 'real estate', 16256: 'house', 16257: 'house', 16258: 'wedding', 16259: 'education', 16260: 'real estate', 16261: 'house', 16262: 'real estate', 16263: 'car', 16264: 'house', 16265: 'house', 16266: 'house', 16267: 'car', 16268: 'house', 16269: 'education', 16270: 'education', 16271: 'real estate', 16272: 'house', 16273: 'wedding', 16274: 'car', 16275: 'car', 16276: 'car', 16277: 'car', 16278: 'car', 16279: 'education', 16280: 'house', 16281: 'car', 16282: 'house', 16283: 'real estate', 16284: 'wedding', 16285: 'car', 16286: 'real estate', 16287: 'real estate', 16288: 'car', 16289: 'education', 16290: 'real estate', 16291: 'car', 16292: 'house', 16293: 'house', 16294: 'car', 16295: 'education', 16296: 'real estate', 16297: 'real estate', 16298: 'car', 16299: 'car', 16300: 'car', 16301: 'real estate', 16302: 'house', 16303: 'house', 16304: 'wedding', 16305: 'car', 16306: 'education', 16307: 'car', 16308: 'education', 16309: 'car', 16310: 'education', 16311: 'real estate', 16312: 'house', 16313: 'real estate', 16314: 'education', 16315: 'house', 16316: 'wedding', 16317: 'car', 16318: 'house', 16319: 'real estate', 16320: 'car', 16321: 'house', 16322: 'car', 16323: 'house', 16324: 'real estate', 16325: 'car', 16326: 'house', 16327: 'real estate', 16328: 'real estate', 16329: 'wedding', 16330: 'real estate', 16331: 'house', 16332: 'house', 16333: 'wedding', 16334: 'real estate', 16335: 'real estate', 16336: 'car', 16337: 'education', 16338: 'wedding', 16339: 'house', 16340: 'real estate', 16341: 'wedding', 16342: 'house', 16343: 'house', 16344: 'education', 16345: 'education', 16346: 'house', 16347: 'car', 16348: 'car', 16349: 'education', 16350: 'car', 16351: 'education', 16352: 'real estate', 16353: 'house', 16354: 'car', 16355: 'wedding', 16356: 'real estate', 16357: 'education', 16358: 'house', 16359: 'car', 16360: 'wedding', 16361: 'wedding', 16362: 'education', 16363: 'house', 16364: 'wedding', 16365: 'house', 16366: 'house', 16367: 'house', 16368: 'education', 16369: 'education', 16370: 'car', 16371: 'real estate', 16372: 'car', 16373: 'real estate', 16374: 'house', 16375: 'education', 16376: 'car', 16377: 'real estate', 16379: 'car', 16380: 'wedding', 16381: 'education', 16382: 'house', 16383: 'house', 16384: 'house', 16385: 'car', 16386: 'car', 16387: 'car', 16388: 'wedding', 16389: 'real estate', 16390: 'house', 16391: 'wedding', 16392: 'real estate', 16393: 'car', 16394: 'car', 16395: 'wedding', 16396: 'house', 16397: 'real estate', 16398: 'house', 16399: 'car', 16400: 'real estate', 16401: 'education', 16402: 'car', 16403: 'car', 16404: 'house', 16405: 'house', 16406: 'real estate', 16407: 'real estate', 16408: 'car', 16409: 'car', 16410: 'real estate', 16411: 'car', 16412: 'car', 16413: 'house', 16414: 'wedding', 16415: 'car', 16416: 'car', 16417: 'real estate', 16418: 'real estate', 16419: 'car', 16420: 'education', 16421: 'house', 16422: 'wedding', 16423: 'real estate', 16424: 'education', 16425: 'house', 16426: 'real estate', 16427: 'car', 16428: 'wedding', 16429: 'car', 16430: 'education', 16431: 'real estate', 16432: 'real estate', 16433: 'real estate', 16434: 'car', 16435: 'real estate', 16436: 'wedding', 16437: 'real estate', 16438: 'car', 16439: 'real estate', 16440: 'car', 16441: 'education', 16442: 'education', 16443: 'house', 16444: 'car', 16445: 'house', 16446: 'wedding', 16447: 'car', 16448: 'education', 16449: 'house', 16450: 'real estate', 16451: 'car', 16452: 'house', 16453: 'wedding', 16454: 'education', 16455: 'education', 16456: 'car', 16457: 'real estate', 16458: 'education', 16459: 'education', 16460: 'education', 16461: 'house', 16462: 'house', 16463: 'house', 16464: 'car', 16465: 'real estate', 16466: 'education', 16467: 'education', 16468: 'car', 16469: 'real estate', 16470: 'car', 16471: 'car', 16472: 'car', 16473: 'house', 16474: 'education', 16475: 'real estate', 16476: 'car', 16477: 'car', 16478: 'real estate', 16479: 'car', 16480: 'house', 16481: 'house', 16482: 'real estate', 16483: 'car', 16484: 'wedding', 16485: 'car', 16486: 'education', 16487: 'wedding', 16488: 'education', 16489: 'car', 16490: 'car', 16491: 'real estate', 16492: 'education', 16493: 'education', 16494: 'car', 16495: 'wedding', 16496: 'house', 16497: 'education', 16498: 'house', 16499: 'wedding', 16500: 'wedding', 16501: 'house', 16502: 'car', 16503: 'house', 16504: 'wedding', 16505: 'car', 16506: 'house', 16507: 'car', 16508: 'wedding', 16509: 'real estate', 16510: 'house', 16511: 'house', 16512: 'wedding', 16513: 'car', 16514: 'car', 16515: 'car', 16516: 'house', 16517: 'education', 16518: 'car', 16519: 'car', 16520: 'wedding', 16521: 'education', 16522: 'house', 16523: 'house', 16524: 'real estate', 16525: 'house', 16526: 'house', 16527: 'house', 16528: 'real estate', 16529: 'house', 16530: 'real estate', 16531: 'house', 16532: 'real estate', 16533: 'wedding', 16534: 'education', 16535: 'real estate', 16536: 'house', 16537: 'house', 16538: 'car', 16539: 'real estate', 16540: 'house', 16541: 'real estate', 16542: 'real estate', 16543: 'education', 16544: 'house', 16545: 'house', 16546: 'education', 16547: 'education', 16548: 'education', 16549: 'education', 16550: 'wedding', 16551: 'house', 16552: 'car', 16553: 'house', 16554: 'real estate', 16555: 'wedding', 16556: 'real estate', 16557: 'education', 16558: 'car', 16559: 'house', 16560: 'education', 16561: 'car', 16562: 'house', 16563: 'real estate', 16564: 'wedding', 16565: 'car', 16566: 'real estate', 16567: 'wedding', 16568: 'wedding', 16569: 'wedding', 16570: 'education', 16571: 'real estate', 16572: 'education', 16573: 'education', 16574: 'wedding', 16575: 'real estate', 16576: 'car', 16577: 'car', 16578: 'education', 16579: 'car', 16580: 'house', 16581: 'house', 16582: 'education', 16583: 'car', 16584: 'real estate', 16585: 'house', 16586: 'house', 16587: 'house', 16588: 'education', 16589: 'car', 16590: 'wedding', 16591: 'car', 16592: 'car', 16593: 'real estate', 16594: 'wedding', 16595: 'car', 16596: 'education', 16597: 'wedding', 16598: 'house', 16599: 'car', 16600: 'car', 16601: 'house', 16602: 'education', 16603: 'house', 16604: 'real estate', 16605: 'house', 16606: 'house', 16607: 'real estate', 16608: 'education', 16609: 'house', 16610: 'car', 16611: 'car', 16612: 'education', 16613: 'car', 16614: 'house', 16615: 'house', 16616: 'house', 16617: 'car', 16618: 'car', 16619: 'education', 16620: 'education', 16621: 'real estate', 16622: 'wedding', 16623: 'house', 16624: 'house', 16625: 'car', 16626: 'car', 16627: 'real estate', 16628: 'wedding', 16629: 'real estate', 16630: 'house', 16631: 'house', 16632: 'wedding', 16633: 'real estate', 16634: 'house', 16635: 'wedding', 16636: 'house', 16637: 'real estate', 16638: 'wedding', 16639: 'house', 16640: 'car', 16641: 'car', 16642: 'car', 16643: 'house', 16644: 'real estate', 16645: 'real estate', 16646: 'real estate', 16647: 'house', 16648: 'real estate', 16649: 'house', 16650: 'car', 16651: 'education', 16652: 'education', 16653: 'car', 16654: 'wedding', 16655: 'house', 16656: 'wedding', 16657: 'car', 16658: 'wedding', 16659: 'real estate', 16660: 'house', 16661: 'education', 16662: 'real estate', 16663: 'education', 16664: 'house', 16665: 'education', 16666: 'real estate', 16667: 'real estate', 16668: 'education', 16669: 'car', 16670: 'wedding', 16671: 'house', 16672: 'car', 16673: 'car', 16674: 'house', 16675: 'house', 16676: 'house', 16677: 'real estate', 16678: 'real estate', 16679: 'car', 16680: 'house', 16681: 'education', 16682: 'real estate', 16683: 'education', 16684: 'house', 16685: 'education', 16686: 'real estate', 16687: 'real estate', 16688: 'car', 16689: 'real estate', 16690: 'wedding', 16691: 'wedding', 16692: 'wedding', 16693: 'house', 16694: 'car', 16695: 'car', 16696: 'education', 16697: 'real estate', 16698: 'wedding', 16699: 'car', 16700: 'house', 16701: 'education', 16702: 'house', 16703: 'house', 16704: 'education', 16705: 'house', 16706: 'house', 16707: 'house', 16708: 'car', 16709: 'education', 16710: 'house', 16711: 'real estate', 16712: 'car', 16713: 'house', 16714: 'house', 16715: 'car', 16716: 'house', 16717: 'education', 16718: 'car', 16719: 'education', 16720: 'house', 16721: 'education', 16722: 'real estate', 16723: 'car', 16724: 'car', 16725: 'education', 16726: 'real estate', 16727: 'house', 16728: 'real estate', 16729: 'house', 16730: 'education', 16731: 'car', 16732: 'education', 16733: 'car', 16734: 'wedding', 16735: 'house', 16736: 'house', 16737: 'real estate', 16738: 'house', 16739: 'car', 16740: 'wedding', 16741: 'house', 16742: 'wedding', 16743: 'wedding', 16744: 'wedding', 16745: 'education', 16746: 'car', 16747: 'house', 16748: 'education', 16749: 'house', 16750: 'real estate', 16751: 'education', 16752: 'real estate', 16753: 'real estate', 16754: 'wedding', 16755: 'house', 16756: 'car', 16757: 'real estate', 16758: 'education', 16759: 'house', 16760: 'wedding', 16761: 'house', 16762: 'real estate', 16763: 'car', 16764: 'education', 16765: 'wedding', 16766: 'car', 16767: 'car', 16768: 'education', 16769: 'house', 16770: 'wedding', 16771: 'house', 16772: 'car', 16773: 'car', 16774: 'education', 16775: 'education', 16776: 'wedding', 16777: 'house', 16778: 'real estate', 16779: 'house', 16780: 'education', 16781: 'wedding', 16782: 'house', 16783: 'real estate', 16784: 'wedding', 16785: 'education', 16786: 'house', 16787: 'house', 16788: 'house', 16789: 'education', 16790: 'wedding', 16791: 'house', 16792: 'real estate', 16793: 'house', 16794: 'real estate', 16795: 'house', 16796: 'education', 16797: 'car', 16798: 'real estate', 16799: 'house', 16800: 'real estate', 16801: 'education', 16802: 'house', 16803: 'education', 16804: 'education', 16805: 'car', 16806: 'wedding', 16807: 'real estate', 16808: 'house', 16809: 'wedding', 16810: 'real estate', 16811: 'wedding', 16812: 'car', 16813: 'house', 16814: 'car', 16815: 'car', 16816: 'house', 16817: 'real estate', 16818: 'car', 16819: 'house', 16820: 'real estate', 16821: 'house', 16822: 'wedding', 16823: 'house', 16824: 'car', 16825: 'real estate', 16826: 'wedding', 16827: 'real estate', 16828: 'real estate', 16829: 'house', 16830: 'car', 16831: 'house', 16832: 'real estate', 16833: 'house', 16834: 'real estate', 16835: 'car', 16836: 'real estate', 16837: 'house', 16838: 'car', 16839: 'house', 16840: 'car', 16841: 'house', 16842: 'house', 16843: 'house', 16844: 'car', 16845: 'house', 16846: 'house', 16847: 'education', 16848: 'car', 16849: 'education', 16850: 'real estate', 16851: 'real estate', 16852: 'car', 16853: 'car', 16854: 'education', 16855: 'house', 16856: 'house', 16857: 'car', 16858: 'house', 16859: 'wedding', 16860: 'education', 16861: 'house', 16862: 'house', 16863: 'wedding', 16864: 'car', 16865: 'education', 16866: 'education', 16867: 'car', 16868: 'house', 16869: 'education', 16870: 'education', 16871: 'house', 16872: 'wedding', 16873: 'real estate', 16874: 'education', 16875: 'car', 16876: 'real estate', 16877: 'car', 16878: 'car', 16879: 'education', 16880: 'house', 16881: 'real estate', 16882: 'wedding', 16883: 'house', 16884: 'education', 16885: 'car', 16886: 'car', 16887: 'wedding', 16888: 'education', 16889: 'house', 16890: 'education', 16891: 'real estate', 16892: 'real estate', 16893: 'house', 16894: 'car', 16895: 'wedding', 16896: 'car', 16897: 'house', 16898: 'house', 16899: 'house', 16900: 'car', 16901: 'wedding', 16903: 'house', 16905: 'house', 16906: 'house', 16907: 'house', 16908: 'house', 16909: 'real estate', 16910: 'car', 16911: 'house', 16912: 'real estate', 16913: 'house', 16914: 'education', 16915: 'car', 16916: 'real estate', 16917: 'wedding', 16918: 'car', 16919: 'education', 16920: 'real estate', 16921: 'car', 16922: 'wedding', 16923: 'house', 16924: 'real estate', 16925: 'education', 16926: 'house', 16927: 'house', 16928: 'car', 16929: 'car', 16930: 'education', 16931: 'house', 16932: 'real estate', 16933: 'education', 16934: 'wedding', 16935: 'car', 16936: 'car', 16937: 'car', 16938: 'house', 16939: 'education', 16940: 'wedding', 16941: 'wedding', 16942: 'car', 16943: 'real estate', 16944: 'house', 16945: 'wedding', 16946: 'education', 16947: 'car', 16948: 'house', 16949: 'house', 16950: 'education', 16951: 'real estate', 16952: 'real estate', 16953: 'car', 16954: 'house', 16955: 'car', 16956: 'car', 16957: 'car', 16958: 'wedding', 16959: 'real estate', 16960: 'education', 16961: 'house', 16962: 'real estate', 16963: 'house', 16964: 'car', 16965: 'real estate', 16966: 'car', 16967: 'house', 16968: 'real estate', 16969: 'education', 16970: 'car', 16971: 'wedding', 16972: 'real estate', 16973: 'house', 16974: 'real estate', 16975: 'wedding', 16976: 'car', 16977: 'education', 16978: 'house', 16979: 'car', 16980: 'house', 16981: 'car', 16982: 'house', 16983: 'wedding', 16984: 'education', 16985: 'real estate', 16986: 'house', 16987: 'wedding', 16988: 'house', 16989: 'car', 16990: 'education', 16991: 'real estate', 16992: 'car', 16993: 'house', 16994: 'education', 16995: 'education', 16996: 'real estate', 16997: 'house', 16998: 'house', 16999: 'education', 17000: 'house', 17001: 'real estate', 17002: 'education', 17003: 'education', 17004: 'education', 17005: 'education', 17006: 'car', 17007: 'house', 17008: 'car', 17009: 'house', 17010: 'house', 17011: 'house', 17012: 'house', 17013: 'house', 17014: 'real estate', 17015: 'house', 17016: 'house', 17017: 'house', 17018: 'wedding', 17019: 'house', 17020: 'house', 17021: 'house', 17022: 'education', 17023: 'education', 17024: 'education', 17025: 'real estate', 17026: 'real estate', 17027: 'house', 17028: 'real estate', 17029: 'real estate', 17030: 'wedding', 17031: 'wedding', 17032: 'real estate', 17033: 'real estate', 17034: 'real estate', 17035: 'education', 17036: 'real estate', 17037: 'education', 17038: 'real estate', 17039: 'education', 17040: 'house', 17041: 'car', 17042: 'car', 17043: 'house', 17044: 'house', 17045: 'education', 17046: 'education', 17047: 'car', 17048: 'house', 17049: 'car', 17050: 'real estate', 17051: 'house', 17052: 'real estate', 17053: 'house', 17054: 'house', 17055: 'house', 17056: 'house', 17057: 'wedding', 17058: 'house', 17059: 'house', 17060: 'car', 17061: 'real estate', 17062: 'real estate', 17063: 'car', 17064: 'car', 17065: 'house', 17066: 'house', 17067: 'real estate', 17068: 'real estate', 17069: 'education', 17070: 'real estate', 17071: 'car', 17072: 'real estate', 17073: 'house', 17074: 'house', 17075: 'real estate', 17076: 'house', 17077: 'real estate', 17078: 'house', 17079: 'wedding', 17080: 'house', 17081: 'real estate', 17082: 'car', 17083: 'education', 17084: 'car', 17085: 'wedding', 17086: 'wedding', 17087: 'real estate', 17088: 'house', 17089: 'car', 17090: 'house', 17091: 'house', 17092: 'house', 17093: 'education', 17094: 'car', 17095: 'car', 17096: 'education', 17097: 'education', 17098: 'car', 17099: 'education', 17100: 'house', 17101: 'wedding', 17102: 'real estate', 17103: 'education', 17104: 'car', 17105: 'wedding', 17106: 'education', 17107: 'house', 17108: 'wedding', 17109: 'car', 17110: 'wedding', 17111: 'house', 17112: 'car', 17113: 'house', 17114: 'wedding', 17115: 'car', 17116: 'house', 17117: 'house', 17118: 'wedding', 17119: 'education', 17120: 'house', 17121: 'car', 17122: 'education', 17123: 'house', 17124: 'car', 17125: 'education', 17126: 'car', 17127: 'wedding', 17128: 'wedding', 17129: 'car', 17130: 'real estate', 17131: 'car', 17132: 'house', 17133: 'real estate', 17134: 'house', 17135: 'real estate', 17136: 'house', 17137: 'real estate', 17138: 'education', 17139: 'real estate', 17140: 'education', 17141: 'real estate', 17142: 'real estate', 17143: 'real estate', 17144: 'house', 17145: 'real estate', 17146: 'car', 17147: 'wedding', 17148: 'house', 17149: 'house', 17150: 'car', 17151: 'wedding', 17152: 'car', 17153: 'car', 17154: 'car', 17155: 'car', 17156: 'house', 17157: 'house', 17158: 'house', 17159: 'house', 17160: 'real estate', 17161: 'house', 17162: 'car', 17163: 'car', 17164: 'car', 17165: 'education', 17166: 'house', 17167: 'real estate', 17168: 'house', 17169: 'education', 17170: 'wedding', 17171: 'car', 17172: 'education', 17173: 'wedding', 17174: 'wedding', 17175: 'house', 17176: 'car', 17177: 'house', 17178: 'wedding', 17179: 'car', 17180: 'wedding', 17181: 'car', 17182: 'car', 17183: 'real estate', 17184: 'car', 17185: 'wedding', 17186: 'real estate', 17187: 'wedding', 17188: 'real estate', 17189: 'wedding', 17190: 'house', 17191: 'education', 17192: 'education', 17193: 'house', 17194: 'education', 17195: 'wedding', 17196: 'education', 17197: 'wedding', 17198: 'house', 17199: 'house', 17200: 'education', 17201: 'house', 17202: 'education', 17203: 'house', 17204: 'education', 17205: 'car', 17206: 'car', 17207: 'wedding', 17208: 'real estate', 17209: 'house', 17210: 'real estate', 17211: 'real estate', 17212: 'car', 17213: 'car', 17214: 'real estate', 17215: 'car', 17216: 'house', 17217: 'education', 17218: 'house', 17219: 'real estate', 17220: 'car', 17221: 'house', 17222: 'house', 17223: 'wedding', 17224: 'education', 17225: 'car', 17226: 'real estate', 17227: 'wedding', 17228: 'wedding', 17229: 'education', 17230: 'house', 17231: 'house', 17232: 'wedding', 17233: 'house', 17234: 'house', 17235: 'real estate', 17236: 'real estate', 17237: 'house', 17238: 'education', 17239: 'education', 17240: 'house', 17241: 'education', 17242: 'house', 17243: 'car', 17244: 'car', 17245: 'car', 17246: 'education', 17247: 'car', 17248: 'car', 17249: 'wedding', 17250: 'car', 17251: 'house', 17252: 'house', 17253: 'house', 17254: 'car', 17255: 'car', 17256: 'house', 17257: 'car', 17258: 'car', 17259: 'car', 17260: 'car', 17261: 'car', 17262: 'education', 17263: 'education', 17264: 'real estate', 17265: 'education', 17266: 'real estate', 17267: 'real estate', 17268: 'car', 17269: 'education', 17270: 'house', 17271: 'car', 17272: 'house', 17273: 'real estate', 17274: 'car', 17275: 'car', 17276: 'house', 17277: 'house', 17278: 'education', 17279: 'car', 17280: 'house', 17281: 'real estate', 17282: 'house', 17283: 'wedding', 17284: 'wedding', 17285: 'education', 17286: 'real estate', 17287: 'real estate', 17288: 'wedding', 17289: 'education', 17290: 'real estate', 17291: 'wedding', 17292: 'education', 17293: 'wedding', 17294: 'education', 17295: 'house', 17296: 'wedding', 17297: 'house', 17298: 'car', 17299: 'real estate', 17300: 'education', 17301: 'real estate', 17302: 'house', 17303: 'house', 17304: 'house', 17305: 'real estate', 17306: 'wedding', 17307: 'car', 17308: 'house', 17309: 'education', 17310: 'wedding', 17311: 'car', 17312: 'real estate', 17313: 'real estate', 17314: 'education', 17315: 'education', 17316: 'car', 17317: 'real estate', 17318: 'wedding', 17319: 'house', 17320: 'real estate', 17321: 'wedding', 17322: 'car', 17323: 'house', 17324: 'car', 17325: 'house', 17326: 'car', 17327: 'wedding', 17328: 'car', 17329: 'car', 17330: 'house', 17331: 'house', 17332: 'car', 17333: 'real estate', 17334: 'car', 17335: 'education', 17336: 'house', 17337: 'house', 17339: 'real estate', 17340: 'real estate', 17341: 'real estate', 17342: 'house', 17343: 'real estate', 17344: 'house', 17345: 'real estate', 17346: 'wedding', 17347: 'house', 17348: 'car', 17349: 'education', 17350: 'house', 17351: 'car', 17352: 'real estate', 17353: 'real estate', 17354: 'wedding', 17355: 'wedding', 17356: 'real estate', 17357: 'house', 17358: 'house', 17359: 'house', 17360: 'house', 17361: 'education', 17362: 'real estate', 17363: 'house', 17364: 'car', 17365: 'house', 17366: 'house', 17367: 'wedding', 17368: 'car', 17369: 'car', 17370: 'real estate', 17371: 'education', 17372: 'wedding', 17373: 'wedding', 17374: 'car', 17375: 'house', 17376: 'education', 17377: 'real estate', 17378: 'wedding', 17380: 'car', 17381: 'real estate', 17382: 'car', 17383: 'education', 17384: 'car', 17385: 'house', 17386: 'car', 17387: 'real estate', 17388: 'car', 17389: 'house', 17390: 'house', 17391: 'house', 17392: 'car', 17393: 'car', 17394: 'wedding', 17395: 'wedding', 17396: 'education', 17397: 'house', 17398: 'real estate', 17399: 'real estate', 17400: 'wedding', 17401: 'car', 17402: 'house', 17403: 'car', 17404: 'education', 17405: 'house', 17406: 'wedding', 17407: 'car', 17408: 'house', 17409: 'real estate', 17410: 'real estate', 17411: 'real estate', 17412: 'education', 17413: 'car', 17414: 'house', 17415: 'real estate', 17416: 'real estate', 17417: 'education', 17418: 'education', 17419: 'car', 17420: 'wedding', 17421: 'house', 17422: 'real estate', 17423: 'education', 17424: 'house', 17425: 'car', 17426: 'car', 17427: 'real estate', 17428: 'house', 17429: 'house', 17430: 'car', 17431: 'real estate', 17432: 'house', 17433: 'education', 17434: 'house', 17435: 'education', 17436: 'car', 17437: 'education', 17438: 'car', 17439: 'house', 17440: 'car', 17441: 'real estate', 17442: 'house', 17443: 'car', 17444: 'wedding', 17445: 'real estate', 17446: 'house', 17447: 'wedding', 17448: 'real estate', 17449: 'real estate', 17450: 'car', 17451: 'car', 17452: 'real estate', 17453: 'education', 17454: 'education', 17455: 'education', 17456: 'house', 17457: 'car', 17458: 'real estate', 17459: 'house', 17460: 'house', 17461: 'real estate', 17462: 'real estate', 17463: 'education', 17464: 'house', 17465: 'house', 17466: 'house', 17467: 'education', 17468: 'car', 17469: 'car', 17470: 'education', 17471: 'house', 17472: 'car', 17473: 'car', 17474: 'real estate', 17475: 'car', 17476: 'house', 17477: 'wedding', 17478: 'house', 17479: 'education', 17480: 'education', 17481: 'car', 17482: 'house', 17483: 'education', 17484: 'education', 17485: 'car', 17486: 'education', 17487: 'real estate', 17488: 'education', 17489: 'real estate', 17490: 'house', 17491: 'car', 17492: 'car', 17493: 'house', 17494: 'education', 17495: 'car', 17496: 'house', 17497: 'house', 17498: 'real estate', 17499: 'education', 17500: 'house', 17501: 'real estate', 17502: 'car', 17503: 'real estate', 17504: 'house', 17505: 'real estate', 17506: 'car', 17507: 'real estate', 17508: 'car', 17509: 'house', 17510: 'car', 17511: 'real estate', 17512: 'house', 17513: 'wedding', 17514: 'car', 17515: 'real estate', 17516: 'house', 17517: 'house', 17518: 'wedding', 17519: 'wedding', 17520: 'education', 17521: 'house', 17522: 'car', 17523: 'wedding', 17524: 'car', 17525: 'house', 17526: 'real estate', 17527: 'house', 17528: 'house', 17529: 'wedding', 17530: 'real estate', 17531: 'wedding', 17532: 'education', 17533: 'house', 17534: 'real estate', 17535: 'wedding', 17536: 'wedding', 17537: 'education', 17538: 'house', 17539: 'house', 17540: 'wedding', 17541: 'house', 17542: 'car', 17543: 'real estate', 17544: 'education', 17545: 'house', 17546: 'education', 17547: 'car', 17548: 'car', 17549: 'house', 17550: 'real estate', 17551: 'house', 17552: 'real estate', 17553: 'car', 17554: 'house', 17555: 'car', 17556: 'real estate', 17557: 'house', 17558: 'real estate', 17559: 'wedding', 17560: 'house', 17561: 'real estate', 17562: 'car', 17563: 'real estate', 17564: 'house', 17565: 'real estate', 17566: 'house', 17567: 'education', 17568: 'car', 17569: 'house', 17570: 'real estate', 17571: 'house', 17572: 'house', 17573: 'real estate', 17574: 'car', 17575: 'house', 17576: 'education', 17577: 'real estate', 17578: 'education', 17579: 'real estate', 17580: 'real estate', 17581: 'house', 17582: 'car', 17583: 'car', 17584: 'car', 17585: 'car', 17586: 'house', 17587: 'real estate', 17588: 'car', 17589: 'car', 17590: 'education', 17591: 'real estate', 17592: 'real estate', 17593: 'wedding', 17594: 'education', 17595: 'real estate', 17596: 'house', 17597: 'car', 17598: 'car', 17599: 'house', 17600: 'car', 17601: 'education', 17602: 'car', 17603: 'house', 17604: 'real estate', 17605: 'car', 17606: 'real estate', 17607: 'real estate', 17608: 'wedding', 17609: 'real estate', 17610: 'wedding', 17611: 'education', 17612: 'car', 17613: 'real estate', 17614: 'house', 17615: 'house', 17616: 'house', 17617: 'education', 17618: 'education', 17619: 'education', 17620: 'wedding', 17621: 'wedding', 17622: 'real estate', 17623: 'house', 17624: 'house', 17625: 'car', 17626: 'education', 17627: 'wedding', 17628: 'real estate', 17629: 'house', 17630: 'car', 17631: 'car', 17632: 'real estate', 17633: 'car', 17634: 'wedding', 17635: 'real estate', 17636: 'real estate', 17637: 'wedding', 17638: 'car', 17639: 'wedding', 17640: 'house', 17641: 'house', 17642: 'car', 17643: 'house', 17644: 'house', 17645: 'wedding', 17646: 'education', 17647: 'car', 17648: 'education', 17649: 'car', 17650: 'wedding', 17651: 'education', 17652: 'education', 17653: 'wedding', 17654: 'car', 17655: 'house', 17656: 'real estate', 17657: 'real estate', 17658: 'real estate', 17659: 'house', 17660: 'education', 17661: 'education', 17662: 'education', 17663: 'real estate', 17664: 'wedding', 17665: 'real estate', 17666: 'education', 17667: 'car', 17668: 'real estate', 17669: 'education', 17670: 'real estate', 17671: 'house', 17672: 'wedding', 17673: 'wedding', 17674: 'house', 17675: 'wedding', 17676: 'real estate', 17677: 'house', 17678: 'real estate', 17679: 'house', 17680: 'real estate', 17681: 'car', 17682: 'house', 17683: 'house', 17684: 'car', 17685: 'house', 17686: 'house', 17687: 'house', 17688: 'education', 17689: 'real estate', 17690: 'house', 17691: 'car', 17692: 'real estate', 17693: 'education', 17694: 'real estate', 17695: 'real estate', 17696: 'real estate', 17697: 'house', 17698: 'house', 17699: 'house', 17700: 'real estate', 17701: 'house', 17702: 'education', 17703: 'car', 17704: 'education', 17705: 'real estate', 17706: 'car', 17707: 'house', 17708: 'wedding', 17709: 'wedding', 17710: 'real estate', 17711: 'house', 17712: 'real estate', 17713: 'car', 17714: 'car', 17715: 'real estate', 17716: 'education', 17717: 'car', 17718: 'house', 17719: 'wedding', 17720: 'real estate', 17721: 'real estate', 17722: 'real estate', 17723: 'education', 17724: 'education', 17725: 'car', 17726: 'real estate', 17727: 'house', 17728: 'education', 17729: 'wedding', 17730: 'house', 17731: 'house', 17732: 'car', 17733: 'house', 17734: 'car', 17735: 'real estate', 17736: 'wedding', 17737: 'house', 17738: 'real estate', 17739: 'car', 17740: 'wedding', 17741: 'house', 17742: 'house', 17743: 'car', 17744: 'car', 17745: 'house', 17746: 'house', 17747: 'wedding', 17748: 'house', 17749: 'real estate', 17750: 'real estate', 17751: 'house', 17752: 'real estate', 17753: 'house', 17754: 'house', 17756: 'wedding', 17757: 'car', 17758: 'education', 17759: 'house', 17760: 'real estate', 17761: 'car', 17762: 'education', 17763: 'house', 17764: 'wedding', 17765: 'education', 17766: 'house', 17767: 'real estate', 17768: 'wedding', 17769: 'wedding', 17770: 'education', 17771: 'car', 17772: 'house', 17773: 'house', 17775: 'house', 17776: 'house', 17777: 'house', 17778: 'real estate', 17779: 'wedding', 17780: 'real estate', 17781: 'house', 17782: 'real estate', 17783: 'house', 17784: 'education', 17785: 'house', 17786: 'car', 17787: 'house', 17788: 'house', 17789: 'house', 17790: 'real estate', 17791: 'wedding', 17792: 'house', 17793: 'car', 17794: 'real estate', 17795: 'house', 17796: 'house', 17797: 'education', 17798: 'education', 17799: 'house', 17800: 'wedding', 17801: 'car', 17802: 'education', 17803: 'car', 17804: 'education', 17805: 'car', 17806: 'house', 17807: 'education', 17808: 'real estate', 17809: 'education', 17810: 'house', 17811: 'education', 17812: 'education', 17813: 'real estate', 17814: 'real estate', 17815: 'car', 17816: 'education', 17817: 'education', 17818: 'wedding', 17819: 'education', 17820: 'real estate', 17821: 'car', 17822: 'house', 17823: 'house', 17824: 'house', 17825: 'car', 17826: 'real estate', 17827: 'real estate', 17828: 'real estate', 17829: 'education', 17830: 'real estate', 17831: 'house', 17832: 'real estate', 17833: 'real estate', 17834: 'house', 17835: 'wedding', 17836: 'car', 17837: 'house', 17838: 'car', 17839: 'house', 17840: 'real estate', 17841: 'house', 17842: 'real estate', 17843: 'real estate', 17844: 'car', 17845: 'real estate', 17846: 'real estate', 17847: 'house', 17848: 'house', 17849: 'house', 17850: 'house', 17851: 'education', 17852: 'house', 17853: 'car', 17854: 'car', 17855: 'real estate', 17856: 'real estate', 17857: 'car', 17858: 'house', 17859: 'house', 17860: 'wedding', 17861: 'house', 17862: 'house', 17863: 'house', 17864: 'education', 17865: 'education', 17866: 'house', 17867: 'real estate', 17868: 'car', 17869: 'house', 17870: 'house', 17871: 'car', 17872: 'wedding', 17873: 'house', 17874: 'house', 17875: 'car', 17876: 'house', 17877: 'house', 17878: 'education', 17879: 'house', 17880: 'house', 17881: 'house', 17882: 'car', 17883: 'car', 17884: 'house', 17885: 'education', 17886: 'education', 17887: 'real estate', 17888: 'car', 17889: 'car', 17890: 'education', 17891: 'car', 17892: 'house', 17893: 'wedding', 17894: 'real estate', 17895: 'car', 17896: 'house', 17897: 'car', 17898: 'house', 17899: 'house', 17900: 'education', 17901: 'house', 17902: 'car', 17903: 'house', 17904: 'real estate', 17905: 'car', 17906: 'car', 17907: 'wedding', 17908: 'house', 17909: 'car', 17910: 'house', 17911: 'house', 17912: 'education', 17913: 'house', 17914: 'house', 17915: 'education', 17916: 'education', 17917: 'education', 17918: 'education', 17919: 'education', 17920: 'education', 17921: 'real estate', 17922: 'car', 17923: 'car', 17924: 'car', 17925: 'wedding', 17926: 'house', 17927: 'house', 17928: 'education', 17929: 'education', 17930: 'education', 17931: 'education', 17932: 'real estate', 17933: 'wedding', 17934: 'real estate', 17935: 'house', 17936: 'car', 17937: 'car', 17938: 'house', 17939: 'education', 17940: 'real estate', 17941: 'real estate', 17942: 'wedding', 17943: 'real estate', 17944: 'wedding', 17945: 'real estate', 17946: 'real estate', 17947: 'car', 17948: 'car', 17949: 'education', 17950: 'education', 17951: 'house', 17952: 'car', 17953: 'education', 17954: 'education', 17955: 'house', 17956: 'wedding', 17957: 'car', 17958: 'house', 17959: 'car', 17960: 'house', 17961: 'house', 17962: 'car', 17963: 'house', 17964: 'house', 17965: 'house', 17966: 'education', 17967: 'wedding', 17968: 'wedding', 17969: 'house', 17970: 'real estate', 17971: 'education', 17972: 'real estate', 17973: 'car', 17974: 'wedding', 17975: 'real estate', 17976: 'real estate', 17977: 'car', 17978: 'real estate', 17979: 'education', 17980: 'house', 17981: 'education', 17982: 'education', 17983: 'real estate', 17984: 'education', 17985: 'education', 17986: 'house', 17987: 'house', 17988: 'education', 17989: 'house', 17990: 'house', 17991: 'house', 17992: 'car', 17993: 'real estate', 17994: 'real estate', 17995: 'house', 17996: 'wedding', 17997: 'house', 17998: 'car', 17999: 'house', 18000: 'education', 18001: 'real estate', 18002: 'car', 18003: 'house', 18004: 'house', 18005: 'education', 18006: 'house', 18007: 'car', 18008: 'car', 18009: 'education', 18010: 'house', 18011: 'education', 18012: 'real estate', 18013: 'education', 18014: 'real estate', 18015: 'education', 18016: 'house', 18017: 'house', 18018: 'car', 18019: 'education', 18020: 'wedding', 18021: 'car', 18022: 'house', 18023: 'car', 18024: 'house', 18025: 'house', 18026: 'education', 18027: 'real estate', 18028: 'house', 18029: 'house', 18030: 'education', 18031: 'education', 18032: 'education', 18033: 'car', 18034: 'education', 18035: 'real estate', 18036: 'education', 18037: 'real estate', 18038: 'education', 18039: 'education', 18040: 'wedding', 18041: 'real estate', 18042: 'real estate', 18043: 'house', 18044: 'education', 18045: 'real estate', 18046: 'car', 18047: 'house', 18048: 'house', 18049: 'real estate', 18050: 'education', 18051: 'car', 18052: 'education', 18053: 'education', 18054: 'house', 18055: 'house', 18056: 'house', 18057: 'house', 18058: 'education', 18059: 'wedding', 18060: 'car', 18061: 'wedding', 18062: 'car', 18063: 'car', 18064: 'real estate', 18065: 'real estate', 18066: 'education', 18067: 'house', 18068: 'real estate', 18069: 'house', 18070: 'house', 18071: 'car', 18072: 'education', 18073: 'house', 18074: 'education', 18075: 'education', 18076: 'house', 18077: 'wedding', 18078: 'education', 18079: 'house', 18080: 'car', 18081: 'wedding', 18082: 'house', 18083: 'education', 18084: 'car', 18085: 'wedding', 18086: 'car', 18087: 'house', 18088: 'house', 18089: 'car', 18090: 'car', 18091: 'real estate', 18092: 'education', 18093: 'education', 18094: 'car', 18095: 'real estate', 18096: 'education', 18097: 'car', 18098: 'education', 18099: 'education', 18100: 'car', 18101: 'education', 18102: 'education', 18103: 'house', 18104: 'house', 18105: 'real estate', 18106: 'wedding', 18107: 'car', 18108: 'education', 18109: 'house', 18110: 'house', 18111: 'real estate', 18112: 'education', 18113: 'house', 18114: 'house', 18115: 'education', 18116: 'car', 18117: 'education', 18118: 'wedding', 18119: 'real estate', 18120: 'house', 18121: 'education', 18122: 'education', 18123: 'car', 18124: 'car', 18125: 'real estate', 18126: 'real estate', 18127: 'wedding', 18128: 'real estate', 18129: 'car', 18130: 'real estate', 18131: 'house', 18132: 'education', 18133: 'car', 18134: 'house', 18135: 'education', 18136: 'education', 18137: 'real estate', 18138: 'education', 18139: 'education', 18140: 'real estate', 18141: 'car', 18142: 'house', 18143: 'car', 18144: 'house', 18145: 'wedding', 18146: 'house', 18147: 'wedding', 18148: 'house', 18149: 'real estate', 18150: 'real estate', 18151: 'car', 18152: 'real estate', 18153: 'house', 18154: 'house', 18155: 'car', 18156: 'car', 18157: 'real estate', 18158: 'real estate', 18159: 'education', 18160: 'real estate', 18161: 'real estate', 18162: 'education', 18163: 'house', 18164: 'education', 18165: 'car', 18166: 'house', 18167: 'education', 18168: 'car', 18169: 'education', 18170: 'house', 18171: 'car', 18172: 'real estate', 18173: 'house', 18174: 'car', 18175: 'wedding', 18176: 'wedding', 18177: 'car', 18178: 'real estate', 18179: 'education', 18180: 'house', 18181: 'house', 18182: 'real estate', 18183: 'car', 18184: 'education', 18185: 'real estate', 18186: 'house', 18187: 'education', 18188: 'wedding', 18189: 'education', 18190: 'education', 18191: 'real estate', 18192: 'education', 18193: 'education', 18194: 'house', 18195: 'real estate', 18196: 'education', 18197: 'car', 18198: 'real estate', 18199: 'real estate', 18200: 'education', 18201: 'house', 18202: 'house', 18203: 'house', 18204: 'house', 18205: 'real estate', 18206: 'education', 18207: 'real estate', 18208: 'house', 18209: 'car', 18210: 'real estate', 18211: 'house', 18212: 'car', 18213: 'house', 18214: 'real estate', 18215: 'house', 18216: 'education', 18217: 'wedding', 18218: 'education', 18219: 'education', 18220: 'house', 18221: 'car', 18222: 'car', 18223: 'house', 18224: 'house', 18225: 'education', 18226: 'car', 18227: 'real estate', 18228: 'house', 18229: 'real estate', 18230: 'education', 18231: 'car', 18232: 'wedding', 18233: 'real estate', 18234: 'house', 18235: 'wedding', 18236: 'education', 18237: 'house', 18238: 'car', 18239: 'car', 18240: 'house', 18241: 'education', 18242: 'real estate', 18243: 'real estate', 18244: 'education', 18245: 'real estate', 18246: 'wedding', 18247: 'education', 18248: 'education', 18249: 'house', 18250: 'car', 18251: 'car', 18252: 'education', 18253: 'wedding', 18254: 'car', 18255: 'education', 18256: 'house', 18257: 'car', 18258: 'real estate', 18259: 'education', 18260: 'house', 18261: 'education', 18262: 'wedding', 18263: 'house', 18264: 'car', 18265: 'real estate', 18266: 'car', 18267: 'education', 18268: 'real estate', 18269: 'wedding', 18270: 'wedding', 18271: 'education', 18272: 'real estate', 18273: 'education', 18274: 'real estate', 18275: 'car', 18276: 'education', 18277: 'car', 18278: 'car', 18279: 'house', 18280: 'real estate', 18281: 'car', 18282: 'real estate', 18283: 'wedding', 18284: 'house', 18285: 'education', 18286: 'education', 18287: 'house', 18288: 'education', 18289: 'real estate', 18290: 'house', 18291: 'real estate', 18292: 'real estate', 18293: 'car', 18294: 'house', 18295: 'house', 18296: 'wedding', 18297: 'house', 18298: 'real estate', 18299: 'car', 18300: 'house', 18301: 'real estate', 18302: 'wedding', 18303: 'car', 18304: 'real estate', 18305: 'real estate', 18306: 'car', 18307: 'house', 18308: 'real estate', 18309: 'house', 18310: 'real estate', 18311: 'real estate', 18312: 'house', 18313: 'education', 18314: 'wedding', 18315: 'car', 18316: 'real estate', 18317: 'education', 18318: 'car', 18319: 'house', 18320: 'wedding', 18321: 'house', 18322: 'real estate', 18323: 'house', 18324: 'car', 18325: 'education', 18326: 'education', 18327: 'car', 18329: 'house', 18330: 'real estate', 18331: 'house', 18332: 'car', 18333: 'house', 18334: 'real estate', 18335: 'car', 18336: 'wedding', 18337: 'house', 18338: 'real estate', 18339: 'education', 18340: 'house', 18341: 'education', 18342: 'wedding', 18343: 'house', 18344: 'house', 18345: 'house', 18346: 'education', 18347: 'house', 18348: 'car', 18350: 'house', 18351: 'car', 18352: 'real estate', 18353: 'car', 18354: 'house', 18355: 'car', 18356: 'car', 18357: 'education', 18358: 'house', 18359: 'education', 18360: 'education', 18361: 'house', 18362: 'real estate', 18363: 'education', 18364: 'house', 18365: 'car', 18366: 'house', 18367: 'house', 18368: 'wedding', 18369: 'car', 18370: 'car', 18371: 'car', 18372: 'house', 18373: 'house', 18374: 'real estate', 18375: 'house', 18376: 'house', 18377: 'education', 18378: 'car', 18379: 'house', 18380: 'wedding', 18381: 'real estate', 18382: 'real estate', 18383: 'real estate', 18384: 'real estate', 18385: 'house', 18386: 'car', 18387: 'car', 18388: 'car', 18389: 'house', 18390: 'house', 18391: 'house', 18392: 'real estate', 18393: 'house', 18394: 'education', 18395: 'house', 18396: 'car', 18397: 'education', 18398: 'real estate', 18399: 'wedding', 18400: 'house', 18401: 'real estate', 18402: 'house', 18403: 'education', 18404: 'real estate', 18405: 'house', 18406: 'house', 18407: 'education', 18408: 'education', 18409: 'education', 18410: 'education', 18411: 'wedding', 18412: 'real estate', 18413: 'education', 18414: 'education', 18415: 'wedding', 18416: 'car', 18417: 'real estate', 18418: 'car', 18419: 'education', 18420: 'house', 18421: 'education', 18422: 'education', 18423: 'house', 18424: 'house', 18425: 'car', 18426: 'house', 18427: 'real estate', 18429: 'real estate', 18430: 'car', 18431: 'education', 18432: 'real estate', 18433: 'house', 18434: 'house', 18435: 'real estate', 18436: 'house', 18437: 'house', 18438: 'car', 18439: 'house', 18440: 'car', 18441: 'house', 18442: 'house', 18443: 'car', 18444: 'house', 18445: 'house', 18446: 'house', 18447: 'car', 18448: 'education', 18449: 'real estate', 18450: 'real estate', 18451: 'car', 18452: 'education', 18453: 'car', 18454: 'education', 18455: 'car', 18456: 'education', 18457: 'house', 18458: 'education', 18459: 'education', 18460: 'wedding', 18461: 'house', 18462: 'real estate', 18463: 'education', 18464: 'car', 18465: 'education', 18466: 'education', 18467: 'education', 18468: 'wedding', 18469: 'car', 18470: 'house', 18471: 'wedding', 18472: 'wedding', 18473: 'house', 18474: 'education', 18475: 'car', 18476: 'car', 18477: 'real estate', 18478: 'real estate', 18479: 'education', 18480: 'education', 18481: 'education', 18482: 'car', 18483: 'house', 18484: 'real estate', 18485: 'education', 18486: 'car', 18487: 'house', 18488: 'real estate', 18489: 'real estate', 18490: 'house', 18491: 'education', 18492: 'car', 18493: 'house', 18494: 'car', 18495: 'real estate', 18496: 'education', 18497: 'education', 18498: 'house', 18499: 'education', 18500: 'education', 18501: 'education', 18502: 'house', 18503: 'wedding', 18504: 'house', 18505: 'real estate', 18506: 'education', 18507: 'wedding', 18508: 'education', 18509: 'house', 18510: 'wedding', 18511: 'real estate', 18512: 'wedding', 18513: 'wedding', 18514: 'car', 18515: 'house', 18516: 'real estate', 18517: 'wedding', 18518: 'car', 18519: 'car', 18520: 'car', 18522: 'wedding', 18523: 'real estate', 18524: 'house', 18525: 'house', 18526: 'house', 18527: 'house', 18528: 'house', 18529: 'real estate', 18530: 'real estate', 18531: 'house', 18532: 'car', 18533: 'house', 18534: 'real estate', 18535: 'wedding', 18536: 'education', 18537: 'wedding', 18538: 'education', 18539: 'house', 18540: 'car', 18541: 'house', 18542: 'house', 18543: 'real estate', 18544: 'wedding', 18545: 'real estate', 18546: 'house', 18547: 'house', 18548: 'wedding', 18549: 'car', 18550: 'real estate', 18551: 'house', 18552: 'house', 18553: 'education', 18554: 'car', 18555: 'car', 18556: 'house', 18557: 'education', 18558: 'education', 18559: 'education', 18560: 'education', 18561: 'wedding', 18562: 'car', 18564: 'real estate', 18565: 'car', 18566: 'real estate', 18567: 'car', 18568: 'wedding', 18569: 'house', 18570: 'wedding', 18571: 'house', 18572: 'house', 18573: 'house', 18574: 'real estate', 18575: 'house', 18576: 'real estate', 18577: 'education', 18578: 'car', 18579: 'real estate', 18580: 'house', 18581: 'education', 18582: 'car', 18583: 'real estate', 18584: 'education', 18585: 'education', 18586: 'education', 18587: 'house', 18588: 'car', 18589: 'house', 18590: 'education', 18591: 'wedding', 18592: 'house', 18593: 'education', 18594: 'real estate', 18595: 'house', 18596: 'education', 18597: 'car', 18598: 'car', 18599: 'house', 18600: 'car', 18601: 'house', 18602: 'real estate', 18603: 'wedding', 18604: 'education', 18605: 'house', 18606: 'car', 18607: 'house', 18608: 'real estate', 18609: 'real estate', 18610: 'house', 18611: 'wedding', 18612: 'car', 18613: 'car', 18614: 'education', 18615: 'house', 18616: 'house', 18617: 'house', 18618: 'wedding', 18619: 'real estate', 18620: 'house', 18621: 'car', 18622: 'education', 18623: 'car', 18624: 'real estate', 18625: 'real estate', 18626: 'house', 18627: 'house', 18628: 'education', 18629: 'house', 18630: 'education', 18631: 'house', 18632: 'house', 18633: 'real estate', 18634: 'house', 18635: 'real estate', 18636: 'real estate', 18637: 'car', 18638: 'education', 18639: 'house', 18640: 'wedding', 18641: 'real estate', 18642: 'house', 18643: 'wedding', 18644: 'real estate', 18645: 'real estate', 18646: 'real estate', 18647: 'education', 18648: 'wedding', 18649: 'wedding', 18650: 'car', 18651: 'wedding', 18652: 'house', 18653: 'education', 18654: 'wedding', 18655: 'real estate', 18656: 'house', 18657: 'house', 18658: 'house', 18659: 'real estate', 18660: 'real estate', 18661: 'wedding', 18662: 'house', 18663: 'real estate', 18664: 'education', 18665: 'house', 18666: 'car', 18667: 'house', 18668: 'wedding', 18669: 'car', 18670: 'real estate', 18671: 'real estate', 18672: 'car', 18673: 'car', 18674: 'house', 18675: 'house', 18676: 'real estate', 18677: 'education', 18678: 'education', 18679: 'real estate', 18680: 'education', 18681: 'wedding', 18682: 'real estate', 18683: 'education', 18684: 'house', 18685: 'wedding', 18686: 'house', 18687: 'education', 18688: 'education', 18689: 'real estate', 18690: 'education', 18691: 'house', 18692: 'house', 18693: 'real estate', 18694: 'wedding', 18695: 'house', 18696: 'house', 18697: 'wedding', 18698: 'real estate', 18699: 'wedding', 18700: 'house', 18701: 'car', 18702: 'real estate', 18703: 'real estate', 18704: 'real estate', 18705: 'education', 18706: 'wedding', 18707: 'real estate', 18708: 'real estate', 18709: 'car', 18710: 'house', 18711: 'real estate', 18712: 'real estate', 18713: 'wedding', 18714: 'education', 18715: 'house', 18716: 'house', 18717: 'education', 18718: 'education', 18719: 'house', 18720: 'real estate', 18721: 'house', 18722: 'car', 18723: 'education', 18724: 'real estate', 18725: 'house', 18726: 'car', 18727: 'car', 18728: 'real estate', 18729: 'house', 18730: 'real estate', 18731: 'education', 18732: 'education', 18733: 'real estate', 18734: 'car', 18735: 'house', 18736: 'real estate', 18737: 'real estate', 18738: 'wedding', 18739: 'wedding', 18740: 'car', 18741: 'house', 18742: 'wedding', 18743: 'real estate', 18744: 'education', 18745: 'wedding', 18746: 'real estate', 18747: 'house', 18748: 'car', 18749: 'car', 18750: 'wedding', 18751: 'car', 18752: 'house', 18753: 'car', 18754: 'real estate', 18756: 'car', 18757: 'education', 18758: 'education', 18759: 'education', 18760: 'real estate', 18761: 'house', 18762: 'car', 18763: 'car', 18764: 'education', 18765: 'wedding', 18766: 'house', 18767: 'education', 18768: 'car', 18769: 'house', 18770: 'house', 18771: 'house', 18772: 'car', 18773: 'car', 18774: 'wedding', 18775: 'real estate', 18776: 'real estate', 18777: 'house', 18778: 'house', 18779: 'education', 18780: 'house', 18781: 'house', 18782: 'education', 18783: 'house', 18784: 'real estate', 18785: 'house', 18786: 'education', 18787: 'car', 18788: 'car', 18789: 'education', 18790: 'education', 18791: 'real estate', 18792: 'car', 18793: 'wedding', 18794: 'real estate', 18795: 'real estate', 18796: 'house', 18797: 'wedding', 18798: 'house', 18799: 'real estate', 18800: 'car', 18801: 'house', 18802: 'real estate', 18803: 'education', 18804: 'real estate', 18805: 'house', 18806: 'real estate', 18807: 'house', 18808: 'education', 18809: 'real estate', 18810: 'house', 18811: 'education', 18812: 'real estate', 18813: 'real estate', 18814: 'real estate', 18815: 'car', 18816: 'house', 18817: 'house', 18818: 'house', 18819: 'car', 18820: 'real estate', 18821: 'education', 18822: 'education', 18823: 'house', 18824: 'car', 18825: 'real estate', 18826: 'education', 18827: 'house', 18828: 'car', 18829: 'house', 18830: 'car', 18831: 'education', 18832: 'house', 18833: 'real estate', 18834: 'house', 18835: 'education', 18836: 'education', 18837: 'real estate', 18838: 'house', 18839: 'real estate', 18840: 'education', 18841: 'car', 18842: 'wedding', 18843: 'car', 18844: 'real estate', 18845: 'car', 18846: 'wedding', 18847: 'education', 18848: 'car', 18849: 'education', 18850: 'car', 18851: 'education', 18852: 'house', 18853: 'car', 18854: 'house', 18855: 'education', 18856: 'real estate', 18857: 'wedding', 18858: 'car', 18859: 'house', 18860: 'car', 18861: 'wedding', 18862: 'house', 18863: 'real estate', 18864: 'house', 18865: 'car', 18866: 'real estate', 18867: 'house', 18868: 'real estate', 18869: 'real estate', 18870: 'house', 18871: 'real estate', 18872: 'education', 18873: 'education', 18874: 'education', 18875: 'car', 18876: 'house', 18877: 'house', 18878: 'education', 18879: 'education', 18880: 'house', 18881: 'education', 18882: 'house', 18883: 'house', 18884: 'house', 18885: 'car', 18886: 'car', 18887: 'house', 18888: 'education', 18889: 'real estate', 18890: 'car', 18891: 'house', 18892: 'car', 18893: 'real estate', 18894: 'house', 18895: 'education', 18896: 'education', 18897: 'house', 18898: 'car', 18899: 'house', 18900: 'house', 18901: 'wedding', 18902: 'real estate', 18903: 'wedding', 18904: 'house', 18905: 'real estate', 18906: 'education', 18907: 'real estate', 18908: 'house', 18909: 'house', 18910: 'real estate', 18911: 'car', 18912: 'house', 18913: 'house', 18914: 'car', 18915: 'education', 18916: 'education', 18917: 'house', 18918: 'real estate', 18919: 'real estate', 18920: 'education', 18921: 'real estate', 18922: 'car', 18923: 'house', 18924: 'car', 18925: 'education', 18926: 'real estate', 18927: 'car', 18928: 'car', 18929: 'education', 18930: 'wedding', 18931: 'car', 18932: 'house', 18933: 'education', 18934: 'car', 18935: 'education', 18936: 'real estate', 18937: 'house', 18938: 'house', 18939: 'car', 18940: 'real estate', 18941: 'education', 18942: 'house', 18943: 'wedding', 18944: 'real estate', 18945: 'wedding', 18946: 'real estate', 18947: 'real estate', 18948: 'car', 18949: 'house', 18950: 'house', 18951: 'education', 18952: 'car', 18953: 'house', 18954: 'education', 18955: 'real estate', 18956: 'wedding', 18957: 'education', 18958: 'education', 18959: 'house', 18960: 'real estate', 18961: 'real estate', 18962: 'real estate', 18963: 'house', 18964: 'education', 18965: 'house', 18966: 'education', 18967: 'education', 18968: 'education', 18969: 'wedding', 18970: 'education', 18971: 'wedding', 18972: 'real estate', 18973: 'house', 18974: 'education', 18975: 'car', 18976: 'real estate', 18977: 'house', 18978: 'wedding', 18979: 'education', 18980: 'car', 18981: 'house', 18982: 'real estate', 18983: 'house', 18984: 'real estate', 18985: 'car', 18986: 'wedding', 18987: 'education', 18988: 'wedding', 18989: 'real estate', 18990: 'real estate', 18991: 'wedding', 18992: 'house', 18993: 'education', 18994: 'house', 18995: 'car', 18996: 'house', 18997: 'car', 18998: 'real estate', 18999: 'education', 19000: 'education', 19001: 'car', 19002: 'wedding', 19003: 'real estate', 19004: 'car', 19005: 'car', 19006: 'real estate', 19007: 'real estate', 19008: 'real estate', 19009: 'education', 19010: 'education', 19011: 'car', 19012: 'real estate', 19013: 'house', 19014: 'wedding', 19015: 'wedding', 19016: 'real estate', 19017: 'car', 19018: 'car', 19019: 'education', 19020: 'house', 19021: 'house', 19022: 'house', 19023: 'real estate', 19024: 'house', 19025: 'house', 19026: 'house', 19027: 'education', 19028: 'real estate', 19029: 'education', 19030: 'real estate', 19031: 'car', 19032: 'real estate', 19033: 'car', 19034: 'car', 19035: 'house', 19036: 'house', 19037: 'education', 19038: 'car', 19039: 'education', 19040: 'education', 19042: 'house', 19043: 'wedding', 19044: 'house', 19045: 'education', 19046: 'education', 19047: 'education', 19048: 'real estate', 19049: 'wedding', 19050: 'real estate', 19051: 'wedding', 19052: 'house', 19053: 'education', 19054: 'wedding', 19055: 'house', 19056: 'house', 19057: 'wedding', 19058: 'house', 19059: 'car', 19060: 'real estate', 19061: 'wedding', 19062: 'real estate', 19063: 'house', 19064: 'wedding', 19065: 'education', 19066: 'education', 19067: 'house', 19068: 'car', 19069: 'real estate', 19070: 'house', 19071: 'house', 19072: 'education', 19073: 'car', 19074: 'real estate', 19075: 'house', 19076: 'car', 19077: 'car', 19078: 'house', 19079: 'house', 19080: 'car', 19081: 'car', 19082: 'house', 19083: 'wedding', 19084: 'house', 19085: 'house', 19086: 'house', 19087: 'real estate', 19088: 'house', 19089: 'car', 19090: 'education', 19091: 'real estate', 19092: 'education', 19093: 'real estate', 19094: 'real estate', 19095: 'wedding', 19096: 'car', 19097: 'real estate', 19098: 'real estate', 19099: 'house', 19100: 'real estate', 19101: 'car', 19102: 'real estate', 19103: 'house', 19104: 'real estate', 19105: 'house', 19106: 'house', 19107: 'house', 19108: 'house', 19109: 'real estate', 19110: 'car', 19111: 'house', 19112: 'car', 19113: 'car', 19114: 'house', 19115: 'house', 19116: 'real estate', 19117: 'house', 19118: 'wedding', 19119: 'car', 19120: 'house', 19121: 'house', 19122: 'real estate', 19123: 'real estate', 19124: 'wedding', 19125: 'house', 19126: 'house', 19127: 'house', 19128: 'car', 19129: 'car', 19130: 'education', 19131: 'education', 19132: 'house', 19133: 'car', 19134: 'car', 19135: 'house', 19136: 'real estate', 19137: 'real estate', 19138: 'real estate', 19139: 'education', 19140: 'house', 19141: 'real estate', 19142: 'wedding', 19143: 'house', 19144: 'house', 19145: 'real estate', 19146: 'house', 19147: 'house', 19148: 'house', 19149: 'education', 19150: 'house', 19151: 'house', 19152: 'real estate', 19153: 'house', 19154: 'house', 19155: 'house', 19156: 'education', 19157: 'wedding', 19158: 'house', 19159: 'house', 19160: 'house', 19161: 'car', 19162: 'house', 19163: 'real estate', 19164: 'car', 19165: 'real estate', 19166: 'car', 19167: 'education', 19168: 'real estate', 19169: 'real estate', 19170: 'car', 19171: 'real estate', 19172: 'car', 19173: 'education', 19174: 'wedding', 19175: 'car', 19176: 'real estate', 19177: 'house', 19178: 'wedding', 19179: 'car', 19180: 'education', 19181: 'house', 19182: 'car', 19183: 'house', 19185: 'real estate', 19186: 'car', 19187: 'car', 19188: 'car', 19189: 'wedding', 19190: 'education', 19191: 'house', 19192: 'real estate', 19193: 'house', 19194: 'wedding', 19195: 'car', 19196: 'real estate', 19197: 'house', 19198: 'wedding', 19199: 'wedding', 19200: 'real estate', 19201: 'real estate', 19202: 'education', 19203: 'house', 19204: 'wedding', 19205: 'house', 19206: 'house', 19207: 'education', 19208: 'education', 19209: 'education', 19210: 'house', 19211: 'house', 19212: 'real estate', 19213: 'house', 19214: 'car', 19215: 'real estate', 19216: 'house', 19217: 'house', 19218: 'house', 19219: 'wedding', 19220: 'real estate', 19221: 'education', 19222: 'house', 19223: 'house', 19224: 'real estate', 19225: 'car', 19226: 'car', 19227: 'house', 19228: 'house', 19229: 'wedding', 19230: 'car', 19231: 'house', 19232: 'real estate', 19233: 'car', 19234: 'education', 19235: 'real estate', 19236: 'house', 19237: 'house', 19238: 'education', 19239: 'real estate', 19240: 'real estate', 19241: 'house', 19242: 'car', 19243: 'car', 19244: 'house', 19245: 'house', 19246: 'wedding', 19247: 'house', 19248: 'car', 19249: 'car', 19250: 'house', 19251: 'house', 19252: 'house', 19253: 'education', 19254: 'car', 19255: 'house', 19256: 'real estate', 19257: 'real estate', 19258: 'education', 19259: 'house', 19260: 'wedding', 19261: 'house', 19262: 'wedding', 19263: 'house', 19264: 'house', 19265: 'house', 19266: 'real estate', 19267: 'education', 19268: 'house', 19269: 'real estate', 19270: 'education', 19271: 'car', 19272: 'house', 19273: 'education', 19274: 'education', 19275: 'education', 19276: 'house', 19277: 'house', 19278: 'car', 19279: 'house', 19280: 'house', 19281: 'house', 19282: 'house', 19283: 'education', 19284: 'education', 19285: 'house', 19286: 'real estate', 19287: 'car', 19288: 'real estate', 19289: 'real estate', 19290: 'education', 19291: 'wedding', 19292: 'car', 19293: 'real estate', 19294: 'real estate', 19296: 'house', 19297: 'wedding', 19298: 'real estate', 19299: 'house', 19300: 'car', 19301: 'house', 19302: 'real estate', 19303: 'house', 19304: 'car', 19305: 'education', 19306: 'house', 19307: 'car', 19308: 'wedding', 19309: 'wedding', 19310: 'wedding', 19311: 'house', 19312: 'wedding', 19313: 'education', 19314: 'real estate', 19315: 'wedding', 19316: 'house', 19317: 'education', 19318: 'car', 19319: 'house', 19320: 'house', 19322: 'real estate', 19323: 'real estate', 19324: 'real estate', 19325: 'education', 19326: 'house', 19327: 'real estate', 19328: 'house', 19329: 'education', 19330: 'car', 19331: 'house', 19332: 'real estate', 19333: 'car', 19334: 'education', 19335: 'real estate', 19336: 'car', 19337: 'real estate', 19338: 'house', 19339: 'real estate', 19340: 'car', 19341: 'education', 19342: 'education', 19343: 'real estate', 19344: 'house', 19345: 'wedding', 19346: 'education', 19347: 'education', 19348: 'wedding', 19349: 'house', 19350: 'real estate', 19351: 'education', 19352: 'house', 19353: 'house', 19354: 'wedding', 19355: 'real estate', 19356: 'real estate', 19357: 'house', 19358: 'education', 19359: 'education', 19360: 'house', 19361: 'car', 19362: 'real estate', 19363: 'wedding', 19364: 'real estate', 19365: 'house', 19366: 'car', 19367: 'house', 19368: 'wedding', 19370: 'car', 19371: 'car', 19372: 'real estate', 19373: 'real estate', 19374: 'house', 19375: 'house', 19376: 'real estate', 19377: 'real estate', 19378: 'real estate', 19379: 'house', 19380: 'house', 19381: 'house', 19382: 'education', 19383: 'car', 19384: 'real estate', 19385: 'wedding', 19386: 'house', 19388: 'house', 19389: 'house', 19390: 'real estate', 19391: 'education', 19392: 'car', 19393: 'car', 19394: 'education', 19395: 'wedding', 19396: 'car', 19397: 'house', 19398: 'education', 19399: 'car', 19400: 'education', 19401: 'real estate', 19402: 'education', 19403: 'education', 19404: 'real estate', 19405: 'education', 19406: 'car', 19407: 'house', 19408: 'house', 19409: 'house', 19410: 'house', 19411: 'wedding', 19412: 'car', 19413: 'house', 19414: 'house', 19415: 'education', 19416: 'house', 19417: 'car', 19418: 'real estate', 19419: 'real estate', 19420: 'house', 19421: 'car', 19422: 'education', 19423: 'education', 19424: 'education', 19425: 'wedding', 19426: 'house', 19427: 'wedding', 19428: 'education', 19429: 'real estate', 19430: 'house', 19431: 'house', 19432: 'car', 19433: 'wedding', 19434: 'car', 19435: 'education', 19436: 'car', 19437: 'house', 19438: 'real estate', 19439: 'real estate', 19440: 'real estate', 19441: 'car', 19442: 'house', 19443: 'car', 19444: 'real estate', 19445: 'car', 19446: 'wedding', 19447: 'car', 19448: 'education', 19449: 'house', 19450: 'house', 19451: 'education', 19452: 'education', 19453: 'wedding', 19454: 'house', 19455: 'car', 19456: 'car', 19457: 'education', 19458: 'house', 19459: 'house', 19460: 'education', 19461: 'education', 19462: 'house', 19463: 'house', 19464: 'car', 19465: 'education', 19466: 'real estate', 19467: 'real estate', 19468: 'education', 19469: 'car', 19470: 'house', 19471: 'house', 19472: 'real estate', 19473: 'real estate', 19474: 'education', 19475: 'car', 19476: 'education', 19477: 'real estate', 19478: 'education', 19479: 'wedding', 19480: 'house', 19481: 'car', 19482: 'car', 19483: 'education', 19484: 'education', 19485: 'real estate', 19486: 'house', 19487: 'house', 19488: 'education', 19489: 'car', 19490: 'real estate', 19491: 'car', 19492: 'real estate', 19493: 'house', 19494: 'education', 19495: 'car', 19496: 'wedding', 19497: 'house', 19498: 'house', 19499: 'real estate', 19500: 'real estate', 19501: 'house', 19502: 'real estate', 19503: 'real estate', 19504: 'real estate', 19505: 'car', 19506: 'real estate', 19507: 'wedding', 19508: 'car', 19509: 'car', 19510: 'wedding', 19511: 'education', 19512: 'real estate', 19513: 'education', 19514: 'house', 19515: 'car', 19516: 'education', 19517: 'education', 19518: 'car', 19519: 'education', 19520: 'education', 19521: 'real estate', 19522: 'house', 19523: 'wedding', 19524: 'education', 19525: 'education', 19526: 'car', 19527: 'wedding', 19528: 'car', 19529: 'car', 19530: 'education', 19531: 'car', 19532: 'house', 19533: 'real estate', 19534: 'education', 19535: 'car', 19536: 'wedding', 19537: 'real estate', 19538: 'car', 19539: 'real estate', 19540: 'education', 19541: 'house', 19542: 'house', 19543: 'car', 19544: 'real estate', 19545: 'wedding', 19546: 'house', 19547: 'house', 19548: 'car', 19549: 'education', 19550: 'house', 19551: 'house', 19552: 'wedding', 19553: 'education', 19554: 'car', 19555: 'wedding', 19556: 'real estate', 19557: 'real estate', 19558: 'real estate', 19560: 'house', 19561: 'real estate', 19562: 'wedding', 19563: 'wedding', 19564: 'real estate', 19565: 'wedding', 19566: 'education', 19567: 'car', 19568: 'car', 19569: 'house', 19570: 'car', 19571: 'car', 19572: 'house', 19573: 'house', 19574: 'real estate', 19575: 'wedding', 19576: 'car', 19577: 'house', 19578: 'education', 19579: 'car', 19580: 'house', 19581: 'education', 19582: 'education', 19583: 'wedding', 19584: 'education', 19585: 'real estate', 19586: 'car', 19587: 'real estate', 19588: 'education', 19589: 'education', 19590: 'house', 19591: 'car', 19592: 'education', 19593: 'real estate', 19594: 'education', 19595: 'house', 19596: 'real estate', 19597: 'real estate', 19598: 'real estate', 19599: 'real estate', 19600: 'car', 19601: 'education', 19602: 'real estate', 19603: 'house', 19604: 'education', 19605: 'house', 19606: 'house', 19607: 'wedding', 19608: 'education', 19609: 'house', 19610: 'house', 19611: 'house', 19612: 'house', 19613: 'house', 19614: 'education', 19615: 'car', 19616: 'education', 19617: 'house', 19618: 'education', 19619: 'education', 19620: 'real estate', 19621: 'real estate', 19622: 'education', 19623: 'car', 19624: 'education', 19625: 'education', 19626: 'house', 19627: 'house', 19628: 'real estate', 19629: 'real estate', 19630: 'house', 19631: 'car', 19632: 'house', 19633: 'house', 19634: 'car', 19635: 'education', 19636: 'real estate', 19637: 'house', 19638: 'house', 19639: 'real estate', 19640: 'house', 19641: 'car', 19642: 'car', 19643: 'education', 19644: 'car', 19645: 'car', 19646: 'car', 19647: 'house', 19648: 'real estate', 19649: 'house', 19650: 'house', 19651: 'education', 19652: 'wedding', 19653: 'house', 19654: 'real estate', 19655: 'house', 19656: 'car', 19657: 'car', 19658: 'house', 19659: 'education', 19660: 'house', 19661: 'real estate', 19662: 'house', 19663: 'real estate', 19664: 'wedding', 19665: 'real estate', 19666: 'wedding', 19667: 'car', 19668: 'education', 19669: 'car', 19670: 'education', 19671: 'car', 19672: 'real estate', 19673: 'wedding', 19674: 'house', 19675: 'wedding', 19676: 'house', 19677: 'house', 19678: 'education', 19679: 'house', 19680: 'real estate', 19681: 'car', 19682: 'education', 19683: 'car', 19684: 'education', 19685: 'wedding', 19686: 'house', 19687: 'house', 19689: 'house', 19690: 'wedding', 19691: 'car', 19692: 'wedding', 19693: 'education', 19694: 'house', 19695: 'wedding', 19696: 'car', 19697: 'house', 19698: 'education', 19699: 'real estate', 19700: 'car', 19701: 'house', 19702: 'house', 19703: 'real estate', 19704: 'real estate', 19705: 'house', 19706: 'real estate', 19707: 'education', 19708: 'wedding', 19709: 'house', 19710: 'car', 19711: 'education', 19712: 'education', 19713: 'wedding', 19714: 'house', 19715: 'car', 19716: 'education', 19717: 'car', 19718: 'real estate', 19719: 'car', 19720: 'car', 19721: 'car', 19722: 'car', 19723: 'wedding', 19724: 'house', 19725: 'real estate', 19726: 'real estate', 19727: 'house', 19728: 'real estate', 19729: 'real estate', 19730: 'education', 19731: 'real estate', 19732: 'real estate', 19733: 'house', 19734: 'education', 19735: 'house', 19736: 'education', 19737: 'real estate', 19738: 'car', 19739: 'real estate', 19740: 'car', 19741: 'education', 19742: 'car', 19743: 'car', 19744: 'car', 19745: 'real estate', 19746: 'education', 19747: 'education', 19748: 'house', 19749: 'real estate', 19750: 'real estate', 19751: 'house', 19752: 'education', 19753: 'wedding', 19754: 'real estate', 19755: 'real estate', 19756: 'house', 19757: 'house', 19758: 'car', 19759: 'education', 19760: 'real estate', 19761: 'house', 19762: 'car', 19763: 'house', 19764: 'car', 19765: 'real estate', 19766: 'car', 19767: 'real estate', 19768: 'education', 19769: 'education', 19770: 'house', 19771: 'wedding', 19772: 'house', 19773: 'house', 19774: 'wedding', 19775: 'education', 19776: 'car', 19777: 'wedding', 19778: 'car', 19779: 'car', 19780: 'education', 19781: 'house', 19782: 'real estate', 19783: 'house', 19784: 'house', 19785: 'car', 19786: 'car', 19787: 'wedding', 19788: 'car', 19789: 'house', 19790: 'house', 19791: 'house', 19792: 'car', 19793: 'education', 19794: 'wedding', 19795: 'house', 19796: 'real estate', 19797: 'car', 19798: 'car', 19799: 'car', 19800: 'education', 19801: 'wedding', 19802: 'real estate', 19803: 'wedding', 19804: 'education', 19805: 'house', 19806: 'wedding', 19807: 'wedding', 19808: 'education', 19809: 'education', 19810: 'real estate', 19811: 'real estate', 19812: 'house', 19813: 'real estate', 19814: 'car', 19815: 'real estate', 19816: 'real estate', 19817: 'house', 19818: 'real estate', 19819: 'real estate', 19820: 'real estate', 19821: 'house', 19822: 'real estate', 19823: 'wedding', 19824: 'education', 19825: 'house', 19826: 'house', 19827: 'education', 19828: 'house', 19829: 'house', 19830: 'real estate', 19831: 'house', 19833: 'house', 19834: 'house', 19835: 'car', 19836: 'education', 19837: 'education', 19838: 'car', 19839: 'real estate', 19840: 'wedding', 19841: 'house', 19842: 'house', 19843: 'education', 19844: 'house', 19845: 'education', 19846: 'wedding', 19847: 'wedding', 19848: 'house', 19849: 'house', 19850: 'real estate', 19851: 'house', 19852: 'wedding', 19853: 'real estate', 19854: 'education', 19855: 'real estate', 19856: 'wedding', 19857: 'real estate', 19858: 'house', 19859: 'house', 19860: 'education', 19861: 'real estate', 19862: 'education', 19863: 'education', 19864: 'real estate', 19865: 'wedding', 19866: 'real estate', 19867: 'education', 19868: 'education', 19869: 'car', 19870: 'house', 19871: 'real estate', 19872: 'car', 19873: 'real estate', 19874: 'education', 19875: 'house', 19876: 'house', 19877: 'wedding', 19878: 'car', 19879: 'education', 19880: 'education', 19881: 'house', 19882: 'house', 19883: 'real estate', 19884: 'house', 19885: 'car', 19886: 'real estate', 19887: 'education', 19888: 'real estate', 19889: 'house', 19890: 'wedding', 19891: 'car', 19892: 'education', 19893: 'car', 19894: 'real estate', 19895: 'car', 19896: 'education', 19897: 'house', 19898: 'wedding', 19899: 'house', 19900: 'house', 19901: 'education', 19902: 'wedding', 19903: 'car', 19904: 'education', 19905: 'wedding', 19906: 'real estate', 19907: 'real estate', 19908: 'car', 19909: 'real estate', 19910: 'house', 19911: 'education', 19912: 'education', 19913: 'house', 19914: 'real estate', 19915: 'car', 19916: 'car', 19917: 'education', 19918: 'car', 19919: 'education', 19920: 'house', 19921: 'real estate', 19922: 'education', 19923: 'car', 19924: 'real estate', 19925: 'house', 19926: 'education', 19927: 'car', 19928: 'real estate', 19929: 'house', 19930: 'car', 19931: 'education', 19932: 'real estate', 19933: 'education', 19934: 'education', 19935: 'car', 19936: 'wedding', 19937: 'wedding', 19938: 'wedding', 19939: 'car', 19940: 'car', 19941: 'car', 19942: 'real estate', 19943: 'house', 19944: 'car', 19945: 'real estate', 19947: 'wedding', 19948: 'real estate', 19949: 'house', 19950: 'house', 19951: 'house', 19952: 'car', 19953: 'car', 19954: 'house', 19955: 'house', 19956: 'house', 19957: 'wedding', 19958: 'house', 19959: 'real estate', 19960: 'real estate', 19961: 'wedding', 19962: 'house', 19963: 'house', 19964: 'car', 19965: 'education', 19966: 'wedding', 19967: 'education', 19968: 'car', 19969: 'real estate', 19970: 'house', 19971: 'real estate', 19972: 'real estate', 19973: 'wedding', 19974: 'real estate', 19975: 'house', 19976: 'real estate', 19977: 'car', 19978: 'car', 19979: 'car', 19980: 'house', 19981: 'wedding', 19982: 'house', 19983: 'real estate', 19984: 'car', 19985: 'education', 19986: 'house', 19987: 'wedding', 19988: 'car', 19989: 'house', 19990: 'car', 19991: 'wedding', 19992: 'car', 19993: 'real estate', 19994: 'house', 19995: 'education', 19996: 'real estate', 19997: 'education', 19998: 'house', 19999: 'wedding', 20000: 'education', 20001: 'house', 20002: 'education', 20003: 'house', 20004: 'real estate', 20005: 'house', 20006: 'education', 20007: 'real estate', 20008: 'wedding', 20009: 'house', 20010: 'wedding', 20011: 'real estate', 20012: 'real estate', 20013: 'house', 20014: 'real estate', 20015: 'house', 20016: 'real estate', 20017: 'real estate', 20018: 'car', 20019: 'real estate', 20020: 'wedding', 20021: 'house', 20022: 'house', 20023: 'house', 20024: 'car', 20025: 'real estate', 20026: 'house', 20027: 'house', 20028: 'house', 20029: 'real estate', 20030: 'house', 20031: 'real estate', 20032: 'real estate', 20033: 'education', 20034: 'wedding', 20035: 'house', 20036: 'house', 20037: 'real estate', 20038: 'real estate', 20039: 'car', 20040: 'real estate', 20041: 'house', 20042: 'house', 20043: 'car', 20044: 'car', 20045: 'house', 20046: 'car', 20047: 'car', 20048: 'house', 20049: 'house', 20050: 'real estate', 20051: 'real estate', 20052: 'education', 20053: 'house', 20054: 'house', 20055: 'real estate', 20056: 'car', 20057: 'car', 20058: 'house', 20059: 'car', 20060: 'car', 20061: 'house', 20062: 'car', 20063: 'car', 20064: 'education', 20065: 'car', 20066: 'house', 20067: 'car', 20068: 'house', 20069: 'house', 20070: 'house', 20071: 'education', 20072: 'car', 20073: 'wedding', 20074: 'house', 20075: 'real estate', 20076: 'education', 20077: 'house', 20078: 'house', 20079: 'education', 20080: 'real estate', 20081: 'education', 20082: 'house', 20083: 'house', 20084: 'real estate', 20085: 'car', 20086: 'house', 20087: 'wedding', 20088: 'house', 20089: 'house', 20090: 'wedding', 20091: 'wedding', 20092: 'real estate', 20093: 'wedding', 20094: 'education', 20095: 'house', 20096: 'house', 20097: 'car', 20098: 'car', 20099: 'education', 20100: 'car', 20101: 'car', 20102: 'real estate', 20103: 'car', 20104: 'car', 20105: 'car', 20106: 'real estate', 20107: 'education', 20108: 'wedding', 20109: 'car', 20110: 'real estate', 20111: 'car', 20112: 'house', 20113: 'house', 20114: 'education', 20115: 'car', 20117: 'house', 20118: 'real estate', 20119: 'real estate', 20120: 'house', 20121: 'wedding', 20122: 'real estate', 20123: 'wedding', 20124: 'car', 20125: 'real estate', 20126: 'real estate', 20127: 'house', 20128: 'real estate', 20129: 'education', 20130: 'house', 20131: 'real estate', 20132: 'real estate', 20133: 'wedding', 20134: 'car', 20135: 'house', 20136: 'real estate', 20137: 'house', 20138: 'house', 20139: 'house', 20140: 'wedding', 20141: 'house', 20142: 'house', 20143: 'real estate', 20144: 'real estate', 20145: 'house', 20146: 'education', 20147: 'car', 20148: 'car', 20149: 'education', 20150: 'wedding', 20151: 'wedding', 20152: 'car', 20153: 'house', 20154: 'house', 20155: 'house', 20156: 'house', 20157: 'car', 20158: 'house', 20159: 'education', 20160: 'education', 20161: 'car', 20162: 'real estate', 20163: 'education', 20164: 'wedding', 20166: 'wedding', 20167: 'house', 20168: 'wedding', 20169: 'house', 20170: 'education', 20171: 'house', 20172: 'education', 20173: 'house', 20174: 'house', 20175: 'car', 20176: 'house', 20177: 'house', 20178: 'house', 20179: 'real estate', 20180: 'education', 20181: 'car', 20182: 'real estate', 20183: 'car', 20184: 'real estate', 20185: 'wedding', 20186: 'real estate', 20188: 'wedding', 20189: 'car', 20190: 'wedding', 20191: 'car', 20192: 'education', 20193: 'real estate', 20194: 'real estate', 20195: 'car', 20196: 'car', 20197: 'education', 20198: 'house', 20199: 'education', 20200: 'education', 20201: 'real estate', 20202: 'house', 20203: 'real estate', 20204: 'car', 20205: 'wedding', 20206: 'education', 20207: 'car', 20208: 'education', 20209: 'real estate', 20210: 'real estate', 20211: 'house', 20212: 'car', 20213: 'real estate', 20214: 'education', 20215: 'real estate', 20216: 'wedding', 20217: 'education', 20218: 'house', 20219: 'real estate', 20220: 'wedding', 20221: 'education', 20222: 'house', 20223: 'house', 20224: 'house', 20225: 'house', 20226: 'education', 20227: 'education', 20228: 'real estate', 20229: 'wedding', 20230: 'real estate', 20231: 'real estate', 20232: 'house', 20233: 'real estate', 20234: 'house', 20235: 'education', 20236: 'car', 20237: 'real estate', 20238: 'real estate', 20239: 'real estate', 20240: 'real estate', 20241: 'education', 20242: 'house', 20243: 'real estate', 20244: 'car', 20245: 'real estate', 20246: 'real estate', 20247: 'house', 20248: 'real estate', 20249: 'wedding', 20250: 'education', 20251: 'car', 20252: 'car', 20253: 'car', 20254: 'house', 20255: 'real estate', 20256: 'car', 20257: 'wedding', 20258: 'house', 20259: 'education', 20260: 'house', 20261: 'car', 20262: 'real estate', 20263: 'wedding', 20264: 'wedding', 20265: 'house', 20266: 'car', 20267: 'house', 20268: 'car', 20269: 'house', 20270: 'car', 20271: 'car', 20272: 'car', 20273: 'house', 20274: 'house', 20275: 'car', 20276: 'house', 20277: 'wedding', 20278: 'house', 20279: 'car', 20280: 'wedding', 20281: 'house', 20282: 'wedding', 20283: 'house', 20284: 'car', 20285: 'real estate', 20286: 'car', 20287: 'house', 20288: 'education', 20289: 'education', 20290: 'house', 20291: 'real estate', 20292: 'car', 20293: 'wedding', 20294: 'house', 20295: 'car', 20296: 'house', 20298: 'car', 20299: 'real estate', 20300: 'real estate', 20301: 'real estate', 20302: 'real estate', 20303: 'real estate', 20304: 'real estate', 20305: 'house', 20306: 'education', 20307: 'real estate', 20308: 'education', 20309: 'wedding', 20310: 'car', 20311: 'house', 20312: 'house', 20313: 'car', 20314: 'real estate', 20315: 'house', 20316: 'real estate', 20317: 'real estate', 20318: 'wedding', 20319: 'house', 20320: 'car', 20321: 'house', 20322: 'car', 20323: 'house', 20324: 'real estate', 20325: 'wedding', 20326: 'education', 20327: 'house', 20328: 'car', 20329: 'car', 20330: 'house', 20331: 'house', 20332: 'car', 20333: 'car', 20334: 'education', 20335: 'education', 20336: 'car', 20337: 'car', 20338: 'car', 20339: 'education', 20340: 'house', 20341: 'real estate', 20342: 'house', 20343: 'house', 20344: 'car', 20345: 'car', 20346: 'house', 20347: 'house', 20348: 'house', 20349: 'real estate', 20350: 'real estate', 20351: 'real estate', 20352: 'car', 20353: 'wedding', 20354: 'house', 20355: 'wedding', 20356: 'car', 20357: 'real estate', 20358: 'real estate', 20359: 'car', 20360: 'car', 20361: 'real estate', 20362: 'car', 20363: 'car', 20364: 'house', 20365: 'real estate', 20366: 'real estate', 20367: 'house', 20368: 'house', 20369: 'car', 20370: 'car', 20371: 'real estate', 20372: 'real estate', 20373: 'education', 20374: 'wedding', 20375: 'real estate', 20376: 'house', 20377: 'wedding', 20378: 'education', 20379: 'house', 20380: 'car', 20381: 'education', 20382: 'education', 20383: 'house', 20384: 'wedding', 20385: 'house', 20386: 'house', 20387: 'education', 20388: 'wedding', 20389: 'house', 20390: 'real estate', 20391: 'real estate', 20392: 'house', 20393: 'real estate', 20394: 'house', 20395: 'education', 20396: 'car', 20397: 'wedding', 20398: 'education', 20399: 'house', 20400: 'car', 20401: 'real estate', 20402: 'wedding', 20403: 'real estate', 20404: 'wedding', 20405: 'real estate', 20406: 'house', 20407: 'car', 20408: 'real estate', 20409: 'real estate', 20410: 'real estate', 20411: 'house', 20412: 'car', 20413: 'real estate', 20414: 'real estate', 20415: 'real estate', 20416: 'car', 20417: 'house', 20418: 'education', 20419: 'car', 20420: 'wedding', 20421: 'house', 20422: 'education', 20423: 'education', 20424: 'real estate', 20425: 'education', 20426: 'house', 20427: 'house', 20428: 'car', 20429: 'education', 20430: 'real estate', 20431: 'house', 20432: 'real estate', 20433: 'house', 20434: 'car', 20435: 'wedding', 20436: 'real estate', 20437: 'car', 20438: 'real estate', 20439: 'real estate', 20440: 'education', 20441: 'car', 20442: 'house', 20443: 'wedding', 20444: 'house', 20445: 'real estate', 20446: 'wedding', 20447: 'real estate', 20448: 'house', 20449: 'car', 20450: 'education', 20451: 'wedding', 20452: 'education', 20453: 'education', 20454: 'real estate', 20455: 'car', 20456: 'car', 20457: 'house', 20458: 'real estate', 20459: 'education', 20460: 'car', 20461: 'real estate', 20462: 'house', 20463: 'house', 20464: 'car', 20465: 'wedding', 20466: 'car', 20467: 'real estate', 20468: 'car', 20469: 'car', 20470: 'car', 20471: 'house', 20472: 'wedding', 20473: 'wedding', 20474: 'house', 20475: 'house', 20476: 'education', 20477: 'wedding', 20478: 'house', 20479: 'education', 20480: 'house', 20481: 'real estate', 20482: 'house', 20483: 'house', 20484: 'wedding', 20485: 'car', 20486: 'wedding', 20487: 'car', 20488: 'real estate', 20489: 'real estate', 20490: 'house', 20491: 'education', 20492: 'house', 20493: 'house', 20494: 'real estate', 20495: 'wedding', 20496: 'real estate', 20497: 'car', 20498: 'house', 20499: 'house', 20500: 'house', 20501: 'education', 20502: 'car', 20503: 'wedding', 20504: 'education', 20505: 'education', 20506: 'car', 20507: 'car', 20508: 'wedding', 20509: 'real estate', 20510: 'car', 20511: 'car', 20512: 'car', 20513: 'real estate', 20514: 'wedding', 20515: 'education', 20516: 'house', 20517: 'house', 20518: 'education', 20519: 'education', 20520: 'wedding', 20521: 'education', 20522: 'real estate', 20523: 'car', 20524: 'house', 20525: 'house', 20526: 'real estate', 20527: 'car', 20528: 'education', 20529: 'wedding', 20530: 'wedding', 20531: 'car', 20532: 'house', 20533: 'real estate', 20534: 'wedding', 20535: 'education', 20536: 'wedding', 20537: 'house', 20538: 'car', 20539: 'house', 20540: 'house', 20541: 'real estate', 20542: 'car', 20543: 'house', 20544: 'education', 20545: 'house', 20546: 'house', 20547: 'real estate', 20548: 'education', 20549: 'house', 20550: 'education', 20551: 'house', 20552: 'car', 20553: 'car', 20554: 'house', 20555: 'house', 20556: 'education', 20557: 'house', 20558: 'wedding', 20559: 'real estate', 20560: 'education', 20561: 'wedding', 20562: 'car', 20563: 'real estate', 20564: 'real estate', 20565: 'real estate', 20566: 'wedding', 20567: 'education', 20568: 'car', 20569: 'education', 20570: 'education', 20571: 'education', 20572: 'education', 20573: 'house', 20574: 'education', 20575: 'education', 20576: 'wedding', 20577: 'house', 20578: 'education', 20579: 'wedding', 20580: 'house', 20581: 'car', 20582: 'education', 20583: 'house', 20584: 'real estate', 20585: 'real estate', 20586: 'house', 20587: 'house', 20588: 'car', 20589: 'wedding', 20590: 'car', 20591: 'house', 20592: 'education', 20593: 'house', 20594: 'house', 20595: 'car', 20596: 'real estate', 20597: 'house', 20598: 'real estate', 20599: 'education', 20600: 'education', 20601: 'house', 20602: 'house', 20603: 'real estate', 20604: 'education', 20605: 'education', 20606: 'education', 20607: 'wedding', 20608: 'house', 20609: 'education', 20610: 'real estate', 20611: 'wedding', 20612: 'real estate', 20613: 'house', 20614: 'real estate', 20615: 'house', 20616: 'car', 20617: 'house', 20618: 'real estate', 20619: 'car', 20620: 'car', 20621: 'real estate', 20622: 'car', 20623: 'house', 20624: 'car', 20625: 'house', 20626: 'wedding', 20627: 'house', 20628: 'car', 20629: 'car', 20630: 'house', 20631: 'real estate', 20632: 'wedding', 20633: 'wedding', 20634: 'house', 20635: 'real estate', 20636: 'car', 20637: 'car', 20638: 'house', 20639: 'house', 20640: 'house', 20641: 'car', 20642: 'real estate', 20643: 'wedding', 20644: 'house', 20645: 'car', 20646: 'house', 20647: 'real estate', 20648: 'education', 20649: 'education', 20650: 'house', 20651: 'education', 20652: 'house', 20653: 'real estate', 20654: 'real estate', 20655: 'wedding', 20656: 'real estate', 20657: 'house', 20658: 'house', 20659: 'house', 20660: 'real estate', 20661: 'house', 20663: 'real estate', 20664: 'education', 20665: 'real estate', 20666: 'real estate', 20667: 'real estate', 20668: 'house', 20669: 'house', 20670: 'real estate', 20671: 'house', 20672: 'house', 20673: 'wedding', 20674: 'house', 20675: 'house', 20676: 'wedding', 20677: 'house', 20678: 'house', 20679: 'house', 20680: 'education', 20681: 'real estate', 20682: 'car', 20683: 'house', 20684: 'education', 20685: 'house', 20686: 'car', 20687: 'education', 20688: 'education', 20689: 'education', 20690: 'car', 20691: 'education', 20692: 'house', 20693: 'wedding', 20694: 'car', 20695: 'education', 20696: 'house', 20697: 'wedding', 20698: 'car', 20699: 'wedding', 20700: 'real estate', 20701: 'car', 20703: 'real estate', 20704: 'real estate', 20705: 'education', 20706: 'car', 20707: 'real estate', 20708: 'real estate', 20709: 'wedding', 20710: 'real estate', 20711: 'education', 20712: 'wedding', 20713: 'house', 20714: 'real estate', 20715: 'education', 20716: 'wedding', 20717: 'real estate', 20718: 'car', 20719: 'wedding', 20720: 'education', 20721: 'real estate', 20722: 'house', 20723: 'real estate', 20724: 'house', 20725: 'real estate', 20726: 'car', 20727: 'car', 20728: 'car', 20729: 'house', 20730: 'education', 20731: 'wedding', 20732: 'car', 20733: 'house', 20734: 'education', 20735: 'car', 20736: 'house', 20737: 'education', 20738: 'education', 20739: 'real estate', 20740: 'real estate', 20741: 'car', 20742: 'house', 20743: 'car', 20744: 'car', 20745: 'house', 20746: 'real estate', 20747: 'real estate', 20748: 'real estate', 20749: 'house', 20750: 'house', 20751: 'real estate', 20752: 'car', 20753: 'car', 20754: 'real estate', 20755: 'real estate', 20756: 'real estate', 20757: 'house', 20758: 'real estate', 20759: 'real estate', 20760: 'education', 20761: 'car', 20762: 'real estate', 20763: 'house', 20764: 'real estate', 20765: 'house', 20766: 'real estate', 20767: 'car', 20768: 'real estate', 20769: 'education', 20770: 'education', 20771: 'house', 20772: 'real estate', 20773: 'house', 20774: 'car', 20775: 'education', 20776: 'education', 20777: 'car', 20778: 'house', 20779: 'education', 20780: 'house', 20781: 'house', 20782: 'house', 20783: 'car', 20784: 'car', 20785: 'real estate', 20786: 'house', 20787: 'house', 20788: 'house', 20789: 'car', 20790: 'house', 20791: 'car', 20792: 'real estate', 20793: 'house', 20794: 'house', 20795: 'car', 20796: 'real estate', 20797: 'wedding', 20798: 'real estate', 20799: 'car', 20800: 'house', 20801: 'car', 20802: 'house', 20803: 'real estate', 20804: 'car', 20805: 'car', 20806: 'real estate', 20807: 'house', 20808: 'house', 20809: 'house', 20810: 'house', 20811: 'real estate', 20812: 'house', 20813: 'education', 20814: 'house', 20815: 'car', 20816: 'house', 20817: 'real estate', 20818: 'car', 20819: 'education', 20820: 'house', 20821: 'education', 20822: 'education', 20823: 'car', 20824: 'house', 20825: 'real estate', 20826: 'house', 20827: 'house', 20828: 'wedding', 20829: 'education', 20830: 'wedding', 20831: 'car', 20832: 'wedding', 20833: 'house', 20834: 'education', 20835: 'house', 20836: 'car', 20837: 'house', 20838: 'car', 20839: 'house', 20840: 'education', 20841: 'real estate', 20842: 'house', 20843: 'wedding', 20844: 'house', 20845: 'car', 20846: 'education', 20847: 'education', 20848: 'house', 20849: 'education', 20850: 'car', 20851: 'education', 20852: 'education', 20853: 'house', 20854: 'house', 20855: 'car', 20856: 'house', 20857: 'house', 20858: 'education', 20859: 'education', 20860: 'car', 20861: 'education', 20862: 'house', 20863: 'house', 20864: 'house', 20865: 'real estate', 20866: 'education', 20867: 'real estate', 20868: 'car', 20869: 'house', 20870: 'house', 20871: 'wedding', 20872: 'car', 20873: 'house', 20874: 'education', 20875: 'house', 20876: 'house', 20877: 'house', 20878: 'real estate', 20879: 'car', 20880: 'education', 20881: 'car', 20882: 'real estate', 20883: 'real estate', 20884: 'real estate', 20885: 'house', 20886: 'house', 20887: 'house', 20888: 'car', 20889: 'real estate', 20890: 'house', 20891: 'house', 20892: 'education', 20893: 'car', 20894: 'education', 20895: 'car', 20896: 'house', 20897: 'house', 20898: 'education', 20899: 'real estate', 20900: 'car', 20901: 'house', 20902: 'education', 20903: 'wedding', 20904: 'car', 20905: 'car', 20906: 'real estate', 20907: 'education', 20908: 'education', 20909: 'car', 20910: 'car', 20911: 'car', 20912: 'house', 20913: 'education', 20914: 'car', 20915: 'real estate', 20916: 'wedding', 20917: 'house', 20918: 'car', 20919: 'car', 20920: 'education', 20921: 'car', 20922: 'house', 20923: 'house', 20924: 'education', 20925: 'car', 20926: 'real estate', 20927: 'car', 20928: 'education', 20929: 'car', 20930: 'car', 20931: 'education', 20932: 'education', 20933: 'wedding', 20934: 'real estate', 20935: 'car', 20936: 'car', 20937: 'house', 20938: 'wedding', 20939: 'wedding', 20940: 'car', 20941: 'education', 20942: 'house', 20943: 'education', 20944: 'education', 20945: 'house', 20946: 'house', 20947: 'real estate', 20948: 'education', 20949: 'education', 20950: 'real estate', 20951: 'house', 20952: 'real estate', 20953: 'house', 20954: 'wedding', 20955: 'car', 20956: 'education', 20957: 'real estate', 20958: 'wedding', 20959: 'house', 20960: 'wedding', 20961: 'real estate', 20962: 'car', 20963: 'car', 20964: 'car', 20965: 'education', 20966: 'house', 20967: 'real estate', 20968: 'education', 20969: 'real estate', 20970: 'house', 20971: 'car', 20972: 'car', 20973: 'house', 20974: 'education', 20975: 'real estate', 20976: 'house', 20977: 'house', 20978: 'house', 20979: 'real estate', 20980: 'education', 20981: 'house', 20982: 'real estate', 20983: 'education', 20984: 'education', 20985: 'car', 20986: 'wedding', 20987: 'car', 20988: 'house', 20989: 'real estate', 20990: 'real estate', 20991: 'real estate', 20992: 'car', 20993: 'wedding', 20994: 'house', 20995: 'real estate', 20996: 'education', 20997: 'wedding', 20998: 'car', 20999: 'house', 21000: 'house', 21001: 'house', 21002: 'education', 21003: 'wedding', 21004: 'education', 21005: 'house', 21006: 'house', 21007: 'education', 21008: 'car', 21009: 'house', 21010: 'house', 21011: 'wedding', 21012: 'house', 21013: 'house', 21014: 'real estate', 21015: 'real estate', 21016: 'house', 21017: 'real estate', 21018: 'house', 21019: 'house', 21020: 'car', 21021: 'real estate', 21022: 'real estate', 21023: 'education', 21024: 'car', 21025: 'house', 21026: 'real estate', 21027: 'house', 21028: 'car', 21029: 'education', 21030: 'real estate', 21031: 'wedding', 21033: 'car', 21034: 'house', 21035: 'house', 21036: 'real estate', 21037: 'wedding', 21038: 'real estate', 21039: 'real estate', 21040: 'house', 21041: 'house', 21042: 'house', 21043: 'car', 21044: 'real estate', 21045: 'real estate', 21046: 'house', 21047: 'car', 21048: 'car', 21049: 'house', 21050: 'car', 21051: 'real estate', 21052: 'real estate', 21053: 'education', 21054: 'car', 21055: 'real estate', 21056: 'real estate', 21057: 'wedding', 21058: 'real estate', 21059: 'real estate', 21060: 'house', 21061: 'real estate', 21062: 'house', 21063: 'car', 21064: 'car', 21065: 'real estate', 21066: 'house', 21067: 'car', 21068: 'house', 21069: 'real estate', 21070: 'education', 21071: 'education', 21072: 'real estate', 21073: 'car', 21074: 'real estate', 21075: 'car', 21076: 'real estate', 21077: 'real estate', 21078: 'house', 21079: 'house', 21080: 'house', 21081: 'house', 21082: 'wedding', 21083: 'education', 21084: 'education', 21085: 'house', 21086: 'house', 21087: 'real estate', 21088: 'real estate', 21089: 'house', 21090: 'house', 21091: 'house', 21092: 'wedding', 21093: 'house', 21094: 'education', 21095: 'house', 21096: 'car', 21097: 'car', 21098: 'wedding', 21099: 'house', 21100: 'real estate', 21101: 'house', 21102: 'house', 21103: 'car', 21104: 'car', 21105: 'education', 21106: 'real estate', 21107: 'house', 21108: 'real estate', 21109: 'real estate', 21110: 'real estate', 21111: 'house', 21112: 'education', 21113: 'car', 21114: 'house', 21115: 'house', 21116: 'house', 21117: 'education', 21118: 'car', 21119: 'wedding', 21120: 'real estate', 21121: 'real estate', 21122: 'real estate', 21123: 'real estate', 21124: 'wedding', 21125: 'wedding', 21126: 'car', 21127: 'house', 21128: 'wedding', 21129: 'car', 21130: 'house', 21131: 'wedding', 21133: 'real estate', 21134: 'education', 21135: 'wedding', 21136: 'car', 21137: 'car', 21138: 'house', 21139: 'real estate', 21140: 'real estate', 21141: 'education', 21142: 'house', 21143: 'education', 21144: 'car', 21145: 'education', 21146: 'wedding', 21147: 'house', 21148: 'house', 21149: 'education', 21150: 'house', 21151: 'real estate', 21152: 'real estate', 21153: 'real estate', 21154: 'house', 21155: 'car', 21156: 'real estate', 21157: 'house', 21158: 'house', 21159: 'real estate', 21160: 'house', 21161: 'car', 21162: 'education', 21163: 'real estate', 21164: 'house', 21165: 'car', 21166: 'education', 21167: 'education', 21168: 'real estate', 21169: 'house', 21170: 'real estate', 21171: 'real estate', 21172: 'car', 21173: 'house', 21174: 'car', 21175: 'wedding', 21176: 'car', 21177: 'car', 21178: 'car', 21179: 'real estate', 21180: 'car', 21181: 'car', 21182: 'house', 21183: 'real estate', 21184: 'car', 21185: 'wedding', 21186: 'education', 21187: 'education', 21188: 'education', 21189: 'car', 21190: 'car', 21191: 'house', 21192: 'house', 21193: 'house', 21194: 'house', 21195: 'education', 21196: 'house', 21197: 'real estate', 21198: 'education', 21199: 'car', 21200: 'car', 21201: 'real estate', 21202: 'education', 21203: 'education', 21204: 'education', 21205: 'education', 21206: 'house', 21207: 'house', 21208: 'car', 21209: 'education', 21210: 'house', 21211: 'car', 21212: 'house', 21213: 'real estate', 21214: 'wedding', 21215: 'education', 21216: 'house', 21217: 'car', 21218: 'house', 21219: 'house', 21220: 'real estate', 21221: 'house', 21222: 'real estate', 21223: 'education', 21224: 'real estate', 21225: 'car', 21226: 'education', 21227: 'education', 21228: 'education', 21229: 'wedding', 21230: 'house', 21231: 'house', 21232: 'car', 21233: 'wedding', 21234: 'real estate', 21235: 'wedding', 21236: 'real estate', 21237: 'car', 21238: 'house', 21239: 'real estate', 21240: 'education', 21241: 'education', 21242: 'house', 21243: 'house', 21244: 'car', 21245: 'real estate', 21246: 'wedding', 21247: 'real estate', 21248: 'house', 21249: 'house', 21250: 'car', 21251: 'wedding', 21252: 'real estate', 21253: 'house', 21254: 'house', 21255: 'education', 21256: 'car', 21257: 'education', 21258: 'house', 21259: 'education', 21260: 'car', 21261: 'car', 21262: 'house', 21263: 'house', 21264: 'car', 21265: 'car', 21266: 'house', 21267: 'house', 21268: 'wedding', 21269: 'real estate', 21270: 'house', 21271: 'real estate', 21272: 'house', 21273: 'house', 21274: 'wedding', 21275: 'house', 21276: 'car', 21277: 'house', 21278: 'car', 21279: 'education', 21280: 'house', 21282: 'house', 21283: 'real estate', 21284: 'house', 21285: 'house', 21286: 'real estate', 21287: 'car', 21288: 'house', 21289: 'education', 21290: 'education', 21291: 'real estate', 21292: 'wedding', 21293: 'wedding', 21294: 'education', 21295: 'car', 21296: 'wedding', 21297: 'car', 21298: 'car', 21299: 'education', 21300: 'education', 21301: 'wedding', 21302: 'education', 21303: 'car', 21304: 'wedding', 21305: 'house', 21306: 'house', 21307: 'house', 21308: 'house', 21309: 'house', 21310: 'real estate', 21311: 'house', 21312: 'education', 21313: 'house', 21314: 'house', 21315: 'house', 21316: 'car', 21317: 'car', 21318: 'real estate', 21319: 'real estate', 21320: 'real estate', 21321: 'real estate', 21322: 'car', 21323: 'car', 21324: 'house', 21325: 'education', 21326: 'real estate', 21327: 'wedding', 21328: 'house', 21329: 'wedding', 21330: 'real estate', 21331: 'house', 21332: 'house', 21333: 'house', 21334: 'real estate', 21335: 'house', 21336: 'real estate', 21337: 'real estate', 21338: 'car', 21339: 'car', 21340: 'education', 21341: 'wedding', 21342: 'education', 21343: 'wedding', 21344: 'education', 21345: 'house', 21346: 'house', 21347: 'wedding', 21348: 'house', 21349: 'house', 21350: 'car', 21351: 'education', 21352: 'education', 21353: 'car', 21354: 'car', 21355: 'car', 21356: 'real estate', 21357: 'house', 21358: 'house', 21359: 'house', 21360: 'house', 21361: 'car', 21362: 'car', 21363: 'house', 21364: 'real estate', 21365: 'wedding', 21366: 'wedding', 21367: 'real estate', 21368: 'house', 21369: 'real estate', 21370: 'education', 21371: 'house', 21372: 'real estate', 21373: 'wedding', 21374: 'car', 21375: 'car', 21376: 'house', 21377: 'real estate', 21378: 'real estate', 21379: 'car', 21380: 'education', 21381: 'real estate', 21382: 'car', 21383: 'wedding', 21384: 'house', 21385: 'education', 21386: 'house', 21387: 'house', 21388: 'car', 21389: 'car', 21390: 'real estate', 21391: 'house', 21392: 'house', 21393: 'house', 21394: 'car', 21395: 'car', 21396: 'house', 21397: 'house', 21398: 'real estate', 21399: 'wedding', 21400: 'house', 21401: 'house', 21402: 'house', 21403: 'real estate', 21404: 'real estate', 21405: 'house', 21406: 'house', 21407: 'real estate', 21408: 'real estate', 21409: 'house', 21410: 'house', 21411: 'house', 21412: 'education', 21413: 'wedding', 21414: 'house', 21416: 'house', 21417: 'real estate', 21418: 'house', 21419: 'house', 21420: 'real estate', 21421: 'house', 21422: 'wedding', 21423: 'car', 21424: 'house', 21425: 'house', 21426: 'house', 21427: 'real estate', 21428: 'car', 21429: 'real estate', 21430: 'car', 21431: 'education', 21432: 'house', 21433: 'wedding', 21434: 'house', 21435: 'house', 21436: 'education', 21437: 'house', 21438: 'real estate', 21439: 'education', 21440: 'wedding', 21441: 'education', 21442: 'wedding', 21443: 'real estate', 21444: 'car', 21445: 'car', 21446: 'real estate', 21447: 'house', 21448: 'real estate', 21449: 'education', 21450: 'house', 21451: 'house', 21452: 'education', 21453: 'wedding', 21454: 'house', 21455: 'education', 21456: 'education', 21457: 'real estate', 21458: 'real estate', 21459: 'car', 21460: 'education', 21461: 'house', 21462: 'house', 21463: 'wedding', 21464: 'house', 21465: 'wedding', 21466: 'house', 21467: 'education', 21468: 'education', 21469: 'car', 21470: 'education', 21471: 'house', 21472: 'car', 21473: 'real estate', 21474: 'car', 21475: 'car', 21476: 'real estate', 21477: 'wedding', 21478: 'car', 21479: 'house', 21480: 'house', 21481: 'car', 21482: 'car', 21483: 'real estate', 21484: 'house', 21485: 'car', 21486: 'car', 21487: 'house', 21488: 'house', 21489: 'car', 21490: 'real estate', 21491: 'car', 21492: 'real estate', 21493: 'house', 21494: 'education', 21495: 'wedding', 21496: 'car', 21497: 'house', 21498: 'wedding', 21499: 'wedding', 21500: 'real estate', 21501: 'house', 21502: 'real estate', 21503: 'education', 21504: 'education', 21505: 'wedding', 21506: 'wedding', 21507: 'car', 21508: 'house', 21509: 'real estate', 21510: 'car', 21511: 'house', 21512: 'education', 21513: 'house', 21514: 'house', 21515: 'education', 21516: 'house', 21517: 'car', 21518: 'car', 21519: 'real estate', 21520: 'house', 21521: 'car', 21522: 'house', 21523: 'car', 21524: 'car'}\n"
     ]
    }
   ],
   "source": [
    "# função para categorizar os dados com base em tópicos comuns receberá uma variável com a coluna na forma de dicionário\n",
    "# O laço for irá percorrer o dicionário e procurar por palavras que irão compor uma categoria\n",
    "# Ao encontrar essa palavra a categoria será armazenada em um novo dicionário, que será passado para uma nova coluna\n",
    "\n",
    "def categoria_purpose(purpose_dict):\n",
    "    new_categories = {}\n",
    "    for key, categoria in purpose_dict.items() :\n",
    "        if 'house' in categoria:\n",
    "            new_categories[key] = 'house'\n",
    "        elif 'housing' in categoria:\n",
    "            new_categories[key] ='house'\n",
    "        elif 'property' in categoria:\n",
    "            new_categories[key] ='house'\n",
    "        elif 'car' in categoria:\n",
    "            new_categories[key] ='car'\n",
    "        elif 'education' in categoria:\n",
    "            new_categories[key] ='education'\n",
    "        elif 'educated' in categoria:\n",
    "            new_categories[key] ='education'\n",
    "        elif 'university' in categoria:\n",
    "            new_categories[key] ='education'\n",
    "        elif 'wedding' in categoria:\n",
    "            new_categories[key] ='wedding'\n",
    "        elif 'real estate' in categoria:\n",
    "             new_categories[key] ='real estate'\n",
    "    print(f'new_categories: { new_categories}')\n",
    "    return new_categories\n",
    "\n",
    "purpose_dict= df_emprestimos['purpose'].to_dict()\n",
    "categorias = categoria_purpose(purpose_dict)\n"
   ]
  },
  {
   "cell_type": "code",
   "execution_count": 58,
   "metadata": {},
   "outputs": [
    {
     "name": "stdout",
     "output_type": "stream",
     "text": [
      "   children  days_employed  dob_years            education  education_id  \\\n",
      "0         1    8437.673028         42    bachelor's degree             0   \n",
      "1         1    4024.803754         36  secondary education             1   \n",
      "2         0    5623.422610         33  secondary education             1   \n",
      "3         3    4124.747207         32  secondary education             1   \n",
      "4         0  340266.072047         53  secondary education             1   \n",
      "5         0     926.185831         27    bachelor's degree             0   \n",
      "6         0    2879.202052         43    bachelor's degree             0   \n",
      "7         0     152.779569         50  secondary education             1   \n",
      "8         2    6929.865299         35    bachelor's degree             0   \n",
      "9         0    2188.756445         41  secondary education             1   \n",
      "\n",
      "       family_status  family_status_id gender income_type  debt  total_income  \\\n",
      "0            married                 0      F    employee     0     40620.102   \n",
      "1            married                 0      F    employee     0     17932.802   \n",
      "2            married                 0      M    employee     0     23341.752   \n",
      "3            married                 0      M    employee     0     42820.568   \n",
      "4  civil partnership                 1      F     retiree     0     25378.572   \n",
      "5  civil partnership                 1      M    business     0     40922.170   \n",
      "6            married                 0      F    business     0     38484.156   \n",
      "7            married                 0      M    employee     0     21731.829   \n",
      "8  civil partnership                 1      F    employee     0     15337.093   \n",
      "9            married                 0      M    employee     0     23108.150   \n",
      "\n",
      "                               purpose categoria_idade category_purpose  \n",
      "0                purchase of the house          adulto            house  \n",
      "1                         car purchase          adulto              car  \n",
      "2                purchase of the house          adulto            house  \n",
      "3              supplementary education          adulto        education  \n",
      "4                    to have a wedding          adulto          wedding  \n",
      "5                purchase of the house          adulto            house  \n",
      "6                 housing transactions          adulto            house  \n",
      "7                            education          adulto        education  \n",
      "8                     having a wedding          adulto          wedding  \n",
      "9  purchase of the house for my family          adulto            house  \n",
      "       children  days_employed  dob_years            education  education_id  \\\n",
      "21515         1     467.685130         28  secondary education             1   \n",
      "21516         0     914.391429         42    bachelor's degree             0   \n",
      "21517         0     404.679034         42    bachelor's degree             0   \n",
      "21518         0  373995.710838         59  secondary education             1   \n",
      "21519         1    2351.431934         37      graduate degree             4   \n",
      "21520         1    4529.316663         43  secondary education             1   \n",
      "21521         0  343937.404131         67  secondary education             1   \n",
      "21522         1    2113.346888         38  secondary education             1   \n",
      "21523         3    3112.481705         38  secondary education             1   \n",
      "21524         2    1984.507589         40  secondary education             1   \n",
      "\n",
      "           family_status  family_status_id gender income_type  debt  \\\n",
      "21515            married                 0      F    employee     1   \n",
      "21516            married                 0      F    business     0   \n",
      "21517  civil partnership                 1      F    business     0   \n",
      "21518            married                 0      F     retiree     0   \n",
      "21519           divorced                 3      M    employee     0   \n",
      "21520  civil partnership                 1      F    business     0   \n",
      "21521            married                 0      F     retiree     0   \n",
      "21522  civil partnership                 1      M    employee     1   \n",
      "21523            married                 0      M    employee     1   \n",
      "21524            married                 0      F    employee     0   \n",
      "\n",
      "       total_income                     purpose categoria_idade  \\\n",
      "21515     17517.812          to become educated          adulto   \n",
      "21516     51649.244    purchase of my own house          adulto   \n",
      "21517     28489.529           buying my own car          adulto   \n",
      "21518     24618.344           purchase of a car          adulto   \n",
      "21519     18551.846  buy commercial real estate          adulto   \n",
      "21520     35966.698        housing transactions          adulto   \n",
      "21521     24959.969           purchase of a car           idoso   \n",
      "21522     14347.610                    property          adulto   \n",
      "21523     39054.888           buying my own car          adulto   \n",
      "21524     13127.587                to buy a car          adulto   \n",
      "\n",
      "      category_purpose  \n",
      "21515        education  \n",
      "21516            house  \n",
      "21517              car  \n",
      "21518              car  \n",
      "21519      real estate  \n",
      "21520            house  \n",
      "21521              car  \n",
      "21522            house  \n",
      "21523              car  \n",
      "21524              car  \n"
     ]
    }
   ],
   "source": [
    "#Salvando dicionário em nova coluna no dataframe:\n",
    "df_emprestimos['category_purpose'] = pd.Series(data=categorias)\n",
    "#Verificando\n",
    "print(df_emprestimos.head(10))\n",
    "print(df_emprestimos.tail(10))"
   ]
  },
  {
   "cell_type": "markdown",
   "metadata": {},
   "source": [
    "Os dados numericos também precisam ser categorizados em faixas."
   ]
  },
  {
   "cell_type": "code",
   "execution_count": 59,
   "metadata": {},
   "outputs": [
    {
     "data": {
      "text/html": [
       "<div>\n",
       "<style scoped>\n",
       "    .dataframe tbody tr th:only-of-type {\n",
       "        vertical-align: middle;\n",
       "    }\n",
       "\n",
       "    .dataframe tbody tr th {\n",
       "        vertical-align: top;\n",
       "    }\n",
       "\n",
       "    .dataframe thead th {\n",
       "        text-align: right;\n",
       "    }\n",
       "</style>\n",
       "<table border=\"1\" class=\"dataframe\">\n",
       "  <thead>\n",
       "    <tr style=\"text-align: right;\">\n",
       "      <th></th>\n",
       "      <th>days_employed</th>\n",
       "      <th>children</th>\n",
       "      <th>dob_years</th>\n",
       "      <th>total_income</th>\n",
       "    </tr>\n",
       "  </thead>\n",
       "  <tbody>\n",
       "    <tr>\n",
       "      <th>0</th>\n",
       "      <td>8437.673028</td>\n",
       "      <td>1</td>\n",
       "      <td>42</td>\n",
       "      <td>40620.102</td>\n",
       "    </tr>\n",
       "    <tr>\n",
       "      <th>1</th>\n",
       "      <td>4024.803754</td>\n",
       "      <td>1</td>\n",
       "      <td>36</td>\n",
       "      <td>17932.802</td>\n",
       "    </tr>\n",
       "    <tr>\n",
       "      <th>2</th>\n",
       "      <td>5623.422610</td>\n",
       "      <td>0</td>\n",
       "      <td>33</td>\n",
       "      <td>23341.752</td>\n",
       "    </tr>\n",
       "    <tr>\n",
       "      <th>3</th>\n",
       "      <td>4124.747207</td>\n",
       "      <td>3</td>\n",
       "      <td>32</td>\n",
       "      <td>42820.568</td>\n",
       "    </tr>\n",
       "    <tr>\n",
       "      <th>4</th>\n",
       "      <td>340266.072047</td>\n",
       "      <td>0</td>\n",
       "      <td>53</td>\n",
       "      <td>25378.572</td>\n",
       "    </tr>\n",
       "    <tr>\n",
       "      <th>...</th>\n",
       "      <td>...</td>\n",
       "      <td>...</td>\n",
       "      <td>...</td>\n",
       "      <td>...</td>\n",
       "    </tr>\n",
       "    <tr>\n",
       "      <th>21520</th>\n",
       "      <td>4529.316663</td>\n",
       "      <td>1</td>\n",
       "      <td>43</td>\n",
       "      <td>35966.698</td>\n",
       "    </tr>\n",
       "    <tr>\n",
       "      <th>21521</th>\n",
       "      <td>343937.404131</td>\n",
       "      <td>0</td>\n",
       "      <td>67</td>\n",
       "      <td>24959.969</td>\n",
       "    </tr>\n",
       "    <tr>\n",
       "      <th>21522</th>\n",
       "      <td>2113.346888</td>\n",
       "      <td>1</td>\n",
       "      <td>38</td>\n",
       "      <td>14347.610</td>\n",
       "    </tr>\n",
       "    <tr>\n",
       "      <th>21523</th>\n",
       "      <td>3112.481705</td>\n",
       "      <td>3</td>\n",
       "      <td>38</td>\n",
       "      <td>39054.888</td>\n",
       "    </tr>\n",
       "    <tr>\n",
       "      <th>21524</th>\n",
       "      <td>1984.507589</td>\n",
       "      <td>2</td>\n",
       "      <td>40</td>\n",
       "      <td>13127.587</td>\n",
       "    </tr>\n",
       "  </tbody>\n",
       "</table>\n",
       "<p>21452 rows × 4 columns</p>\n",
       "</div>"
      ],
      "text/plain": [
       "       days_employed  children  dob_years  total_income\n",
       "0        8437.673028         1         42     40620.102\n",
       "1        4024.803754         1         36     17932.802\n",
       "2        5623.422610         0         33     23341.752\n",
       "3        4124.747207         3         32     42820.568\n",
       "4      340266.072047         0         53     25378.572\n",
       "...              ...       ...        ...           ...\n",
       "21520    4529.316663         1         43     35966.698\n",
       "21521  343937.404131         0         67     24959.969\n",
       "21522    2113.346888         1         38     14347.610\n",
       "21523    3112.481705         3         38     39054.888\n",
       "21524    1984.507589         2         40     13127.587\n",
       "\n",
       "[21452 rows x 4 columns]"
      ]
     },
     "execution_count": 59,
     "metadata": {},
     "output_type": "execute_result"
    }
   ],
   "source": [
    "# Examinando todos os dados numéricos \n",
    "df_emprestimos.loc[:,['days_employed','children', 'dob_years', 'total_income']]"
   ]
  },
  {
   "cell_type": "code",
   "execution_count": 60,
   "metadata": {},
   "outputs": [
    {
     "data": {
      "text/html": [
       "<div>\n",
       "<style scoped>\n",
       "    .dataframe tbody tr th:only-of-type {\n",
       "        vertical-align: middle;\n",
       "    }\n",
       "\n",
       "    .dataframe tbody tr th {\n",
       "        vertical-align: top;\n",
       "    }\n",
       "\n",
       "    .dataframe thead th {\n",
       "        text-align: right;\n",
       "    }\n",
       "</style>\n",
       "<table border=\"1\" class=\"dataframe\">\n",
       "  <thead>\n",
       "    <tr style=\"text-align: right;\">\n",
       "      <th></th>\n",
       "      <th>days_employed</th>\n",
       "      <th>children</th>\n",
       "      <th>dob_years</th>\n",
       "      <th>total_income</th>\n",
       "    </tr>\n",
       "  </thead>\n",
       "  <tbody>\n",
       "    <tr>\n",
       "      <th>count</th>\n",
       "      <td>21452.000000</td>\n",
       "      <td>21452.000000</td>\n",
       "      <td>21452.000000</td>\n",
       "      <td>21452.000000</td>\n",
       "    </tr>\n",
       "    <tr>\n",
       "      <th>mean</th>\n",
       "      <td>60576.021272</td>\n",
       "      <td>0.471331</td>\n",
       "      <td>43.469933</td>\n",
       "      <td>26435.947627</td>\n",
       "    </tr>\n",
       "    <tr>\n",
       "      <th>std</th>\n",
       "      <td>133440.806293</td>\n",
       "      <td>0.751093</td>\n",
       "      <td>12.213723</td>\n",
       "      <td>15684.040389</td>\n",
       "    </tr>\n",
       "    <tr>\n",
       "      <th>min</th>\n",
       "      <td>24.141633</td>\n",
       "      <td>0.000000</td>\n",
       "      <td>19.000000</td>\n",
       "      <td>3306.762000</td>\n",
       "    </tr>\n",
       "    <tr>\n",
       "      <th>25%</th>\n",
       "      <td>1023.688788</td>\n",
       "      <td>0.000000</td>\n",
       "      <td>33.000000</td>\n",
       "      <td>17217.441750</td>\n",
       "    </tr>\n",
       "    <tr>\n",
       "      <th>50%</th>\n",
       "      <td>2194.218768</td>\n",
       "      <td>0.000000</td>\n",
       "      <td>42.000000</td>\n",
       "      <td>23201.873500</td>\n",
       "    </tr>\n",
       "    <tr>\n",
       "      <th>75%</th>\n",
       "      <td>4798.120915</td>\n",
       "      <td>1.000000</td>\n",
       "      <td>53.000000</td>\n",
       "      <td>31328.693750</td>\n",
       "    </tr>\n",
       "    <tr>\n",
       "      <th>max</th>\n",
       "      <td>401755.400475</td>\n",
       "      <td>5.000000</td>\n",
       "      <td>75.000000</td>\n",
       "      <td>362496.645000</td>\n",
       "    </tr>\n",
       "  </tbody>\n",
       "</table>\n",
       "</div>"
      ],
      "text/plain": [
       "       days_employed      children     dob_years   total_income\n",
       "count   21452.000000  21452.000000  21452.000000   21452.000000\n",
       "mean    60576.021272      0.471331     43.469933   26435.947627\n",
       "std    133440.806293      0.751093     12.213723   15684.040389\n",
       "min        24.141633      0.000000     19.000000    3306.762000\n",
       "25%      1023.688788      0.000000     33.000000   17217.441750\n",
       "50%      2194.218768      0.000000     42.000000   23201.873500\n",
       "75%      4798.120915      1.000000     53.000000   31328.693750\n",
       "max    401755.400475      5.000000     75.000000  362496.645000"
      ]
     },
     "execution_count": 60,
     "metadata": {},
     "output_type": "execute_result"
    }
   ],
   "source": [
    "# Estatísticas resumidas para a coluna\n",
    "df_emprestimos.loc[:,['days_employed', 'children', 'dob_years', 'total_income']].describe()"
   ]
  },
  {
   "cell_type": "markdown",
   "metadata": {},
   "source": [
    "A renda será dividida em 3 grupos de acordo com os intervalos, Utilizei a função pd.qcut() para separar a variável em intervalos de tamanho igual com base em quantis de amostra."
   ]
  },
  {
   "cell_type": "code",
   "execution_count": 61,
   "metadata": {},
   "outputs": [],
   "source": [
    "pd.qcut(df_emprestimos['total_income'],3).unique()\n",
    "def intervalos_total_income(row):\n",
    "       if row <= 18582.733:\n",
    "        return 'grupo1'\n",
    "       elif row <= 28724.13:\n",
    "        return 'grupo2'\n",
    "       else:\n",
    "        return 'grupo3'\n"
   ]
  },
  {
   "cell_type": "markdown",
   "metadata": {},
   "source": [
    "O número de filhos em nenhum filho: 0, até 3: 1-3, e mais de 3 filhos: >3 "
   ]
  },
  {
   "cell_type": "code",
   "execution_count": 62,
   "metadata": {},
   "outputs": [],
   "source": [
    "def intervalos_children(row):\n",
    "    if row == 0:\n",
    "        return '0'\n",
    "    elif row >= 1 and row <= 3:\n",
    "        return '1-3'\n",
    "    else:\n",
    "        return '> 3'\n"
   ]
  },
  {
   "cell_type": "code",
   "execution_count": 63,
   "metadata": {},
   "outputs": [],
   "source": [
    "# Criar coluna com categorias\n",
    "try:\n",
    "    df_emprestimos['grupos_income'] = df_emprestimos['total_income'].apply(intervalos_total_income)\n",
    "except Exception as e:\n",
    "    print(e)\n"
   ]
  },
  {
   "cell_type": "code",
   "execution_count": 64,
   "metadata": {},
   "outputs": [],
   "source": [
    "try:\n",
    "    df_emprestimos['cat_children'] = df_emprestimos['children'].apply(intervalos_children)\n",
    "except Exception as e:\n",
    "    print(e)\n"
   ]
  },
  {
   "cell_type": "code",
   "execution_count": 65,
   "metadata": {
    "scrolled": true
   },
   "outputs": [
    {
     "name": "stdout",
     "output_type": "stream",
     "text": [
      "21452\n",
      "21452\n"
     ]
    }
   ],
   "source": [
    "# Conte os valores de cada categoria para ver a distribuição\n",
    "print(df_emprestimos['grupos_income'].count())\n",
    "print(df_emprestimos['cat_children'].count())"
   ]
  },
  {
   "cell_type": "markdown",
   "metadata": {},
   "source": [
    "## Verificar as Hipóteses\n"
   ]
  },
  {
   "cell_type": "markdown",
   "metadata": {},
   "source": [
    "**Existe uma correlação entre o número de filhos e o pagamento em dia?**"
   ]
  },
  {
   "cell_type": "code",
   "execution_count": 66,
   "metadata": {},
   "outputs": [
    {
     "data": {
      "text/html": [
       "<div>\n",
       "<style scoped>\n",
       "    .dataframe tbody tr th:only-of-type {\n",
       "        vertical-align: middle;\n",
       "    }\n",
       "\n",
       "    .dataframe tbody tr th {\n",
       "        vertical-align: top;\n",
       "    }\n",
       "\n",
       "    .dataframe thead th {\n",
       "        text-align: right;\n",
       "    }\n",
       "</style>\n",
       "<table border=\"1\" class=\"dataframe\">\n",
       "  <thead>\n",
       "    <tr style=\"text-align: right;\">\n",
       "      <th>cat_children</th>\n",
       "      <th>0</th>\n",
       "      <th>1-3</th>\n",
       "      <th>&gt; 3</th>\n",
       "      <th>All</th>\n",
       "    </tr>\n",
       "    <tr>\n",
       "      <th>debt</th>\n",
       "      <th></th>\n",
       "      <th></th>\n",
       "      <th></th>\n",
       "      <th></th>\n",
       "    </tr>\n",
       "  </thead>\n",
       "  <tbody>\n",
       "    <tr>\n",
       "      <th>0</th>\n",
       "      <td>13140</td>\n",
       "      <td>6525</td>\n",
       "      <td>46</td>\n",
       "      <td>19711</td>\n",
       "    </tr>\n",
       "    <tr>\n",
       "      <th>1</th>\n",
       "      <td>1072</td>\n",
       "      <td>665</td>\n",
       "      <td>4</td>\n",
       "      <td>1741</td>\n",
       "    </tr>\n",
       "    <tr>\n",
       "      <th>All</th>\n",
       "      <td>14212</td>\n",
       "      <td>7190</td>\n",
       "      <td>50</td>\n",
       "      <td>21452</td>\n",
       "    </tr>\n",
       "  </tbody>\n",
       "</table>\n",
       "</div>"
      ],
      "text/plain": [
       "cat_children      0   1-3  > 3    All\n",
       "debt                                 \n",
       "0             13140  6525   46  19711\n",
       "1              1072   665    4   1741\n",
       "All           14212  7190   50  21452"
      ]
     },
     "execution_count": 66,
     "metadata": {},
     "output_type": "execute_result"
    }
   ],
   "source": [
    "# Verificando os dados das crianças e do pagamento em dia\n",
    "pd.crosstab(index=df_emprestimos['debt'], columns=df_emprestimos['cat_children'], margins=True)"
   ]
  },
  {
   "cell_type": "code",
   "execution_count": 67,
   "metadata": {},
   "outputs": [
    {
     "data": {
      "text/html": [
       "<div>\n",
       "<style scoped>\n",
       "    .dataframe tbody tr th:only-of-type {\n",
       "        vertical-align: middle;\n",
       "    }\n",
       "\n",
       "    .dataframe tbody tr th {\n",
       "        vertical-align: top;\n",
       "    }\n",
       "\n",
       "    .dataframe thead tr th {\n",
       "        text-align: left;\n",
       "    }\n",
       "\n",
       "    .dataframe thead tr:last-of-type th {\n",
       "        text-align: right;\n",
       "    }\n",
       "</style>\n",
       "<table border=\"1\" class=\"dataframe\">\n",
       "  <thead>\n",
       "    <tr>\n",
       "      <th></th>\n",
       "      <th>sum</th>\n",
       "    </tr>\n",
       "    <tr>\n",
       "      <th></th>\n",
       "      <th>debt</th>\n",
       "    </tr>\n",
       "    <tr>\n",
       "      <th>cat_children</th>\n",
       "      <th></th>\n",
       "    </tr>\n",
       "  </thead>\n",
       "  <tbody>\n",
       "    <tr>\n",
       "      <th>0</th>\n",
       "      <td>61.573808</td>\n",
       "    </tr>\n",
       "    <tr>\n",
       "      <th>1-3</th>\n",
       "      <td>38.196439</td>\n",
       "    </tr>\n",
       "    <tr>\n",
       "      <th>&gt; 3</th>\n",
       "      <td>0.229753</td>\n",
       "    </tr>\n",
       "  </tbody>\n",
       "</table>\n",
       "</div>"
      ],
      "text/plain": [
       "                    sum\n",
       "                   debt\n",
       "cat_children           \n",
       "0             61.573808\n",
       "1-3           38.196439\n",
       "> 3            0.229753"
      ]
     },
     "execution_count": 67,
     "metadata": {},
     "output_type": "execute_result"
    }
   ],
   "source": [
    "# Calcular a taxa de inadimplência com base no número de filhos\n",
    "df_emprestimos[df_emprestimos.debt == 1].pivot_table(index='cat_children', values='debt',\n",
    "                                 aggfunc=['sum']) / df_emprestimos['debt'].sum()* 100"
   ]
  },
  {
   "cell_type": "markdown",
   "metadata": {},
   "source": [
    "**Conclusão**\n",
    "\n",
    "As pessoas que não tem filhos tem uma taxa de inadiplência maior."
   ]
  },
  {
   "cell_type": "markdown",
   "metadata": {},
   "source": [
    "**Existe uma correlação entre o nível de renda e do pagamento em dia?**"
   ]
  },
  {
   "cell_type": "code",
   "execution_count": 68,
   "metadata": {},
   "outputs": [
    {
     "data": {
      "text/html": [
       "<div>\n",
       "<style scoped>\n",
       "    .dataframe tbody tr th:only-of-type {\n",
       "        vertical-align: middle;\n",
       "    }\n",
       "\n",
       "    .dataframe tbody tr th {\n",
       "        vertical-align: top;\n",
       "    }\n",
       "\n",
       "    .dataframe thead th {\n",
       "        text-align: right;\n",
       "    }\n",
       "</style>\n",
       "<table border=\"1\" class=\"dataframe\">\n",
       "  <thead>\n",
       "    <tr style=\"text-align: right;\">\n",
       "      <th>grupos_income</th>\n",
       "      <th>grupo1</th>\n",
       "      <th>grupo2</th>\n",
       "      <th>grupo3</th>\n",
       "      <th>All</th>\n",
       "    </tr>\n",
       "    <tr>\n",
       "      <th>debt</th>\n",
       "      <th></th>\n",
       "      <th></th>\n",
       "      <th></th>\n",
       "      <th></th>\n",
       "    </tr>\n",
       "  </thead>\n",
       "  <tbody>\n",
       "    <tr>\n",
       "      <th>0</th>\n",
       "      <td>5927</td>\n",
       "      <td>7816</td>\n",
       "      <td>5968</td>\n",
       "      <td>19711</td>\n",
       "    </tr>\n",
       "    <tr>\n",
       "      <th>1</th>\n",
       "      <td>524</td>\n",
       "      <td>735</td>\n",
       "      <td>482</td>\n",
       "      <td>1741</td>\n",
       "    </tr>\n",
       "    <tr>\n",
       "      <th>All</th>\n",
       "      <td>6451</td>\n",
       "      <td>8551</td>\n",
       "      <td>6450</td>\n",
       "      <td>21452</td>\n",
       "    </tr>\n",
       "  </tbody>\n",
       "</table>\n",
       "</div>"
      ],
      "text/plain": [
       "grupos_income  grupo1  grupo2  grupo3    All\n",
       "debt                                        \n",
       "0                5927    7816    5968  19711\n",
       "1                 524     735     482   1741\n",
       "All              6451    8551    6450  21452"
      ]
     },
     "execution_count": 68,
     "metadata": {},
     "output_type": "execute_result"
    }
   ],
   "source": [
    "# Verificando os dados do nível de renda e do pagamento em dia\n",
    "pd.crosstab(index=df_emprestimos['debt'], columns=df_emprestimos['grupos_income'], margins=True)"
   ]
  },
  {
   "cell_type": "code",
   "execution_count": 69,
   "metadata": {
    "scrolled": true
   },
   "outputs": [
    {
     "data": {
      "text/html": [
       "<div>\n",
       "<style scoped>\n",
       "    .dataframe tbody tr th:only-of-type {\n",
       "        vertical-align: middle;\n",
       "    }\n",
       "\n",
       "    .dataframe tbody tr th {\n",
       "        vertical-align: top;\n",
       "    }\n",
       "\n",
       "    .dataframe thead tr th {\n",
       "        text-align: left;\n",
       "    }\n",
       "\n",
       "    .dataframe thead tr:last-of-type th {\n",
       "        text-align: right;\n",
       "    }\n",
       "</style>\n",
       "<table border=\"1\" class=\"dataframe\">\n",
       "  <thead>\n",
       "    <tr>\n",
       "      <th></th>\n",
       "      <th>sum</th>\n",
       "    </tr>\n",
       "    <tr>\n",
       "      <th></th>\n",
       "      <th>debt</th>\n",
       "    </tr>\n",
       "    <tr>\n",
       "      <th>grupos_income</th>\n",
       "      <th></th>\n",
       "    </tr>\n",
       "  </thead>\n",
       "  <tbody>\n",
       "    <tr>\n",
       "      <th>grupo1</th>\n",
       "      <td>30.097645</td>\n",
       "    </tr>\n",
       "    <tr>\n",
       "      <th>grupo2</th>\n",
       "      <td>42.217117</td>\n",
       "    </tr>\n",
       "    <tr>\n",
       "      <th>grupo3</th>\n",
       "      <td>27.685238</td>\n",
       "    </tr>\n",
       "  </tbody>\n",
       "</table>\n",
       "</div>"
      ],
      "text/plain": [
       "                     sum\n",
       "                    debt\n",
       "grupos_income           \n",
       "grupo1         30.097645\n",
       "grupo2         42.217117\n",
       "grupo3         27.685238"
      ]
     },
     "execution_count": 69,
     "metadata": {},
     "output_type": "execute_result"
    }
   ],
   "source": [
    "# Calcular a taxa de inadimplência com base no nível de renda\n",
    "df_emprestimos[df_emprestimos.debt == 1].pivot_table(index='grupos_income', values='debt',\n",
    "                                 aggfunc=['sum']) / df_emprestimos['debt'].sum()* 100"
   ]
  },
  {
   "cell_type": "markdown",
   "metadata": {},
   "source": [
    "**Conclusão**\n",
    "\n",
    "As pessoas que ganham até cerca de 28724.13 (grupo2) tem uma taxa de inadiplencia maior em comparação aos outros grupos"
   ]
  },
  {
   "cell_type": "markdown",
   "metadata": {},
   "source": [
    "**Existe uma correlação entre o status familiar e o pagamento em dia?**"
   ]
  },
  {
   "cell_type": "code",
   "execution_count": 70,
   "metadata": {},
   "outputs": [
    {
     "data": {
      "text/html": [
       "<div>\n",
       "<style scoped>\n",
       "    .dataframe tbody tr th:only-of-type {\n",
       "        vertical-align: middle;\n",
       "    }\n",
       "\n",
       "    .dataframe tbody tr th {\n",
       "        vertical-align: top;\n",
       "    }\n",
       "\n",
       "    .dataframe thead th {\n",
       "        text-align: right;\n",
       "    }\n",
       "</style>\n",
       "<table border=\"1\" class=\"dataframe\">\n",
       "  <thead>\n",
       "    <tr style=\"text-align: right;\">\n",
       "      <th>family_status</th>\n",
       "      <th>civil partnership</th>\n",
       "      <th>divorced</th>\n",
       "      <th>married</th>\n",
       "      <th>unmarried</th>\n",
       "      <th>widow / widower</th>\n",
       "      <th>All</th>\n",
       "    </tr>\n",
       "    <tr>\n",
       "      <th>debt</th>\n",
       "      <th></th>\n",
       "      <th></th>\n",
       "      <th></th>\n",
       "      <th></th>\n",
       "      <th></th>\n",
       "      <th></th>\n",
       "    </tr>\n",
       "  </thead>\n",
       "  <tbody>\n",
       "    <tr>\n",
       "      <th>0</th>\n",
       "      <td>3761</td>\n",
       "      <td>1110</td>\n",
       "      <td>11408</td>\n",
       "      <td>2536</td>\n",
       "      <td>896</td>\n",
       "      <td>19711</td>\n",
       "    </tr>\n",
       "    <tr>\n",
       "      <th>1</th>\n",
       "      <td>388</td>\n",
       "      <td>85</td>\n",
       "      <td>931</td>\n",
       "      <td>274</td>\n",
       "      <td>63</td>\n",
       "      <td>1741</td>\n",
       "    </tr>\n",
       "    <tr>\n",
       "      <th>All</th>\n",
       "      <td>4149</td>\n",
       "      <td>1195</td>\n",
       "      <td>12339</td>\n",
       "      <td>2810</td>\n",
       "      <td>959</td>\n",
       "      <td>21452</td>\n",
       "    </tr>\n",
       "  </tbody>\n",
       "</table>\n",
       "</div>"
      ],
      "text/plain": [
       "family_status  civil partnership  divorced  married  unmarried  \\\n",
       "debt                                                             \n",
       "0                           3761      1110    11408       2536   \n",
       "1                            388        85      931        274   \n",
       "All                         4149      1195    12339       2810   \n",
       "\n",
       "family_status  widow / widower    All  \n",
       "debt                                   \n",
       "0                          896  19711  \n",
       "1                           63   1741  \n",
       "All                        959  21452  "
      ]
     },
     "execution_count": 70,
     "metadata": {},
     "output_type": "execute_result"
    }
   ],
   "source": [
    "# Verifique os dados de status da família e do pagamento em dia\n",
    "pd.crosstab(index=df_emprestimos['debt'], columns=df_emprestimos['family_status'], margins=True)"
   ]
  },
  {
   "cell_type": "code",
   "execution_count": 71,
   "metadata": {
    "scrolled": true
   },
   "outputs": [
    {
     "data": {
      "text/html": [
       "<div>\n",
       "<style scoped>\n",
       "    .dataframe tbody tr th:only-of-type {\n",
       "        vertical-align: middle;\n",
       "    }\n",
       "\n",
       "    .dataframe tbody tr th {\n",
       "        vertical-align: top;\n",
       "    }\n",
       "\n",
       "    .dataframe thead tr th {\n",
       "        text-align: left;\n",
       "    }\n",
       "\n",
       "    .dataframe thead tr:last-of-type th {\n",
       "        text-align: right;\n",
       "    }\n",
       "</style>\n",
       "<table border=\"1\" class=\"dataframe\">\n",
       "  <thead>\n",
       "    <tr>\n",
       "      <th></th>\n",
       "      <th>sum</th>\n",
       "    </tr>\n",
       "    <tr>\n",
       "      <th></th>\n",
       "      <th>debt</th>\n",
       "    </tr>\n",
       "    <tr>\n",
       "      <th>family_status</th>\n",
       "      <th></th>\n",
       "    </tr>\n",
       "  </thead>\n",
       "  <tbody>\n",
       "    <tr>\n",
       "      <th>civil partnership</th>\n",
       "      <td>22.286043</td>\n",
       "    </tr>\n",
       "    <tr>\n",
       "      <th>divorced</th>\n",
       "      <td>4.882252</td>\n",
       "    </tr>\n",
       "    <tr>\n",
       "      <th>married</th>\n",
       "      <td>53.475014</td>\n",
       "    </tr>\n",
       "    <tr>\n",
       "      <th>unmarried</th>\n",
       "      <td>15.738082</td>\n",
       "    </tr>\n",
       "    <tr>\n",
       "      <th>widow / widower</th>\n",
       "      <td>3.618610</td>\n",
       "    </tr>\n",
       "  </tbody>\n",
       "</table>\n",
       "</div>"
      ],
      "text/plain": [
       "                         sum\n",
       "                        debt\n",
       "family_status               \n",
       "civil partnership  22.286043\n",
       "divorced            4.882252\n",
       "married            53.475014\n",
       "unmarried          15.738082\n",
       "widow / widower     3.618610"
      ]
     },
     "execution_count": 71,
     "metadata": {},
     "output_type": "execute_result"
    }
   ],
   "source": [
    "# Calcular a taxa padrão com base no status da família\n",
    "df_emprestimos[df_emprestimos.debt == 1].pivot_table(index='family_status', values='debt',\n",
    "                                 aggfunc=['sum']) / df_emprestimos['debt'].sum() * 100"
   ]
  },
  {
   "cell_type": "markdown",
   "metadata": {},
   "source": [
    "**Conclusão**\n",
    "\n",
    "pessoas casadas tem taxa de inadiplência maior que as demais"
   ]
  },
  {
   "cell_type": "markdown",
   "metadata": {},
   "source": [
    "**Como a finalidade do crédito afeta a taxa de inadimplência?**"
   ]
  },
  {
   "cell_type": "code",
   "execution_count": 72,
   "metadata": {},
   "outputs": [
    {
     "data": {
      "text/html": [
       "<div>\n",
       "<style scoped>\n",
       "    .dataframe tbody tr th:only-of-type {\n",
       "        vertical-align: middle;\n",
       "    }\n",
       "\n",
       "    .dataframe tbody tr th {\n",
       "        vertical-align: top;\n",
       "    }\n",
       "\n",
       "    .dataframe thead tr th {\n",
       "        text-align: left;\n",
       "    }\n",
       "\n",
       "    .dataframe thead tr:last-of-type th {\n",
       "        text-align: right;\n",
       "    }\n",
       "</style>\n",
       "<table border=\"1\" class=\"dataframe\">\n",
       "  <thead>\n",
       "    <tr>\n",
       "      <th></th>\n",
       "      <th>sum</th>\n",
       "    </tr>\n",
       "    <tr>\n",
       "      <th></th>\n",
       "      <th>debt</th>\n",
       "    </tr>\n",
       "    <tr>\n",
       "      <th>category_purpose</th>\n",
       "      <th></th>\n",
       "    </tr>\n",
       "  </thead>\n",
       "  <tbody>\n",
       "    <tr>\n",
       "      <th>car</th>\n",
       "      <td>23.147616</td>\n",
       "    </tr>\n",
       "    <tr>\n",
       "      <th>education</th>\n",
       "      <td>21.252154</td>\n",
       "    </tr>\n",
       "    <tr>\n",
       "      <th>house</th>\n",
       "      <td>25.617461</td>\n",
       "    </tr>\n",
       "    <tr>\n",
       "      <th>real estate</th>\n",
       "      <td>19.299253</td>\n",
       "    </tr>\n",
       "    <tr>\n",
       "      <th>wedding</th>\n",
       "      <td>10.683515</td>\n",
       "    </tr>\n",
       "  </tbody>\n",
       "</table>\n",
       "</div>"
      ],
      "text/plain": [
       "                        sum\n",
       "                       debt\n",
       "category_purpose           \n",
       "car               23.147616\n",
       "education         21.252154\n",
       "house             25.617461\n",
       "real estate       19.299253\n",
       "wedding           10.683515"
      ]
     },
     "execution_count": 72,
     "metadata": {},
     "output_type": "execute_result"
    }
   ],
   "source": [
    "# Confira os percentuais de inadimplência para cada finalidade de crédito e analise-os\n",
    "\n",
    "df_emprestimos[df_emprestimos.debt == 1].pivot_table(index='category_purpose', values='debt',\n",
    "                                 aggfunc=['sum']) / df_emprestimos['debt'].sum() * 100"
   ]
  },
  {
   "cell_type": "markdown",
   "metadata": {},
   "source": [
    "**Conclusão**\n",
    "\n",
    "A finalidade que envolvem casa tem nivel de inadiplência maior.\n"
   ]
  },
  {
   "cell_type": "markdown",
   "metadata": {},
   "source": [
    "# Conclusão Geral \n",
    "\n",
    "**O dataframe apresentava dados inconsistentes e faltantes. Para responder as hipóteses foi necessário:**\n",
    "* Corrigir a escrita da coluna 'education'\n",
    "* Converter valores negativos na coluna 'days_employed' em seus valores absolutos.\n",
    "* As colunas 'days_employed' e 'total_income' apresentavam valores ausentes que representavam cerca de 10% do total dos dados. Para solucionar decidi criar tabelas dinamicas com os dados filtrados sem valores ausentes e outras informações que podem ajudar a responder os valores faltantes: 'income_type', 'family_status', 'dob_year', 'education' e 'children'. Além desses todos, na coluna 'days_employed' utilizei a variável 'gender'. Após análise e pecerber que se tratavam de 'missing at random (MAR)', decidi preencher os valores ausentes com a mediana da coluna 'total_income' e 'days_employed'.\n",
    "* Com os dados todos corrigidos segui para categorização de variáveis chaves para responder as hipóteses do projeto. Criei uma função para organizar melhor a coluna 'purpose', as colunas 'total_income' foi categorizada de acordo com o resultado da função pd.qcut() em grupo 1(até 18582.733), grupo 2(28724.13) e grupo 3.\n",
    " \n",
    "**Conclusões**\n",
    "\n",
    "De acordo com a análise realizada, o fato de realizar o pagamento em dia do empréstimo junto ao banco pode mudar de acordo com algumas características das pessoas envolvidas no estudo, onde a taxa de inadiplência parece ser maior naqueles que: não tem crianças, recebem até 28720,13 de renda e são casados. No entanto, é importante ressaltar que as conclusões aqui tomadas foram realizadas com base em estatistica descritiva simples."
   ]
  }
 ],
 "metadata": {
  "ExecuteTimeLog": [
   {
    "duration": 2741,
    "start_time": "2021-10-21T01:08:49.480Z"
   },
   {
    "duration": 52,
    "start_time": "2021-10-21T01:08:53.315Z"
   },
   {
    "duration": 49,
    "start_time": "2021-10-21T01:08:57.432Z"
   },
   {
    "duration": 70,
    "start_time": "2021-10-21T01:09:07.706Z"
   }
  ],
  "kernelspec": {
   "display_name": "Python 3 (ipykernel)",
   "language": "python",
   "name": "python3"
  },
  "language_info": {
   "codemirror_mode": {
    "name": "ipython",
    "version": 3
   },
   "file_extension": ".py",
   "mimetype": "text/x-python",
   "name": "python",
   "nbconvert_exporter": "python",
   "pygments_lexer": "ipython3",
   "version": "3.10.6"
  },
  "toc": {
   "base_numbering": 1,
   "nav_menu": {},
   "number_sections": true,
   "sideBar": true,
   "skip_h1_title": true,
   "title_cell": "Table of Contents",
   "title_sidebar": "Contents",
   "toc_cell": false,
   "toc_position": {
    "height": "calc(100% - 180px)",
    "left": "10px",
    "top": "150px",
    "width": "222.205px"
   },
   "toc_section_display": true,
   "toc_window_display": true
  },
  "widgets": {
   "application/vnd.jupyter.widget-state+json": {
    "state": {},
    "version_major": 2,
    "version_minor": 0
   }
  }
 },
 "nbformat": 4,
 "nbformat_minor": 2
}
