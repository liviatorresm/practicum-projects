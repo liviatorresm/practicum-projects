{
 "cells": [
  {
   "attachments": {},
   "cell_type": "markdown",
   "metadata": {},
   "source": [
    "# Oleobrás\n",
    "\n",
    "A Oleobrás é uma empresa de mineração. O objetivo do projeto é descobrir a melhor região para construção de novos poços de petróleo. \n",
    "Foi disponibilizado dados sobre amostras de petróleo de três regiões. Os parâmetros de cada poço de petróleo na região já são conhecidos. O modelo foi construído para escolher a região com probabilidade maior de margem de lucro mais alta."
   ]
  },
  {
   "cell_type": "markdown",
   "metadata": {},
   "source": [
    "## Importando bibliotecas"
   ]
  },
  {
   "cell_type": "code",
   "execution_count": 1,
   "metadata": {},
   "outputs": [],
   "source": [
    "import pandas as pd\n",
    "import numpy as np\n",
    "from sklearn.model_selection import train_test_split\n",
    "from sklearn.linear_model import LinearRegression\n",
    "from sklearn.metrics import mean_squared_error, r2_score"
   ]
  },
  {
   "cell_type": "markdown",
   "metadata": {},
   "source": [
    "## Preparando os dados"
   ]
  },
  {
   "cell_type": "markdown",
   "metadata": {},
   "source": [
    "* id — identificador unívoco de poço de petróleo\n",
    "* f0, f1, f2 — três características de pontos (seu significado específico não é importante, mas as próprias características são significativas)\n",
    "* product — volume de reservas no poço de petróleo (milhares de barris)."
   ]
  },
  {
   "cell_type": "code",
   "execution_count": 2,
   "metadata": {},
   "outputs": [],
   "source": [
    "# Lendo arquivos csvs\n",
    "region_1 = pd.read_csv('geo_data_0.csv')\n",
    "region_2 = pd.read_csv('geo_data_1.csv')\n",
    "region_3 = pd.read_csv('geo_data_2.csv')"
   ]
  },
  {
   "cell_type": "code",
   "execution_count": 3,
   "metadata": {
    "scrolled": true
   },
   "outputs": [
    {
     "data": {
      "text/html": [
       "<div>\n",
       "<style scoped>\n",
       "    .dataframe tbody tr th:only-of-type {\n",
       "        vertical-align: middle;\n",
       "    }\n",
       "\n",
       "    .dataframe tbody tr th {\n",
       "        vertical-align: top;\n",
       "    }\n",
       "\n",
       "    .dataframe thead th {\n",
       "        text-align: right;\n",
       "    }\n",
       "</style>\n",
       "<table border=\"1\" class=\"dataframe\">\n",
       "  <thead>\n",
       "    <tr style=\"text-align: right;\">\n",
       "      <th></th>\n",
       "      <th>id</th>\n",
       "      <th>f0</th>\n",
       "      <th>f1</th>\n",
       "      <th>f2</th>\n",
       "      <th>product</th>\n",
       "    </tr>\n",
       "  </thead>\n",
       "  <tbody>\n",
       "    <tr>\n",
       "      <th>0</th>\n",
       "      <td>txEyH</td>\n",
       "      <td>0.705745</td>\n",
       "      <td>-0.497823</td>\n",
       "      <td>1.221170</td>\n",
       "      <td>105.280062</td>\n",
       "    </tr>\n",
       "    <tr>\n",
       "      <th>1</th>\n",
       "      <td>2acmU</td>\n",
       "      <td>1.334711</td>\n",
       "      <td>-0.340164</td>\n",
       "      <td>4.365080</td>\n",
       "      <td>73.037750</td>\n",
       "    </tr>\n",
       "    <tr>\n",
       "      <th>2</th>\n",
       "      <td>409Wp</td>\n",
       "      <td>1.022732</td>\n",
       "      <td>0.151990</td>\n",
       "      <td>1.419926</td>\n",
       "      <td>85.265647</td>\n",
       "    </tr>\n",
       "    <tr>\n",
       "      <th>3</th>\n",
       "      <td>iJLyR</td>\n",
       "      <td>-0.032172</td>\n",
       "      <td>0.139033</td>\n",
       "      <td>2.978566</td>\n",
       "      <td>168.620776</td>\n",
       "    </tr>\n",
       "    <tr>\n",
       "      <th>4</th>\n",
       "      <td>Xdl7t</td>\n",
       "      <td>1.988431</td>\n",
       "      <td>0.155413</td>\n",
       "      <td>4.751769</td>\n",
       "      <td>154.036647</td>\n",
       "    </tr>\n",
       "    <tr>\n",
       "      <th>5</th>\n",
       "      <td>wX4Hy</td>\n",
       "      <td>0.969570</td>\n",
       "      <td>0.489775</td>\n",
       "      <td>-0.735383</td>\n",
       "      <td>64.741541</td>\n",
       "    </tr>\n",
       "    <tr>\n",
       "      <th>6</th>\n",
       "      <td>tL6pL</td>\n",
       "      <td>0.645075</td>\n",
       "      <td>0.530656</td>\n",
       "      <td>1.780266</td>\n",
       "      <td>49.055285</td>\n",
       "    </tr>\n",
       "    <tr>\n",
       "      <th>7</th>\n",
       "      <td>BYPU6</td>\n",
       "      <td>-0.400648</td>\n",
       "      <td>0.808337</td>\n",
       "      <td>-5.624670</td>\n",
       "      <td>72.943292</td>\n",
       "    </tr>\n",
       "    <tr>\n",
       "      <th>8</th>\n",
       "      <td>j9Oui</td>\n",
       "      <td>0.643105</td>\n",
       "      <td>-0.551583</td>\n",
       "      <td>2.372141</td>\n",
       "      <td>113.356160</td>\n",
       "    </tr>\n",
       "    <tr>\n",
       "      <th>9</th>\n",
       "      <td>OLuZU</td>\n",
       "      <td>2.173381</td>\n",
       "      <td>0.563698</td>\n",
       "      <td>9.441852</td>\n",
       "      <td>127.910945</td>\n",
       "    </tr>\n",
       "  </tbody>\n",
       "</table>\n",
       "</div>"
      ],
      "text/plain": [
       "      id        f0        f1        f2     product\n",
       "0  txEyH  0.705745 -0.497823  1.221170  105.280062\n",
       "1  2acmU  1.334711 -0.340164  4.365080   73.037750\n",
       "2  409Wp  1.022732  0.151990  1.419926   85.265647\n",
       "3  iJLyR -0.032172  0.139033  2.978566  168.620776\n",
       "4  Xdl7t  1.988431  0.155413  4.751769  154.036647\n",
       "5  wX4Hy  0.969570  0.489775 -0.735383   64.741541\n",
       "6  tL6pL  0.645075  0.530656  1.780266   49.055285\n",
       "7  BYPU6 -0.400648  0.808337 -5.624670   72.943292\n",
       "8  j9Oui  0.643105 -0.551583  2.372141  113.356160\n",
       "9  OLuZU  2.173381  0.563698  9.441852  127.910945"
      ]
     },
     "execution_count": 3,
     "metadata": {},
     "output_type": "execute_result"
    }
   ],
   "source": [
    "region_1.head(10)"
   ]
  },
  {
   "cell_type": "code",
   "execution_count": 4,
   "metadata": {},
   "outputs": [
    {
     "name": "stdout",
     "output_type": "stream",
     "text": [
      "<class 'pandas.core.frame.DataFrame'>\n",
      "RangeIndex: 100000 entries, 0 to 99999\n",
      "Data columns (total 5 columns):\n",
      " #   Column   Non-Null Count   Dtype  \n",
      "---  ------   --------------   -----  \n",
      " 0   id       100000 non-null  object \n",
      " 1   f0       100000 non-null  float64\n",
      " 2   f1       100000 non-null  float64\n",
      " 3   f2       100000 non-null  float64\n",
      " 4   product  100000 non-null  float64\n",
      "dtypes: float64(4), object(1)\n",
      "memory usage: 3.8+ MB\n"
     ]
    }
   ],
   "source": [
    "region_1.info()"
   ]
  },
  {
   "cell_type": "code",
   "execution_count": 5,
   "metadata": {
    "scrolled": true
   },
   "outputs": [
    {
     "data": {
      "text/html": [
       "<div>\n",
       "<style scoped>\n",
       "    .dataframe tbody tr th:only-of-type {\n",
       "        vertical-align: middle;\n",
       "    }\n",
       "\n",
       "    .dataframe tbody tr th {\n",
       "        vertical-align: top;\n",
       "    }\n",
       "\n",
       "    .dataframe thead th {\n",
       "        text-align: right;\n",
       "    }\n",
       "</style>\n",
       "<table border=\"1\" class=\"dataframe\">\n",
       "  <thead>\n",
       "    <tr style=\"text-align: right;\">\n",
       "      <th></th>\n",
       "      <th>id</th>\n",
       "      <th>f0</th>\n",
       "      <th>f1</th>\n",
       "      <th>f2</th>\n",
       "      <th>product</th>\n",
       "    </tr>\n",
       "  </thead>\n",
       "  <tbody>\n",
       "    <tr>\n",
       "      <th>0</th>\n",
       "      <td>kBEdx</td>\n",
       "      <td>-15.001348</td>\n",
       "      <td>-8.276000</td>\n",
       "      <td>-0.005876</td>\n",
       "      <td>3.179103</td>\n",
       "    </tr>\n",
       "    <tr>\n",
       "      <th>1</th>\n",
       "      <td>62mP7</td>\n",
       "      <td>14.272088</td>\n",
       "      <td>-3.475083</td>\n",
       "      <td>0.999183</td>\n",
       "      <td>26.953261</td>\n",
       "    </tr>\n",
       "    <tr>\n",
       "      <th>2</th>\n",
       "      <td>vyE1P</td>\n",
       "      <td>6.263187</td>\n",
       "      <td>-5.948386</td>\n",
       "      <td>5.001160</td>\n",
       "      <td>134.766305</td>\n",
       "    </tr>\n",
       "    <tr>\n",
       "      <th>3</th>\n",
       "      <td>KcrkZ</td>\n",
       "      <td>-13.081196</td>\n",
       "      <td>-11.506057</td>\n",
       "      <td>4.999415</td>\n",
       "      <td>137.945408</td>\n",
       "    </tr>\n",
       "    <tr>\n",
       "      <th>4</th>\n",
       "      <td>AHL4O</td>\n",
       "      <td>12.702195</td>\n",
       "      <td>-8.147433</td>\n",
       "      <td>5.004363</td>\n",
       "      <td>134.766305</td>\n",
       "    </tr>\n",
       "    <tr>\n",
       "      <th>5</th>\n",
       "      <td>HHckp</td>\n",
       "      <td>-3.327590</td>\n",
       "      <td>-2.205276</td>\n",
       "      <td>3.003647</td>\n",
       "      <td>84.038886</td>\n",
       "    </tr>\n",
       "    <tr>\n",
       "      <th>6</th>\n",
       "      <td>h5Ujo</td>\n",
       "      <td>-11.142655</td>\n",
       "      <td>-10.133399</td>\n",
       "      <td>4.002382</td>\n",
       "      <td>110.992147</td>\n",
       "    </tr>\n",
       "    <tr>\n",
       "      <th>7</th>\n",
       "      <td>muH9x</td>\n",
       "      <td>4.234715</td>\n",
       "      <td>-0.001354</td>\n",
       "      <td>2.004588</td>\n",
       "      <td>53.906522</td>\n",
       "    </tr>\n",
       "    <tr>\n",
       "      <th>8</th>\n",
       "      <td>YiRkx</td>\n",
       "      <td>13.355129</td>\n",
       "      <td>-0.332068</td>\n",
       "      <td>4.998647</td>\n",
       "      <td>134.766305</td>\n",
       "    </tr>\n",
       "    <tr>\n",
       "      <th>9</th>\n",
       "      <td>jG6Gi</td>\n",
       "      <td>1.069227</td>\n",
       "      <td>-11.025667</td>\n",
       "      <td>4.997844</td>\n",
       "      <td>137.945408</td>\n",
       "    </tr>\n",
       "  </tbody>\n",
       "</table>\n",
       "</div>"
      ],
      "text/plain": [
       "      id         f0         f1        f2     product\n",
       "0  kBEdx -15.001348  -8.276000 -0.005876    3.179103\n",
       "1  62mP7  14.272088  -3.475083  0.999183   26.953261\n",
       "2  vyE1P   6.263187  -5.948386  5.001160  134.766305\n",
       "3  KcrkZ -13.081196 -11.506057  4.999415  137.945408\n",
       "4  AHL4O  12.702195  -8.147433  5.004363  134.766305\n",
       "5  HHckp  -3.327590  -2.205276  3.003647   84.038886\n",
       "6  h5Ujo -11.142655 -10.133399  4.002382  110.992147\n",
       "7  muH9x   4.234715  -0.001354  2.004588   53.906522\n",
       "8  YiRkx  13.355129  -0.332068  4.998647  134.766305\n",
       "9  jG6Gi   1.069227 -11.025667  4.997844  137.945408"
      ]
     },
     "execution_count": 5,
     "metadata": {},
     "output_type": "execute_result"
    }
   ],
   "source": [
    "region_2.head(10)"
   ]
  },
  {
   "cell_type": "code",
   "execution_count": 6,
   "metadata": {},
   "outputs": [
    {
     "name": "stdout",
     "output_type": "stream",
     "text": [
      "<class 'pandas.core.frame.DataFrame'>\n",
      "RangeIndex: 100000 entries, 0 to 99999\n",
      "Data columns (total 5 columns):\n",
      " #   Column   Non-Null Count   Dtype  \n",
      "---  ------   --------------   -----  \n",
      " 0   id       100000 non-null  object \n",
      " 1   f0       100000 non-null  float64\n",
      " 2   f1       100000 non-null  float64\n",
      " 3   f2       100000 non-null  float64\n",
      " 4   product  100000 non-null  float64\n",
      "dtypes: float64(4), object(1)\n",
      "memory usage: 3.8+ MB\n"
     ]
    }
   ],
   "source": [
    "region_2.info()"
   ]
  },
  {
   "cell_type": "code",
   "execution_count": 7,
   "metadata": {},
   "outputs": [
    {
     "data": {
      "text/html": [
       "<div>\n",
       "<style scoped>\n",
       "    .dataframe tbody tr th:only-of-type {\n",
       "        vertical-align: middle;\n",
       "    }\n",
       "\n",
       "    .dataframe tbody tr th {\n",
       "        vertical-align: top;\n",
       "    }\n",
       "\n",
       "    .dataframe thead th {\n",
       "        text-align: right;\n",
       "    }\n",
       "</style>\n",
       "<table border=\"1\" class=\"dataframe\">\n",
       "  <thead>\n",
       "    <tr style=\"text-align: right;\">\n",
       "      <th></th>\n",
       "      <th>id</th>\n",
       "      <th>f0</th>\n",
       "      <th>f1</th>\n",
       "      <th>f2</th>\n",
       "      <th>product</th>\n",
       "    </tr>\n",
       "  </thead>\n",
       "  <tbody>\n",
       "    <tr>\n",
       "      <th>0</th>\n",
       "      <td>fwXo0</td>\n",
       "      <td>-1.146987</td>\n",
       "      <td>0.963328</td>\n",
       "      <td>-0.828965</td>\n",
       "      <td>27.758673</td>\n",
       "    </tr>\n",
       "    <tr>\n",
       "      <th>1</th>\n",
       "      <td>WJtFt</td>\n",
       "      <td>0.262778</td>\n",
       "      <td>0.269839</td>\n",
       "      <td>-2.530187</td>\n",
       "      <td>56.069697</td>\n",
       "    </tr>\n",
       "    <tr>\n",
       "      <th>2</th>\n",
       "      <td>ovLUW</td>\n",
       "      <td>0.194587</td>\n",
       "      <td>0.289035</td>\n",
       "      <td>-5.586433</td>\n",
       "      <td>62.871910</td>\n",
       "    </tr>\n",
       "    <tr>\n",
       "      <th>3</th>\n",
       "      <td>q6cA6</td>\n",
       "      <td>2.236060</td>\n",
       "      <td>-0.553760</td>\n",
       "      <td>0.930038</td>\n",
       "      <td>114.572842</td>\n",
       "    </tr>\n",
       "    <tr>\n",
       "      <th>4</th>\n",
       "      <td>WPMUX</td>\n",
       "      <td>-0.515993</td>\n",
       "      <td>1.716266</td>\n",
       "      <td>5.899011</td>\n",
       "      <td>149.600746</td>\n",
       "    </tr>\n",
       "    <tr>\n",
       "      <th>5</th>\n",
       "      <td>LzZXx</td>\n",
       "      <td>-0.758092</td>\n",
       "      <td>0.710691</td>\n",
       "      <td>2.585887</td>\n",
       "      <td>90.222465</td>\n",
       "    </tr>\n",
       "    <tr>\n",
       "      <th>6</th>\n",
       "      <td>WBHRv</td>\n",
       "      <td>-0.574891</td>\n",
       "      <td>0.317727</td>\n",
       "      <td>1.773745</td>\n",
       "      <td>45.641478</td>\n",
       "    </tr>\n",
       "    <tr>\n",
       "      <th>7</th>\n",
       "      <td>XO8fn</td>\n",
       "      <td>-1.906649</td>\n",
       "      <td>-2.458350</td>\n",
       "      <td>-0.177097</td>\n",
       "      <td>72.480640</td>\n",
       "    </tr>\n",
       "    <tr>\n",
       "      <th>8</th>\n",
       "      <td>ybmQ5</td>\n",
       "      <td>1.776292</td>\n",
       "      <td>-0.279356</td>\n",
       "      <td>3.004156</td>\n",
       "      <td>106.616832</td>\n",
       "    </tr>\n",
       "    <tr>\n",
       "      <th>9</th>\n",
       "      <td>OilcN</td>\n",
       "      <td>-1.214452</td>\n",
       "      <td>-0.439314</td>\n",
       "      <td>5.922514</td>\n",
       "      <td>52.954532</td>\n",
       "    </tr>\n",
       "  </tbody>\n",
       "</table>\n",
       "</div>"
      ],
      "text/plain": [
       "      id        f0        f1        f2     product\n",
       "0  fwXo0 -1.146987  0.963328 -0.828965   27.758673\n",
       "1  WJtFt  0.262778  0.269839 -2.530187   56.069697\n",
       "2  ovLUW  0.194587  0.289035 -5.586433   62.871910\n",
       "3  q6cA6  2.236060 -0.553760  0.930038  114.572842\n",
       "4  WPMUX -0.515993  1.716266  5.899011  149.600746\n",
       "5  LzZXx -0.758092  0.710691  2.585887   90.222465\n",
       "6  WBHRv -0.574891  0.317727  1.773745   45.641478\n",
       "7  XO8fn -1.906649 -2.458350 -0.177097   72.480640\n",
       "8  ybmQ5  1.776292 -0.279356  3.004156  106.616832\n",
       "9  OilcN -1.214452 -0.439314  5.922514   52.954532"
      ]
     },
     "execution_count": 7,
     "metadata": {},
     "output_type": "execute_result"
    }
   ],
   "source": [
    "region_3.head(10)"
   ]
  },
  {
   "cell_type": "code",
   "execution_count": 8,
   "metadata": {},
   "outputs": [
    {
     "name": "stdout",
     "output_type": "stream",
     "text": [
      "<class 'pandas.core.frame.DataFrame'>\n",
      "RangeIndex: 100000 entries, 0 to 99999\n",
      "Data columns (total 5 columns):\n",
      " #   Column   Non-Null Count   Dtype  \n",
      "---  ------   --------------   -----  \n",
      " 0   id       100000 non-null  object \n",
      " 1   f0       100000 non-null  float64\n",
      " 2   f1       100000 non-null  float64\n",
      " 3   f2       100000 non-null  float64\n",
      " 4   product  100000 non-null  float64\n",
      "dtypes: float64(4), object(1)\n",
      "memory usage: 3.8+ MB\n"
     ]
    }
   ],
   "source": [
    "region_3.info()"
   ]
  },
  {
   "cell_type": "code",
   "execution_count": 9,
   "metadata": {
    "scrolled": true
   },
   "outputs": [
    {
     "name": "stdout",
     "output_type": "stream",
     "text": [
      "Valores duplicados nos dados da região 1: 0\n",
      "Valores duplicados nos dados da região 2: 0\n",
      "Valores duplicados nos dados da região 3: 0\n"
     ]
    }
   ],
   "source": [
    "print(f'Valores duplicados nos dados da região 1: {region_1.duplicated().sum()}')\n",
    "print(f'Valores duplicados nos dados da região 2: {region_2.duplicated().sum()}') \n",
    "print(f'Valores duplicados nos dados da região 3: {region_3.duplicated().sum()}')"
   ]
  },
  {
   "attachments": {},
   "cell_type": "markdown",
   "metadata": {},
   "source": [
    "## Treinando modelo para cada região"
   ]
  },
  {
   "cell_type": "code",
   "execution_count": 10,
   "metadata": {},
   "outputs": [],
   "source": [
    "# Separando dataset em objetivo e características região 1\n",
    "target_r1 = region_1['product']\n",
    "features_r1 = region_1[['f0', 'f1', 'f2']]\n",
    "\n",
    "# Separando dataset em objetivo e características região 2\n",
    "target_r2 = region_2['product']\n",
    "features_r2 = region_2[['f0', 'f1', 'f2']]\n",
    "\n",
    "# Separando dataset em objetivo e características região 3\n",
    "target_r3 = region_3['product']\n",
    "features_r3 = region_3[['f0', 'f1', 'f2']]"
   ]
  },
  {
   "cell_type": "code",
   "execution_count": 11,
   "metadata": {},
   "outputs": [],
   "source": [
    "# Separando dataset em conjunto de validação e treinamento região 1\n",
    "features_train_r1, features_valid_r1, target_train_r1, target_valid_r1 = train_test_split(\n",
    "    features_r1, target_r1, test_size=0.25, random_state=12345)\n",
    "\n",
    "# Separando dataset em conjunto de validação e treinamento região 2\n",
    "features_train_r2, features_valid_r2, target_train_r2, target_valid_r2 = train_test_split(\n",
    "    features_r2, target_r2, test_size=0.25, random_state=12345)\n",
    "\n",
    "# Separando dataset em conjunto de validação e treinamento região 3\n",
    "features_train_r3, features_valid_r3, target_train_r3, target_valid_r3 = train_test_split(\n",
    "    features_r3, target_r3, test_size=0.25, random_state=12345)"
   ]
  },
  {
   "cell_type": "code",
   "execution_count": 12,
   "metadata": {},
   "outputs": [
    {
     "name": "stdout",
     "output_type": "stream",
     "text": [
      "O volume médio predito pelo modelo é 92.59256778438035\n",
      "O REQM do modelo é 37.5794217150813\n"
     ]
    }
   ],
   "source": [
    "model = LinearRegression()\n",
    "model.fit(features_train_r1, target_train_r1)\n",
    "predictions_valid_r1 = model.predict(features_valid_r1)\n",
    "rqm_r1 = mean_squared_error(target_valid_r1, predictions_valid_r1)**0.5\n",
    "\n",
    "print(f'O volume médio predito pelo modelo é {predictions_valid_r1.mean()}')\n",
    "print(f'O REQM do modelo é {rqm_r1}')"
   ]
  },
  {
   "cell_type": "code",
   "execution_count": 13,
   "metadata": {},
   "outputs": [
    {
     "name": "stdout",
     "output_type": "stream",
     "text": [
      "O volume médio predito pelo modelo é 68.728546895446\n",
      "O REQM do modelo é 0.893099286775617\n"
     ]
    }
   ],
   "source": [
    "model = LinearRegression()\n",
    "model.fit(features_train_r2, target_train_r2)\n",
    "predictions_valid_r2 = model.predict(features_valid_r2)\n",
    "rqm_r2 = mean_squared_error(target_valid_r2, predictions_valid_r2)**0.5\n",
    "\n",
    "print(f'O volume médio predito pelo modelo é {predictions_valid_r2.mean()}')\n",
    "print(f'O REQM do modelo é {rqm_r2}')"
   ]
  },
  {
   "cell_type": "code",
   "execution_count": 14,
   "metadata": {},
   "outputs": [
    {
     "name": "stdout",
     "output_type": "stream",
     "text": [
      "O volume médio predito pelo modelo é 94.96504596800489\n",
      "O REQM do modelo é 40.02970873393434\n"
     ]
    }
   ],
   "source": [
    "model = LinearRegression()\n",
    "model.fit(features_train_r3, target_train_r3)\n",
    "predictions_valid_r3 = model.predict(features_valid_r3)\n",
    "rqm_r3 = mean_squared_error(target_valid_r3, predictions_valid_r3)**0.5\n",
    "\n",
    "print(f'O volume médio predito pelo modelo é {predictions_valid_r3.mean()}')\n",
    "print(f'O REQM do modelo é {rqm_r3}')"
   ]
  },
  {
   "attachments": {},
   "cell_type": "markdown",
   "metadata": {},
   "source": [
    "A região que há previsão de maior lucro médio é a região 3,  entretanto possui REQM mais alto também. O REQM mostra a diferença média entre os valores previstos e reais. A região 2 é possui previsões menos lucrativas. Já a região 1 tem previsões relativamente aproximadas a região 3."
   ]
  },
  {
   "attachments": {},
   "cell_type": "markdown",
   "metadata": {},
   "source": [
    "## Cálculo de lucro\n"
   ]
  },
  {
   "cell_type": "code",
   "execution_count": 15,
   "metadata": {},
   "outputs": [],
   "source": [
    "budget = 100000000\n",
    "product_price = 4500"
   ]
  },
  {
   "cell_type": "code",
   "execution_count": 17,
   "metadata": {},
   "outputs": [],
   "source": [
    "# Função para calcular o preço \n",
    "\n",
    "def calculate_profit(predictions):\n",
    " \n",
    "    # Selecinando os poços com maiores volumes\n",
    "    top_wells = sorted(predictions, reverse=True)[:200]\n",
    "    \n",
    "    # Somando volume total\n",
    "    total_product = sum(top_wells)\n",
    "    \n",
    "    # Calculando a receita\n",
    "    revenue = total_product * product_price\n",
    "    \n",
    "    # Calculando o lucro\n",
    "    profit = revenue - budget\n",
    "   \n",
    "    return profit\n"
   ]
  },
  {
   "cell_type": "code",
   "execution_count": 18,
   "metadata": {},
   "outputs": [],
   "source": [
    "profit_r1 = calculate_profit(predictions_valid_r1)\n",
    "profit_r2 = calculate_profit(predictions_valid_r2)\n",
    "profit_r3 = calculate_profit(predictions_valid_r3)"
   ]
  },
  {
   "cell_type": "code",
   "execution_count": 19,
   "metadata": {},
   "outputs": [
    {
     "name": "stdout",
     "output_type": "stream",
     "text": [
      "O lucro da região 1 poderá ser de 39960488.77465132\n",
      "O lucro da região 2 poderá ser de 24857120.51973544\n",
      "O lucro da região 3 poderá ser de 33217543.962432623\n"
     ]
    }
   ],
   "source": [
    "print(f'O lucro da região 1 poderá ser de {profit_r1}')\n",
    "print(f'O lucro da região 2 poderá ser de {profit_r2}')\n",
    "print(f'O lucro da região 3 poderá ser de {profit_r3}')"
   ]
  },
  {
   "cell_type": "code",
   "execution_count": 20,
   "metadata": {},
   "outputs": [
    {
     "name": "stdout",
     "output_type": "stream",
     "text": [
      "Probability of positive gross profit: 100.00%\n",
      "Probability of negative gross profit: 0.00%\n"
     ]
    }
   ],
   "source": [
    "positive_prob = (profit_r1 > 0).mean()\n",
    "negative_prob = 1 - positive_prob\n",
    "print(f\"Probability of positive gross profit: {positive_prob:.2%}\")\n",
    "print(f\"Probability of negative gross profit: {negative_prob:.2%}\")"
   ]
  },
  {
   "cell_type": "code",
   "execution_count": 21,
   "metadata": {},
   "outputs": [
    {
     "name": "stdout",
     "output_type": "stream",
     "text": [
      "Probability of positive gross profit: 100.00%\n",
      "Probability of negative gross profit: 0.00%\n"
     ]
    }
   ],
   "source": [
    "positive_prob = (profit_r2 > 0).mean()\n",
    "negative_prob = 1 - positive_prob\n",
    "print(f\"Probability of positive gross profit: {positive_prob:.2%}\")\n",
    "print(f\"Probability of negative gross profit: {negative_prob:.2%}\")"
   ]
  },
  {
   "cell_type": "code",
   "execution_count": 22,
   "metadata": {},
   "outputs": [
    {
     "name": "stdout",
     "output_type": "stream",
     "text": [
      "Probability of positive gross profit: 100.00%\n",
      "Probability of negative gross profit: 0.00%\n"
     ]
    }
   ],
   "source": [
    "positive_prob = (profit_r3 > 0).mean()\n",
    "negative_prob = 1 - positive_prob\n",
    "print(f\"Probability of positive gross profit: {positive_prob:.2%}\")\n",
    "print(f\"Probability of negative gross profit: {negative_prob:.2%}\")"
   ]
  },
  {
   "attachments": {},
   "cell_type": "markdown",
   "metadata": {},
   "source": [
    "A região com maior predição de lucros é a região 1. Nenhuma das regiões possui probabilidade de prejuízos"
   ]
  },
  {
   "attachments": {},
   "cell_type": "markdown",
   "metadata": {},
   "source": [
    "## Calculo de riscos e lucro para cada região"
   ]
  },
  {
   "cell_type": "code",
   "execution_count": 23,
   "metadata": {},
   "outputs": [],
   "source": [
    "# Função que irá calcular o lucro\n",
    "def profit(target, probabilities):\n",
    "    probs_sorted = probabilities.sort_values(ascending=False)\n",
    "    selected = target[probs_sorted.index]\n",
    "    revenue = selected.sum() * product_price\n",
    "    return revenue - budget"
   ]
  },
  {
   "cell_type": "code",
   "execution_count": 24,
   "metadata": {},
   "outputs": [
    {
     "name": "stdout",
     "output_type": "stream",
     "text": [
      "Region 1:\n",
      "Mean profit: 10352285964.992748\n",
      "95% confidence interval: 10301401714.941599 10402517717.412786\n",
      "Risk of loss: 0.0 %\n"
     ]
    }
   ],
   "source": [
    "\n",
    "state = np.random.RandomState(12345)\n",
    "bootstrap_profit = []\n",
    "\n",
    "for i in range(1000):\n",
    "\n",
    "    subsample = pd.Series(predictions_valid_r1).sample(frac=1, replace=True, random_state=state)\n",
    "    bootstrap_profit.append(profit(target_r1, subsample))\n",
    "\n",
    "bootstrap_profit = pd.Series(bootstrap_profit)\n",
    "\n",
    "mean_profit = bootstrap_profit.mean()\n",
    "upper = bootstrap_profit.quantile(0.95)\n",
    "lower = bootstrap_profit.quantile(0.05)\n",
    "risk_of_loss = sum(bootstrap_profit < 0)* 100 / 1000\n",
    "\n",
    "\n",
    "print(\"Region 1:\")\n",
    "print(\"Mean profit:\", mean_profit)\n",
    "print(\"95% confidence interval:\", lower, upper)\n",
    "print(\"Risk of loss:\", risk_of_loss, \"%\")\n"
   ]
  },
  {
   "cell_type": "code",
   "execution_count": 25,
   "metadata": {},
   "outputs": [
    {
     "name": "stdout",
     "output_type": "stream",
     "text": [
      "Region 2:\n",
      "Mean profit: 7613818418.48827\n",
      "95% confidence interval: 7559502696.577531 7664332647.072469\n",
      "Risk of loss: 0.0 %\n"
     ]
    }
   ],
   "source": [
    "\n",
    "state = np.random.RandomState(12345)\n",
    "bootstrap_profit = []\n",
    "\n",
    "for i in range(1000):\n",
    "\n",
    "    subsample = pd.Series(predictions_valid_r2).sample(frac=1, replace=True, random_state=state)\n",
    "    bootstrap_profit.append(profit(target_r2, subsample))\n",
    "\n",
    "bootstrap_profit = pd.Series(bootstrap_profit)\n",
    "\n",
    "mean_profit = bootstrap_profit.mean()\n",
    "upper = bootstrap_profit.quantile(0.95)\n",
    "lower = bootstrap_profit.quantile(0.05)\n",
    "risk_of_loss = sum(bootstrap_profit < 0) * 100 / 1000\n",
    "\n",
    "# Print the results\n",
    "print(\"Region 2:\")\n",
    "print(\"Mean profit:\", mean_profit)\n",
    "print(\"95% confidence interval:\", lower, upper)\n",
    "print(\"Risk of loss:\", risk_of_loss, \"%\")\n"
   ]
  },
  {
   "cell_type": "code",
   "execution_count": 26,
   "metadata": {},
   "outputs": [
    {
     "name": "stdout",
     "output_type": "stream",
     "text": [
      "Region 3:\n",
      "Mean profit: 10572860835.220417\n",
      "95% confidence interval: 10518858704.6226 10626722391.549784\n",
      "Risk of loss: 0.0 %\n"
     ]
    }
   ],
   "source": [
    "\n",
    "state = np.random.RandomState(12345)\n",
    "bootstrap_profit = []\n",
    "\n",
    "for i in range(1000):\n",
    "\n",
    "    subsample = pd.Series(predictions_valid_r3).sample(frac=1, replace=True, random_state=state)\n",
    "    bootstrap_profit.append(profit(target_r3, subsample))\n",
    "\n",
    "bootstrap_profit = pd.Series(bootstrap_profit)\n",
    "\n",
    "mean_profit = bootstrap_profit.mean()\n",
    "upper = bootstrap_profit.quantile(0.95)\n",
    "lower = bootstrap_profit.quantile(0.05)\n",
    "risk_of_loss = sum(bootstrap_profit < 0) / 1000\n",
    "risk_of_loss_percent = risk_of_loss * 100\n",
    "\n",
    "# Print the results\n",
    "print(\"Region 3:\")\n",
    "print(\"Mean profit:\", mean_profit)\n",
    "print(\"95% confidence interval:\", lower, upper)\n",
    "print(\"Risk of loss:\", risk_of_loss_percent, \"%\")\n"
   ]
  },
  {
   "attachments": {},
   "cell_type": "markdown",
   "metadata": {},
   "source": [
    "A região 3 apresentou maior média de lucro. Todas as regiões tiveram 0% de risco de perda."
   ]
  },
  {
   "attachments": {},
   "cell_type": "markdown",
   "metadata": {},
   "source": [
    "## Conclusões"
   ]
  },
  {
   "attachments": {},
   "cell_type": "markdown",
   "metadata": {},
   "source": [
    "A região 3 parece ser o melhor local para construção de novos poços. É a região onde as predições mostram maiores volumes de reservas e, consequentemente, maiores receitas e lucros. Após aplicar a técnica de bootscrapping analysis a região 3 permaneceu como a região mais lucrativa com média de lucro bruto de 10572860835.220417 com 95% de probabilidade e risco de perdas de 0%. "
   ]
  }
 ],
 "metadata": {
  "kernelspec": {
   "display_name": "Python 3 (ipykernel)",
   "language": "python",
   "name": "python3"
  },
  "language_info": {
   "codemirror_mode": {
    "name": "ipython",
    "version": 3
   },
   "file_extension": ".py",
   "mimetype": "text/x-python",
   "name": "python",
   "nbconvert_exporter": "python",
   "pygments_lexer": "ipython3",
   "version": "3.10.6"
  },
  "toc": {
   "base_numbering": 1,
   "nav_menu": {},
   "number_sections": true,
   "sideBar": true,
   "skip_h1_title": true,
   "title_cell": "Table of Contents",
   "title_sidebar": "Contents",
   "toc_cell": false,
   "toc_position": {},
   "toc_section_display": true,
   "toc_window_display": false
  }
 },
 "nbformat": 4,
 "nbformat_minor": 2
}
